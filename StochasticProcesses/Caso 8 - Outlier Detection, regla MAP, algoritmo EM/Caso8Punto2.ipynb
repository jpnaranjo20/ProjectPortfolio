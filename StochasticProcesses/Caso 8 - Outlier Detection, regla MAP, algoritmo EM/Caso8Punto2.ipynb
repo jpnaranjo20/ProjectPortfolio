{
 "cells": [
  {
   "cell_type": "code",
   "execution_count": 1,
   "metadata": {},
   "outputs": [],
   "source": [
    "import numpy as np\n",
    "import matplotlib.pyplot as plt\n",
    "import warnings\n",
    "warnings.filterwarnings(\"ignore\")\n",
    "\n",
    "# Función para convertir un arreglo en un vector columna. La entrada x es una lista o un vector fila.\n",
    "def col(x):\n",
    "    return np.array(np.matrix(x)).T"
   ]
  },
  {
   "cell_type": "markdown",
   "metadata": {},
   "source": [
    "# Punto 2\n",
    "\n",
    "### Una empresa desea determinar la calidad de vino rojo en un proceso automatizado. Para eso, se miden las siguientes 11 variables en el líquido que se consideran dan información sobre la calidad de un vino: acidez fija, acidez volatil, acides cítrica, azúcar residual, nivel de cloruro, dióxido de sulfuro libro, dióxido de sulfuro total, densidad, pH, sulfatos, y alcohol. Se midieron 1200 muestras de vinos y catadores determinaron si el vino es de buena calidad (clase 1) o mala calidad (clase 0). Esta información se encuentra en los archivos *XtrainVinos.txt* (mediciones de las 11 variables por cada muestra) y *YtrainVinos.txt* (variable de calidad). Las mediciones de las 11 variables fueron estandarizadas, es decir, se les restó la media de los datos y se dividió por la desviación estándar. El orden de las variables en el archivo es el mismo en el que se mencionaron anteriormente.\n",
    "\n",
    "### Para resolver este problema, modele cada variable medida en el vino como una variable aleatoria en un vector aleatorio $X = [X_1, X_2, \\dots , X_{11}]^\\intercal$ , y encuentre un clasificador ingenuo de Bayes Gaussiano como modelo para clasificar muestras desconocidas."
   ]
  },
  {
   "cell_type": "markdown",
   "metadata": {},
   "source": [
    "### a) Asuma que $f_X(x | clase 0)$ y $f_X(x | clase 1)$ (donde $x \\in \\mathbb{R}^{11}$) son distribuciones Gaussianas, cada una con su vector de medias y matriz de covarianza. Utilizando los datos en ```XtrainVinos.txt``` y ```YtrainVinos.txt```, estime $f_X(x | clase 0)$ y $f_X(x | clase 1)$. Escriba las dos ecuaciones resultantes. No puede utilizar funciones predefinidas para estimar el vector de medias y la matriz de covarianza. Implemente su propia rutina para hacer este cálculo."
   ]
  },
  {
   "cell_type": "code",
   "execution_count": null,
   "metadata": {},
   "outputs": [],
   "source": []
  },
  {
   "cell_type": "markdown",
   "metadata": {},
   "source": [
    "### b) Analice y compare los valores esperados, varianzas, covarianzas entre cada par de variables para cada una de las clases (buena calidad y mala calidad) encontradas en a)."
   ]
  },
  {
   "cell_type": "markdown",
   "metadata": {},
   "source": []
  },
  {
   "cell_type": "markdown",
   "metadata": {},
   "source": [
    "### c) Se tomaron 399 nuevas muestras de vino rojo, guardados en el archivo ```XtestVinos.txt```. La calidad del vino es desconocida. Asumiendo que la probabilidad a priori de las clases es la misma, utilizando los modelos estimados en a) y la regla MAP, determine la calidad de cada uno de las 399 muestras de vino. Analice los resultados. No puede utilizar funciones predefinidas para realizar este procedimiento de clasificación. Se recomienda realizar la clasificación utilizando el logaritmo natural de las distribuciones evaluadas en cada una de las observaciones para evitar problemas numéricos."
   ]
  },
  {
   "cell_type": "markdown",
   "metadata": {},
   "source": []
  },
  {
   "cell_type": "markdown",
   "metadata": {},
   "source": [
    "### d) Después de tener catadores que evaluaron estas 399 muestras, se obtienen los resultados de calidad, es decir, los valores considerados como reales de las clases. Estos se guardaron en el archivo ```YtestVinos.txt```. Cuente cuántas fallas tuvo el clasificador en el enunciado c) con respecto a estos valores reales de las clases. Calcule el error de clasificación como el número de fallas dividido por el total de muestras que es 399."
   ]
  },
  {
   "cell_type": "code",
   "execution_count": null,
   "metadata": {},
   "outputs": [],
   "source": []
  },
  {
   "cell_type": "markdown",
   "metadata": {},
   "source": [
    "# Bono\n",
    "\n",
    "### Intente reducir este error de clasificación del punto 2c al utilizar el algoritmo EM para tener un mejor estimado de las distribuciones $f_X(x | clase 0)$ y $f_X(x | clase 1)$. No puede utilizar funciones predefinidas para encontrar la distribución combindada. Implemente su propio algoritmo EM."
   ]
  },
  {
   "cell_type": "code",
   "execution_count": null,
   "metadata": {},
   "outputs": [],
   "source": []
  }
 ],
 "metadata": {
  "interpreter": {
   "hash": "a79ffc64bbbdc1dbd325dce08aeb4867c8457edfbe458723a927ca1f82bf7833"
  },
  "kernelspec": {
   "display_name": "Python 3.9.7 64-bit",
   "language": "python",
   "name": "python3"
  },
  "language_info": {
   "codemirror_mode": {
    "name": "ipython",
    "version": 3
   },
   "file_extension": ".py",
   "mimetype": "text/x-python",
   "name": "python",
   "nbconvert_exporter": "python",
   "pygments_lexer": "ipython3",
   "version": "3.9.7"
  },
  "orig_nbformat": 4
 },
 "nbformat": 4,
 "nbformat_minor": 2
}
