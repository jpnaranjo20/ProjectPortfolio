{
    "cells": [
        {
            "cell_type": "markdown",
            "source": [
                "# Punto 3 - Experimento\r\n",
                "\r\n",
                "Escriba un código en Matlab o Python para generar N repeticiones de un número aleatorio entre 0 y 1. Cada fila de $x$ es el resultado de un experimento. Defina dos eventos: $A = \\{x \\leq 0;4\\}$ y $B = \\{0.2 \\leq x \\leq 0.5\\}$\r\n"
            ],
            "metadata": {}
        },
        {
            "cell_type": "code",
            "execution_count": 1,
            "source": [
                "import numpy as np\r\n",
                "import pandas as pd"
            ],
            "outputs": [],
            "metadata": {}
        },
        {
            "cell_type": "code",
            "execution_count": 2,
            "source": [
                "N1 = 10\r\n",
                "N2 = 100\r\n",
                "N3 = 10**6\r\n",
                "N4 = 10**8\r\n",
                "\r\n",
                "pA = 0.4\r\n",
                "pB = 0.3\r\n",
                "pAuB = 0.5\r\n",
                "pAnB = pA + pB - pAuB\r\n",
                "pAdB = 2/3\r\n",
                "pBdA = 1/2 \r\n",
                "\r\n",
                "valsteoricos = np.array([pA, pB, pAuB, pAnB, pAdB, pBdA])"
            ],
            "outputs": [],
            "metadata": {}
        },
        {
            "cell_type": "markdown",
            "source": [
                "## $N = 10$"
            ],
            "metadata": {}
        },
        {
            "cell_type": "markdown",
            "source": [
                "### Intento 1"
            ],
            "metadata": {}
        },
        {
            "cell_type": "code",
            "execution_count": 3,
            "source": [
                "x1 = np.random.rand(N1, 1)\r\n",
                "\r\n",
                "A1 = np.zeros((N1, 1))\r\n",
                "\r\n",
                "for i in range(len(x1)):\r\n",
                "    if x1[i] <= 0.4:\r\n",
                "        A1[i] = 1\r\n",
                "\r\n",
                "B1 = np.zeros((N1, 1))\r\n",
                "\r\n",
                "for i in range(len(x1)):\r\n",
                "    if x1[i] <= 0.5 and x1[i] >= 0.2:\r\n",
                "        B1[i] = 1"
            ],
            "outputs": [],
            "metadata": {}
        },
        {
            "cell_type": "code",
            "execution_count": 4,
            "source": [
                "nA1 = 0\r\n",
                "for i in A1:\r\n",
                "    if float(i) == 1:\r\n",
                "        nA1 += 1\r\n",
                "\r\n",
                "nB1 = 0\r\n",
                "for i in B1:\r\n",
                "    if float(i) == 1:\r\n",
                "        nB1 += 1\r\n",
                "\r\n",
                "nAnB1 = 0\r\n",
                "for i in range(len(A1)):\r\n",
                "    if A1[i] == 1 and B1[i] == 1:\r\n",
                "        nAnB1 += 1"
            ],
            "outputs": [],
            "metadata": {}
        },
        {
            "cell_type": "code",
            "execution_count": 5,
            "source": [
                "frelA1 = nA1/N1\r\n",
                "print(f'frelA1 = {frelA1}')\r\n",
                "\r\n",
                "frelB1 = nB1/N1\r\n",
                "print(f'frelB1 = {frelB1}')\r\n",
                "\r\n",
                "frelAnB1 = nAnB1/N1\r\n",
                "print(f'frelAnB1 = {frelAnB1}')\r\n",
                "\r\n",
                "frelAuB1 = frelA1 + frelB1 - frelAnB1\r\n",
                "print(f'frelAuB1 = {frelAuB1}')\r\n",
                "\r\n",
                "frelAdB1 = frelAnB1/frelB1\r\n",
                "print(f'frelAdB1 = {frelAdB1}')\r\n",
                "\r\n",
                "frelBdA1 = frelAnB1/frelA1\r\n",
                "print(f'frelBdA1 = {frelBdA1}')\r\n",
                "\r\n",
                "fila1 = np.array([frelA1, frelB1, frelAuB1, frelAnB1, frelAdB1, frelBdA1])"
            ],
            "outputs": [
                {
                    "output_type": "stream",
                    "name": "stdout",
                    "text": [
                        "frelA1 = 0.5\n",
                        "frelB1 = 0.3\n",
                        "frelAnB1 = 0.3\n",
                        "frelAuB1 = 0.5\n",
                        "frelAdB1 = 1.0\n",
                        "frelBdA1 = 0.6\n"
                    ]
                }
            ],
            "metadata": {}
        },
        {
            "cell_type": "markdown",
            "source": [
                "### Intento 2"
            ],
            "metadata": {}
        },
        {
            "cell_type": "code",
            "execution_count": 6,
            "source": [
                "x1 = np.random.rand(N1, 1)\r\n",
                "\r\n",
                "A2 = np.zeros((N1, 1))\r\n",
                "\r\n",
                "for i in range(len(x1)):\r\n",
                "    if x1[i] <= 0.4:\r\n",
                "        A2[i] = 1\r\n",
                "\r\n",
                "B2 = np.zeros((N1, 1))\r\n",
                "\r\n",
                "for i in range(len(x1)):\r\n",
                "    if x1[i] <= 0.5 and x1[i] >= 0.2:\r\n",
                "        B2[i] = 1\r\n"
            ],
            "outputs": [],
            "metadata": {}
        },
        {
            "cell_type": "code",
            "execution_count": 7,
            "source": [
                "nA2 = 0\r\n",
                "for i in A2:\r\n",
                "    if float(i) == 1:\r\n",
                "        nA2 += 1\r\n",
                "\r\n",
                "nB2 = 0\r\n",
                "for i in B2:\r\n",
                "    if float(i) == 1:\r\n",
                "        nB2 += 1\r\n",
                "\r\n",
                "nAnB2 = 0\r\n",
                "for i in range(len(A2)):\r\n",
                "    if A2[i] == 1 and B2[i] == 1:\r\n",
                "        nAnB2 += 1"
            ],
            "outputs": [],
            "metadata": {}
        },
        {
            "cell_type": "code",
            "execution_count": 8,
            "source": [
                "frelA2 = nA2/N1\r\n",
                "print(f'frelA2 = {frelA2}')\r\n",
                "\r\n",
                "frelB2 = nB2/N1\r\n",
                "print(f'frelB2 = {frelB2}')\r\n",
                "\r\n",
                "frelAnB2 = nAnB2/N1\r\n",
                "print(f'frelAnB2 = {frelAnB2}')\r\n",
                "\r\n",
                "frelAuB2 = frelA2 + frelB2 - frelAnB2\r\n",
                "print(f'frelAuB2 = {frelAuB2}')\r\n",
                "\r\n",
                "frelAdB2 = frelAnB2/frelB2\r\n",
                "print(f'frelAdB2 = {frelAdB2}')\r\n",
                "\r\n",
                "frelBdA2 = frelAnB2/frelA2\r\n",
                "print(f'frelBdA2 = {frelBdA2}')\r\n",
                "\r\n",
                "fila2 = np.array([frelA2, frelB2, frelAuB2, frelAnB2, frelAdB2, frelBdA2])\r\n",
                "print(fila2)"
            ],
            "outputs": [
                {
                    "output_type": "stream",
                    "name": "stdout",
                    "text": [
                        "frelA2 = 0.3\n",
                        "frelB2 = 0.2\n",
                        "frelAnB2 = 0.1\n",
                        "frelAuB2 = 0.4\n",
                        "frelAdB2 = 0.5\n",
                        "frelBdA2 = 0.33333333333333337\n",
                        "[0.3        0.2        0.4        0.1        0.5        0.33333333]\n"
                    ]
                }
            ],
            "metadata": {}
        },
        {
            "cell_type": "markdown",
            "source": [
                "### Intento 3"
            ],
            "metadata": {}
        },
        {
            "cell_type": "code",
            "execution_count": 9,
            "source": [
                "x1 = np.random.rand(N1, 1)\r\n",
                "\r\n",
                "A3 = np.zeros((N1, 1))\r\n",
                "\r\n",
                "for i in range(len(x1)):\r\n",
                "    if x1[i] <= 0.4:\r\n",
                "        A3[i] = 1\r\n",
                "\r\n",
                "B3 = np.zeros((N1, 1))\r\n",
                "\r\n",
                "for i in range(len(x1)):\r\n",
                "    if x1[i] <= 0.5 and x1[i] >= 0.2:\r\n",
                "        B3[i] = 1\r\n"
            ],
            "outputs": [],
            "metadata": {}
        },
        {
            "cell_type": "code",
            "execution_count": 10,
            "source": [
                "nA3 = 0\r\n",
                "for i in A3:\r\n",
                "    if float(i) == 1:\r\n",
                "        nA3 += 1\r\n",
                "\r\n",
                "nB3 = 0\r\n",
                "for i in B3:\r\n",
                "    if float(i) == 1:\r\n",
                "        nB3 += 1\r\n",
                "\r\n",
                "nAnB3 = 0\r\n",
                "for i in range(len(A3)):\r\n",
                "    if A3[i] == 1 and B3[i] == 1:\r\n",
                "        nAnB3 += 1"
            ],
            "outputs": [],
            "metadata": {}
        },
        {
            "cell_type": "code",
            "execution_count": 11,
            "source": [
                "frelA3 = nA3/N1\r\n",
                "print(f'frelA3 = {frelA3}')\r\n",
                "\r\n",
                "frelB3 = nB3/N1\r\n",
                "print(f'frelB3 = {frelB3}')\r\n",
                "\r\n",
                "frelAnB3 = nAnB3/N1\r\n",
                "print(f'frelAnB3 = {frelAnB3}')\r\n",
                "\r\n",
                "frelAuB3 = frelA3 + frelB3 - frelAnB3\r\n",
                "print(f'frelAuB3 = {frelAuB3}')\r\n",
                "\r\n",
                "frelAdB3 = frelAnB3/frelB3\r\n",
                "print(f'frelAdB3 = {frelAdB3}')\r\n",
                "\r\n",
                "frelBdA3 = frelAnB3/frelA3\r\n",
                "print(f'frelBdA3 = {frelBdA3}')\r\n",
                "\r\n",
                "fila3 = np.array([frelA3, frelB3, frelAuB3, frelAnB3, frelAdB3, frelBdA3])\r\n",
                "print(fila3)"
            ],
            "outputs": [
                {
                    "output_type": "stream",
                    "name": "stdout",
                    "text": [
                        "frelA3 = 0.5\n",
                        "frelB3 = 0.4\n",
                        "frelAnB3 = 0.3\n",
                        "frelAuB3 = 0.6000000000000001\n",
                        "frelAdB3 = 0.7499999999999999\n",
                        "frelBdA3 = 0.6\n",
                        "[0.5  0.4  0.6  0.3  0.75 0.6 ]\n"
                    ]
                }
            ],
            "metadata": {}
        },
        {
            "cell_type": "markdown",
            "source": [
                "### Resultados"
            ],
            "metadata": {}
        },
        {
            "cell_type": "code",
            "execution_count": 12,
            "source": [
                "tb = np.array([fila1,fila2,fila3,valsteoricos])\r\n",
                "df = pd.DataFrame(tb, columns=['A', 'B', 'AuB', 'AnB', 'A|B', 'B|A'], index=['Intento 1', 'Intento 2', 'Intento 3', 'Valores Teóricos'])\r\n",
                "\r\n",
                "print(f'Tabla de resultados para N = 10: \\n {df} \\n')"
            ],
            "outputs": [
                {
                    "output_type": "stream",
                    "name": "stdout",
                    "text": [
                        "Tabla de resultados para N = 10: \n",
                        "                     A    B  AuB  AnB       A|B       B|A\n",
                        "Intento 1         0.5  0.3  0.5  0.3  1.000000  0.600000\n",
                        "Intento 2         0.3  0.2  0.4  0.1  0.500000  0.333333\n",
                        "Intento 3         0.5  0.4  0.6  0.3  0.750000  0.600000\n",
                        "Valores Teóricos  0.4  0.3  0.5  0.2  0.666667  0.500000 \n",
                        "\n"
                    ]
                }
            ],
            "metadata": {}
        },
        {
            "cell_type": "markdown",
            "source": [
                "## $N = 100$"
            ],
            "metadata": {}
        },
        {
            "cell_type": "markdown",
            "source": [
                "### Intento 1"
            ],
            "metadata": {}
        },
        {
            "cell_type": "code",
            "execution_count": 13,
            "source": [
                "x2 = np.random.rand(N2, 1)\r\n",
                "\r\n",
                "A21 = np.zeros((N2, 1))\r\n",
                "\r\n",
                "for i in range(len(x2)):\r\n",
                "    if x2[i] <= 0.4:\r\n",
                "        A21[i] = 1\r\n",
                "\r\n",
                "B21 = np.zeros((N2, 1))\r\n",
                "\r\n",
                "for i in range(len(x2)):\r\n",
                "    if x2[i] <= 0.5 and x2[i] >= 0.2:\r\n",
                "        B21[i] = 1"
            ],
            "outputs": [],
            "metadata": {}
        },
        {
            "cell_type": "code",
            "execution_count": 14,
            "source": [
                "nA21 = 0\r\n",
                "for i in A21:\r\n",
                "    if float(i) == 1:\r\n",
                "        nA21 += 1\r\n",
                "\r\n",
                "nB21 = 0\r\n",
                "for i in B21:\r\n",
                "    if float(i) == 1:\r\n",
                "        nB21 += 1\r\n",
                "\r\n",
                "nAnB21 = 0\r\n",
                "for i in range(len(A21)):\r\n",
                "    if A21[i] == 1 and B21[i] == 1:\r\n",
                "        nAnB21 += 1"
            ],
            "outputs": [],
            "metadata": {}
        },
        {
            "cell_type": "code",
            "execution_count": 15,
            "source": [
                "frelA21 = nA21/N2\r\n",
                "print(f'frelA21 = {frelA21}')\r\n",
                "\r\n",
                "frelB21 = nB21/N2\r\n",
                "print(f'frelB21 = {frelB21}')\r\n",
                "\r\n",
                "frelAnB21 = nAnB21/N2\r\n",
                "print(f'frelAnB21 = {frelAnB21}')\r\n",
                "\r\n",
                "frelAuB21 = frelA21 + frelB21 - frelAnB21\r\n",
                "print(f'frelAuB21 = {frelAuB21}')\r\n",
                "\r\n",
                "frelAdB21 = frelAnB21/frelB21\r\n",
                "print(f'frelAdB21 = {frelAdB21}')\r\n",
                "\r\n",
                "frelBdA21 = frelAnB21/frelA21\r\n",
                "print(f'frelBdA21 = {frelBdA21}')\r\n",
                "\r\n",
                "fila21 = np.array([frelA21, frelB21, frelAuB21, frelAnB21, frelAdB21, frelBdA21])"
            ],
            "outputs": [
                {
                    "output_type": "stream",
                    "name": "stdout",
                    "text": [
                        "frelA21 = 0.39\n",
                        "frelB21 = 0.3\n",
                        "frelAnB21 = 0.2\n",
                        "frelAuB21 = 0.48999999999999994\n",
                        "frelAdB21 = 0.6666666666666667\n",
                        "frelBdA21 = 0.5128205128205129\n"
                    ]
                }
            ],
            "metadata": {}
        },
        {
            "cell_type": "markdown",
            "source": [
                "### Intento 2"
            ],
            "metadata": {}
        },
        {
            "cell_type": "code",
            "execution_count": 16,
            "source": [
                "x2 = np.random.rand(N2, 1)\r\n",
                "\r\n",
                "A22 = np.zeros((N2, 1))\r\n",
                "\r\n",
                "for i in range(len(x2)):\r\n",
                "    if x2[i] <= 0.4:\r\n",
                "        A22[i] = 1\r\n",
                "\r\n",
                "B22 = np.zeros((N2, 1))\r\n",
                "\r\n",
                "for i in range(len(x2)):\r\n",
                "    if x2[i] <= 0.5 and x2[i] >= 0.2:\r\n",
                "        B22[i] = 1"
            ],
            "outputs": [],
            "metadata": {}
        },
        {
            "cell_type": "code",
            "execution_count": 17,
            "source": [
                "nA22 = 0\r\n",
                "for i in A22:\r\n",
                "    if float(i) == 1:\r\n",
                "        nA22 += 1\r\n",
                "\r\n",
                "nB22 = 0\r\n",
                "for i in B22:\r\n",
                "    if float(i) == 1:\r\n",
                "        nB22 += 1\r\n",
                "\r\n",
                "nAnB22 = 0\r\n",
                "for i in range(len(A22)):\r\n",
                "    if A22[i] == 1 and B22[i] == 1:\r\n",
                "        nAnB22 += 1"
            ],
            "outputs": [],
            "metadata": {}
        },
        {
            "cell_type": "code",
            "execution_count": 18,
            "source": [
                "frelA22 = nA22/N2\r\n",
                "print(f'frelA22 = {frelA22}')\r\n",
                "\r\n",
                "frelB22 = nB22/N2\r\n",
                "print(f'frelB22 = {frelB22}')\r\n",
                "\r\n",
                "frelAnB22 = nAnB22/N2\r\n",
                "print(f'frelAnB22 = {frelAnB22}')\r\n",
                "\r\n",
                "frelAuB22 = frelA22 + frelB22 - frelAnB22\r\n",
                "print(f'frelAuB22 = {frelAuB22}')\r\n",
                "\r\n",
                "frelAdB22 = frelAnB22/frelB22\r\n",
                "print(f'frelAdB22 = {frelAdB22}')\r\n",
                "\r\n",
                "frelBdA22 = frelAnB22/frelA22\r\n",
                "print(f'frelBdA22 = {frelBdA22}')\r\n",
                "\r\n",
                "fila22 = np.array([frelA22, frelB22, frelAuB22, frelAnB22, frelAdB22, frelBdA22])"
            ],
            "outputs": [
                {
                    "output_type": "stream",
                    "name": "stdout",
                    "text": [
                        "frelA22 = 0.38\n",
                        "frelB22 = 0.27\n",
                        "frelAnB22 = 0.15\n",
                        "frelAuB22 = 0.5\n",
                        "frelAdB22 = 0.5555555555555555\n",
                        "frelBdA22 = 0.39473684210526316\n"
                    ]
                }
            ],
            "metadata": {}
        },
        {
            "cell_type": "markdown",
            "source": [
                "### Intento 3"
            ],
            "metadata": {}
        },
        {
            "cell_type": "code",
            "execution_count": 19,
            "source": [
                "x2 = np.random.rand(N2, 1)\r\n",
                "\r\n",
                "A23 = np.zeros((N2, 1))\r\n",
                "\r\n",
                "for i in range(len(x2)):\r\n",
                "    if x2[i] <= 0.4:\r\n",
                "        A23[i] = 1\r\n",
                "\r\n",
                "B23 = np.zeros((N2, 1))\r\n",
                "\r\n",
                "for i in range(len(x2)):\r\n",
                "    if x2[i] <= 0.5 and x2[i] >= 0.2:\r\n",
                "        B23[i] = 1"
            ],
            "outputs": [],
            "metadata": {}
        },
        {
            "cell_type": "code",
            "execution_count": 20,
            "source": [
                "nA23 = 0\r\n",
                "for i in A23:\r\n",
                "    if float(i) == 1:\r\n",
                "        nA23 += 1\r\n",
                "\r\n",
                "nB23 = 0\r\n",
                "for i in B23:\r\n",
                "    if float(i) == 1:\r\n",
                "        nB23 += 1\r\n",
                "\r\n",
                "nAnB23 = 0\r\n",
                "for i in range(len(A23)):\r\n",
                "    if A23[i] == 1 and B23[i] == 1:\r\n",
                "        nAnB23 += 1"
            ],
            "outputs": [],
            "metadata": {}
        },
        {
            "cell_type": "code",
            "execution_count": 21,
            "source": [
                "frelA23 = nA23/N2\r\n",
                "print(f'frelA23 = {frelA23}')\r\n",
                "\r\n",
                "frelB23 = nB23/N2\r\n",
                "print(f'frelB23 = {frelB23}')\r\n",
                "\r\n",
                "frelAnB23 = nAnB23/N2\r\n",
                "print(f'frelAnB23 = {frelAnB23}')\r\n",
                "\r\n",
                "frelAuB23 = frelA23 + frelB23 - frelAnB23\r\n",
                "print(f'frelAuB23 = {frelAuB23}')\r\n",
                "\r\n",
                "frelAdB23 = frelAnB23/frelB23\r\n",
                "print(f'frelAdB23 = {frelAdB23}')\r\n",
                "\r\n",
                "frelBdA23 = frelAnB23/frelA23\r\n",
                "print(f'frelBdA23 = {frelBdA23}')\r\n",
                "\r\n",
                "fila23 = np.array([frelA23, frelB23, frelAuB23, frelAnB23, frelAdB23, frelBdA23])"
            ],
            "outputs": [
                {
                    "output_type": "stream",
                    "name": "stdout",
                    "text": [
                        "frelA23 = 0.37\n",
                        "frelB23 = 0.28\n",
                        "frelAnB23 = 0.21\n",
                        "frelAuB23 = 0.44000000000000006\n",
                        "frelAdB23 = 0.7499999999999999\n",
                        "frelBdA23 = 0.5675675675675675\n"
                    ]
                }
            ],
            "metadata": {}
        },
        {
            "cell_type": "markdown",
            "source": [
                "### Resultados"
            ],
            "metadata": {}
        },
        {
            "cell_type": "code",
            "execution_count": 22,
            "source": [
                "tb2 = np.array([fila21,fila22,fila23, valsteoricos])\r\n",
                "df2 = pd.DataFrame(tb2, columns=['A', 'B', 'AuB', 'AnB', 'A|B', 'B|A'], index=['Intento 1', 'Intento 2', 'Intento 3', 'Valores Teóricos'])\r\n",
                "\r\n",
                "print(f'Tabla de resultados para N = 100: \\n {df2} \\n')"
            ],
            "outputs": [
                {
                    "output_type": "stream",
                    "name": "stdout",
                    "text": [
                        "Tabla de resultados para N = 100: \n",
                        "                      A     B   AuB   AnB       A|B       B|A\n",
                        "Intento 1         0.39  0.30  0.49  0.20  0.666667  0.512821\n",
                        "Intento 2         0.38  0.27  0.50  0.15  0.555556  0.394737\n",
                        "Intento 3         0.37  0.28  0.44  0.21  0.750000  0.567568\n",
                        "Valores Teóricos  0.40  0.30  0.50  0.20  0.666667  0.500000 \n",
                        "\n"
                    ]
                }
            ],
            "metadata": {}
        },
        {
            "cell_type": "markdown",
            "source": [
                "## $N = 10^6$"
            ],
            "metadata": {}
        },
        {
            "cell_type": "markdown",
            "source": [
                "### Intento 1"
            ],
            "metadata": {}
        },
        {
            "cell_type": "code",
            "execution_count": 23,
            "source": [
                "x3 = np.random.rand(N3, 1)\r\n",
                "\r\n",
                "A31 = np.zeros((N3, 1))\r\n",
                "\r\n",
                "for i in range(len(x3)):\r\n",
                "    if x3[i] <= 0.4:\r\n",
                "        A31[i] = 1\r\n",
                "\r\n",
                "B31 = np.zeros((N3, 1))\r\n",
                "\r\n",
                "for i in range(len(x3)):\r\n",
                "    if x3[i] <= 0.5 and x3[i] >= 0.2:\r\n",
                "        B31[i] = 1"
            ],
            "outputs": [],
            "metadata": {}
        },
        {
            "cell_type": "code",
            "execution_count": 24,
            "source": [
                "nA31 = 0\r\n",
                "for i in A31:\r\n",
                "    if float(i) == 1:\r\n",
                "        nA31 += 1\r\n",
                "\r\n",
                "nB31 = 0\r\n",
                "for i in B31:\r\n",
                "    if float(i) == 1:\r\n",
                "        nB31 += 1\r\n",
                "\r\n",
                "nAnB31 = 0\r\n",
                "for i in range(len(A31)):\r\n",
                "    if A31[i] == 1 and B31[i] == 1:\r\n",
                "        nAnB31 += 1"
            ],
            "outputs": [],
            "metadata": {}
        },
        {
            "cell_type": "code",
            "execution_count": 25,
            "source": [
                "frelA31 = nA31/N3\r\n",
                "print(f'frelA31 = {frelA31}')\r\n",
                "\r\n",
                "frelB31 = nB31/N3\r\n",
                "print(f'frelB31 = {frelB31}')\r\n",
                "\r\n",
                "frelAnB31 = nAnB31/N3\r\n",
                "print(f'frelAnB31 = {frelAnB31}')\r\n",
                "\r\n",
                "frelAuB31 = frelA31 + frelB31 - frelAnB31\r\n",
                "print(f'frelAuB31 = {frelAuB31}')\r\n",
                "\r\n",
                "frelAdB31 = frelAnB31/frelB31\r\n",
                "print(f'frelAdB31 = {frelAdB31}')\r\n",
                "\r\n",
                "frelBdA31 = frelAnB31/frelA31\r\n",
                "print(f'frelBdA31 = {frelBdA31}')\r\n",
                "\r\n",
                "fila31 = np.array([frelA31, frelB31, frelAuB31, frelAnB31, frelAdB31, frelBdA31])"
            ],
            "outputs": [
                {
                    "output_type": "stream",
                    "name": "stdout",
                    "text": [
                        "frelA31 = 0.400181\n",
                        "frelB31 = 0.300255\n",
                        "frelAnB31 = 0.200662\n",
                        "frelAuB31 = 0.49977400000000005\n",
                        "frelAdB31 = 0.6683052738505604\n",
                        "frelBdA31 = 0.5014281037830381\n"
                    ]
                }
            ],
            "metadata": {}
        },
        {
            "cell_type": "markdown",
            "source": [
                "### Intento 2"
            ],
            "metadata": {}
        },
        {
            "cell_type": "code",
            "execution_count": 26,
            "source": [
                "x3 = np.random.rand(N3, 1)\r\n",
                "\r\n",
                "A32 = np.zeros((N3, 1))\r\n",
                "\r\n",
                "for i in range(len(x3)):\r\n",
                "    if x3[i] <= 0.4:\r\n",
                "        A32[i] = 1\r\n",
                "\r\n",
                "B32 = np.zeros((N3, 1))\r\n",
                "\r\n",
                "for i in range(len(x3)):\r\n",
                "    if x3[i] <= 0.5 and x3[i] >= 0.2:\r\n",
                "        B32[i] = 1"
            ],
            "outputs": [],
            "metadata": {}
        },
        {
            "cell_type": "code",
            "execution_count": 27,
            "source": [
                "nA32 = 0\r\n",
                "for i in A32:\r\n",
                "    if float(i) == 1:\r\n",
                "        nA32 += 1\r\n",
                "\r\n",
                "nB32 = 0\r\n",
                "for i in B32:\r\n",
                "    if float(i) == 1:\r\n",
                "        nB32 += 1\r\n",
                "\r\n",
                "nAnB32 = 0\r\n",
                "for i in range(len(A32)):\r\n",
                "    if A32[i] == 1 and B32[i] == 1:\r\n",
                "        nAnB32 += 1"
            ],
            "outputs": [],
            "metadata": {}
        },
        {
            "cell_type": "code",
            "execution_count": 28,
            "source": [
                "frelA32 = nA32/N3\r\n",
                "print(f'frelA32 = {frelA32}')\r\n",
                "\r\n",
                "frelB32 = nB32/N3\r\n",
                "print(f'frelB32 = {frelB32}')\r\n",
                "\r\n",
                "frelAnB32 = nAnB32/N3\r\n",
                "print(f'frelAnB32 = {frelAnB32}')\r\n",
                "\r\n",
                "frelAuB32 = frelA32 + frelB32 - frelAnB32\r\n",
                "print(f'frelAuB32 = {frelAuB32}')\r\n",
                "\r\n",
                "frelAdB32 = frelAnB32/frelB32\r\n",
                "print(f'frelAdB32 = {frelAdB32}')\r\n",
                "\r\n",
                "frelBdA32 = frelAnB32/frelA32\r\n",
                "print(f'frelBdA32 = {frelBdA32}')\r\n",
                "\r\n",
                "fila32 = np.array([frelA32, frelB32, frelAuB32, frelAnB32, frelAdB32, frelBdA32])"
            ],
            "outputs": [
                {
                    "output_type": "stream",
                    "name": "stdout",
                    "text": [
                        "frelA32 = 0.399779\n",
                        "frelB32 = 0.299992\n",
                        "frelAnB32 = 0.199898\n",
                        "frelAuB32 = 0.4998729999999999\n",
                        "frelAdB32 = 0.6663444358516227\n",
                        "frelBdA32 = 0.5000212617471153\n"
                    ]
                }
            ],
            "metadata": {}
        },
        {
            "cell_type": "markdown",
            "source": [
                "### Intento 3"
            ],
            "metadata": {}
        },
        {
            "cell_type": "code",
            "execution_count": 29,
            "source": [
                "x3 = np.random.rand(N3, 1)\r\n",
                "\r\n",
                "A33 = np.zeros((N3, 1))\r\n",
                "\r\n",
                "for i in range(len(x3)):\r\n",
                "    if x3[i] <= 0.4:\r\n",
                "        A33[i] = 1\r\n",
                "\r\n",
                "B33 = np.zeros((N3, 1))\r\n",
                "\r\n",
                "for i in range(len(x3)):\r\n",
                "    if x3[i] <= 0.5 and x3[i] >= 0.2:\r\n",
                "        B33[i] = 1"
            ],
            "outputs": [],
            "metadata": {}
        },
        {
            "cell_type": "code",
            "execution_count": 30,
            "source": [
                "nA33 = 0\r\n",
                "for i in A33:\r\n",
                "    if float(i) == 1:\r\n",
                "        nA33 += 1\r\n",
                "\r\n",
                "nB33 = 0\r\n",
                "for i in B33:\r\n",
                "    if float(i) == 1:\r\n",
                "        nB33 += 1\r\n",
                "\r\n",
                "nAnB33 = 0\r\n",
                "for i in range(len(A33)):\r\n",
                "    if A33[i] == 1 and B33[i] == 1:\r\n",
                "        nAnB33 += 1"
            ],
            "outputs": [],
            "metadata": {}
        },
        {
            "cell_type": "code",
            "execution_count": 31,
            "source": [
                "frelA33 = nA33/N3\r\n",
                "print(f'frelA33 = {frelA33}')\r\n",
                "\r\n",
                "frelB33 = nB33/N3\r\n",
                "print(f'frelB33 = {frelB33}')\r\n",
                "\r\n",
                "frelAnB33 = nAnB33/N3\r\n",
                "print(f'frelAnB33 = {frelAnB33}')\r\n",
                "\r\n",
                "frelAuB33 = frelA33 + frelB33 - frelAnB33\r\n",
                "print(f'frelAuB33 = {frelAuB33}')\r\n",
                "\r\n",
                "frelAdB33 = frelAnB33/frelB33\r\n",
                "print(f'frelAdB33 = {frelAdB33}')\r\n",
                "\r\n",
                "frelBdA33 = frelAnB33/frelA33\r\n",
                "print(f'frelBdA33 = {frelBdA33}')\r\n",
                "\r\n",
                "fila33 = np.array([frelA33, frelB33, frelAuB33, frelAnB33, frelAdB33, frelBdA33])"
            ],
            "outputs": [
                {
                    "output_type": "stream",
                    "name": "stdout",
                    "text": [
                        "frelA33 = 0.400376\n",
                        "frelB33 = 0.300212\n",
                        "frelAnB33 = 0.200211\n",
                        "frelAuB33 = 0.500377\n",
                        "frelAdB33 = 0.6668987249010699\n",
                        "frelBdA33 = 0.5000574460007593\n"
                    ]
                }
            ],
            "metadata": {}
        },
        {
            "cell_type": "markdown",
            "source": [
                "### Resultados"
            ],
            "metadata": {}
        },
        {
            "cell_type": "code",
            "execution_count": 32,
            "source": [
                "tb3 = np.array([fila31,fila32,fila33, valsteoricos])\r\n",
                "df3 = pd.DataFrame(tb3, columns=['A', 'B', 'AuB', 'AnB', 'A|B', 'B|A'], index=['Intento 1', 'Intento 2', 'Intento 3', 'Valores Teóricos'])\r\n",
                "\r\n",
                "print(f'Tabla de resultados para N = 10^6: \\n {df3} \\n')"
            ],
            "outputs": [
                {
                    "output_type": "stream",
                    "name": "stdout",
                    "text": [
                        "Tabla de resultados para N = 10^6: \n",
                        "                          A         B       AuB       AnB       A|B       B|A\n",
                        "Intento 1         0.400181  0.300255  0.499774  0.200662  0.668305  0.501428\n",
                        "Intento 2         0.399779  0.299992  0.499873  0.199898  0.666344  0.500021\n",
                        "Intento 3         0.400376  0.300212  0.500377  0.200211  0.666899  0.500057\n",
                        "Valores Teóricos  0.400000  0.300000  0.500000  0.200000  0.666667  0.500000 \n",
                        "\n"
                    ]
                }
            ],
            "metadata": {}
        },
        {
            "cell_type": "markdown",
            "source": [
                "## $N = 10^8$"
            ],
            "metadata": {}
        },
        {
            "cell_type": "markdown",
            "source": [
                "### Intento 1"
            ],
            "metadata": {}
        },
        {
            "cell_type": "code",
            "execution_count": 33,
            "source": [
                "x4 = np.random.rand(N4, 1)\r\n",
                "\r\n",
                "A41 = np.zeros((N4, 1))\r\n",
                "\r\n",
                "for i in range(len(x4)):\r\n",
                "    if x4[i] <= 0.4:\r\n",
                "        A41[i] = 1\r\n",
                "\r\n",
                "B41 = np.zeros((N4, 1))\r\n",
                "\r\n",
                "for i in range(len(x4)):\r\n",
                "    if x4[i] <= 0.5 and x4[i] >= 0.2:\r\n",
                "        B41[i] = 1"
            ],
            "outputs": [],
            "metadata": {}
        },
        {
            "cell_type": "code",
            "execution_count": 34,
            "source": [
                "nA41 = 0\r\n",
                "for i in A41:\r\n",
                "    if float(i) == 1:\r\n",
                "        nA41 += 1\r\n",
                "\r\n",
                "nB41 = 0\r\n",
                "for i in B41:\r\n",
                "    if float(i) == 1:\r\n",
                "        nB41 += 1\r\n",
                "\r\n",
                "nAnB41 = 0\r\n",
                "for i in range(len(A41)):\r\n",
                "    if A41[i] == 1 and B41[i] == 1:\r\n",
                "        nAnB41 += 1"
            ],
            "outputs": [],
            "metadata": {}
        },
        {
            "cell_type": "code",
            "execution_count": 35,
            "source": [
                "frelA41 = nA41/N4\r\n",
                "print(f'frelA41 = {frelA41}')\r\n",
                "\r\n",
                "frelB41 = nB41/N4\r\n",
                "print(f'frelB41 = {frelB41}')\r\n",
                "\r\n",
                "frelAnB41 = nAnB41/N4\r\n",
                "print(f'frelAnB41 = {frelAnB41}')\r\n",
                "\r\n",
                "frelAuB41 = frelA41 + frelB41 - frelAnB41\r\n",
                "print(f'frelAuB41 = {frelAuB41}')\r\n",
                "\r\n",
                "frelAdB41 = frelAnB41/frelB41\r\n",
                "print(f'frelAdB41 = {frelAdB41}')\r\n",
                "\r\n",
                "frelBdA41 = frelAnB41/frelA41\r\n",
                "print(f'frelBdA41 = {frelBdA41}')\r\n",
                "\r\n",
                "fila41 = np.array([frelA41, frelB41, frelAuB41, frelAnB41, frelAdB41, frelBdA41])"
            ],
            "outputs": [
                {
                    "output_type": "stream",
                    "name": "stdout",
                    "text": [
                        "frelA41 = 0.39996453\n",
                        "frelB41 = 0.29999875\n",
                        "frelAnB41 = 0.1999897\n",
                        "frelAuB41 = 0.49997358\n",
                        "frelAdB41 = 0.6666351109796291\n",
                        "frelBdA41 = 0.5000185891483927\n"
                    ]
                }
            ],
            "metadata": {}
        },
        {
            "cell_type": "markdown",
            "source": [
                "### Intento 2"
            ],
            "metadata": {}
        },
        {
            "cell_type": "code",
            "execution_count": 36,
            "source": [
                "x4 = np.random.rand(N4, 1)\r\n",
                "\r\n",
                "A42 = np.zeros((N4, 1))\r\n",
                "\r\n",
                "for i in range(len(x4)):\r\n",
                "    if x4[i] <= 0.4:\r\n",
                "        A42[i] = 1\r\n",
                "\r\n",
                "B42 = np.zeros((N4, 1))\r\n",
                "\r\n",
                "for i in range(len(x4)):\r\n",
                "    if x4[i] <= 0.5 and x4[i] >= 0.2:\r\n",
                "        B42[i] = 1"
            ],
            "outputs": [],
            "metadata": {}
        },
        {
            "cell_type": "code",
            "execution_count": 37,
            "source": [
                "nA42 = 0\r\n",
                "for i in A42:\r\n",
                "    if float(i) == 1:\r\n",
                "        nA42 += 1\r\n",
                "\r\n",
                "nB42 = 0\r\n",
                "for i in B42:\r\n",
                "    if float(i) == 1:\r\n",
                "        nB42 += 1\r\n",
                "\r\n",
                "nAnB42 = 0\r\n",
                "for i in range(len(A42)):\r\n",
                "    if A42[i] == 1 and B42[i] == 1:\r\n",
                "        nAnB42 += 1"
            ],
            "outputs": [],
            "metadata": {}
        },
        {
            "cell_type": "code",
            "execution_count": 38,
            "source": [
                "frelA42 = nA42/N4\r\n",
                "print(f'frelA42 = {frelA42}')\r\n",
                "\r\n",
                "frelB42 = nB42/N4\r\n",
                "print(f'frelB42 = {frelB42}')\r\n",
                "\r\n",
                "frelAnB42 = nAnB42/N4\r\n",
                "print(f'frelAnB42 = {frelAnB42}')\r\n",
                "\r\n",
                "frelAuB42 = frelA42 + frelB42 - frelAnB42\r\n",
                "print(f'frelAuB42 = {frelAuB42}')\r\n",
                "\r\n",
                "frelAdB42 = frelAnB42/frelB42\r\n",
                "print(f'frelAdB42 = {frelAdB42}')\r\n",
                "\r\n",
                "frelBdA42 = frelAnB42/frelA42\r\n",
                "print(f'frelBdA42 = {frelBdA42}')\r\n",
                "\r\n",
                "fila42 = np.array([frelA42, frelB42, frelAuB42, frelAnB42, frelAdB42, frelBdA42])"
            ],
            "outputs": [
                {
                    "output_type": "stream",
                    "name": "stdout",
                    "text": [
                        "frelA42 = 0.39999978\n",
                        "frelB42 = 0.29995414\n",
                        "frelAnB42 = 0.19996934\n",
                        "frelAuB42 = 0.49998458\n",
                        "frelAdB42 = 0.6666663777336096\n",
                        "frelBdA42 = 0.4999236249579937\n"
                    ]
                }
            ],
            "metadata": {}
        },
        {
            "cell_type": "markdown",
            "source": [
                "### Intento 3"
            ],
            "metadata": {}
        },
        {
            "cell_type": "code",
            "execution_count": 39,
            "source": [
                "x4 = np.random.rand(N4, 1)\r\n",
                "\r\n",
                "A43 = np.zeros((N4, 1))\r\n",
                "\r\n",
                "for i in range(len(x4)):\r\n",
                "    if x4[i] <= 0.4:\r\n",
                "        A43[i] = 1\r\n",
                "\r\n",
                "B43 = np.zeros((N4, 1))\r\n",
                "\r\n",
                "for i in range(len(x4)):\r\n",
                "    if x4[i] <= 0.5 and x4[i] >= 0.2:\r\n",
                "        B43[i] = 1"
            ],
            "outputs": [],
            "metadata": {}
        },
        {
            "cell_type": "code",
            "execution_count": 40,
            "source": [
                "nA43 = 0\r\n",
                "for i in A43:\r\n",
                "    if float(i) == 1:\r\n",
                "        nA43 += 1\r\n",
                "\r\n",
                "nB43 = 0\r\n",
                "for i in B43:\r\n",
                "    if float(i) == 1:\r\n",
                "        nB43 += 1\r\n",
                "\r\n",
                "nAnB43 = 0\r\n",
                "for i in range(len(A43)):\r\n",
                "    if A43[i] == 1 and B43[i] == 1:\r\n",
                "        nAnB43 += 1"
            ],
            "outputs": [],
            "metadata": {}
        },
        {
            "cell_type": "code",
            "execution_count": 41,
            "source": [
                "frelA43 = nA43/N4\r\n",
                "print(f'frelA43 = {frelA43}')\r\n",
                "\r\n",
                "frelB43 = nB43/N4\r\n",
                "print(f'frelB43 = {frelB43}')\r\n",
                "\r\n",
                "frelAnB43 = nAnB43/N4\r\n",
                "print(f'frelAnB43 = {frelAnB43}')\r\n",
                "\r\n",
                "frelAuB43 = frelA43 + frelB43 - frelAnB43\r\n",
                "print(f'frelAuB43 = {frelAuB43}')\r\n",
                "\r\n",
                "frelAdB43 = frelAnB43/frelB43\r\n",
                "print(f'frelAdB43 = {frelAdB43}')\r\n",
                "\r\n",
                "frelBdA43 = frelAnB43/frelA43\r\n",
                "print(f'frelBdA43 = {frelBdA43}')\r\n",
                "\r\n",
                "fila43 = np.array([frelA43, frelB43, frelAuB43, frelAnB43, frelAdB43, frelBdA43])"
            ],
            "outputs": [
                {
                    "output_type": "stream",
                    "name": "stdout",
                    "text": [
                        "frelA43 = 0.39998645\n",
                        "frelB43 = 0.29998943\n",
                        "frelAnB43 = 0.19998882\n",
                        "frelAuB43 = 0.49998706\n",
                        "frelAdB43 = 0.6666528884034347\n",
                        "frelBdA43 = 0.49998898712693896\n"
                    ]
                }
            ],
            "metadata": {}
        },
        {
            "cell_type": "markdown",
            "source": [
                "### Resultados"
            ],
            "metadata": {}
        },
        {
            "cell_type": "code",
            "execution_count": 42,
            "source": [
                "tb4 = np.array([fila41,fila42,fila43, valsteoricos])\r\n",
                "df4 = pd.DataFrame(tb4, columns=['A', 'B', 'AuB', 'AnB', 'A|B', 'B|A'], index=['Intento 1', 'Intento 2', 'Intento 3', 'Valores Teóricos'])\r\n",
                "\r\n",
                "print(f'Tabla de resultados para N = 10^8: \\n {df4} \\n')"
            ],
            "outputs": [
                {
                    "output_type": "stream",
                    "name": "stdout",
                    "text": [
                        "Tabla de resultados para N = 10^8: \n",
                        "                          A         B       AuB       AnB       A|B       B|A\n",
                        "Intento 1         0.399965  0.299999  0.499974  0.199990  0.666635  0.500019\n",
                        "Intento 2         0.400000  0.299954  0.499985  0.199969  0.666666  0.499924\n",
                        "Intento 3         0.399986  0.299989  0.499987  0.199989  0.666653  0.499989\n",
                        "Valores Teóricos  0.400000  0.300000  0.500000  0.200000  0.666667  0.500000 \n",
                        "\n"
                    ]
                }
            ],
            "metadata": {}
        },
        {
            "cell_type": "markdown",
            "source": [
                "Se puede decir que a medida que incrementa el número $N$, que representa la cantidad de elementos en el vector $x$, las frecuencias relativas de ocurrencia para $A$, $B$, $A \\cup B$, $A \\cap B$, $A|B$ y $B|A$ se aproximan cada vez más a las probabilidades teóricas respectivas de cada caso.\r\n",
                "\r\n",
                "Para $N=10$ es claro que hay una diferencia amplia entre los valores obtenidos en los tres intentos para todas las frecuencias relativas de ocurrencia (probabilidades). Especialmente para el caso de $A|B$ y $B|A$ se encontró una diferencia muy amplia entre el valor teórico y el valor obtenido. Las otras probabilidades estuvieron más cerca a su respectivo valor teórico en los tres intentos, aunque no lo suficiente como para poder decir que fue un experimento exacto.\r\n",
                "\r\n",
                "Para $N=100$ se observó el mismo fenómeno que en el caso pasado, con la diferencia de que ahora las frecuencias relativas de ocurrencia para cada caso ahora estuvieron un poco más cerca de su respectivo valor teórico. Sin embargo, la diferencia para los casos de $A|B$ y $B|A$ siguieron estado alejados de su respectivo valor teórico.\r\n",
                "\r\n",
                "Tanto para $N=10^6$ como para $N=10^8$ los resultados obtenidos para cada frecuencia relativa de ocurrencia y los tres intentos de cada caso fueron sustancialmente cercanos a su respectivo valor teórico, con diferencias en el orden de los $0.0001$. Los casos de $A|B$ y $B|A$ ya no fueron la excepción y esta vez demostraron acercarse cada uno correctamente a su respectivo valor teórico, junto al resto de medidas de frecuencias relativas de ocurrencia."
            ],
            "metadata": {}
        }
    ],
    "metadata": {
        "orig_nbformat": 4,
        "language_info": {
            "name": "python",
            "version": "3.8.3",
            "mimetype": "text/x-python",
            "codemirror_mode": {
                "name": "ipython",
                "version": 3
            },
            "pygments_lexer": "ipython3",
            "nbconvert_exporter": "python",
            "file_extension": ".py"
        },
        "kernelspec": {
            "name": "python3",
            "display_name": "Python 3.8.3 64-bit ('base': conda)"
        },
        "interpreter": {
            "hash": "589b85e89a6335d0b08d77c78c1928c4f41a1a43a63e50b0e56ffdda28f0c24f"
        }
    },
    "nbformat": 4,
    "nbformat_minor": 2
}