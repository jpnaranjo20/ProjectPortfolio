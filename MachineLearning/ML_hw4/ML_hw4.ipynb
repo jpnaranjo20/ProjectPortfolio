{
 "cells": [
  {
   "cell_type": "markdown",
   "metadata": {},
   "source": [
    "# Predicción de Potabilidad del Agua\n",
    "\n",
    "En esta ocasión se busca desarrollar un proceso de GridSearch con el fin de buscar los mejores hiperparámetros de distintos modelos dentro de un rango de valores definidos por nosotros mismos. Igualmente, se busca que usted aplique y comprenda los siguientes modelos:\n",
    "\n",
    "- Árboles de decisión\n",
    "- Bosques de decisión\n",
    "- AdaBoost\n",
    "- XGBoost\n",
    "- Bagging\n",
    "\n",
    "Se sugiere fuertemente leer la documentación entregada en los artículos de los links.\n",
    "\n",
    "Debe completar las celdas vacías y seguir las instrucciones anotadas en el cuaderno. La fecha límite de entrega es el día **8 de noviembre** y se realizará a través de Bloque Neón."
   ]
  },
  {
   "cell_type": "code",
   "execution_count": 1,
   "metadata": {},
   "outputs": [],
   "source": [
    "import pandas as pd\n",
    "import numpy as np\n",
    "import sklearn\n",
    "from sklearn.preprocessing import OrdinalEncoder, MinMaxScaler, RobustScaler\n",
    "import matplotlib.pyplot as plt"
   ]
  },
  {
   "cell_type": "markdown",
   "metadata": {},
   "source": [
    "Lectura de CSV y borrado de filas incompletas."
   ]
  },
  {
   "cell_type": "code",
   "execution_count": 2,
   "metadata": {},
   "outputs": [
    {
     "data": {
      "text/html": [
       "<div>\n",
       "<style scoped>\n",
       "    .dataframe tbody tr th:only-of-type {\n",
       "        vertical-align: middle;\n",
       "    }\n",
       "\n",
       "    .dataframe tbody tr th {\n",
       "        vertical-align: top;\n",
       "    }\n",
       "\n",
       "    .dataframe thead th {\n",
       "        text-align: right;\n",
       "    }\n",
       "</style>\n",
       "<table border=\"1\" class=\"dataframe\">\n",
       "  <thead>\n",
       "    <tr style=\"text-align: right;\">\n",
       "      <th></th>\n",
       "      <th>ph</th>\n",
       "      <th>Hardness</th>\n",
       "      <th>Solids</th>\n",
       "      <th>Chloramines</th>\n",
       "      <th>Sulfate</th>\n",
       "      <th>Conductivity</th>\n",
       "      <th>Organic_carbon</th>\n",
       "      <th>Trihalomethanes</th>\n",
       "      <th>Turbidity</th>\n",
       "      <th>Potability</th>\n",
       "    </tr>\n",
       "  </thead>\n",
       "  <tbody>\n",
       "    <tr>\n",
       "      <th>3</th>\n",
       "      <td>8.316766</td>\n",
       "      <td>214.373394</td>\n",
       "      <td>22018.417441</td>\n",
       "      <td>8.059332</td>\n",
       "      <td>356.886136</td>\n",
       "      <td>363.266516</td>\n",
       "      <td>18.436524</td>\n",
       "      <td>100.341674</td>\n",
       "      <td>4.628771</td>\n",
       "      <td>0</td>\n",
       "    </tr>\n",
       "    <tr>\n",
       "      <th>4</th>\n",
       "      <td>9.092223</td>\n",
       "      <td>181.101509</td>\n",
       "      <td>17978.986339</td>\n",
       "      <td>6.546600</td>\n",
       "      <td>310.135738</td>\n",
       "      <td>398.410813</td>\n",
       "      <td>11.558279</td>\n",
       "      <td>31.997993</td>\n",
       "      <td>4.075075</td>\n",
       "      <td>0</td>\n",
       "    </tr>\n",
       "    <tr>\n",
       "      <th>5</th>\n",
       "      <td>5.584087</td>\n",
       "      <td>188.313324</td>\n",
       "      <td>28748.687739</td>\n",
       "      <td>7.544869</td>\n",
       "      <td>326.678363</td>\n",
       "      <td>280.467916</td>\n",
       "      <td>8.399735</td>\n",
       "      <td>54.917862</td>\n",
       "      <td>2.559708</td>\n",
       "      <td>0</td>\n",
       "    </tr>\n",
       "    <tr>\n",
       "      <th>6</th>\n",
       "      <td>10.223862</td>\n",
       "      <td>248.071735</td>\n",
       "      <td>28749.716544</td>\n",
       "      <td>7.513408</td>\n",
       "      <td>393.663396</td>\n",
       "      <td>283.651634</td>\n",
       "      <td>13.789695</td>\n",
       "      <td>84.603556</td>\n",
       "      <td>2.672989</td>\n",
       "      <td>0</td>\n",
       "    </tr>\n",
       "    <tr>\n",
       "      <th>7</th>\n",
       "      <td>8.635849</td>\n",
       "      <td>203.361523</td>\n",
       "      <td>13672.091764</td>\n",
       "      <td>4.563009</td>\n",
       "      <td>303.309771</td>\n",
       "      <td>474.607645</td>\n",
       "      <td>12.363817</td>\n",
       "      <td>62.798309</td>\n",
       "      <td>4.401425</td>\n",
       "      <td>0</td>\n",
       "    </tr>\n",
       "  </tbody>\n",
       "</table>\n",
       "</div>"
      ],
      "text/plain": [
       "          ph    Hardness        Solids  Chloramines     Sulfate  Conductivity  \\\n",
       "3   8.316766  214.373394  22018.417441     8.059332  356.886136    363.266516   \n",
       "4   9.092223  181.101509  17978.986339     6.546600  310.135738    398.410813   \n",
       "5   5.584087  188.313324  28748.687739     7.544869  326.678363    280.467916   \n",
       "6  10.223862  248.071735  28749.716544     7.513408  393.663396    283.651634   \n",
       "7   8.635849  203.361523  13672.091764     4.563009  303.309771    474.607645   \n",
       "\n",
       "   Organic_carbon  Trihalomethanes  Turbidity  Potability  \n",
       "3       18.436524       100.341674   4.628771           0  \n",
       "4       11.558279        31.997993   4.075075           0  \n",
       "5        8.399735        54.917862   2.559708           0  \n",
       "6       13.789695        84.603556   2.672989           0  \n",
       "7       12.363817        62.798309   4.401425           0  "
      ]
     },
     "execution_count": 2,
     "metadata": {},
     "output_type": "execute_result"
    }
   ],
   "source": [
    "df = pd.read_csv('waterPotability/water_potability.csv').dropna()\n",
    "df.head()"
   ]
  },
  {
   "cell_type": "markdown",
   "metadata": {},
   "source": [
    "Gráfica de proporción de clases. A continuación puede observar una desproporción entre los datos, por lo que se está lidiando con un problema desbalanceado."
   ]
  },
  {
   "cell_type": "code",
   "execution_count": 3,
   "metadata": {},
   "outputs": [
    {
     "data": {
      "text/plain": [
       "<AxesSubplot:ylabel='Potability'>"
      ]
     },
     "execution_count": 3,
     "metadata": {},
     "output_type": "execute_result"
    },
    {
     "data": {
      "image/png": "[encoded data removed]",
      "text/plain": [
       "<Figure size 432x288 with 1 Axes>"
      ]
     },
     "metadata": {},
     "output_type": "display_data"
    }
   ],
   "source": [
    "df['Potability'].value_counts().plot(kind='pie')"
   ]
  },
  {
   "cell_type": "markdown",
   "metadata": {},
   "source": [
    "### Manejo de Datos Desbalanceados: Remuestreo\n",
    "\n",
    "Utilizaremos la función `resample` de SciKit-Learn para remuestrear algunas muestras entre la clase '1'."
   ]
  },
  {
   "cell_type": "code",
   "execution_count": 4,
   "metadata": {},
   "outputs": [],
   "source": [
    "from sklearn.utils import resample\n",
    "from sklearn.utils import shuffle\n",
    "\n",
    "zero  = df[df['Potability']==0]   # clase 0\n",
    "one = df[df['Potability']==1]  # clase 1\n",
    "\n",
    "df_minority_upsampled = resample(one, replace = True, n_samples = 1200)\n",
    "df = pd.concat([zero, df_minority_upsampled])\n",
    "\n",
    "df = shuffle(df) # shuffling so that there is particular sequence"
   ]
  },
  {
   "cell_type": "code",
   "execution_count": 5,
   "metadata": {},
   "outputs": [
    {
     "data": {
      "text/plain": [
       "<AxesSubplot:ylabel='Potability'>"
      ]
     },
     "execution_count": 5,
     "metadata": {},
     "output_type": "execute_result"
    },
    {
     "data": {
      "image/png": "[encoded data removed]",
      "text/plain": [
       "<Figure size 432x288 with 1 Axes>"
      ]
     },
     "metadata": {},
     "output_type": "display_data"
    }
   ],
   "source": [
    "df['Potability'].value_counts().plot(kind='pie')"
   ]
  },
  {
   "cell_type": "code",
   "execution_count": 6,
   "metadata": {},
   "outputs": [],
   "source": [
    "X = df.drop(['Potability'], axis = 1)\n",
    "y = df['Potability']"
   ]
  },
  {
   "cell_type": "markdown",
   "metadata": {},
   "source": [
    "## Parte 1: Prueba de Modelos y GridSearch/RandomizedSearch\n",
    "\n",
    "A continuación, realizaremos un procedimiento de búsqueda del mejor modelo y sus correspondientes hiperparámetros. Estos procedimientos se conocen como GridSearch/RandomizedSearch. Puede encontrar más información en los siguientes enlaces:\n",
    "\n",
    "- [GridSearch SciKit-Learn](https://scikit-learn.org/stable/modules/generated/sklearn.model_selection.GridSearchCV.html)\n",
    "- [RandomizedSearch SciKit-Learn](https://scikit-learn.org/stable/modules/generated/sklearn.model_selection.RandomizedSearchCV.html)\n",
    "- [GridSearchCV](https://www.mygreatlearning.com/blog/gridsearchcv/)\n",
    "- [Medium Article: GridSearch & RandomizedSearch](https://towardsdatascience.com/machine-learning-gridsearchcv-randomizedsearchcv-d36b89231b10)"
   ]
  },
  {
   "cell_type": "code",
   "execution_count": 7,
   "metadata": {},
   "outputs": [],
   "source": [
    "from sklearn.linear_model import LogisticRegression\n",
    "from sklearn.tree import DecisionTreeClassifier\n",
    "from sklearn.metrics import accuracy_score\n",
    "from sklearn.neural_network import MLPClassifier\n",
    "from sklearn.ensemble import RandomForestClassifier\n",
    "from sklearn.linear_model import LogisticRegression\n",
    "from sklearn.neighbors import KNeighborsClassifier\n",
    "from sklearn.ensemble import AdaBoostClassifier\n",
    "from sklearn.ensemble import BaggingClassifier\n",
    "from xgboost import XGBClassifier\n",
    "\n",
    "from sklearn.model_selection import train_test_split\n",
    "from sklearn.model_selection import RandomizedSearchCV, GridSearchCV"
   ]
  },
  {
   "cell_type": "markdown",
   "metadata": {},
   "source": [
    "Partición de datos de prueba/entrenamiento."
   ]
  },
  {
   "cell_type": "code",
   "execution_count": 8,
   "metadata": {},
   "outputs": [],
   "source": [
    "from sklearn.model_selection import train_test_split\n",
    "\n",
    "X_train, X_test, y_train, y_test = train_test_split(X, y, test_size=0.2, random_state=42) # Utilice la función train_test_split #"
   ]
  },
  {
   "cell_type": "markdown",
   "metadata": {},
   "source": [
    "## Parte 1A\n",
    "\n",
    "### Definición de Parámetros de GridSearch/RandomizedSearch\n",
    "\n",
    "Basado en la documentación de las funciones, defina los siguientes parámetros para los casos:\n",
    "\n",
    "- GridSearch:\n",
    "    - Árbol de Decisión (GridSearch):\n",
    "        - 'criterion': 'gini' y 'entropy'\n",
    "        - 'max_depth': vector de valores enteros entre 1 y 50\n",
    "        - 'min_samples_leaf': 10 valores seleccionados por usted entre 1 y 100\n",
    "    \n",
    "    - Random Forest (GridSearch):\n",
    "        - 'n_estimators': 4 valores seleccionados por usted entre 100 y 500\n",
    "        - 'min_samples_leaf': 3 valores seleccionados por usted entre 2 y 30\n",
    "        \n",
    "    - AdaBoost (GridSearch):\n",
    "        - 'n_estimators': 6 valores seleccionados por usted entre 50 y 600\n",
    "        - 'learning_rate': 5 valores de tasas de aprendizaje entre 0 y 1\n",
    "        \n",
    "    - XGBoost (RandomizedSearch):\n",
    "        - 'n_estimators': 8 valores seleccionados por usted entre 50 y 600\n",
    "        - 'learning_rate': 5 valores de tasas de aprendizaje entre 0 y 1\n",
    "    "
   ]
  },
  {
   "cell_type": "code",
   "execution_count": 9,
   "metadata": {
    "scrolled": true
   },
   "outputs": [],
   "source": [
    "# Búsqueda de Hiperparámetros\n",
    "\n",
    "lr = LogisticRegression(random_state=42)\n",
    "\n",
    "dt = DecisionTreeClassifier()\n",
    "\n",
    "rf = RandomForestClassifier()\n",
    "\n",
    "ada = AdaBoostClassifier()\n",
    "\n",
    "xgb = XGBClassifier(eval_metric = 'logloss', use_label_encoder=False)\n",
    "\n",
    "# Árbol de Decisión\n",
    "para_dt = {'criterion': [\"gini\", \"entropy\"], 'max_depth': np.arange(1, 51), 'min_samples_leaf': [1, 45, 65, 8, 23, 89, 95, 32, 3, 12]} # Diccionario con parámetros GridSearch/RandomizedSearch # }\n",
    "grid_dt = GridSearchCV(dt, param_grid=para_dt, cv=5)\n",
    "\n",
    "# Random Forest\n",
    "#n_estimators: número de árboles en el bosque.\n",
    "params_rf = {'n_estimators': [394, 420, 210, 169], 'min_samples_leaf': [3, 20, 11]} # Diccionario con parámetros GridSearch/RandomizedSearch # }\n",
    "grid_rf = GridSearchCV(rf, param_grid=params_rf, cv=5)\n",
    "\n",
    "# AdaBoost\n",
    "params_ada = {'n_estimators': [69, 420, 599, 170, 127, 116], 'learning_rate': [0.2, 0.42, 0.69, 0.08, 0.12]} # Diccionario con parámetros GridSearch/RandomizedSearch # }\n",
    "grid_ada =  GridSearchCV(ada, param_grid=params_ada, cv=5)\n",
    "\n",
    "# XGBoost\n",
    "params_xgb = {'n_estimators': [99, 57, 355, 367, 595, 271, 193, 469], 'learning_rate': [0.47, 0.10, 0.07, 0.88, 0.61]} # Diccionario con parámetros GridSearch/RandomizedSearch # }\n",
    "rs_xgb =  RandomizedSearchCV(xgb, param_distributions=params_xgb, cv=5)"
   ]
  },
  {
   "cell_type": "markdown",
   "metadata": {},
   "source": [
    "### Búsqueda de Hiperparámetros\n",
    "\n",
    "A continuación se debe realizar el proceso de GridSearch. Esta operación puede tardar."
   ]
  },
  {
   "cell_type": "code",
   "execution_count": 10,
   "metadata": {},
   "outputs": [
    {
     "data": {
      "text/plain": [
       "RandomizedSearchCV(cv=5,\n",
       "                   estimator=XGBClassifier(base_score=None, booster=None,\n",
       "                                           colsample_bylevel=None,\n",
       "                                           colsample_bynode=None,\n",
       "                                           colsample_bytree=None,\n",
       "                                           enable_categorical=False,\n",
       "                                           eval_metric='logloss', gamma=None,\n",
       "                                           gpu_id=None, importance_type=None,\n",
       "                                           interaction_constraints=None,\n",
       "                                           learning_rate=None,\n",
       "                                           max_delta_step=None, max_depth=None,\n",
       "                                           min_child_weight=None, missing=nan,\n",
       "                                           monotone_constraints=None,\n",
       "                                           n_estimators=100, n_jobs=None,\n",
       "                                           num_parallel_tree=None,\n",
       "                                           predictor=None, random_state=None,\n",
       "                                           reg_alpha=None, reg_lambda=None,\n",
       "                                           scale_pos_weight=None,\n",
       "                                           subsample=None, tree_method=None,\n",
       "                                           use_label_encoder=False,\n",
       "                                           validate_parameters=None,\n",
       "                                           verbosity=None),\n",
       "                   param_distributions={'learning_rate': [0.47, 0.1, 0.07, 0.88,\n",
       "                                                          0.61],\n",
       "                                        'n_estimators': [99, 57, 355, 367, 595,\n",
       "                                                         271, 193, 469]})"
      ]
     },
     "execution_count": 10,
     "metadata": {},
     "output_type": "execute_result"
    }
   ],
   "source": [
    "grid_dt.fit(X_train, y_train)\n",
    "grid_rf.fit(X_train, y_train)\n",
    "grid_ada.fit(X_train, y_train)\n",
    "rs_xgb.fit(X_train, y_train)"
   ]
  },
  {
   "cell_type": "code",
   "execution_count": 11,
   "metadata": {},
   "outputs": [
    {
     "name": "stdout",
     "output_type": "stream",
     "text": [
      "Mejores parámetros Árbol de Decisión: {'criterion': 'gini', 'max_depth': 29, 'min_samples_leaf': 1}\n",
      "Mejores parámetros Random Forest: {'min_samples_leaf': 3, 'n_estimators': 394}\n",
      "Mejores parámetros AdaBoost: {'learning_rate': 0.69, 'n_estimators': 599}\n",
      "Mejores parámetros XGBoost: {'n_estimators': 469, 'learning_rate': 0.47}\n"
     ]
    }
   ],
   "source": [
    "print(\"Mejores parámetros Árbol de Decisión:\", grid_dt.best_params_)\n",
    "print(\"Mejores parámetros Random Forest:\", grid_rf.best_params_)\n",
    "print(\"Mejores parámetros AdaBoost:\", grid_ada.best_params_)\n",
    "print(\"Mejores parámetros XGBoost:\", rs_xgb.best_params_)"
   ]
  },
  {
   "cell_type": "code",
   "execution_count": 12,
   "metadata": {},
   "outputs": [
    {
     "data": {
      "text/plain": [
       "{'criterion': 'gini', 'max_depth': 29, 'min_samples_leaf': 1}"
      ]
     },
     "execution_count": 12,
     "metadata": {},
     "output_type": "execute_result"
    }
   ],
   "source": [
    "grid_dt.best_params_"
   ]
  },
  {
   "cell_type": "markdown",
   "metadata": {},
   "source": [
    "## Parte 1B\n",
    "\n",
    "### Boosting & Bagging\n",
    "\n",
    "Para este caso utilice 100 clasificadores de Árbol de Decisión con los mejores parámetros obtenidos a partir del GridSearch realizado anteriormente."
   ]
  },
  {
   "cell_type": "code",
   "execution_count": 13,
   "metadata": {},
   "outputs": [
    {
     "data": {
      "text/plain": [
       "BaggingClassifier(base_estimator=DecisionTreeClassifier(criterion='entropy',\n",
       "                                                        max_depth=36),\n",
       "                  n_estimators=100)"
      ]
     },
     "execution_count": 13,
     "metadata": {},
     "output_type": "execute_result"
    }
   ],
   "source": [
    "dt2 = DecisionTreeClassifier(criterion='entropy', max_depth=36, min_samples_leaf=1)\n",
    "\n",
    "# Boosting & Bagging\n",
    "bagging = BaggingClassifier(base_estimator=dt2, n_estimators=100)\n",
    "bagging.fit(X_train, y_train)"
   ]
  },
  {
   "cell_type": "markdown",
   "metadata": {},
   "source": [
    "### Métricas de Evaluación\n",
    "\n",
    "A continuación podrá observar un resumen con las precisiones de cada modelo y posteriormente su representación gráfica."
   ]
  },
  {
   "cell_type": "code",
   "execution_count": 14,
   "metadata": {},
   "outputs": [],
   "source": [
    "classifiers = [('Regresión Logística', lr),\n",
    "               ('Árbol de Decisión', dt), ('Random Forest', rf), ('AdaBoost', ada),\n",
    "               ('Bagging', bagging), ('XGBoost', xgb)]"
   ]
  },
  {
   "cell_type": "code",
   "execution_count": 15,
   "metadata": {},
   "outputs": [
    {
     "name": "stdout",
     "output_type": "stream",
     "text": [
      "Regresión Logística : 0.54\n",
      "Árbol de Decisión : 0.75\n",
      "Random Forest : 0.82\n",
      "AdaBoost : 0.62\n",
      "Bagging : 0.84\n",
      "XGBoost : 0.80\n"
     ]
    }
   ],
   "source": [
    "from sklearn.metrics import accuracy_score\n",
    "\n",
    "classifier_names = []\n",
    "classifier_acc = []\n",
    "for classifier_name, classifier in classifiers:\n",
    " \n",
    "    # Ajuste para datos de entrenamiento\n",
    "    classifier.fit(X_train, y_train)    \n",
    "\n",
    "    # Predicciones\n",
    "    y_pred = classifier.predict(X_test)\n",
    "    accuracy = accuracy_score(y_test,y_pred)\n",
    "\n",
    "    # Evaluación del clasificador\n",
    "    print('{:s} : {:.2f}'.format(classifier_name, accuracy))\n",
    "    classifier_names.append(classifier_name)\n",
    "    classifier_acc.append(accuracy)"
   ]
  },
  {
   "cell_type": "markdown",
   "metadata": {},
   "source": [
    "# Resultados Preliminares"
   ]
  },
  {
   "cell_type": "code",
   "execution_count": 16,
   "metadata": {},
   "outputs": [
    {
     "data": {
      "text/plain": [
       "<BarContainer object of 6 artists>"
      ]
     },
     "execution_count": 16,
     "metadata": {},
     "output_type": "execute_result"
    },
    {
     "data": {
      "image/png": "[encoded data removed]",
      "text/plain": [
       "<Figure size 1080x360 with 1 Axes>"
      ]
     },
     "metadata": {
      "needs_background": "light"
     },
     "output_type": "display_data"
    }
   ],
   "source": [
    "plt.figure(figsize=(15,5))\n",
    "plt.bar(classifier_names, classifier_acc, width=0.3)"
   ]
  },
  {
   "cell_type": "markdown",
   "metadata": {},
   "source": [
    "## Parte 2\n",
    "\n",
    "### Análisis de Resultados\n",
    "\n",
    "Ahora usted utilizará la función `classication_report` para determinar qué clasificador se ajusta más a los resultados buscados, teniendo en cuenta el contexto del problema y la simplicidad de cada modelo.\n",
    "\n",
    "### Random Forest"
   ]
  },
  {
   "cell_type": "code",
   "execution_count": 17,
   "metadata": {},
   "outputs": [
    {
     "name": "stdout",
     "output_type": "stream",
     "text": [
      "              precision    recall  f1-score   support\n",
      "\n",
      "           0       0.80      0.84      0.82       234\n",
      "           1       0.84      0.80      0.82       246\n",
      "\n",
      "    accuracy                           0.82       480\n",
      "   macro avg       0.82      0.82      0.82       480\n",
      "weighted avg       0.82      0.82      0.82       480\n",
      "\n"
     ]
    }
   ],
   "source": [
    "from sklearn.metrics import classification_report\n",
    "\n",
    "y_pred_rf= rf.predict(X_test)\n",
    "print(classification_report(y_test, y_pred_rf))"
   ]
  },
  {
   "cell_type": "markdown",
   "metadata": {},
   "source": [
    "### Árbol de Decisión"
   ]
  },
  {
   "cell_type": "code",
   "execution_count": 18,
   "metadata": {},
   "outputs": [
    {
     "name": "stdout",
     "output_type": "stream",
     "text": [
      "              precision    recall  f1-score   support\n",
      "\n",
      "           0       0.77      0.68      0.72       234\n",
      "           1       0.72      0.81      0.77       246\n",
      "\n",
      "    accuracy                           0.75       480\n",
      "   macro avg       0.75      0.74      0.74       480\n",
      "weighted avg       0.75      0.75      0.74       480\n",
      "\n"
     ]
    }
   ],
   "source": [
    "y_pred_dt = dt.predict(X_test)\n",
    "print(classification_report(y_test, y_pred_dt))"
   ]
  },
  {
   "cell_type": "markdown",
   "metadata": {},
   "source": [
    "### XGBoost"
   ]
  },
  {
   "cell_type": "code",
   "execution_count": 19,
   "metadata": {},
   "outputs": [
    {
     "name": "stdout",
     "output_type": "stream",
     "text": [
      "              precision    recall  f1-score   support\n",
      "\n",
      "           0       0.82      0.76      0.79       234\n",
      "           1       0.79      0.84      0.81       246\n",
      "\n",
      "    accuracy                           0.80       480\n",
      "   macro avg       0.80      0.80      0.80       480\n",
      "weighted avg       0.80      0.80      0.80       480\n",
      "\n"
     ]
    }
   ],
   "source": [
    "y_pred_xgb = xgb.predict(X_test)\n",
    "print(classification_report(y_test, y_pred_xgb))"
   ]
  },
  {
   "cell_type": "markdown",
   "metadata": {},
   "source": [
    "### Bagging de Árboles de Decisión"
   ]
  },
  {
   "cell_type": "code",
   "execution_count": 20,
   "metadata": {},
   "outputs": [
    {
     "name": "stdout",
     "output_type": "stream",
     "text": [
      "              precision    recall  f1-score   support\n",
      "\n",
      "           0       0.84      0.83      0.84       234\n",
      "           1       0.84      0.85      0.84       246\n",
      "\n",
      "    accuracy                           0.84       480\n",
      "   macro avg       0.84      0.84      0.84       480\n",
      "weighted avg       0.84      0.84      0.84       480\n",
      "\n"
     ]
    }
   ],
   "source": [
    "y_pred_bagging = bagging.predict(X_test)\n",
    "print(classification_report(y_test, y_pred_bagging))"
   ]
  },
  {
   "cell_type": "markdown",
   "metadata": {},
   "source": [
    "## Conclusiones\n",
    "\n",
    "- Es claro que entre todos los modelos, el modelo de árbol de decisión es el modelo menos complejo, y esto se ve reflejado en su accuracy score, que fue el más bajo para todos los modelos probados. \n",
    "- Se encontró que el calsificador de bagging de árboles de decisión tuvo un accuracy score de 0.84, mientras que el clasificador de Random Forest tuvo un accuracy score de 0.82. Tiene sentido que el accuracy score del calsificador de bagging haya sido más alto porque hacer bagging de árboles de decisión tiene en cuenta todas las características de las clases para la clasificación, mientras que el Random Forest solo tiene en cuenta un subconjunto de las características, por lo que el bagging es un modelo más complejo.\n",
    "- XGBoost está basado en árboles de decisión y utiliza una técnica llamada gradient boosting para hacer la clasificación. Se puede decir que este clasificador obtuvo un accuracy score menor en comparación con el Random Forest o el Bagging de árboles de decisión por el hecho de que el clasificador se construyó usando RandomizedSearch, que no tiene en cuenta todos los hiperparámetros para encontrar los óptimos, a diferencia del método de GridSearch, que sí busca entre todos los hiperparámetros para encontrar los óptimos.\n",
    "- En GridSearch se prueban todas las posibles combinaciones de los parámetros de interés para así encontrar los mejores. Mientras tanto, en RandomizedSearch se utilizan solo algunos de ellso. Este último es muy útil cuando se tiene un número muy grande de parámetros y el tiempo de entrenamiento es bastante alto. Sin embargo, cuando este no es el caso, siempre es mejor utilizar GridSearch.\n",
    "- En el contexto del problema, hay un costo mayor de tener falsos positivos dado a que si se identifica un agua como potable cuando en verdad no lo es y se utiliza para propósitos de alimentación o salubridad, puede ser muy peligroso para la salud de las personas. Por lo tanto, nos interesa escoger un clasificador que incurra en un menor porcentaje de falsos positivos. Para esto, se priorizará el clasificador cuya medida de precisión sea la más alta, pues entre mayor sea esta medida de efectividad de búsqueda, indica que hay menor tasa de falsos positivos. Teniendo lo anterior en cuenta, se escoge como mejor clasificador el clasificador de **bagging de árboles de decisión**, pues además de haber arrojado el mayor valor de accuracy score entre los clasificadores probados, también tuvo el promedio de precisión más alto de todos, demostrando su baja tasa de falsos positivos.\n",
    "- Una desventaja de escoger el clasificador de **bagging de árboles de decisión** es que, al ser el modelo más complejo, tiene el costo computacional más alto asociado. Por esta razón se utilizan los otros métodos que son más simples pero que pueden llegar a sacrificar precisión y exactitud en la clasificación."
   ]
  }
 ],
 "metadata": {
  "interpreter": {
   "hash": "589b85e89a6335d0b08d77c78c1928c4f41a1a43a63e50b0e56ffdda28f0c24f"
  },
  "kernelspec": {
   "display_name": "Python 3.8.8 64-bit ('base': conda)",
   "name": "python3"
  },
  "language_info": {
   "codemirror_mode": {
    "name": "ipython",
    "version": 3
   },
   "file_extension": ".py",
   "mimetype": "text/x-python",
   "name": "python",
   "nbconvert_exporter": "python",
   "pygments_lexer": "ipython3",
   "version": "3.8.8"
  }
 },
 "nbformat": 4,
 "nbformat_minor": 4
}
