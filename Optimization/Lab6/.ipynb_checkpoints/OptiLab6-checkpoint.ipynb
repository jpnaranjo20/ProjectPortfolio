{
 "cells": [
  {
   "cell_type": "markdown",
   "metadata": {
    "colab_type": "text",
    "id": "wn64JnrroqLx"
   },
   "source": [
    "## Optimización - Laboratorio 6"
   ]
  },
  {
   "cell_type": "markdown",
   "metadata": {},
   "source": [
    "### Isabella Salgado 201730418\n",
    "### Juan Pablo Naranjo 201730006"
   ]
  },
  {
   "cell_type": "markdown",
   "metadata": {
    "colab_type": "text",
    "id": "kmx0iHc8_q2M"
   },
   "source": [
    "Se importan las librerías relevantes para el laboratorio"
   ]
  },
  {
   "cell_type": "code",
   "execution_count": 1,
   "metadata": {
    "colab": {},
    "colab_type": "code",
    "id": "yGRDmlLN791i"
   },
   "outputs": [],
   "source": [
    "import numpy as np\n",
    "import sympy\n",
    "from sympy import *\n",
    "import itertools\n",
    "from itertools import combinations\n",
    "import scipy as sp\n",
    "from scipy.optimize import linprog\n",
    "import warnings"
   ]
  },
  {
   "cell_type": "markdown",
   "metadata": {},
   "source": [
    "# Punto 1"
   ]
  },
  {
   "cell_type": "markdown",
   "metadata": {},
   "source": [
    "## a)"
   ]
  },
  {
   "cell_type": "markdown",
   "metadata": {},
   "source": [
    "| Planta  |  |  Costo/Producto|   | Total |\n",
    "|:-:|:-----------:|:-----:|:-----:|:-----:|\n",
    "|   |      1      |   2   |   3   |-      |\n",
    "| 1 |    \\$30     | \\$45  | \\$38  | \\$113 |\n",
    "| 2 |    \\$29     | \\$41  | \\$35  | \\$105 |\n",
    "| 3 |    \\$32     | \\$46  | \\$40  | \\$118 |\n",
    "| 4 |    \\$28     | \\$42  | No    | \\$70  |\n",
    "| 5 |    \\$29     | \\$43  | No    | \\$72  |"
   ]
  },
  {
   "cell_type": "markdown",
   "metadata": {},
   "source": []
  },
  {
   "cell_type": "markdown",
   "metadata": {},
   "source": [
    "## b)"
   ]
  },
  {
   "cell_type": "markdown",
   "metadata": {},
   "source": [
    "El problema matemático a resolver es un problema de flujo con mínimo costo. Específciamente, es un problema de transporte. Las variables de decisión de este problema son las cantidades de productos nuevos que se van a producir. \n",
    "\n",
    "En este sentido, se usará la nomenclatura $x_{ij}$ para representar el producto $j$, producido en la planta $i$. Los productos $x_{ij}$ son las variables de decisión del problema de optimización.\n",
    "\n",
    "Al ser un problema de flujo con mínimo costo, la función objetivo del problema de optimización es una función que relaciona los costos de transportar los productos $x_{ij}$ por cada arco de la red. Los costos asociados a cada arco están relacionados en la tabla del apartado *a)*. Entonces, la función objetivo está dada por la siguiente expresión:\n",
    "\n",
    "$$f(x) = 30x_{16} + 29x_{26} + 32x_{36} + 28x_{43} + 29x_{56} + 45x_{17} + 41x_{27} + 46x_{37} + 42x_{47} + 43x_{57} + 38x_{18} + 35x_{28} + 40x_{38}$$\n",
    "\n",
    "Es importante mencionar que los productos 1, 2 y 3 se representaron en el problema con los números 6, 7 y 8, respectivamente, tal como se muestra en la representación gráfica adjunta a este cuaderno (véase el archivo titulado \"grafoP1.png\").\n",
    "\n",
    "Las restricciones asociadas a este problema tienen indican que la diferencia entre la cantidad de flujo que sale de un nodo $i$ y la cantidad de flujo que entra al nodo $i$, tiene que ser igual a una cantidad $b_i$. Esta cantidad es un suministro si $b_i > 0$ o un requerimiento si $b_i < 0 $. En el caso de este problema, estos $b_i$ representan las capacidades de producción de cada planta (suministros) y la producción diaria de los productos (requerimientos). Adicionalmente, se tiene como restricción que el problema sea balanceado. Es decir, que la sumatoria de los requerimientos y de los suministros sean igual a cero. Esta condicicón se cumple para este problema, pues $\\sum_{i=1}^{8}b_i = 0$.\n",
    "\n",
    "Tomando en cuenta lo presentado anteriormente y la representación gráfica del problema, se plantean las siguientes restricciones:\n",
    "\n",
    "Plantas \\\n",
    "$x_{16} + x_{17} + x_{18} = 400$ \\\n",
    "$x_{26} + x_{27} + x_{28} = 600$ \\\n",
    "$x_{36} + x_{37} + x_{38} = 400$ \\\n",
    "$x_{46} + x_{47} + x_{48} = 600$ \\\n",
    "$x_{56} + x_{57} + x_{58} = 1000$ \n",
    "\n",
    "Productos \\\n",
    "$- (x_{16} + x_{26} + x_{36} + x_{46} + x_{56}) = -1400$ \\\n",
    "$- (x_{17} + x_{27} + x_{37} + x_{47} + x_{57}) = -1000$ \\\n",
    "$- (x_{18} + x_{28} + x_{38} + x_{48} + x_{58}) = -600$ \n",
    "\n",
    "Problema balanceado \\\n",
    "$b_1 = 400$ \\\n",
    "$b_2 = 600$ \\\n",
    "$b_3 = 400$ \\\n",
    "$b_4 = 600$ \\\n",
    "$b_5 = 1000$ \\\n",
    "$b_6 = -1400$ \\\n",
    "$b_7 = -1000$ \\\n",
    "$b_8 = -600$\n",
    "\n",
    "$\\sum_{i=1}^{8}b_i = 0$\n",
    "\n",
    "Finalmente, el planteamiento del problema de optimización es el siguiente: \n",
    "\n",
    "max $f(x) = 30x_{16} + 29x_{26} + 32x_{36} + 28x_{43} + 29x_{56} + 45x_{17} + 41x_{27} + 46x_{37} + 42x_{47} + 43x_{57} + 38x_{18} + 35x_{28} + 40x_{38}$ \\\n",
    "s.a.\n",
    "\n",
    "$x_{16} + x_{17} + x_{18} = 400$ \\\n",
    "$x_{26} + x_{27} + x_{28} = 600$ \\\n",
    "$x_{36} + x_{37} + x_{38} = 400$ \\\n",
    "$x_{46} + x_{47} + x_{48} = 600$ \\\n",
    "$x_{56} + x_{57} + x_{58} = 1000$ \\\n",
    "$- (x_{16} + x_{26} + x_{36} + x_{46} + x_{56}) = -1400$ \\\n",
    "$- (x_{17} + x_{27} + x_{37} + x_{47} + x_{57}) = -1000$ \\\n",
    "$- (x_{18} + x_{28} + x_{38} + x_{48} + x_{58}) = -600$ \n"
   ]
  },
  {
   "cell_type": "markdown",
   "metadata": {},
   "source": [
    "## c)"
   ]
  },
  {
   "cell_type": "code",
   "execution_count": null,
   "metadata": {},
   "outputs": [],
   "source": []
  },
  {
   "cell_type": "markdown",
   "metadata": {},
   "source": [
    "## d)"
   ]
  },
  {
   "cell_type": "code",
   "execution_count": null,
   "metadata": {},
   "outputs": [],
   "source": []
  },
  {
   "cell_type": "markdown",
   "metadata": {},
   "source": [
    "# Punto 2"
   ]
  },
  {
   "cell_type": "markdown",
   "metadata": {},
   "source": [
    "## a)"
   ]
  },
  {
   "cell_type": "markdown",
   "metadata": {},
   "source": [
    "Este es un problema de máximo flujo en redes. Se pretende hallar la cantidad máxima de personas que pueden ser evacuadas del edificio en un tiempo determinado. Se realizó un grafo que representa de forma gráfica este problema. Dicho grafo se puede encontrar en la iamgen adjunta titulada \"grafoP2.png\"."
   ]
  },
  {
   "cell_type": "markdown",
   "metadata": {},
   "source": [
    "## b) Planteamiento matemático del problema"
   ]
  },
  {
   "cell_type": "markdown",
   "metadata": {},
   "source": [
    "A continuación se muestra el planeteamiento del problema para maximizar el número máximo de personas que se pueden evacuar del edificio en 1 minuto. A continuación se encuentran detalladas las capacidades máximas de personas de cada salón (nodo) del edificio:\n",
    "\n",
    "1. Salón A: 20 personas \n",
    "\n",
    "2. Salón B: 25 personas\n",
    "\n",
    "3. Salón C: 50 personas\n",
    "\n",
    "4. Salón D: 30 personas\n",
    "\n",
    "5. Salón E: 20 personas\n",
    "\n",
    "6. Hall F: 80 personas\n",
    "\n",
    "Adicionalmente, se creó un nodo fuente llamado *s* que inserta personas a los salones, y un nodo sumidero que sirve como el punto de encuentro de evacuación al que llegan todas las personas después de salir del edificio. Este nodo se llamó *t*. Para una mejor organización del problema, se le asignó un número a cada nodo, y se definió que el flujo que hay entre dos nodos $i$ y $j$ es $x_{ij}$. Estos flujos son las variables de decisión del problema de optimización.\n",
    "\n",
    "El problema de máximo flujo pretende maximizar el flujo de la red. Esto quiere decir que se pretende o maximizar la cantidad de flujo que sale del nodo fuente o la cantidad de flujo que entra al nodo sumidero. Siguiendo la nomenclatura descrita anteriormente y que se puede apreciar en la imagen \"grafoP2b.png\", se plantea el problema como sigue:\n",
    "\n",
    "Al lado de cada restricción se anota en paréntesis el número del nodo al que pertenece dicha restricción.\n",
    "\n",
    "max $f(x) = x_{14} + x_{13} + x_{17} + x_{12} + x_{15} + x_{16} $ s.a.\n",
    "\n",
    "$x_{14} + x_{13} + x_{17} + x_{12} + x_{15} + x_{16} - (x_{48} + x_{78} + x_{17} + x_{68}) = 0$ *(Lo que sale del nodo fuente menos lo que entra al sumidero = 0)* \\\n",
    "$x_{27} - x_{12} = 0$ *(2)*\\\n",
    "$x_{37} - x_{13} = 0$ *(3)*\\\n",
    "$x_{48} + x_{47} - (x_{14} + x_{74}) = 0$ *(4)*\\\n",
    "$x_{57} - x_{15} = 0$ *(5)*\\\n",
    "$x_{68} + x_{67} - (x_{16} + x_{76}) = 0$ *(6)* \\\n",
    "$(x_{78} + x_{74} + x_{76}) - (x_{47} + x_{67} + x_{37} + x_{17} + x_{27} + x_{57} + x_{67}) = 0$ *(7)*\\\n",
    "$0 \\leq x_{14} \\leq 50$ \\\n",
    "$0 \\leq x_{13} \\leq 25$ \\\n",
    "$0 \\leq x_{17} \\leq 80$ \\\n",
    "$0 \\leq x_{12} \\leq 20$ \\\n",
    "$0 \\leq x_{15} \\leq 30$ \\\n",
    "$0 \\leq x_{16} \\leq 20$ \\\n",
    "$0 \\leq x_{48} \\leq 15$ \\\n",
    "$0 \\leq x_{78} \\leq 75$ \\\n",
    "$0 \\leq x_{68} \\leq 15$ \\\n",
    "$0 \\leq x_{37} \\leq 50$ \\\n",
    "$0 \\leq x_{27} \\leq 50$ \\\n",
    "$0 \\leq x_{57} \\leq 50$ \\\n",
    "$0 \\leq x_{47} \\leq 50$ \\\n",
    "$0 \\leq x_{67} \\leq 15$"
   ]
  },
  {
   "cell_type": "markdown",
   "metadata": {},
   "source": [
    "## c)"
   ]
  },
  {
   "cell_type": "markdown",
   "metadata": {},
   "source": [
    "A continuación se muestra el planeteamiento del problema para maximizar el número máximo de personas que se pueden evacuar del edificio en 2 minuto. Las capacidades máximas de personas de cada salón (nodo) del edificio son las mismas:\n",
    "\n",
    "1. Salón A: 20 personas \n",
    "\n",
    "2. Salón B: 25 personas\n",
    "\n",
    "3. Salón C: 50 personas\n",
    "\n",
    "4. Salón D: 30 personas\n",
    "\n",
    "5. Salón E: 20 personas\n",
    "\n",
    "6. Hall F: 80 personas\n",
    "\n",
    "El grafo para este problema se peude encontrar en la imagen \"grafoP2c.png\". El planteamiento se presenta a continuación:\n",
    "\n",
    "Al lado de cada restricción se anota en paréntesis el número del nodo al que pertenece dicha restricción.\n",
    "\n",
    "max $f(x) = x_{14} + x_{13} + x_{17} + x_{12} + x_{15} + x_{16} $ s.a.\n",
    "\n",
    "$x_{14} + x_{13} + x_{17} + x_{12} + x_{15} + x_{16} - (x_{48} + x_{78} + x_{17} + x_{68}) = 0$ *(Lo que sale del nodo fuente menos lo que entra al sumidero = 0)* \\\n",
    "$x_{27} - x_{12} = 0$ *(2)*\\\n",
    "$x_{37} - x_{13} = 0$ *(3)*\\\n",
    "$x_{48} + x_{47} - (x_{14} + x_{74}) = 0$ *(4)*\\\n",
    "$x_{57} - x_{15} = 0$ *(5)*\\\n",
    "$x_{68} + x_{67} - (x_{16} + x_{76}) = 0$ *(6)* \\\n",
    "$(x_{78} + x_{74} + x_{76}) - (x_{47} + x_{67} + x_{37} + x_{17} + x_{27} + x_{57} + x_{67}) = 0$ *(7)*\\\n",
    "$0 \\leq x_{14} \\leq 50$ \\\n",
    "$0 \\leq x_{13} \\leq 25$ \\\n",
    "$0 \\leq x_{17} \\leq 80$ \\\n",
    "$0 \\leq x_{12} \\leq 20$ \\\n",
    "$0 \\leq x_{15} \\leq 30$ \\\n",
    "$0 \\leq x_{16} \\leq 20$ \\\n",
    "$0 \\leq x_{48} \\leq 30$ \\\n",
    "$0 \\leq x_{78} \\leq 150$ \\\n",
    "$0 \\leq x_{68} \\leq 30$ \\\n",
    "$0 \\leq x_{37} \\leq 100$ \\\n",
    "$0 \\leq x_{27} \\leq 100$ \\\n",
    "$0 \\leq x_{57} \\leq 100$ \\\n",
    "$0 \\leq x_{47} \\leq 100$ \\\n",
    "$0 \\leq x_{67} \\leq 30$"
   ]
  },
  {
   "cell_type": "markdown",
   "metadata": {
    "colab": {},
    "colab_type": "code",
    "id": "aFcAA7-If4Jd"
   },
   "source": [
    "# Punto 3"
   ]
  },
  {
   "cell_type": "markdown",
   "metadata": {},
   "source": [
    "## a)"
   ]
  },
  {
   "cell_type": "code",
   "execution_count": null,
   "metadata": {},
   "outputs": [],
   "source": []
  },
  {
   "cell_type": "markdown",
   "metadata": {},
   "source": [
    "## b)"
   ]
  },
  {
   "cell_type": "code",
   "execution_count": null,
   "metadata": {},
   "outputs": [],
   "source": []
  },
  {
   "cell_type": "markdown",
   "metadata": {},
   "source": [
    "## c)"
   ]
  },
  {
   "cell_type": "code",
   "execution_count": null,
   "metadata": {},
   "outputs": [],
   "source": []
  }
 ],
 "metadata": {
  "colab": {
   "collapsed_sections": [
    "g8lKbnvQ_jok"
   ],
   "name": "Optimizacion-Lab4-Estudiantes.ipynb",
   "provenance": []
  },
  "kernelspec": {
   "display_name": "Python 3",
   "language": "python",
   "name": "python3"
  },
  "language_info": {
   "codemirror_mode": {
    "name": "ipython",
    "version": 3
   },
   "file_extension": ".py",
   "mimetype": "text/x-python",
   "name": "python",
   "nbconvert_exporter": "python",
   "pygments_lexer": "ipython3",
   "version": "3.8.3"
  },
  "varInspector": {
   "cols": {
    "lenName": 16,
    "lenType": 16,
    "lenVar": 40
   },
   "kernels_config": {
    "python": {
     "delete_cmd_postfix": "",
     "delete_cmd_prefix": "del ",
     "library": "var_list.py",
     "varRefreshCmd": "print(var_dic_list())"
    },
    "r": {
     "delete_cmd_postfix": ") ",
     "delete_cmd_prefix": "rm(",
     "library": "var_list.r",
     "varRefreshCmd": "cat(var_dic_list()) "
    }
   },
   "oldHeight": 534.4,
   "position": {
    "height": "556.4px",
    "left": "1178px",
    "right": "20px",
    "top": "134px",
    "width": "350px"
   },
   "types_to_exclude": [
    "module",
    "function",
    "builtin_function_or_method",
    "instance",
    "_Feature"
   ],
   "varInspector_section_display": "block",
   "window_display": false
  }
 },
 "nbformat": 4,
 "nbformat_minor": 1
}
