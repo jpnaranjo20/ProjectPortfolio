{
 "cells": [
  {
   "cell_type": "markdown",
   "metadata": {
    "colab_type": "text",
    "id": "wn64JnrroqLx"
   },
   "source": [
    "## Optimización - Laboratorio 6"
   ]
  },
  {
   "cell_type": "markdown",
   "metadata": {},
   "source": [
    "### Isabella Salgado 201730418\n",
    "### Juan Pablo Naranjo 201730006"
   ]
  },
  {
   "cell_type": "markdown",
   "metadata": {
    "colab_type": "text",
    "id": "kmx0iHc8_q2M"
   },
   "source": [
    "Se importan las librerías relevantes para el laboratorio"
   ]
  },
  {
   "cell_type": "code",
   "execution_count": 32,
   "metadata": {
    "colab": {},
    "colab_type": "code",
    "id": "yGRDmlLN791i"
   },
   "outputs": [],
   "source": [
    "import numpy as np\n",
    "import sympy\n",
    "from sympy import *\n",
    "import itertools\n",
    "from itertools import combinations\n",
    "import scipy as sp\n",
    "from scipy.optimize import linprog\n",
    "import warnings\n",
    "warnings.filterwarnings('ignore')"
   ]
  },
  {
   "cell_type": "markdown",
   "metadata": {},
   "source": [
    "# Punto 1"
   ]
  },
  {
   "cell_type": "markdown",
   "metadata": {},
   "source": [
    "## a)"
   ]
  },
  {
   "cell_type": "markdown",
   "metadata": {},
   "source": [
    "| Planta  |  |  Costo/Producto|   | \n",
    "|:-:|:-----------:|:-----:|:-----:|\n",
    "|   |      1      |   2   |   3   |\n",
    "| 1 |    \\$30     | \\$45  | \\$38  | \n",
    "| 2 |    \\$29     | \\$41  | \\$35  | \n",
    "| 3 |    \\$32     | \\$46  | \\$40  | \n",
    "| 4 |    \\$28     | \\$42  | No    | \n",
    "| 5 |    \\$29     | \\$43  | No    | "
   ]
  },
  {
   "cell_type": "markdown",
   "metadata": {},
   "source": [
    "Sumatoria capacidades de las plantas = 3000 \n",
    "\n",
    "Sumatoria producciones de los productos = 3000"
   ]
  },
  {
   "cell_type": "markdown",
   "metadata": {},
   "source": [
    "## b)"
   ]
  },
  {
   "cell_type": "markdown",
   "metadata": {},
   "source": [
    "El problema matemático a resolver es un problema de flujo con mínimo costo. Específciamente, es un problema de transporte. Las variables de decisión de este problema son las cantidades de productos nuevos que se van a producir. \n",
    "\n",
    "En este sentido, se usará la nomenclatura $x_{ij}$ para representar el producto $j$, producido en la planta $i$. Los productos $x_{ij}$ son las variables de decisión del problema de optimización.\n",
    "\n",
    "Al ser un problema de flujo con mínimo costo, la función objetivo del problema de optimización es una función que relaciona los costos de transportar los productos $x_{ij}$ por cada arco de la red. Los costos asociados a cada arco están relacionados en la tabla del apartado a). Entonces, la función objetivo está dada por la siguiente expresión:\n",
    "\n",
    "$$f(x) = 30x_{16} + 29x_{26} + 32x_{36} + 28x_{43} + 29x_{56} + 45x_{17} + 41x_{27} + 46x_{37} + 42x_{47} + 43x_{57} + 38x_{18} + 35x_{28} + 40x_{38}$$\n",
    "\n",
    "Es importante mencionar que los productos 1, 2 y 3 se representaron en el problema con los números 6, 7 y 8, respectivamente, tal como se muestra en la representación gráfica adjunta a este cuaderno (véase el archivo titulado \"grafoP1.png\").\n",
    "\n",
    "Las restricciones asociadas a este problema tienen indican que la diferencia entre la cantidad de flujo que sale de un nodo $i$ y la cantidad de flujo que entra al nodo $i$, tiene que ser igual a una cantidad $b_i$. Esta cantidad es un suministro si $b_i > 0$ o un requerimiento si $b_i < 0 $. En el caso de este problema, estos $b_i$ representan las capacidades de producción de cada planta (suministros) y la producción diaria de los productos (requerimientos). Adicionalmente, se tiene como restricción que el problema sea balanceado. Es decir, que la sumatoria de los requerimientos y de los suministros sean igual a cero. Esta condicicón se cumple para este problema, pues $\\sum_{i=1}^{8}b_i = 0$.\n",
    "\n",
    "Tomando en cuenta lo presentado anteriormente y la representación gráfica del problema, se plantean las siguientes restricciones:\n",
    "\n",
    "Plantas \\\n",
    "$x_{16} + x_{17} + x_{18} = 400$ \\\n",
    "$x_{26} + x_{27} + x_{28} = 600$ \\\n",
    "$x_{36} + x_{37} + x_{38} = 400$ \\\n",
    "$x_{46} + x_{47} + x_{48} = 600$ \\\n",
    "$x_{56} + x_{57} + x_{58} = 1000$ \n",
    "\n",
    "Productos \\\n",
    "$- (x_{16} + x_{26} + x_{36} + x_{46} + x_{56}) = -1400$ \\\n",
    "$- (x_{17} + x_{27} + x_{37} + x_{47} + x_{57}) = -1000$ \\\n",
    "$- (x_{18} + x_{28} + x_{38} + x_{48} + x_{58}) = -600$ \n",
    "\n",
    "Problema balanceado \\\n",
    "$b_1 = 400$ \\\n",
    "$b_2 = 600$ \\\n",
    "$b_3 = 400$ \\\n",
    "$b_4 = 600$ \\\n",
    "$b_5 = 1000$ \\\n",
    "$b_6 = -1400$ \\\n",
    "$b_7 = -1000$ \\\n",
    "$b_8 = -600$\n",
    "\n",
    "$\\sum_{i=1}^{8}b_i = 0$\n",
    "\n",
    "Finalmente, el planteamiento del problema de optimización es el siguiente: \n",
    "\n",
    "max $f(x) = 30x_{16} + 29x_{26} + 32x_{36} + 28x_{43} + 29x_{56} + 45x_{17} + 41x_{27} + 46x_{37} + 42x_{47} + 43x_{57} + 38x_{18} + 35x_{28} + 40x_{38}$ \\\n",
    "s.a.\n",
    "\n",
    "$x_{16} + x_{17} + x_{18} = 400$ \\\n",
    "$x_{26} + x_{27} + x_{28} = 600$ \\\n",
    "$x_{36} + x_{37} + x_{38} = 400$ \\\n",
    "$x_{46} + x_{47} + x_{48} = 600$ \\\n",
    "$x_{56} + x_{57} + x_{58} = 1000$ \\\n",
    "$- (x_{16} + x_{26} + x_{36} + x_{46} + x_{56}) = -1400$ \\\n",
    "$- (x_{17} + x_{27} + x_{37} + x_{47} + x_{57}) = -1000$ \\\n",
    "$- (x_{18} + x_{28} + x_{38} + x_{48} + x_{58}) = -600$"
   ]
  },
  {
   "cell_type": "markdown",
   "metadata": {},
   "source": [
    "## d)"
   ]
  },
  {
   "cell_type": "code",
   "execution_count": 30,
   "metadata": {},
   "outputs": [
    {
     "name": "stdout",
     "output_type": "stream",
     "text": [
      "Optimization terminated successfully.\n",
      "         Current function value: 105600.000000\n",
      "         Iterations: 12\n",
      "     con: array([0., 0., 0., 0., 0., 0., 0., 0.])\n",
      "     fun: 105600.0\n",
      " message: 'Optimization terminated successfully.'\n",
      "     nit: 12\n",
      "   slack: array([], dtype=float64)\n",
      "  status: 0\n",
      " success: True\n",
      "       x: array([   0.,    0.,    0.,  400., 1000.,    0.,  400.,  400.,  200.,\n",
      "          0.,  400.,  200.,    0.,    0.,    0.])\n"
     ]
    }
   ],
   "source": [
    "f = np.array([30,29,32,28,29,45,41,46,42,43,38,35,40,0,0])\n",
    "A = np.array([[1,0,0,0,0,1,0,0,0,0,1,0,0,0,0],\n",
    "             [0,1,0,0,0,0,1,0,0,0,0,1,0,0,0],\n",
    "             [0,0,1,0,0,0,0,1,0,0,0,0,1,0,0],\n",
    "             [0,0,0,1,0,0,0,0,1,0,0,0,0,0,0],\n",
    "             [0,0,0,0,1,0,0,0,0,1,0,0,0,0,0],\n",
    "             [-1,-1,-1,-1,-1,0,0,0,0,0,0,0,0,0,0],\n",
    "             [0,0,0,0,0,-1,-1,-1,-1,-1,0,0,0,0,0],\n",
    "             [0,0,0,0,0,0,0,0,0,0,-1,-1,-1,-1,-1]])\n",
    "b = np.array([[400],[600],[400],[600],[1000],[-1400],[-1000],[-600]])\n",
    "\n",
    "bounds = []\n",
    "\n",
    "for i in range(15):\n",
    "    bounds.insert(i,tuple((0,None)))\n",
    "\n",
    "res = linprog(f, A_ub=None, b_ub=None, A_eq = A, b_eq = b, bounds = bounds, method='simplex', options={\"disp\": True})\n",
    "print(res)"
   ]
  },
  {
   "cell_type": "markdown",
   "metadata": {},
   "source": [
    "El costo de fabricación es de 105600. La fabricación por plantas queda de la siguiente forma:\n",
    "- Planta 1: No fabrica productos\n",
    "- Planta 2: 400 unidades del producto 1 y 1000 del producto 2\n",
    "- Planta 3: 400 unidades del producto 1, 400 del producto 2 y 200 del producto 3\n",
    "- Planta 4: 400 unidades del producto 2 y 200 del producto 3\n",
    "- Planta 5: No fabrica productos"
   ]
  },
  {
   "cell_type": "markdown",
   "metadata": {},
   "source": [
    "# Punto 2"
   ]
  },
  {
   "cell_type": "markdown",
   "metadata": {},
   "source": [
    "## b)"
   ]
  },
  {
   "cell_type": "markdown",
   "metadata": {},
   "source": [
    "A continuación se muestra el planeteamiento del problema para maximizar el número máximo de personas que se pueden evacuar del edificio en 1 minuto. A continuación se encuentran detalladas las capacidades máximas de personas de cada salón (nodo) del edificio:\n",
    "\n",
    "1. Salón A: 20 personas \n",
    "\n",
    "2. Salón B: 25 personas\n",
    "\n",
    "3. Salón C: 50 personas\n",
    "\n",
    "4. Salón D: 30 personas\n",
    "\n",
    "5. Salón E: 20 personas\n",
    "\n",
    "6. Hall F: 80 personas\n",
    "\n",
    "Adicionalmente, se creó un nodo fuente llamado s que inserta personas a los salones, y un nodo sumidero que sirve como el punto de encuentro de evacuación al que llegan todas las personas después de salir del edificio. Este nodo se llamó t. Para una mejor organización del problema, se le asignó un número a cada nodo, y se definió que el flujo que hay entre dos nodos $i$ y $j$ es $x_{ij}$. Estos flujos son las variables de decisión del problema de optimización.\n",
    "\n",
    "El problema de máximo flujo pretende maximizar el flujo de la red. Esto quiere decir que se pretende o maximizar la cantidad de flujo que sale del nodo fuente o la cantidad de flujo que entra al nodo sumidero. Siguiendo la nomenclatura descrita anteriormente y que se puede apreciar en la imagen \"grafoP2b.png\", se plantea el problema como sigue:\n",
    "\n",
    "Al lado de cada restricción se anota en paréntesis el número del nodo al que pertenece dicha restricción.\n",
    "\n",
    "max $f(x) = x_{14} + x_{13} + x_{17} + x_{12} + x_{15} + x_{16} $ s.a.\n",
    "\n",
    "$x_{14} + x_{13} + x_{17} + x_{12} + x_{15} + x_{16} - (x_{48} + x_{78} + x_{17} + x_{68}) = 0$ (Lo que sale del nodo fuente menos lo que entra al sumidero = 0) \\\n",
    "$x_{27} - x_{12} = 0$ (2)\\\n",
    "$x_{37} - x_{13} = 0$ (3)\\\n",
    "$x_{48} + x_{47} - (x_{14} + x_{74}) = 0$ (4)\\\n",
    "$x_{57} - x_{15} = 0$ (5)\\\n",
    "$x_{68} + x_{67} - (x_{16} + x_{76}) = 0$ (6) \\\n",
    "$(x_{78} + x_{74} + x_{76}) - (x_{47} + x_{67} + x_{37} + x_{17} + x_{27} + x_{57} + x_{67}) = 0$ (7)\\\n",
    "$x_{47} + x_{74} \\leq 50$\\\n",
    "$x_{67} + x_{76} \\leq 15$\n",
    "\n",
    "$0 \\leq x_{14} \\leq 50$ \\\n",
    "$0 \\leq x_{13} \\leq 25$ \\\n",
    "$0 \\leq x_{17} \\leq 80$ \\\n",
    "$0 \\leq x_{12} \\leq 20$ \\\n",
    "$0 \\leq x_{15} \\leq 30$ \\\n",
    "$0 \\leq x_{16} \\leq 20$ \\\n",
    "$0 \\leq x_{48} \\leq 15$ \\\n",
    "$0 \\leq x_{78} \\leq 75$ \\\n",
    "$0 \\leq x_{68} \\leq 15$ \\\n",
    "$0 \\leq x_{37} \\leq 50$ \\\n",
    "$0 \\leq x_{27} \\leq 50$ \\\n",
    "$0 \\leq x_{57} \\leq 50$ \\\n",
    "$0 \\leq x_{47} \\leq 50$ \\\n",
    "$0 \\leq x_{67} \\leq 15$\n"
   ]
  },
  {
   "cell_type": "code",
   "execution_count": 59,
   "metadata": {},
   "outputs": [
    {
     "name": "stdout",
     "output_type": "stream",
     "text": [
      "Optimization terminated successfully.\n",
      "         Current function value: -105.000000 \n",
      "         Iterations: 26\n",
      "     con: array([0., 0., 0., 0., 0., 0., 0.])\n",
      "     fun: -105.0\n",
      " message: 'Optimization terminated successfully.'\n",
      "     nit: 26\n",
      "   slack: array([0., 0.])\n",
      "  status: 0\n",
      " success: True\n",
      "       x: array([20. , 25. ,  0. , 30. ,  0. , 30. , 20. , 25. , 17.5, 15. , 30. ,\n",
      "        0. , 15. , 32.5, 15. , 75. ])\n"
     ]
    }
   ],
   "source": [
    "f = np.array([[-1,-1,-1,-1,-1,-1,0,0,0,0,0,0,0,0,0,0]])\n",
    "A = np.array([[-1,0,0,0,0,0,1,0,0,0,0,0,0,0,0,0],\n",
    "             [0,-1,0,0,0,0,0,1,0,0,0,0,0,0,0,0],\n",
    "             [0,0,-1,0,0,0,0,0,1,1,0,0,0,-1,0,0],\n",
    "             [0,0,0,-1,0,0,0,0,0,0,1,0,0,0,0,0],\n",
    "             [0,0,0,0,-1,0,0,0,0,0,0,1,1,0,-1,0],\n",
    "             [0,0,0,0,0,-1,-1,-1,-1,0,-1,-1,0,1,1,1],\n",
    "             [1,1,1,1,1,1,0,0,0,-1,0,0,-1,0,0,-1]])\n",
    "b = np.zeros((7,1))\n",
    "\n",
    "A_ub = np.array([[0,0,0,0,0,0,0,0,1,0,0,0,0,1,0,0],\n",
    "                 [0,0,0,0,0,0,0,0,0,0,0,1,0,0,1,0]])\n",
    "\n",
    "b_ub = np.array([[50], [15]])\n",
    "\n",
    "bounds12 = (0,20)\n",
    "bounds13 = (0,25)\n",
    "bounds14 = (0,50)\n",
    "bounds15 = (0,30)\n",
    "bounds16 = (0,20)\n",
    "bounds17 = (0,80)\n",
    "bounds27 = (0,50)\n",
    "bounds37 = (0,50)\n",
    "bounds47 = (0,50)\n",
    "bounds48 = (0,15)\n",
    "bounds57 = (0,50)\n",
    "bounds67 = (0,50)\n",
    "bounds68 = (0,15)\n",
    "bounds74 = (0,50)\n",
    "bounds76 = (0,15)\n",
    "bounds78 = (0,75)\n",
    "\n",
    "bounds = [bounds12,bounds13,bounds14,bounds15,bounds16,bounds17,bounds27,bounds37,bounds47,bounds48,bounds57,bounds67,bounds68,bounds74,bounds76,bounds78]\n",
    "\n",
    "res = linprog(f, A_ub=A_ub, b_ub=b_ub, A_eq = A, b_eq = b, bounds = bounds, method='simplex', options={\"disp\": True})\n",
    "print(res)"
   ]
  },
  {
   "cell_type": "markdown",
   "metadata": {},
   "source": [
    "No es posible evacuar todas las personas en 1 minuto."
   ]
  },
  {
   "cell_type": "markdown",
   "metadata": {},
   "source": [
    "## c)"
   ]
  },
  {
   "cell_type": "markdown",
   "metadata": {},
   "source": [
    "A continuación se muestra el planeteamiento del problema para maximizar el número máximo de personas que se pueden evacuar del edificio en 2 minuto. Las capacidades máximas de personas de cada salón (nodo) del edificio son las mismas:\n",
    "\n",
    "1. Salón A: 20 personas \n",
    "\n",
    "2. Salón B: 25 personas\n",
    "\n",
    "3. Salón C: 50 personas\n",
    "\n",
    "4. Salón D: 30 personas\n",
    "\n",
    "5. Salón E: 20 personas\n",
    "\n",
    "6. Hall F: 80 personas\n",
    "\n",
    "El grafo para este problema se peude encontrar en la imagen \"grafoP2c.png\". El planteamiento se presenta a continuación:\n",
    "\n",
    "Al lado de cada restricción se anota en paréntesis el número del nodo al que pertenece dicha restricción.\n",
    "\n",
    "max $f(x) = x_{14} + x_{13} + x_{17} + x_{12} + x_{15} + x_{16} $ s.a.\n",
    "\n",
    "$x_{14} + x_{13} + x_{17} + x_{12} + x_{15} + x_{16} - (x_{48} + x_{78} + x_{17} + x_{68}) = 0$ (Lo que sale del nodo fuente menos lo que entra al sumidero = 0) \\\n",
    "$x_{27} - x_{12} = 0$ (2)\\\n",
    "$x_{37} - x_{13} = 0$ (3)\\\n",
    "$x_{48} + x_{47} - (x_{14} + x_{74}) = 0$ (4)\\\n",
    "$x_{57} - x_{15} = 0$ (5)\\\n",
    "$x_{68} + x_{67} - (x_{16} + x_{76}) = 0$ (6) \\\n",
    "$(x_{78} + x_{74} + x_{76}) - (x_{47} + x_{67} + x_{37} + x_{17} + x_{27} + x_{57} + x_{67}) = 0$ (7)\\\n",
    "$x_{47} + x_{74} \\leq 100$ \\\n",
    "$x_{67} + x_{76} \\leq 30$\n",
    "\n",
    "$0 \\leq x_{14} \\leq 50$ \\\n",
    "$0 \\leq x_{13} \\leq 25$ \\\n",
    "$0 \\leq x_{17} \\leq 80$ \\\n",
    "$0 \\leq x_{12} \\leq 20$ \\\n",
    "$0 \\leq x_{15} \\leq 30$ \\\n",
    "$0 \\leq x_{16} \\leq 20$ \\\n",
    "$0 \\leq x_{48} \\leq 30$ \\\n",
    "$0 \\leq x_{78} \\leq 150$ \\\n",
    "$0 \\leq x_{68} \\leq 30$ \\\n",
    "$0 \\leq x_{37} \\leq 100$ \\\n",
    "$0 \\leq x_{27} \\leq 100$ \\\n",
    "$0 \\leq x_{57} \\leq 100$ \\\n",
    "$0 \\leq x_{47} \\leq 100$ \\\n",
    "$0 \\leq x_{67} \\leq 30$"
   ]
  },
  {
   "cell_type": "code",
   "execution_count": 58,
   "metadata": {},
   "outputs": [
    {
     "name": "stdout",
     "output_type": "stream",
     "text": [
      "Optimization terminated successfully.\n",
      "         Current function value: -210.000000 \n",
      "         Iterations: 24\n",
      "     con: array([0., 0., 0., 0., 0., 0., 0.])\n",
      "     fun: -210.0\n",
      " message: 'Optimization terminated successfully.'\n",
      "     nit: 24\n",
      "   slack: array([0., 0.])\n",
      "  status: 0\n",
      " success: True\n",
      "       x: array([ 20. ,  25. ,  35. ,  30. ,  20. ,  80. ,  20. ,  25. ,  52.5,\n",
      "        30. ,  30. ,  10. ,  30. ,  47.5,  20. , 150. ])\n"
     ]
    }
   ],
   "source": [
    "f = np.array([[-1,-1,-1,-1,-1,-1,0,0,0,0,0,0,0,0,0,0]])\n",
    "A = np.array([[-1,0,0,0,0,0,1,0,0,0,0,0,0,0,0,0],\n",
    "             [0,-1,0,0,0,0,0,1,0,0,0,0,0,0,0,0],\n",
    "             [0,0,-1,0,0,0,0,0,1,1,0,0,0,-1,0,0],\n",
    "             [0,0,0,-1,0,0,0,0,0,0,1,0,0,0,0,0],\n",
    "             [0,0,0,0,-1,0,0,0,0,0,0,1,1,0,-1,0],\n",
    "             [0,0,0,0,0,-1,-1,-1,-1,0,-1,-1,0,1,1,1],\n",
    "             [1,1,1,1,1,1,0,0,0,-1,0,0,-1,0,0,-1]])\n",
    "b = np.zeros((7,1))\n",
    "\n",
    "A_ub = np.array([[0,0,0,0,0,0,0,0,1,0,0,0,0,1,0,0],\n",
    "                 [0,0,0,0,0,0,0,0,0,0,0,1,0,0,1,0]])\n",
    "\n",
    "b_ub = np.array([[100], [30]])\n",
    "\n",
    "bounds12 = (0,20)\n",
    "bounds13 = (0,25)\n",
    "bounds14 = (0,50)\n",
    "bounds15 = (0,30)\n",
    "bounds16 = (0,20)\n",
    "bounds17 = (0,80)\n",
    "bounds27 = (0,100)\n",
    "bounds37 = (0,100)\n",
    "bounds47 = (0,100)\n",
    "bounds48 = (0,30)\n",
    "bounds57 = (0,100)\n",
    "bounds67 = (0,100)\n",
    "bounds68 = (0,30)\n",
    "bounds74 = (0,100)\n",
    "bounds76 = (0,30)\n",
    "bounds78 = (0,150)\n",
    "\n",
    "bounds = [bounds12,bounds13,bounds14,bounds15,bounds16,bounds17,bounds27,bounds37,bounds47,bounds48,bounds57,bounds67,bounds68,bounds74,bounds76,bounds78]\n",
    "\n",
    "res = linprog(f, A_ub=A_ub, b_ub=b_ub, A_eq = A, b_eq = b, bounds = bounds, method='simplex', options={\"disp\": True})\n",
    "print(res)"
   ]
  },
  {
   "cell_type": "markdown",
   "metadata": {},
   "source": [
    "No es posible evacuar la planta en 2 minutos, ya que salen 205 personas."
   ]
  },
  {
   "cell_type": "markdown",
   "metadata": {
    "colab": {},
    "colab_type": "code",
    "id": "aFcAA7-If4Jd"
   },
   "source": [
    "# Punto 3"
   ]
  },
  {
   "cell_type": "markdown",
   "metadata": {},
   "source": [
    "## a)"
   ]
  },
  {
   "cell_type": "markdown",
   "metadata": {},
   "source": [
    "De los puntos anteriores, se observa que hay una relación lineal entre los minutos y la cantidad de personas que evacúan la planta. Cada minuto salen 105 personas de la planta. Con esta relación se puede establecer cuantos minutos tomaría evacuar la planta completa $x$, es decir, que salgan 225 personas.\n",
    "\n",
    "$x = 225 personas * \\frac{1 minuto(s)}{105 personas} \\longrightarrow x = 2.143 minutos$ \n",
    "\n",
    "Evacuar toda la planta toma 2.143 minutos."
   ]
  },
  {
   "cell_type": "markdown",
   "metadata": {},
   "source": [
    "## b)"
   ]
  },
  {
   "cell_type": "markdown",
   "metadata": {},
   "source": [
    "Se soluciona el problema de programación lineal aumentando en 10 las puertas C y F."
   ]
  },
  {
   "cell_type": "code",
   "execution_count": 69,
   "metadata": {},
   "outputs": [
    {
     "name": "stdout",
     "output_type": "stream",
     "text": [
      "Optimization terminated successfully.\n",
      "         Current function value: -125.000000 \n",
      "         Iterations: 26\n",
      "     con: array([0., 0., 0., 0., 0., 0., 0.])\n",
      "     fun: -125.0\n",
      " message: 'Optimization terminated successfully.'\n",
      "     nit: 26\n",
      "   slack: array([0., 0.])\n",
      "  status: 0\n",
      " success: True\n",
      "       x: array([20. , 25. ,  0. , 30. , 10. , 40. , 20. , 25. , 12.5, 25. , 30. ,\n",
      "        0. , 25. , 37.5, 15. , 75. ])\n"
     ]
    }
   ],
   "source": [
    "f = np.array([[-1,-1,-1,-1,-1,-1,0,0,0,0,0,0,0,0,0,0]])\n",
    "A = np.array([[-1,0,0,0,0,0,1,0,0,0,0,0,0,0,0,0],\n",
    "             [0,-1,0,0,0,0,0,1,0,0,0,0,0,0,0,0],\n",
    "             [0,0,-1,0,0,0,0,0,1,1,0,0,0,-1,0,0],\n",
    "             [0,0,0,-1,0,0,0,0,0,0,1,0,0,0,0,0],\n",
    "             [0,0,0,0,-1,0,0,0,0,0,0,1,1,0,-1,0],\n",
    "             [0,0,0,0,0,-1,-1,-1,-1,0,-1,-1,0,1,1,1],\n",
    "             [1,1,1,1,1,1,0,0,0,-1,0,0,-1,0,0,-1]])\n",
    "b = np.zeros((7,1))\n",
    "\n",
    "A_ub = np.array([[0,0,0,0,0,0,0,0,1,0,0,0,0,1,0,0],\n",
    "                 [0,0,0,0,0,0,0,0,0,0,0,1,0,0,1,0]])\n",
    "\n",
    "b_ub = np.array([[50], [15]])\n",
    "\n",
    "bounds12 = (0,20)\n",
    "bounds13 = (0,25)\n",
    "bounds14 = (0,50)\n",
    "bounds15 = (0,30)\n",
    "bounds16 = (0,20)\n",
    "bounds17 = (0,80)\n",
    "bounds27 = (0,50)\n",
    "bounds37 = (0,50)\n",
    "bounds47 = (0,50)\n",
    "bounds57 = (0,50)\n",
    "bounds67 = (0,50)\n",
    "bounds74 = (0,50)\n",
    "bounds76 = (0,15)\n",
    "\n",
    "bounds48 = (0,25)\n",
    "bounds68 = (0,15)\n",
    "bounds78 = (0,85)\n",
    "\n",
    "bounds1 = [bounds12,bounds13,bounds14,bounds15,bounds16,bounds17,bounds27,bounds37,bounds47,bounds48,bounds57,bounds67,bounds68,bounds74,bounds76,bounds78]\n",
    "\n",
    "res1 = linprog(f, A_ub=A_ub, b_ub=b_ub, A_eq = A, b_eq = b, bounds = bounds1, method='simplex', options={\"disp\": True})\n",
    "print(res1)"
   ]
  },
  {
   "cell_type": "code",
   "execution_count": 54,
   "metadata": {
    "scrolled": false
   },
   "outputs": [
    {
     "name": "stdout",
     "output_type": "stream",
     "text": [
      "Optimization terminated successfully.\n",
      "         Current function value: -125.000000 \n",
      "         Iterations: 26\n",
      "     con: array([0., 0., 0., 0., 0., 0., 0.])\n",
      "     fun: -125.0\n",
      " message: 'Optimization terminated successfully.'\n",
      "     nit: 26\n",
      "   slack: array([0., 0.])\n",
      "  status: 0\n",
      " success: True\n",
      "       x: array([20. , 25. ,  0. , 30. ,  0. , 50. , 20. , 25. , 12.5, 25. , 30. ,\n",
      "        0. , 15. , 37.5, 15. , 85. ])\n"
     ]
    }
   ],
   "source": [
    "bounds48 = (0,25)\n",
    "bounds68 = (0,15)\n",
    "bounds78 = (0,85)\n",
    "\n",
    "bounds1 = [bounds12,bounds13,bounds14,bounds15,bounds16,bounds17,bounds27,bounds37,bounds47,bounds48,bounds57,bounds67,bounds68,bounds74,bounds76,bounds78]\n",
    "\n",
    "res1 = linprog(f, A_ub=A_ub, b_ub=b_ub, A_eq = A, b_eq = b, bounds = bounds1, method='simplex', options={\"disp\": True})\n",
    "print(res1)"
   ]
  },
  {
   "cell_type": "markdown",
   "metadata": {},
   "source": [
    "Se decide expandir las puertas C y F ya que son las que dan mayor número de personas evacuadas en un minuto, con 125 personas."
   ]
  },
  {
   "cell_type": "markdown",
   "metadata": {},
   "source": [
    "## c)"
   ]
  },
  {
   "cell_type": "markdown",
   "metadata": {},
   "source": [
    "Al haber la nueva relación lineal entre los minutos y la cantidad de personas que evacúan la planta: cada minuto salen 125 personas de la planta, se puede establecer cuantos minutos tomaría evacuar la planta completa $x$, es decir, que salgan 225 personas.\n",
    "\n",
    "$x = 225 personas * \\frac{1 minuto(s)}{125 personas} \\longrightarrow x = 1.8 minutos$ \n",
    "\n",
    "Evacuar toda la planta toma 1.8 minutos al expandir 2 puertas."
   ]
  }
 ],
 "metadata": {
  "colab": {
   "collapsed_sections": [
    "g8lKbnvQ_jok"
   ],
   "name": "Optimizacion-Lab4-Estudiantes.ipynb",
   "provenance": []
  },
  "kernelspec": {
   "display_name": "Python 3",
   "language": "python",
   "name": "python3"
  },
  "language_info": {
   "codemirror_mode": {
    "name": "ipython",
    "version": 3
   },
   "file_extension": ".py",
   "mimetype": "text/x-python",
   "name": "python",
   "nbconvert_exporter": "python",
   "pygments_lexer": "ipython3",
   "version": "3.8.3"
  },
  "varInspector": {
   "cols": {
    "lenName": 16,
    "lenType": 16,
    "lenVar": 40
   },
   "kernels_config": {
    "python": {
     "delete_cmd_postfix": "",
     "delete_cmd_prefix": "del ",
     "library": "var_list.py",
     "varRefreshCmd": "print(var_dic_list())"
    },
    "r": {
     "delete_cmd_postfix": ") ",
     "delete_cmd_prefix": "rm(",
     "library": "var_list.r",
     "varRefreshCmd": "cat(var_dic_list()) "
    }
   },
   "oldHeight": 534.4,
   "position": {
    "height": "556.4px",
    "left": "1178px",
    "right": "20px",
    "top": "134px",
    "width": "350px"
   },
   "types_to_exclude": [
    "module",
    "function",
    "builtin_function_or_method",
    "instance",
    "_Feature"
   ],
   "varInspector_section_display": "block",
   "window_display": false
  }
 },
 "nbformat": 4,
 "nbformat_minor": 1
}
