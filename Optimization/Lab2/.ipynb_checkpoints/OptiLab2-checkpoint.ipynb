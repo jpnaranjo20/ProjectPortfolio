{
 "cells": [
  {
   "cell_type": "markdown",
   "metadata": {},
   "source": [
    "# Laboratorio 2 - Optimización\n",
    "\n",
    "### Isabella Salgado 201730418\n",
    "### Juan Pablo Naranjo 201730006"
   ]
  },
  {
   "cell_type": "markdown",
   "metadata": {},
   "source": [
    "Se importan las librerías relevantes para el laboratorio."
   ]
  },
  {
   "cell_type": "code",
   "execution_count": 1,
   "metadata": {},
   "outputs": [],
   "source": [
    "import numpy as np \n",
    "import matplotlib.pyplot as mat\n",
    "import math\n",
    "import time\n",
    "from mpl_toolkits import mplot3d\n",
    "from mpl_toolkits.mplot3d import Axes3D\n",
    "import sympy as sym\n",
    "from scipy.optimize import linprog\n",
    "from scipy.optimize import minimize"
   ]
  },
  {
   "cell_type": "markdown",
   "metadata": {},
   "source": [
    "## Punto 1"
   ]
  },
  {
   "cell_type": "markdown",
   "metadata": {},
   "source": [
    "## a) \n",
    "Las variables de decisión son el tamaño de los productos: pequeño, mediano y grande. Estas se representan a través de las variables $x_1$ (grande), $x_2$ (mediano) y $x_3$ (pequeño).\n",
    "\n",
    "Se define la notación $x_{ij}$ para expresar los productos que pertenecen a la planta $i$, del tamaño $j$.\n",
    "\n",
    "Adicionalmente, la cantidad de productos ($x_j$) están definidas por las siguientes ecuaciones:\n",
    "\n",
    "1) $x_1 = x_{11} + x_{21} + x_{31}$ (Grande)\n",
    "\n",
    "2) $x_2 = x_{12} + x_{22} + x_{32}$ (Mediano)\n",
    "\n",
    "3) $x_3 = x_{13} + x_{23} + x_{33}$ (Pequeño)\n"
   ]
  },
  {
   "cell_type": "markdown",
   "metadata": {},
   "source": [
    "## b) \n",
    "La función objetivo está dada por $f(x)$. \n",
    "\n",
    "$f(x) = 140x_1 + 120x_2 + 100x_3$ \\\n",
    "$f(x) = 140(x_{11} + x_{21} + x_{31}) + 120(x_{12} + x_{22} + x_{32}) + 100(x_{13} + x_{23} + x_{33})$ \\\n",
    "$f(x) = 140x_{11} + 140x_{21} + 140x_{31} +  120x_{12} + 120x_{22} + 120x_{32} + 100x_{13} + 100x_{23} + 100x_{33}$"
   ]
  },
  {
   "cell_type": "markdown",
   "metadata": {},
   "source": [
    "### A continuación se presentan las restricciones de espacio en las plantas:\n",
    "\n",
    "Planta 1:\n",
    "\n",
    "$20x_{11} + 15x_{12} + 12x_{13} \\leq 13000$\n",
    "\n",
    "Planta 2:\n",
    "\n",
    "$20x_{21} + 15x_{22} + 12x_{23} \\leq 12000$\n",
    "\n",
    "Planta 3:\n",
    "\n",
    "$20x_{31} + 15x_{32} + 12x_{33} \\leq 5000$\n",
    "\n",
    "### A continuación se presentan las restricciones por capacidad de producción de las plantas:\n",
    "\n",
    "Planta 1:\n",
    "\n",
    "$x_{11} + x_{12} + x_{13} \\leq 750$\n",
    "\n",
    "Planta 2:\n",
    "\n",
    "$x_{21} + x_{22} + x_{23} \\leq 900$\n",
    "\n",
    "Planta 3:\n",
    "\n",
    "$x_{31} + x_{32} + x_{33} \\leq 450$\n",
    "\n",
    "### A continuación se presntan las restricciones por los pronósticos de venta:\n",
    "\n",
    "Grande:\n",
    "\n",
    "$x_1 = x_{11} + x_{21} + x_{31} \\leq 900$\n",
    "\n",
    "Mediano:\n",
    "\n",
    "$x_2 = x_{12} + x_{22} + x_{32} \\leq 1200$\n",
    "\n",
    "Pequeño:\n",
    "\n",
    "$x_3 = x_{13} + x_{23} + x_{33} \\leq 750$"
   ]
  },
  {
   "cell_type": "markdown",
   "metadata": {},
   "source": [
    "## c) Resolución del problema de optimización "
   ]
  },
  {
   "cell_type": "markdown",
   "metadata": {},
   "source": [
    "Se colocan los valores del vector negativos porque se está minimizando el negativo de la función objetivo."
   ]
  },
  {
   "cell_type": "code",
   "execution_count": 3,
   "metadata": {},
   "outputs": [
    {
     "name": "stdout",
     "output_type": "stream",
     "text": [
      "Phase Iteration Minimum Slack       Constraint Residual Objective          \n",
      "1     0         450.0               0.0                 0.0                 \n",
      "Phase Iteration Minimum Slack       Constraint Residual Objective          \n",
      "2     0         450.0               0.0                 0.0                 \n",
      "2     1         0.0                 0.0                 -91000.0            \n",
      "2     2         0.0                 0.0                 -126000.0           \n",
      "2     3         0.0                 0.0                 -174000.0           \n",
      "2     4         0.0                 0.0                 -182000.0           \n",
      "2     5         0.0                 0.0                 -222000.0           \n",
      "2     6         0.0                 0.0                 -228000.0           \n",
      "2     7         0.0                 0.0                 -234666.6666667     \n",
      "2     8         0.0                 0.0                 -236000.0           \n",
      "Optimization terminated successfully.\n",
      "         Current function value: -236000.000000\n",
      "         Iterations: 8\n",
      "     con: array([], dtype=float64)\n",
      "     fun: -236000.0\n",
      " message: 'Optimization terminated successfully.'\n",
      "     nit: 8\n",
      "   slack: array([  0.        ,   0.        ,   0.        ,   0.        ,\n",
      "        33.33333333,  33.33333333, 550.        , 266.66666667,\n",
      "         0.        ])\n",
      "  status: 0\n",
      " success: True\n",
      "       x: array([350.        , 400.        ,   0.        ,   0.        ,\n",
      "       533.33333333, 333.33333333,   0.        ,   0.        ,\n",
      "       416.66666667])\n"
     ]
    }
   ],
   "source": [
    "c = np.array([-140, -120, -100, -140, -120, -100, -140, -120, -100])\n",
    "A = np.array([[20,15,12,0,0,0,0,0,0], [0,0,0,20,15,12,0,0,0], [0,0,0,0,0,0,20,15,12], [1,1,1,0,0,0,0,0,0], [0,0,0,1,1,1,0,0,0], [0,0,0,0,0,0,1,1,1], [1,0,0,1,0,0,1,0,0], [0,1,0,0,1,0,0,1,0], [0,0,1,0,0,1,0,0,1]])\n",
    "b = np.array([13000, 12000, 5000, 750, 900, 450, 900, 1200, 750])\n",
    "x11_bounds = (0, None)\n",
    "x12_bounds = (0, None)\n",
    "x13_bounds = (0, None)\n",
    "x21_bounds = (0, None)\n",
    "x22_bounds = (0, None)\n",
    "x23_bounds = (0, None)\n",
    "x31_bounds = (0, None)\n",
    "x32_bounds = (0, None)\n",
    "x33_bounds = (0, None)\n",
    "\n",
    "res = linprog(c, A_ub=A, b_ub=b, bounds = np.array([x11_bounds, x12_bounds, x13_bounds, x21_bounds, x22_bounds, x23_bounds, x31_bounds, x32_bounds, x33_bounds]), method='revised simplex', options={\"disp\": True})\n",
    "print(res)"
   ]
  },
  {
   "cell_type": "markdown",
   "metadata": {},
   "source": [
    "### Valor de la función objetivo:"
   ]
  },
  {
   "cell_type": "code",
   "execution_count": 4,
   "metadata": {},
   "outputs": [
    {
     "name": "stdout",
     "output_type": "stream",
     "text": [
      "236000.0\n"
     ]
    }
   ],
   "source": [
    "print(-1*res.fun)"
   ]
  },
  {
   "cell_type": "markdown",
   "metadata": {},
   "source": [
    "### Valor de cada una de las variables:"
   ]
  },
  {
   "cell_type": "code",
   "execution_count": 5,
   "metadata": {},
   "outputs": [
    {
     "name": "stdout",
     "output_type": "stream",
     "text": [
      "[350.         400.           0.           0.         533.33333333\n",
      " 333.33333333   0.           0.         416.66666667]\n"
     ]
    }
   ],
   "source": [
    "print(res.x)"
   ]
  },
  {
   "cell_type": "markdown",
   "metadata": {},
   "source": [
    "### Se deben producir:\n",
    "\n",
    "**350** productos de tamaño **grande** en la planta 1 ($x_{11} = 350$)\n",
    "\n",
    "**400** productos de tamaño **mediano** en la planta 1 ($x_{12} = 400$)\n",
    "\n",
    "**0** productos de tamaño **pequeño** en la planta 1 ($x_{13} = 0$)\n",
    "\n",
    "### Dando un total de producción de en la planta 1 de \n",
    "\n",
    "$x_1 = x_{11} + x_{12} + x_{13} = 750$ productos"
   ]
  },
  {
   "cell_type": "markdown",
   "metadata": {},
   "source": [
    "### Se deben producir:\n",
    "\n",
    "**0** productos de tamaño **grande** en la planta 2 ($x_{21} = 0$)\n",
    "\n",
    "**533.33** productos de tamaño **mediano** en la planta 2 ($x_{22} = 533.33$)\n",
    "\n",
    "**333.33** productos de tamaño **pequeño** en la planta 2 ($x_{23} = 333.33$)\n",
    "\n",
    "### Dando un total de producción en la planta 2 de\n",
    "\n",
    "$x_2 = x_{21} + x_{22} + x_{23} = 866.66$ productos\n",
    "\n",
    "*Nota: Ya que en la realidad no se puede producir un número irracional de productos, se redondearía este valor al entero más cercano, que en este caso sería 867*"
   ]
  },
  {
   "cell_type": "markdown",
   "metadata": {},
   "source": [
    "### Se deben producir:\n",
    "\n",
    "**0** productos de tamaño **grande** en la planta 3 ($x_{31} = 0$)\n",
    "\n",
    "**0** productos de tamaño **mediano** en la planta 3 ($x_{32} = 0$)\n",
    "\n",
    "**416.66** productos de tamaño **pequeño** en la planta 3 ($x_{33} = 416.66$)\n",
    "\n",
    "### Dando un total de producción en la planta 3 de\n",
    "\n",
    "$x_3 = x_{31} + x_{32} + x_{33} = 416.66$ productos\n",
    "\n",
    "*Nota: Ya que en la realidad no se puede producir un número irracional de productos, se redondearía este valor al entero más cercano, que en este caso sería 417*"
   ]
  },
  {
   "cell_type": "markdown",
   "metadata": {},
   "source": [
    "**Estos resultados garantizan que la utilidad se maximice en un valor de $f(x) = \\$236,000$**"
   ]
  },
  {
   "cell_type": "markdown",
   "metadata": {},
   "source": [
    "## Punto 2"
   ]
  },
  {
   "cell_type": "markdown",
   "metadata": {},
   "source": [
    "### a) Definición de las variables de decisión\n",
    "Posición $x$ (horizontal) \\\n",
    "Posición $y$ (vertical) \\\n",
    "De la bodega en el plano cartesiano."
   ]
  },
  {
   "cell_type": "markdown",
   "metadata": {},
   "source": [
    "### b) Función objetivo\n",
    "Distancia entre el local A y la bodega: $d_{a} = \\sqrt{x^{2}+y^{2}}$ \n",
    "\n",
    "Distancia entre el local B y la bodega: $d_{b} = \\sqrt{(x-40)^{2}+(y-50)^{2}}$ \n",
    "\n",
    "Distancia entre el local C y la bodega: $d_{c} = \\sqrt{(x-90)^{2}+(y-30)^{2}}$\n",
    "\n",
    "Función a optimizar: $f(x,y) = d_a + d_b + d_c$"
   ]
  },
  {
   "cell_type": "code",
   "execution_count": 6,
   "metadata": {},
   "outputs": [],
   "source": [
    "def f(x):\n",
    "    return sym.sqrt(x[0]**2+x[1]**2) + sym.sqrt((x[0]-40)**2 + (x[1]-50)**2) + sym.sqrt((x[0]-90)**2+(x[1]-30)**2)"
   ]
  },
  {
   "cell_type": "markdown",
   "metadata": {},
   "source": [
    "### c) ¿Se puede reformular este problema de manera lineal sin cambiar las variables de decisión?"
   ]
  },
  {
   "cell_type": "markdown",
   "metadata": {},
   "source": [
    "Este problema no se puede reformular de manera lineal sin cambiar las variables de decisión porque para lograr esto tocaría hacer un cambio de variable que implicaría una transformación matemática compleja para eliminar las raíces cuadradas que de todas formas no garantiza la linealidad del problema. Además, hacer esto implica un cambio en las variables de decisión."
   ]
  },
  {
   "cell_type": "markdown",
   "metadata": {},
   "source": [
    "### d) Optimización por el método de Broyden-Fletcher-Goldfarb-Shanno"
   ]
  },
  {
   "cell_type": "code",
   "execution_count": 7,
   "metadata": {
    "scrolled": false
   },
   "outputs": [
    {
     "name": "stdout",
     "output_type": "stream",
     "text": [
      "Optimization terminated successfully.\n",
      "         Current function value: 117.114336\n",
      "         Iterations: 11\n",
      "         Function evaluations: 48\n",
      "         Gradient evaluations: 16\n",
      "      fun: 117.11433586462294\n",
      " hess_inv: array([[ 9.29048917, -7.63334816],\n",
      "       [-7.63334816, 33.88074963]])\n",
      "      jac: array([ 1.90734863e-06, -2.86102295e-06])\n",
      "  message: 'Optimization terminated successfully.'\n",
      "     nfev: 48\n",
      "      nit: 11\n",
      "     njev: 16\n",
      "   status: 0\n",
      "  success: True\n",
      "        x: array([42.04481069, 42.54560226])\n",
      "[42.045 42.546]\n"
     ]
    }
   ],
   "source": [
    "# Se define un vector de valores iniciales de las variables de decisión.\n",
    "x0 = [0,0]\n",
    "\n",
    "res = minimize(f, x0, method='bfgs', options={'disp': True})\n",
    "print(res)\n",
    "print(np.round(res.x,3))"
   ]
  },
  {
   "cell_type": "markdown",
   "metadata": {},
   "source": [
    "### e)\n",
    "De acuerdo al resultado obtenido en el apartado $d)$, se puede afirmar que la ubicación óptima para la bodega (más cercana posible a los locales A, B y C) corresponde a las coordenadas ($x$, $y$) = (42.045, 42.546)."
   ]
  },
  {
   "cell_type": "markdown",
   "metadata": {},
   "source": [
    "## Punto 3"
   ]
  },
  {
   "cell_type": "markdown",
   "metadata": {},
   "source": [
    "### a) Expresión matemática"
   ]
  },
  {
   "cell_type": "markdown",
   "metadata": {},
   "source": [
    "Distancia entre el local A y su respectiva bodega: $d_{a} = \\sqrt{x^{2}+y^{2}}$ \n",
    "\n",
    "Distancia entre el local B y su respectiva bodega: $d_{b} = \\sqrt{(x-40)^{2}+(y-50)^{2}}$ \n",
    "\n",
    "Distancia entre el local C y su respectiva bodega: $d_{c} = \\sqrt{(x-90)^{2}+(y-30)^{2}}$\n",
    "\n",
    "Se definen las variables $x_1$, $y_1$ para representar las coordenadas de la bodega correspondiente al local A.\n",
    "\n",
    "Se definen las variables $x_2$, $y_2$ para representar las coordenadas de la bodega correspondiente al local C.\n",
    "\n",
    "Función a optimizar:\n",
    "\n",
    "$f(x_1,x_2,y_1,y_2) = \\sqrt{x_{1}^{2}+y_{1}^{2}} + \\frac{1}{2} \\left(\\sqrt{(x_{1}-40)^{2}+(y_{1}-50)^{2}} + \\sqrt{(x_{2}-40)^{2}+(y_{2}-50)^{2}}\\right) + \\sqrt{(x_{2}-90)^{2} + (y_{2}-30)^{2}} $"
   ]
  },
  {
   "cell_type": "code",
   "execution_count": 16,
   "metadata": {},
   "outputs": [],
   "source": [
    "# x es un vector de 4 componentes. Cada componente representa una de las variables de la función objetivo.\n",
    "def f1(x):\n",
    "    return np.sqrt(x[0]**2+x[1]**2) + (1/2)*(np.sqrt((x[0]-40)**2 + (x[1]-50)**2) + np.sqrt((x[2]-40)**2 + (x[3]-50)**2)) + np.sqrt((x[2]-90)**2+(x[3]-30)**2)\n",
    "    "
   ]
  },
  {
   "cell_type": "markdown",
   "metadata": {},
   "source": [
    "### b) Minimización de la función objetivo\n",
    "\n",
    "Información sobre cómo usar la función *minimize* se encontró [acá](https://docs.scipy.org/doc/scipy/reference/generated/scipy.optimize.minimize.html)."
   ]
  },
  {
   "cell_type": "code",
   "execution_count": 20,
   "metadata": {},
   "outputs": [
    {
     "name": "stdout",
     "output_type": "stream",
     "text": [
      "Warning: Desired error not necessarily achieved due to precision loss.\n",
      "         Current function value: 58.941445\n",
      "         Iterations: 65\n",
      "         Function evaluations: 841\n",
      "         Gradient evaluations: 166\n",
      "      fun: 58.94144523431122\n",
      " hess_inv: array([[ 1.61908938e-09, -2.64955636e-09, -1.74805267e-09,\n",
      "         3.42094131e-10],\n",
      "       [-2.64955636e-09,  6.53495986e-08,  1.30949709e-08,\n",
      "         2.01647431e-09],\n",
      "       [-1.74805267e-09,  1.30949709e-08,  1.11834206e-08,\n",
      "         6.97415740e-11],\n",
      "       [ 3.42094131e-10,  2.01647431e-09,  6.97415740e-11,\n",
      "         8.48260527e-09]])\n",
      "      jac: array([-1.30318689,  0.56361675,  0.43057299, -0.33080721])\n",
      "  message: 'Desired error not necessarily achieved due to precision loss.'\n",
      "     nfev: 841\n",
      "      nit: 65\n",
      "     njev: 166\n",
      "   status: 2\n",
      "  success: False\n",
      "        x: array([-1.19611787e-09,  6.13580996e-10,  9.00000000e+01,  3.00000000e+01])\n"
     ]
    }
   ],
   "source": [
    "x1 = [0,0,0,0]\n",
    "\n",
    "res2 = minimize(f1, x1, method='BFGS', options={'disp': True})\n",
    "print(res2)"
   ]
  },
  {
   "cell_type": "markdown",
   "metadata": {},
   "source": [
    "El resultado obtenido para las primeras dos coordenadas ($x_1,y_1$) son números en el orden de $10^{-9}$ y $10^{-10}$, lo que quiere decir que esos números son básicamente 0.\n",
    "\n",
    "Como se puede notar, la respuesta obtenida para la ubicación de las bodegas son respectivamente en las ubicaciones de los locales A y C, es decir, en las coordenadas (0, 0) para el local A, y en las coordenadas (90, 30) para el local C."
   ]
  },
  {
   "cell_type": "code",
   "execution_count": 18,
   "metadata": {},
   "outputs": [
    {
     "name": "stdout",
     "output_type": "stream",
     "text": [
      "Optimization terminated successfully.\n",
      "         Current function value: 82.696593\n",
      "         Iterations: 216\n",
      "         Function evaluations: 360\n",
      " final_simplex: (array([[-14.23296298,  -7.69426269,  89.99996647,  29.99999978],\n",
      "       [-14.2329666 ,  -7.69423354,  89.99997058,  29.99995387],\n",
      "       [-14.23296138,  -7.69421418,  89.99992764,  29.99991446],\n",
      "       [-14.2329755 ,  -7.69423101,  90.00002268,  29.99996013],\n",
      "       [-14.23294723,  -7.69425905,  89.99987015,  29.99997513]]), array([82.69659292, 82.69660447, 82.69662655, 82.69662741, 82.69662915]))\n",
      "           fun: 82.6965929183624\n",
      "       message: 'Optimization terminated successfully.'\n",
      "          nfev: 360\n",
      "           nit: 216\n",
      "        status: 0\n",
      "       success: True\n",
      "             x: array([-14.23296298,  -7.69426269,  89.99996647,  29.99999978])\n"
     ]
    }
   ],
   "source": [
    "res21 = minimize(f1, x1, method='Nelder-Mead', options={'disp': True})\n",
    "print(res21)"
   ]
  },
  {
   "cell_type": "markdown",
   "metadata": {},
   "source": [
    "En este caso, se utilizó el método de Nelder-Mead en lugar del método BFGS para llevar a cabo la minimización. Como se puede notar, el resultado obtenido para las coordenadas de la primera bodega ($x_1, y_1$) están muy alejadas de las obtenidas por el método BFGS. Mientras tanto, las coordenadas de la segunda bodega ($x_2, y_2$) sí son similares a las obtenidas por el método BFGS, estando alrededor del punto (90, 30) nuevamente.\n",
    "\n",
    "Esto se puede deber al hecho de que el algoritmo de [Nelder-Mead](http://www.scholarpedia.org/article/Nelder-Mead_algorithm) solo usa valores de la función objetivo en algunos puntos de $\\mathbb{R}^n$ y no calcula el gradiente de la función objetivo en estos puntos para dirigirse en la dirección de la solución óptima, como si lo hace el método [BFGS](https://en.wikipedia.org/wiki/Broyden%E2%80%93Fletcher%E2%80%93Goldfarb%E2%80%93Shanno_algorithm). Esto puede estar causando la discrpeancia entre los valores obtenidos para las coordenadas ($x_1,y_1$) entre los dos métodos analizados."
   ]
  },
  {
   "cell_type": "markdown",
   "metadata": {},
   "source": [
    "### c) Según los resultados anteriores, ¿cuál de las dos opciones (entre 1 y 2 bodegas) le recomendaría usted al gerente de la empresa?"
   ]
  },
  {
   "cell_type": "markdown",
   "metadata": {},
   "source": [
    "De acuerdo a los resultados obtenidos en el punto 2 y en el apartado *b)* de este punto, se puede afirmar que es más recomendable tener dos bodegas distintas (una para el local A y uno para el C, distribuyéndose la producción del local B) porque de este modo, se obtiene que la ubicación óptima para ambas bodegas es justo al lado de su rspectivo local, pues es la distancia más corta posible que hay entre cada una y su respectivo local.\n",
    "\n",
    "Con una sola bodega para los tres locales se obtiene una ubicación óptima de la bodega justo en un punto relativamente medio para los tres locales, aunque es claro que la distancia al local A es más alejada que la distancia a los otros dos locales respectivamente. "
   ]
  }
 ],
 "metadata": {
  "kernelspec": {
   "display_name": "Python 3",
   "language": "python",
   "name": "python3"
  },
  "language_info": {
   "codemirror_mode": {
    "name": "ipython",
    "version": 3
   },
   "file_extension": ".py",
   "mimetype": "text/x-python",
   "name": "python",
   "nbconvert_exporter": "python",
   "pygments_lexer": "ipython3",
   "version": "3.8.3"
  },
  "varInspector": {
   "cols": {
    "lenName": 16,
    "lenType": 16,
    "lenVar": 40
   },
   "kernels_config": {
    "python": {
     "delete_cmd_postfix": "",
     "delete_cmd_prefix": "del ",
     "library": "var_list.py",
     "varRefreshCmd": "print(var_dic_list())"
    },
    "r": {
     "delete_cmd_postfix": ") ",
     "delete_cmd_prefix": "rm(",
     "library": "var_list.r",
     "varRefreshCmd": "cat(var_dic_list()) "
    }
   },
   "types_to_exclude": [
    "module",
    "function",
    "builtin_function_or_method",
    "instance",
    "_Feature"
   ],
   "window_display": false
  }
 },
 "nbformat": 4,
 "nbformat_minor": 4
}
