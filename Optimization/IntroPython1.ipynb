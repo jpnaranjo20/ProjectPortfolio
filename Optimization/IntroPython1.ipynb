{
 "cells": [
  {
   "cell_type": "markdown",
   "metadata": {
    "colab_type": "text",
    "id": "MqZIWihAUHIN"
   },
   "source": [
    "# Introduction to Python I"
   ]
  },
  {
   "cell_type": "code",
   "execution_count": 1,
   "metadata": {
    "colab": {},
    "colab_type": "code",
    "id": "5ZfgTg3GUDyD"
   },
   "outputs": [],
   "source": [
    "import numpy as np"
   ]
  },
  {
   "cell_type": "markdown",
   "metadata": {
    "colab_type": "text",
    "id": "P4ysYwpfFRdT"
   },
   "source": [
    "# Part 1 - Matrix multiplication"
   ]
  },
  {
   "cell_type": "markdown",
   "metadata": {
    "colab_type": "text",
    "id": "n7K1wRUdHxwb"
   },
   "source": [
    "Define a function $f$ that satisfies the following requirements:\n",
    "\n",
    "a) Returns the matrix multiplication of two parameter matrices.\n",
    "\n",
    "b) Checks for errors of dimensionality and allows to raise the matrices to a certain power.\n",
    "\n",
    "---\n",
    "\n",
    "We based our solution on the [numpy matrix vector multiplication](https://stackoverflow.com/questions/21562986/numpy-matrix-vector-multiplication) question, and the documentation on [How to raise a numpy array to a power?](https://stackoverflow.com/questions/5018552/how-to-raise-a-numpy-array-to-a-power-corresponding-to-repeated-matrix-multipl)\n",
    "\n",
    "The function $f$ that satisfies the requirements of a) and b) is $\\texttt{fun1(A,B,c,d)}$.\n",
    "\n",
    "This function handles two types of errors. The first one occurs when A has more columns than B has rows, and the second one occurs when the opposite happens."
   ]
  },
  {
   "cell_type": "code",
   "execution_count": 2,
   "metadata": {
    "colab": {},
    "colab_type": "code",
    "id": "G7SwQkdBjoUM"
   },
   "outputs": [],
   "source": [
    "def fun1(A, B, c=1, d=1):\n",
    "    \n",
    "    # Transform objects into numpy arrays\n",
    "    A = np.array(A)\n",
    "    B = np.array(B)\n",
    "    \n",
    "    # First type of dimension error\n",
    "    if A.shape[1] > B.shape[0]:\n",
    "        out = 'Error: The first array has more columns than the second has rows'\n",
    "    # Second type of dimension error\n",
    "    elif A.shape[1] < B.shape[0]:\n",
    "        out = 'Error: The first array has fewer columns than the second has rows'\n",
    "    # Perform the operation\n",
    "    else:\n",
    "        # linalg.matrix_power generates an error for non-square matrices\n",
    "        # regardless of whether the exponent is 1\n",
    "        # Handle the error\n",
    "        if c != 1:\n",
    "            A = np.linalg.matrix_power(A, c)\n",
    "        if d != 1:\n",
    "            B = np.linalg.matrix_power(B, d)\n",
    "\n",
    "        out = A @ B\n",
    "  \n",
    "    print(\"\\n\")\n",
    "    print(out)"
   ]
  },
  {
   "cell_type": "markdown",
   "metadata": {
    "colab_type": "text",
    "id": "vR6Fnv92T3u1"
   },
   "source": [
    "# Part 2 - Testing Functions"
   ]
  },
  {
   "cell_type": "markdown",
   "metadata": {
    "colab_type": "text",
    "id": "9-mIZdJPFfDw"
   },
   "source": [
    "## a)\n",
    "Let $A$, $B$, and $C$ be the following matrices:\n",
    "     \n",
    "$$ A = \\left[ \\begin{array}{cc}\n",
    "    0.1 & 2 \\\\\n",
    "    2 & 0.1\n",
    "\\end{array} \\right] \\qquad\n",
    "B = \\left[ \\begin{array}{ccc}\n",
    "    1 & 2 & 3 \\\\\n",
    "    4 & 5 & 4\n",
    "\\end{array} \\right] \\qquad C = \\left[ \\begin{array}{cc}\n",
    "    \\frac{5}{3} & \\frac{2}{3}  \\\\\n",
    "    \\frac{2}{3} & \\frac{5}{3}\n",
    "\\end{array} \\right]  $$\n",
    "\n",
    "The results of the following operations are displayed in the console using the function $\\texttt{fun1}()$:\n",
    "\n",
    "1. $A*B^T$\n",
    "2. $A^2*B$\n",
    "3. $B*C^3$\n",
    "4. $B^T*C^4$\n"
   ]
  },
  {
   "cell_type": "code",
   "execution_count": 3,
   "metadata": {
    "colab": {
     "base_uri": "https://localhost:8080/",
     "height": 403
    },
    "colab_type": "code",
    "id": "ceqISMouT6xR",
    "outputId": "df567381-63ee-4846-e43b-65f5683e4e60"
   },
   "outputs": [
    {
     "name": "stdout",
     "output_type": "stream",
     "text": [
      "\n",
      " 1)  A*B^T\n",
      "\n",
      "\n",
      "Error: The first array has fewer columns than the second has rows\n",
      "\n",
      " 2) A^2*B\n",
      "\n",
      "\n",
      "[[ 5.61 10.02 14.43]\n",
      " [16.44 20.85 25.26]]\n",
      "\n",
      " 3) B*C^3\n",
      "\n",
      "\n",
      "Error: The first array has more columns than the second has rows\n",
      "\n",
      " 4) B^T*C^4\n",
      "\n",
      "\n",
      "[[ 72.60493827  75.60493827]\n",
      " [102.24691358 105.24691358]\n",
      " [131.88888889 134.88888889]]\n"
     ]
    }
   ],
   "source": [
    "A = np.array([[0.1 , 2],[2, 0.1]])\n",
    "B = np.array([[1,2,3],[4,5,6]])\n",
    "C = np.array([[5/3, 2/3],[2/3, 5/3]])\n",
    "\n",
    "print('\\n 1)  A*B^T')\n",
    "fun1(A,np.transpose(B))\n",
    "\n",
    "print('\\n 2) A^2*B')\n",
    "fun1(A,B,2)\n",
    "\n",
    "print('\\n 3) B*C^3')\n",
    "fun1(B,C,1,3)\n",
    "\n",
    "print('\\n 4) B^T*C^4')\n",
    "fun1(np.transpose(B),C,1,4)\n"
   ]
  },
  {
   "cell_type": "markdown",
   "metadata": {
    "colab_type": "text",
    "id": "KZUf-6jnUQBR"
   },
   "source": [
    "## b)\n",
    "Below is a code snippet that tries error cases for the defined function: it prompts the parameters $c$ and $d$ for $\\texttt{fun1}$ and then runs it with the matrices $A$ and $B$ created earlier. It sends an error message when the user inputs a number that doesn't cause an error in the $\\texttt{matrix\\_power}$ function of the $\\texttt{np.linalg}$ library (non-integer number) or when a non-numeric character is entered.\n"
   ]
  },
  {
   "cell_type": "code",
   "execution_count": 4,
   "metadata": {
    "colab": {
     "base_uri": "https://localhost:8080/",
     "height": 118
    },
    "colab_type": "code",
    "id": "pxp_jw52UUfy",
    "outputId": "9efeac00-ff89-4df3-aace-b288119e9371"
   },
   "outputs": [
    {
     "name": "stdout",
     "output_type": "stream",
     "text": [
      "\n",
      "\n",
      "[[4.76666667 6.66666667]\n",
      " [6.66666667 4.76666667]]\n"
     ]
    }
   ],
   "source": [
    "# The process is compacted into one.\n",
    "for i in range(1):\n",
    "    \n",
    "    # Handling the first number\n",
    "    c = input('First number: ')\n",
    "    try:\n",
    "        c = int(c)\n",
    "    except ValueError:\n",
    "        print('Error, an invalid number was entered')\n",
    "        break\n",
    "\n",
    "    # Handling the second number\n",
    "    d = input('Second number: ')\n",
    "    try:\n",
    "        d = int(d)\n",
    "    except ValueError:\n",
    "        print('Error, an invalid number was entered')\n",
    "        break\n",
    "\n",
    "    fun1(A, C, c, d)\n"
   ]
  },
  {
   "cell_type": "markdown",
   "metadata": {
    "colab_type": "text",
    "id": "g3sql8QkHMAJ"
   },
   "source": [
    "## Errors"
   ]
  },
  {
   "cell_type": "code",
   "execution_count": 5,
   "metadata": {
    "colab": {
     "base_uri": "https://localhost:8080/",
     "height": 218
    },
    "colab_type": "code",
    "id": "L52_ynKiG8Tb",
    "outputId": "2edf50a5-4985-4bd9-c0b3-97dacba86118"
   },
   "outputs": [
    {
     "name": "stdout",
     "output_type": "stream",
     "text": [
      "\n",
      " A\n",
      "[[0.1 2. ]\n",
      " [2.  0.1]]\n",
      "\n",
      " A**2\n",
      "[[0.01 4.  ]\n",
      " [4.   0.01]]\n",
      "\n",
      " A^2\n",
      "[[4.01 0.4 ]\n",
      " [0.4  4.01]]\n"
     ]
    }
   ],
   "source": [
    "print('\\n A')\n",
    "print(A)\n",
    "\n",
    "print('\\n A**2')\n",
    "print(A**2)\n",
    "\n",
    "print('\\n A^2')\n",
    "print(np.linalg.matrix_power(A,2))"
   ]
  }
 ],
 "metadata": {
  "colab": {
   "collapsed_sections": [],
   "name": "Optimizacion-Lab0-Solucion.ipynb",
   "provenance": []
  },
  "kernelspec": {
   "display_name": "base",
   "language": "python",
   "name": "python3"
  },
  "language_info": {
   "codemirror_mode": {
    "name": "ipython",
    "version": 3
   },
   "file_extension": ".py",
   "mimetype": "text/x-python",
   "name": "python",
   "nbconvert_exporter": "python",
   "pygments_lexer": "ipython3",
   "version": "3.11.5"
  },
  "varInspector": {
   "cols": {
    "lenName": 16,
    "lenType": 16,
    "lenVar": 40
   },
   "kernels_config": {
    "python": {
     "delete_cmd_postfix": "",
     "delete_cmd_prefix": "del ",
     "library": "var_list.py",
     "varRefreshCmd": "print(var_dic_list())"
    },
    "r": {
     "delete_cmd_postfix": ") ",
     "delete_cmd_prefix": "rm(",
     "library": "var_list.r",
     "varRefreshCmd": "cat(var_dic_list()) "
    }
   },
   "position": {
    "height": "144.4px",
    "left": "1140px",
    "right": "20px",
    "top": "121px",
    "width": "350px"
   },
   "types_to_exclude": [
    "module",
    "function",
    "builtin_function_or_method",
    "instance",
    "_Feature"
   ],
   "window_display": false
  }
 },
 "nbformat": 4,
 "nbformat_minor": 1
}
