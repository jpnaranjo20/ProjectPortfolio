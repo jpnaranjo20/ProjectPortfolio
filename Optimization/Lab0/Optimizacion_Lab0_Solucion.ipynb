{
 "cells": [
  {
   "cell_type": "markdown",
   "metadata": {
    "colab_type": "text",
    "id": "MqZIWihAUHIN"
   },
   "source": [
    "# Laboratorio 0"
   ]
  },
  {
   "cell_type": "markdown",
   "metadata": {
    "colab_type": "text",
    "id": "Tdxj0ngLDKf3"
   },
   "source": [
    "Librerias\n",
    "\n"
   ]
  },
  {
   "cell_type": "code",
   "execution_count": 1,
   "metadata": {
    "colab": {},
    "colab_type": "code",
    "id": "5ZfgTg3GUDyD"
   },
   "outputs": [],
   "source": [
    "import numpy as np"
   ]
  },
  {
   "cell_type": "markdown",
   "metadata": {
    "colab_type": "text",
    "id": "P4ysYwpfFRdT"
   },
   "source": [
    "# Punto 1\n",
    "\n"
   ]
  },
  {
   "cell_type": "markdown",
   "metadata": {
    "colab_type": "text",
    "id": "n7K1wRUdHxwb"
   },
   "source": [
    "Nos basamos en la solución de [numpy matrix vector multiplication](https://stackoverflow.com/questions/21562986/numpy-matrix-vector-multiplication) y en la documentación de [How to raise a numpy array to a power?](https://stackoverflow.com/questions/5018552/how-to-raise-a-numpy-array-to-a-power-corresponding-to-repeated-matrix-multipl)\n",
    "\n",
    "a) y b) : La función $f$ que satisface los requerimientos de a) y b) es $\\texttt{fun1(A,B,c,d)}$.\n",
    "\n",
    "Esta función maneja dos tipos de errores. El primero cuando $\\texttt{A}$ tiene mas columnas que $\\texttt{B}$ filas y el segundo, cuando sucede lo contrario."
   ]
  },
  {
   "cell_type": "code",
   "execution_count": 2,
   "metadata": {
    "colab": {},
    "colab_type": "code",
    "id": "G7SwQkdBjoUM"
   },
   "outputs": [],
   "source": [
    "def fun1(A, B, c = 1, d = 1):\n",
    "    \n",
    "    # Transformar los objetos en arreglos tipo numpy\n",
    "    A = np.array(A)\n",
    "    B = np.array(B)\n",
    "    \n",
    "    # Primer tipo de error de dimensión\n",
    "    if A.shape[1] > B.shape[0]:\n",
    "        out = 'Error: El primer arreglo tiene mas columnas que el segundo filas'\n",
    "    # Segundo tipo de error de dimensión\n",
    "    elif A.shape[1] < B.shape[0]:\n",
    "        out = 'Error: El primer arreglo tiene menos columnas que el segundo filas'\n",
    "    # Realiza la operación\n",
    "    else:\n",
    "        # linalg.matrix_power genera error para matrices no cuadradas\n",
    "        #                     independientemente de que el exponente sea 1\n",
    "        #           Manejamos el error\n",
    "        if c != 1:\n",
    "            A = np.linalg.matrix_power(A,c)\n",
    "        if d != 1:\n",
    "            B = np.linalg.matrix_power(B,d)\n",
    "\n",
    "        out = A@B\n",
    "  \n",
    "    print(\"\\n\")\n",
    "    print(out)"
   ]
  },
  {
   "cell_type": "markdown",
   "metadata": {
    "colab_type": "text",
    "id": "vR6Fnv92T3u1"
   },
   "source": [
    "# Punto 2"
   ]
  },
  {
   "cell_type": "markdown",
   "metadata": {
    "colab_type": "text",
    "id": "9-mIZdJPFfDw"
   },
   "source": [
    "## a)\n",
    "Sean $A,B, C$ las siguientes matrices:\n",
    "     \n",
    "$$ A = \\left[ \\begin{array}{cc}\n",
    "    0.1 & 2 \\\\\n",
    "    2 & 0.1\n",
    "\\end{array} \\right] \\qquad\n",
    "B = \\left[ \\begin{array}{ccc}\n",
    "    1 & 2 & 3 \\\\\n",
    "    4 & 5 & 4\n",
    "\\end{array} \\right] \\qquad C = \\left[ \\begin{array}{cc}\n",
    "    \\frac{5}{3} & \\frac{2}{3}  \\\\\n",
    "    \\frac{2}{3} & \\frac{5}{3}\n",
    "\\end{array} \\right]  $$\n",
    "\n",
    "Se muestran los resultados de los siguientes puntos en consola a partir de la función $\\texttt{fun1}()$\n",
    "\n",
    "1. $A*B^T$\n",
    "2. $A^2*B$\n",
    "3. $B*C^3$\n",
    "4. $B^T*C^4$"
   ]
  },
  {
   "cell_type": "code",
   "execution_count": 3,
   "metadata": {
    "colab": {
     "base_uri": "https://localhost:8080/",
     "height": 403
    },
    "colab_type": "code",
    "id": "ceqISMouT6xR",
    "outputId": "df567381-63ee-4846-e43b-65f5683e4e60"
   },
   "outputs": [
    {
     "name": "stdout",
     "output_type": "stream",
     "text": [
      "\n",
      " 1)  A*B^T\n",
      "\n",
      "\n",
      "Error: El primer arreglo tiene menos columnas que el segundo filas\n",
      "\n",
      " 2) A^2*B\n",
      "\n",
      "\n",
      "[[ 5.61 10.02 14.43]\n",
      " [16.44 20.85 25.26]]\n",
      "\n",
      " 3) B*C^3\n",
      "\n",
      "\n",
      "Error: El primer arreglo tiene mas columnas que el segundo filas\n",
      "\n",
      " 4) B^T*C^4\n",
      "\n",
      "\n",
      "[[ 72.60493827  75.60493827]\n",
      " [102.24691358 105.24691358]\n",
      " [131.88888889 134.88888889]]\n"
     ]
    }
   ],
   "source": [
    "A = np.array([[0.1 , 2],[2, 0.1]])\n",
    "B = np.array([[1,2,3],[4,5,6]])\n",
    "C = np.array([[5/3, 2/3],[2/3, 5/3]])\n",
    "\n",
    "print('\\n 1)  A*B^T')\n",
    "fun1(A,np.transpose(B))\n",
    "\n",
    "print('\\n 2) A^2*B')\n",
    "fun1(A,B,2)\n",
    "\n",
    "print('\\n 3) B*C^3')\n",
    "fun1(B,C,1,3)\n",
    "\n",
    "print('\\n 4) B^T*C^4')\n",
    "fun1(np.transpose(B),C,1,4)\n"
   ]
  },
  {
   "cell_type": "markdown",
   "metadata": {
    "colab_type": "text",
    "id": "KZUf-6jnUQBR"
   },
   "source": [
    "## b)\n",
    "A continuación una sección de código, que cumple los requerimientos: solicita los parámetros $c,d$ de $\\texttt{fun1}$ y seguidamente la corre con las matrices $A$ y $B$ creadas anteriormente. Envia mensaje de error cuando el usuario introduce un número que no genera error en la función $\\texttt{matrix_power}$ de la libreria $\\texttt{np.linalg}$ (número no entero) o cuando introduce un caracter no númerico.\n",
    "\n"
   ]
  },
  {
   "cell_type": "code",
   "execution_count": 4,
   "metadata": {
    "colab": {
     "base_uri": "https://localhost:8080/",
     "height": 118
    },
    "colab_type": "code",
    "id": "pxp_jw52UUfy",
    "outputId": "9efeac00-ff89-4df3-aace-b288119e9371"
   },
   "outputs": [
    {
     "name": "stdout",
     "output_type": "stream",
     "text": [
      "\n",
      "\n",
      "[[3283.16407667 3307.92506667]\n",
      " [3307.92506667 3283.16407667]]\n"
     ]
    }
   ],
   "source": [
    "# Se compacta proceso en uno solo.\n",
    "for i in range(1):\n",
    "    \n",
    "    # Manejo del primer número\n",
    "    c = input('Primer número: ')\n",
    "    try:\n",
    "        c = int(c)\n",
    "    except ValueError:\n",
    "        print('Error, no se introdujo un número válido')\n",
    "        break\n",
    "\n",
    "    # Manejo del primer número\n",
    "    d = input('Segundo número: ')\n",
    "    try:\n",
    "        d = int(d)\n",
    "    except ValueError:\n",
    "        print('Error, no se introdujo un número válido')\n",
    "        break\n",
    "\n",
    "    fun1(A,C,c,d)"
   ]
  },
  {
   "cell_type": "markdown",
   "metadata": {
    "colab_type": "text",
    "id": "g3sql8QkHMAJ"
   },
   "source": [
    "## Errores"
   ]
  },
  {
   "cell_type": "code",
   "execution_count": 5,
   "metadata": {
    "colab": {
     "base_uri": "https://localhost:8080/",
     "height": 218
    },
    "colab_type": "code",
    "id": "L52_ynKiG8Tb",
    "outputId": "2edf50a5-4985-4bd9-c0b3-97dacba86118"
   },
   "outputs": [
    {
     "name": "stdout",
     "output_type": "stream",
     "text": [
      "\n",
      " A\n",
      "[[0.1 2. ]\n",
      " [2.  0.1]]\n",
      "\n",
      " A**2\n",
      "[[0.01 4.  ]\n",
      " [4.   0.01]]\n",
      "\n",
      " A^2\n",
      "[[4.01 0.4 ]\n",
      " [0.4  4.01]]\n"
     ]
    }
   ],
   "source": [
    "print('\\n A')\n",
    "print(A)\n",
    "\n",
    "print('\\n A**2')\n",
    "print(A**2)\n",
    "\n",
    "print('\\n A^2')\n",
    "print(np.linalg.matrix_power(A,2))"
   ]
  }
 ],
 "metadata": {
  "colab": {
   "collapsed_sections": [],
   "name": "Optimizacion-Lab0-Solucion.ipynb",
   "provenance": []
  },
  "kernelspec": {
   "display_name": "Python 3",
   "language": "python",
   "name": "python3"
  },
  "language_info": {
   "codemirror_mode": {
    "name": "ipython",
    "version": 3
   },
   "file_extension": ".py",
   "mimetype": "text/x-python",
   "name": "python",
   "nbconvert_exporter": "python",
   "pygments_lexer": "ipython3",
   "version": "3.9.7"
  },
  "varInspector": {
   "cols": {
    "lenName": 16,
    "lenType": 16,
    "lenVar": 40
   },
   "kernels_config": {
    "python": {
     "delete_cmd_postfix": "",
     "delete_cmd_prefix": "del ",
     "library": "var_list.py",
     "varRefreshCmd": "print(var_dic_list())"
    },
    "r": {
     "delete_cmd_postfix": ") ",
     "delete_cmd_prefix": "rm(",
     "library": "var_list.r",
     "varRefreshCmd": "cat(var_dic_list()) "
    }
   },
   "position": {
    "height": "144.4px",
    "left": "1140px",
    "right": "20px",
    "top": "121px",
    "width": "350px"
   },
   "types_to_exclude": [
    "module",
    "function",
    "builtin_function_or_method",
    "instance",
    "_Feature"
   ],
   "window_display": false
  }
 },
 "nbformat": 4,
 "nbformat_minor": 1
}
