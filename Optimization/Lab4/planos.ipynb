{
 "cells": [
  {
   "cell_type": "code",
   "execution_count": 21,
   "metadata": {},
   "outputs": [],
   "source": [
    "def equation_plane(x1, y1, z1, x2, y2, z2, x3, y3, z3):  \n",
    "\n",
    "    a1 = x2 - x1 \n",
    "    b1 = y2 - y1 \n",
    "    c1 = z2 - z1 \n",
    "    a2 = x3 - x1 \n",
    "    b2 = y3 - y1 \n",
    "    c2 = z3 - z1 \n",
    "    a = b1 * c2 - b2 * c1 \n",
    "    b = a2 * c1 - a1 * c2 \n",
    "    c = a1 * b2 - b1 * a2 \n",
    "    d = (- a * x1 - b * y1 - c * z1) \n",
    "    \n",
    "    print(f\"Equation of plane is {a}x + {b}y + {c}z + {d} = 0\")"
   ]
  },
  {
   "cell_type": "code",
   "execution_count": 42,
   "metadata": {},
   "outputs": [
    {
     "name": "stdout",
     "output_type": "stream",
     "text": [
      "Equation of plane is 0.0x + 0.0y + 1.6409230000000001z + -0.0 = 0\n"
     ]
    }
   ],
   "source": [
    "x1 = 0\n",
    "y1 = 0\n",
    "z1 = 0\n",
    "\n",
    "x2 = 1.333\n",
    "y2 = 0\n",
    "z2 = 0\n",
    "\n",
    "x3 = 2.154\n",
    "y3 = 1.231\n",
    "z3 = 0\n",
    "\n",
    "equation_plane(x1, y1, z1, x2, y2, z2, x3, y3, z3)"
   ]
  },
  {
   "cell_type": "code",
   "execution_count": 43,
   "metadata": {},
   "outputs": [
    {
     "name": "stdout",
     "output_type": "stream",
     "text": [
      "Equation of plane is 0.0x + 2.1328y + 0.0z + -0.0 = 0\n"
     ]
    }
   ],
   "source": [
    "x1 = 0\n",
    "y1 = 0\n",
    "z1 = 0\n",
    "\n",
    "x2 = 0\n",
    "y2 = 0\n",
    "z2 = 1.6\n",
    "\n",
    "x3 = 1.333\n",
    "y3 = 0\n",
    "z3 = 0\n",
    "\n",
    "equation_plane(x1, y1, z1, x2, y2, z2, x3, y3, z3)"
   ]
  },
  {
   "cell_type": "code",
   "execution_count": 46,
   "metadata": {},
   "outputs": [
    {
     "name": "stdout",
     "output_type": "stream",
     "text": [
      "Equation of plane is 0.0x + -1.939515y + 0.0z + 0.0 = 0\n"
     ]
    }
   ],
   "source": [
    "x1 = 0\n",
    "y1 = 0\n",
    "z1 = 0\n",
    "\n",
    "x2 = 1.333\n",
    "y2 = 0\n",
    "z2 = 0\n",
    "\n",
    "x3 = 0.364\n",
    "y3 = 0\n",
    "z3 = 1.455\n",
    "\n",
    "equation_plane(x1, y1, z1, x2, y2, z2, x3, y3, z3)"
   ]
  },
  {
   "cell_type": "code",
   "execution_count": 47,
   "metadata": {},
   "outputs": [
    {
     "name": "stdout",
     "output_type": "stream",
     "text": [
      "Equation of plane is 2.2975999999999996x + 3.4464y + 5.744718z + -9.1915488 = 0\n"
     ]
    }
   ],
   "source": [
    "x1 = 0\n",
    "y1 = 2.667\n",
    "z1 = 0\n",
    "\n",
    "x2 = 0\n",
    "y2 = 0\n",
    "z2 = 1.6\n",
    "\n",
    "x3 = 2.154\n",
    "y3 = 1.231\n",
    "z3 = 0\n",
    "\n",
    "equation_plane(x1, y1, z1, x2, y2, z2, x3, y3, z3)"
   ]
  },
  {
   "cell_type": "code",
   "execution_count": 48,
   "metadata": {},
   "outputs": [
    {
     "name": "stdout",
     "output_type": "stream",
     "text": [
      "Equation of plane is -1.7911050000000002x + 1.1945550000000003y + -1.192839z + 2.387542965 = 0\n"
     ]
    }
   ],
   "source": [
    "x1 = 0.364\n",
    "y1 = 0\n",
    "z1 = 1.455\n",
    "\n",
    "x2 = 2.154\n",
    "y2 = 1.231\n",
    "z2 = 0\n",
    "\n",
    "x3 = 1.333\n",
    "y3 = 0\n",
    "z3 = 0\n",
    "\n",
    "equation_plane(x1, y1, z1, x2, y2, z2, x3, y3, z3)"
   ]
  },
  {
   "cell_type": "code",
   "execution_count": 49,
   "metadata": {},
   "outputs": [
    {
     "name": "stdout",
     "output_type": "stream",
     "text": [
      "Equation of plane is 2.2975999999999996x + 3.4464y + 5.744718z + -9.1915488 = 0\n"
     ]
    }
   ],
   "source": [
    "x1 = 0\n",
    "y1 = 2.667\n",
    "z1 = 0\n",
    "\n",
    "x2 = 0\n",
    "y2 = 0\n",
    "z2 = 1.6\n",
    "\n",
    "x3 = 2.154\n",
    "y3 = 1.231\n",
    "z3 = 0\n",
    "\n",
    "equation_plane(x1, y1, z1, x2, y2, z2, x3, y3, z3)"
   ]
  },
  {
   "cell_type": "code",
   "execution_count": 50,
   "metadata": {},
   "outputs": [
    {
     "name": "stdout",
     "output_type": "stream",
     "text": [
      "Equation of plane is -3.2000000000000006x + -3.2y + 9.600000000000001z + 25.6 = 0\n"
     ]
    }
   ],
   "source": [
    "x1 = 0\n",
    "y1 = 10.4\n",
    "z1 = 0.8\n",
    "\n",
    "x2 = 0\n",
    "y2 = 8\n",
    "z2 = 0\n",
    "\n",
    "x3 = 4\n",
    "y3 = 4\n",
    "z3 = 0\n",
    "\n",
    "equation_plane(x1, y1, z1, x2, y2, z2, x3, y3, z3)"
   ]
  },
  {
   "cell_type": "code",
   "execution_count": 53,
   "metadata": {},
   "outputs": [
    {
     "name": "stdout",
     "output_type": "stream",
     "text": [
      "Equation of plane is 41.6x + 20.8y + 41.6z + -249.60000000000002 = 0\n"
     ]
    }
   ],
   "source": [
    "x1 = 0\n",
    "y1 = 10.4\n",
    "z1 = 0.8\n",
    "\n",
    "x2 = 0\n",
    "y2 = 0\n",
    "z2 = 6\n",
    "\n",
    "x3 = 4\n",
    "y3 = 4\n",
    "z3 = 0\n",
    "\n",
    "equation_plane(x1, y1, z1, x2, y2, z2, x3, y3, z3)"
   ]
  }
 ],
 "metadata": {
  "kernelspec": {
   "display_name": "Python 3",
   "language": "python",
   "name": "python3"
  },
  "language_info": {
   "codemirror_mode": {
    "name": "ipython",
    "version": 3
   },
   "file_extension": ".py",
   "mimetype": "text/x-python",
   "name": "python",
   "nbconvert_exporter": "python",
   "pygments_lexer": "ipython3",
   "version": "3.8.3"
  },
  "varInspector": {
   "cols": {
    "lenName": 16,
    "lenType": 16,
    "lenVar": 40
   },
   "kernels_config": {
    "python": {
     "delete_cmd_postfix": "",
     "delete_cmd_prefix": "del ",
     "library": "var_list.py",
     "varRefreshCmd": "print(var_dic_list())"
    },
    "r": {
     "delete_cmd_postfix": ") ",
     "delete_cmd_prefix": "rm(",
     "library": "var_list.r",
     "varRefreshCmd": "cat(var_dic_list()) "
    }
   },
   "types_to_exclude": [
    "module",
    "function",
    "builtin_function_or_method",
    "instance",
    "_Feature"
   ],
   "window_display": false
  }
 },
 "nbformat": 4,
 "nbformat_minor": 4
}
