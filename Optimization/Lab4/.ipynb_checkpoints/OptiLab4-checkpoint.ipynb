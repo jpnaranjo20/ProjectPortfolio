{
 "cells": [
  {
   "cell_type": "markdown",
   "metadata": {
    "colab_type": "text",
    "id": "wn64JnrroqLx"
   },
   "source": [
    "## Optimización - Laboratorio 4"
   ]
  },
  {
   "cell_type": "markdown",
   "metadata": {},
   "source": [
    "### Isabella Salgado 201730418\n",
    "### Juan Pablo Naranjo 201730006"
   ]
  },
  {
   "cell_type": "markdown",
   "metadata": {
    "colab_type": "text",
    "id": "kkV93Ol55IDk"
   },
   "source": [
    "A continuación, se encuentran funciones útiles para dibujar poligonos en 3 dimensiones. Adicional a esto se encuentra un ejemplo para poligonos en 2D y 3D."
   ]
  },
  {
   "cell_type": "markdown",
   "metadata": {
    "colab_type": "text",
    "id": "g8lKbnvQ_jok"
   },
   "source": [
    "## Funciones para dibujar"
   ]
  },
  {
   "cell_type": "markdown",
   "metadata": {
    "colab_type": "text",
    "id": "kmx0iHc8_q2M"
   },
   "source": [
    "Librerías"
   ]
  },
  {
   "cell_type": "code",
   "execution_count": 193,
   "metadata": {
    "colab": {},
    "colab_type": "code",
    "id": "yGRDmlLN791i"
   },
   "outputs": [],
   "source": [
    "import numpy as np\n",
    "from sympy import Plane, Point3D\n",
    "import networkx as nx\n",
    "import itertools\n",
    "\n",
    "from matplotlib.patches import Circle\n",
    "from scipy.optimize import linprog\n",
    "from scipy.spatial import HalfspaceIntersection\n",
    "from scipy.spatial import ConvexHull\n",
    "import scipy as sp\n",
    "from itertools import combinations\n",
    "from IPython.display import display\n",
    "import pandas as pd\n",
    "import warnings\n",
    "warnings.filterwarnings('ignore')\n",
    "\n",
    "\n",
    "import matplotlib.pyplot as plt\n",
    "import mpl_toolkits.mplot3d as a3\n",
    "import matplotlib.colors as colors\n",
    "from mpl_toolkits import mplot3d\n",
    "\n",
    "%matplotlib inline\n",
    "\n",
    "import matplotlib as mpl\n",
    "import matplotlib.pyplot as plt"
   ]
  },
  {
   "cell_type": "markdown",
   "metadata": {
    "colab_type": "text",
    "id": "_C7cqOof7TIq"
   },
   "source": [
    "Funciones para dibujar"
   ]
  },
  {
   "cell_type": "code",
   "execution_count": 50,
   "metadata": {
    "colab": {},
    "colab_type": "code",
    "id": "kYdVchhKjUD8"
   },
   "outputs": [],
   "source": [
    "def simplify(triangles):\n",
    "\n",
    "    # create a graph in which nodes represent triangles;\n",
    "    # nodes are connected if the corresponding triangles are adjacent and coplanar\n",
    "    G = nx.Graph()\n",
    "    G.add_nodes_from(range(len(triangles)))\n",
    "    for ii, a in enumerate(triangles):\n",
    "        for jj, b in enumerate(triangles):\n",
    "            if (ii < jj): # test relationships only in one way as adjacency and co-planarity are bijective\n",
    "                if is_adjacent(a, b):\n",
    "                    if is_coplanar(a, b, np.pi / 180.):\n",
    "                        G.add_edge(ii,jj)\n",
    "    # flatten function\n",
    "    flatten = lambda l: [item for sublist in l for item in sublist]\n",
    "\n",
    "    # triangles that belong to a connected component can be combined\n",
    "    components = list(nx.connected_components(G))\n",
    "    simplified = [set(flatten(triangles[index] for index in component)) for component in components]\n",
    "\n",
    "    # need to reorder nodes so that patches are plotted correctly\n",
    "    reordered = [list(reorder(face)) for face in simplified]\n",
    "\n",
    "    return reordered\n",
    "\n",
    "\n",
    "def is_adjacent(a, b):\n",
    "    return len(set(a) & set(b)) == 2 # i.e. triangles share 2 points and hence a side\n",
    "\n",
    "\n",
    "def is_coplanar(a, b, tolerance_in_radians=0):\n",
    "    a1, a2, a3 = a\n",
    "    b1, b2, b3 = b\n",
    "    plane_a = Plane(Point3D(a1), Point3D(a2), Point3D(a3))\n",
    "    plane_b = Plane(Point3D(b1), Point3D(b2), Point3D(b3))\n",
    "    if not tolerance_in_radians: # only accept exact results\n",
    "        return plane_a.is_coplanar(plane_b)\n",
    "    else:\n",
    "        angle = plane_a.angle_between(plane_b).evalf()\n",
    "        angle %= np.pi # make sure that angle is between 0 and np.pi\n",
    "        return (angle - tolerance_in_radians <= 0.) or \\\n",
    "            ((np.pi - angle) - tolerance_in_radians <= 0.)\n",
    "\n",
    "\n",
    "def reorder(vertices):\n",
    "    # Reorders nodes so they form a face\n",
    "    # Tolerance to error in degree angle\n",
    "    tolerance = 0.05\n",
    "    \n",
    "    if len(vertices) <= 3: # just a triangle\n",
    "        return vertices\n",
    "    else:\n",
    "        vertices = list(vertices)\n",
    "        combinations = get_combinations(len(vertices))\n",
    "        angle = 180*(len(vertices)-2) \n",
    "        \n",
    "        for comb in combinations:\n",
    "            \n",
    "            reordered = [vertices[c] for c in comb]\n",
    "            inner_angle = get_innerAngle(reordered)\n",
    "            \n",
    "            if (inner_angle < angle + tolerance) and (inner_angle > angle - tolerance):\n",
    "                return reordered\n",
    "            \n",
    "\n",
    "def get_combinations(n):\n",
    "    stuff = range(n)\n",
    "    out = []\n",
    "    for L in range(0, len(stuff)+1):\n",
    "        for subset in itertools.permutations(stuff, L):\n",
    "            if (len(subset) == len(stuff)) and (subset[0] == stuff[0]):\n",
    "                out.append(subset)\n",
    "    \n",
    "    return(out)\n",
    "    \n",
    "def get_angle3D(a,b,c):\n",
    "    ba = np.array(a) - np.array(b)\n",
    "    bc = np.array(c) - np.array(b)\n",
    "    \n",
    "    cosine_angle = np.dot(ba, bc) / (np.linalg.norm(ba) * np.linalg.norm(bc))\n",
    "    angle = np.arccos(cosine_angle)\n",
    "\n",
    "    return np.degrees(angle)\n",
    "\n",
    "def get_innerAngle(vertices):\n",
    "    tmp = vertices.copy()\n",
    "    # Add information to do calculations\n",
    "    tmp = [tmp[-1]] + tmp + [tmp[0]]\n",
    "    \n",
    "    angle = 0\n",
    "    \n",
    "    for i in range(1,len(tmp)-1):\n",
    "        angle += get_angle3D(tmp[i-1],tmp[i],tmp[i+1])\n",
    "    \n",
    "    return angle\n",
    "    \n",
    "\n",
    "def get_distance(v1, v2):\n",
    "    v2 = np.array(list(v2))\n",
    "    difference = v2 - v1\n",
    "    ssd = np.sum(difference**2, axis=1)\n",
    "    return np.sqrt(ssd)\n",
    "\n",
    "def polygon3D(halfspaces, feasible_point, options):\n",
    "    \n",
    "    hs = HalfspaceIntersection(halfspaces, feasible_point)\n",
    "    verts = hs.intersections\n",
    "    hull = ConvexHull(verts)\n",
    "    faces = hull.simplices\n",
    "    \n",
    "    triangles = []\n",
    "    for s in faces:\n",
    "        sq = [\n",
    "            (verts[s[0], 0], verts[s[0], 1], verts[s[0], 2]),\n",
    "            (verts[s[1], 0], verts[s[1], 1], verts[s[1], 2]),\n",
    "            (verts[s[2], 0], verts[s[2], 1], verts[s[2], 2])\n",
    "        ]\n",
    "        triangles.append(sq)\n",
    "    \n",
    "    new_faces = simplify(triangles)\n",
    "    \n",
    "    # Create Figure\n",
    "    ax = a3.Axes3D(plt.figure())\n",
    "\n",
    "    ax.dist= options['distance']\n",
    "    ax.azim= options['assymetry']\n",
    "    ax.elev= options['elevation']\n",
    "    \n",
    "    for sq in new_faces:\n",
    "        f = a3.art3d.Poly3DCollection([sq])\n",
    "        f.set_color(colors.rgb2hex(sp.rand(3)))\n",
    "        f.set_edgecolor('k')\n",
    "        f.set_alpha(0.4)\n",
    "        ax.add_collection3d(f)\n",
    "        \n",
    "    ax.set_xlabel('x')\n",
    "    ax.set_ylabel('y')\n",
    "    ax.set_zlabel('z')\n",
    "    ax.set_title(options['title'])\n",
    "    \n",
    "    xpoints = [it[0] for it in verts]\n",
    "    ypoints = [it[1] for it in verts]\n",
    "    zpoints = [it[2] for it in verts]\n",
    "\n",
    "    \n",
    "    scale = np.max([np.max(xpoints),np.max(ypoints),np.max(zpoints)])/15\n",
    "    \n",
    "    ax.set_xlim(np.min(xpoints) - scale/2, np.max(xpoints) + scale)\n",
    "    ax.set_ylim(np.min(ypoints) - scale/2, np.max(ypoints) + scale)\n",
    "    ax.set_zlim(np.min(zpoints) - scale/2, np.max(zpoints) + scale)\n",
    "                \n",
    "    return ax\n",
    "\n",
    "def polygon2D(vertices, options):\n",
    "    \n",
    "    path_points = reorder(vertices)\n",
    "    path_points = list(path_points) + list([path_points[0]])\n",
    "\n",
    "    # Dibujar forma a partir de los puntos\n",
    "    path = mpl.path.Path(path_points)            \n",
    "    patch = mpl.patches.PathPatch(path, facecolor= options['color'])               \n",
    "    # Add to plot\n",
    "    plt.gca().add_patch(patch)\n",
    "\n",
    "    plt.xlabel('x')\n",
    "    plt.ylabel('y')\n",
    "\n",
    "    xpoints = [it[0] for it in path_points]\n",
    "    ypoints = [it[1] for it in path_points]\n",
    "\n",
    "    scale = np.max([np.max(xpoints),np.max(ypoints)])/15\n",
    "\n",
    "    plt.xlim(np.min(xpoints) - scale/2, np.max(xpoints) + scale)\n",
    "    plt.ylim(np.min(ypoints) - scale/2, np.max(ypoints) + scale)\n",
    "\n",
    "    plt.gca().set_aspect('equal', adjustable='box')\n",
    "\n",
    "    ax = plt.gca()\n",
    "    ax.set_title(options['title'])\n",
    "\n",
    "    return ax"
   ]
  },
  {
   "cell_type": "markdown",
   "metadata": {},
   "source": [
    "### A continuación se presenta la defincición de la función que encuentra las soluciones básicas de un problema de optimización en la forma estándar."
   ]
  },
  {
   "cell_type": "code",
   "execution_count": 181,
   "metadata": {
    "colab": {},
    "colab_type": "code",
    "id": "kYdVchhKjUD8"
   },
   "outputs": [],
   "source": [
    "def func(A,b):\n",
    "    \n",
    "    # Se crea un diccionario cuyas llaves y valores ambas son listas vacías.\n",
    "    dir = {'Solución':[], 'Base':[]}\n",
    "    \n",
    "    # Se determina la dimensión de la matriz y vector de entrada.\n",
    "    sizeA = np.shape(A) # m ecuaciones\n",
    "    sizeb = np.shape(b) # n incógnitas\n",
    "    \n",
    "    # Se usa la función combinations para encontrar todas las combinaciones posibles que se pueden hacer\n",
    "    # con las m ecuaciones y n incógnitas. Las componentes de cada tupla que retorna la función indica qué\n",
    "    # columnas de la matriz se eliminan, es decir, qué variables se están mandando a cero para resolver el \n",
    "    # sistema de ecuaciones resultante. La cantidad de combinaciones que resultan es la cantidad de soluciones\n",
    "    # básicas que tiene el problema de optimización. \n",
    "    combs = combinations(list(range(0,sizeA[1])),(sizeA[1]-sizeA[0]))\n",
    "    \n",
    "    # Vamos a examinar todas las posibles combinaciones de variables igualadas a cero.\n",
    "    for item in list(combs):\n",
    "        \n",
    "        # Se crea una copia de la matriz, llamada A_1\n",
    "        A_1 = A.copy()\n",
    "        \n",
    "        # Se eliminan las item-ésimas (números de la tupla) columnas (indicadas por axis=1) de A_1, es decir, se mandan\n",
    "        # a cero las variables correspondientes a esas columnas. \n",
    "        A_1 = np.delete(A_1,item,axis=1)\n",
    "        \n",
    "        # Se crea otra copia de la matriz, llamada A_2\n",
    "        A_2 = A.copy()\n",
    "        \n",
    "        # Se ponen las item-ésimas (números de la tupla) columnas de A_2 en cero para indicar cómo queda el sistema cuando \n",
    "        # se mandan esas variables a cero. Estas son las bases correspondientes a cada solución básica.\n",
    "        A_2[:,item] = 0\n",
    "        \n",
    "        # La solución básica está dada por la solución del sistema resultante al mandar las m-n variables a cero.\n",
    "        # Si la matriz del sistema de ecuaciones resultante es singular, se agrega la palabra 'Singular' a las llaves, y su\n",
    "        # respectiva base a los valores.\n",
    "        if (np.linalg.det(A_1)==0):\n",
    "            dir['Solución'].append('Matriz singular')\n",
    "            dir['Base'].append(A_2)\n",
    "        # Si la matriz sí se puede invertir, se encuentra la solución básica sin problema. Después de encontrar estos valores,\n",
    "        # se vuelven a agregar las columnas que se eliminaron previamente, y se agregan como un cero en la item-ésima\n",
    "        # componente de cada solución básica. \n",
    "        else:\n",
    "            ans = np.dot(np.linalg.inv(A_1),b)\n",
    "            ans = np.round(ans,3)\n",
    "            # Se usa este ciclo para recorrer las item-ésimas componentes de las soluciones básicas (las que se habían\n",
    "            # eliminado previamente). En cada componente se agrega un cero.\n",
    "            for i in item:\n",
    "                ans = np.insert(ans, i, 0, axis=0)\n",
    "            # Se agregan las soluciones básicas a la llave 'Solución' del diccionario, y las matrices resultantes al valor 'Base'.\n",
    "            dir['Solución'].append(ans)\n",
    "            dir['Base'].append(A_2)\n",
    "             \n",
    "                               \n",
    "    return dir"
   ]
  },
  {
   "cell_type": "markdown",
   "metadata": {},
   "source": [
    "### A continuación se presenta la implementación de la función que determina las soluciones báscias factibles de un problema de optimización en la forma estándar, a partir de las soluciones básicas."
   ]
  },
  {
   "cell_type": "code",
   "execution_count": 182,
   "metadata": {
    "colab": {},
    "colab_type": "code",
    "id": "BAU_ZLX5_KIq"
   },
   "outputs": [],
   "source": [
    "def fun(A,b):\n",
    "    \n",
    "    # Se crea un diccionario con dos llaves. Los valores de la llave 'Factibles' corresponden a las soluciones básicas \n",
    "    # factibles. Los valores de la llave 'Base' corresponden a las bases correspondientes a las soluciones básicas \n",
    "    # factibles.\n",
    "    factibles = {'Factibles': [], 'Base': []}\n",
    "    \n",
    "    # Se llama a la función creada previamente para determinar cuáles son las soluciones básicas.\n",
    "    res1 = func(A,b)\n",
    "    \n",
    "    # Las soluciones básicas corresponden a los valores de la llave 'Solución' del diccionario entregado por la función\n",
    "    # del punto 1. Las bases de estas soluciones básicas corresponden a los valores de la llave 'Base' del diccionario \n",
    "    # entregado por la función del punto 1.\n",
    "    sols_basicas = res1['Solución']\n",
    "    bases_basicas = res1['Base']\n",
    "\n",
    "    # Las soluciones básicas factibles corresponden a los valores de la llave 'Solución' del diccionario creado\n",
    "    # anteriormente. Las bases de estas soluciones básicas factibles corresponden a los valores de la llave 'Base' \n",
    "    # del diccionario creado anteriormente. \n",
    "    sols_factibles = factibles['Factibles']\n",
    "    bases_factibles = factibles['Base']\n",
    "       \n",
    "    # Se recorren todas las soluciones básicas. Si todas las componentes del vector correspondiente a una solución básica\n",
    "    # son mayores o iguales a cero, esta solución es básica y por lo tanto se agrega el valor de esta solución básica al\n",
    "    # diccionario de soluciones básicas factibles. De igual forma, se agrega el valor de la base correspondiente a esa \n",
    "    # solución básica al diccionario. \n",
    "    for solucion in sols_basicas:\n",
    "        if solucion == 'Matriz singular':\n",
    "            pass\n",
    "        else:\n",
    "            if all(x>=0 for x in solucion) == True:\n",
    "                factibles['Factibles'].append(solucion)\n",
    "                factibles['Base'].append(res1.get('Base', solucion))\n",
    "            else:\n",
    "                pass\n",
    "            \n",
    "    # Se preseta la información obtenida por la función en una tabla ordenada haciendo uso de la librería pandas.\n",
    "    tabla1 = pd.DataFrame({\n",
    "        'Solución': sols_factibles,\n",
    "        'Base': bases_factibles\n",
    "    })\n",
    "\n",
    "    display(tabla1)\n",
    "    \n",
    "    return factibles"
   ]
  },
  {
   "cell_type": "markdown",
   "metadata": {},
   "source": [
    "# 1) Definición de una función que grafica la región factible de un problema de optimización en la forma estándar."
   ]
  },
  {
   "cell_type": "code",
   "execution_count": 194,
   "metadata": {
    "colab": {
     "base_uri": "https://localhost:8080/",
     "height": 461
    },
    "colab_type": "code",
    "id": "fcdthKxC7u0y",
    "outputId": "eefecfd6-e752-4af1-a94d-92179aaf175f",
    "scrolled": false
   },
   "outputs": [],
   "source": [
    "# Esta función dibuja la región factible de un problema de optimización de dos o tres variables de decisión en espacio 2D\n",
    "# o 3D. Como parámetro recibe una matriz cuyas filas corresponden a las ecuaciones de los diferentes semiespacios que\n",
    "# encierran a la región factible.\n",
    "\n",
    "def genRegionFactible(halfspaces):\n",
    "    \n",
    "    # Se obtiene la dimensión de la matriz de semiespacios.\n",
    "    sizeA = np.shape(halfspaces)\n",
    "    \n",
    "    # Se concatena la submatriz halfspaces sin la última columna con los vectores de variable de holgura, representados por \n",
    "    # una matriz identidad con el mismo número de filas que la matriz de semiespacios.\n",
    "    A = np.concatenate((halfspaces[:,:-1],np.identity(halfspaces.shape[0])),axis=1)\n",
    "    \n",
    "    # El vector b está dado por el negativo de la última columna de la matriz de semiespacios.\n",
    "    b = -1*halfspaces[:,-1]\n",
    "    \n",
    "    # Se encuentran las soluciones básicas factibles del problema de optimización.\n",
    "    var2 = fun(A,b)\n",
    "    \n",
    "    # Se crea una lista vacía para después llenarla con las soluciones básicas factibles del problema. Estas soluciones\n",
    "    # básicas factibles corresponden a los vértices del polígono generado por la intersección de los semiespacios.\n",
    "    vertices = []\n",
    "    \n",
    "    # Si el problema de optimización tiene menos de 3 variables (4 dimensiones en la forma en que se define la matriz de\n",
    "    # subespacios), se lleva a cabo el procedimiento de dibujar con la función polygon2D.\n",
    "    if sizeA[1] < 4:\n",
    "\n",
    "        # Se recorre la lista de soluciones básicas factibles y cada elemento de la lista se agrega a la lista de vértices.\n",
    "        # Solo se agregan los primeros dos elementos del vector de soluciones básicas factibles, que corresponden a las \n",
    "        # variables de decisión, y no a las variables de holgura.\n",
    "        for item in list(var2['Factibles']):\n",
    "            lista = list(item)\n",
    "            vertices.append(lista[:2])\n",
    "\n",
    "        # Opciones para el color, etiquetas y título de la gráfica generada.\n",
    "        options = {'color': 'lightblue',\n",
    "                   'xlabel': 'x' ,\n",
    "                   'ylabel': 'y',\n",
    "                   'title':'Región Factible'}\n",
    "\n",
    "        # Se dibuja la región factible a partir de las soluciones básicas factibles.\n",
    "        ax = polygon2D(vertices, options)\n",
    "\n",
    "        # Se marca cada solución básica factible con un punto rojo.\n",
    "        for item in vertices:\n",
    "            ax.scatter(item[0], item[1], c = 'red' , marker = '.', s = 180)\n",
    "    \n",
    "    # Si el problema de optimización tiene exactamente 3 variables (4 dimensiones en la forma en que se define la matriz de\n",
    "    # subespacios), se lleva a cabo el procedimiento de dibujar con la función polygon3D.\n",
    "    elif sizeA[1] == 4:\n",
    "        \n",
    "        # Se recorre la lista de soluciones básicas factibles y cada elemento de la lista se agrega a la lista de vértices.\n",
    "        # Solo se agregan los primeros tres elementos del vector de soluciones básicas factibles, que corresponden a las \n",
    "        # variables de decisión, y no a las variables de holgura.\n",
    "        for item in list(var2['Factibles']):\n",
    "            lista = list(item)\n",
    "            vertices.append(lista[:3])\n",
    "        \n",
    "        # Para poder graficar en tres dimensiones, se requiere agregar 3 filas a la matriz de semiespacios,\n",
    "        # correspondientes a las variables de holgura. \n",
    "        halfspaces3d = np.append(halfspaces, [[-1, 0, 0, 0], [0, -1, 0, 0], [0, 0, -1, 0]], axis=0)\n",
    "        \n",
    "        # Opciones para graficar en 3D\n",
    "        options = {'distance': 10,\n",
    "                   'assymetry':10,\n",
    "                   'elevation':10,\n",
    "                   'title':'Región Factible'}\n",
    "\n",
    "        # Se necesita también un punto dentro de la región factible. Este punto se va a pedir como input del usuario.\n",
    "        feasible_point = []\n",
    "        \n",
    "        # Si el punto seleccionado por el usuario está dentro de la región factible y el punto consiste de solo 3\n",
    "        # coordenadas, se logra dibujar la región factible.\n",
    "        try:\n",
    "            feasible_point = [float(item) for item in input(\"Escriba las coordenadas x, y, z (en ese orden) del punto dentro de la región factible separadas por espacios: \").split()] \n",
    "\n",
    "            feasible_point = np.asarray(feasible_point) \n",
    "\n",
    "            # Se dibuja la región factible a partir de las soluciones básicas factibles.\n",
    "            ax = polygon3D(halfspaces3d, feasible_point, options)\n",
    "\n",
    "            # Se marca cada solución básica factible con un punto rojo.\n",
    "            for item in vertices:\n",
    "                ax.scatter(item[0], item[1], item[2], c = 'red', marker = '.', s = 180)\n",
    "                \n",
    "        # Si el punto seleccionado por el usuario no está dentro de la región factible o el usuario no escribió bien el\n",
    "        # punto dentro de la región factible, se muestra un error.\n",
    "        except:\n",
    "            print(\"Ocurrió alguna de estas cuatro: \\n 1. El punto no está dentro de la región factible \\n 2. Escribió más de tres coordenadas \\n 3. No escribió números \\n 4. No separó por espacios \")"
   ]
  },
  {
   "cell_type": "markdown",
   "metadata": {},
   "source": [
    "**IMPORTANTE**: Tener en cuenta que para que la función entregue resultados correctos, los semiespacios deben estar declarados de la forma $$Ax \\leq -b$$\n",
    "\n",
    "Información sobre cómo obtener una lista como input del usuario se encontró [aquí](https://www.geeksforgeeks.org/python-get-a-list-as-input-from-user/). \n",
    "\n",
    "Información sobre cómo pasar una lista a un array de tipo *numpy* se encontró [aquí](https://numpy.org/doc/stable/reference/generated/numpy.asarray.html)"
   ]
  },
  {
   "cell_type": "markdown",
   "metadata": {},
   "source": [
    "### Ejemplo de la gráfica de una región factible en 2 dimensiones"
   ]
  },
  {
   "cell_type": "code",
   "execution_count": 184,
   "metadata": {
    "scrolled": false
   },
   "outputs": [
    {
     "data": {
      "text/html": [
       "<div>\n",
       "<style scoped>\n",
       "    .dataframe tbody tr th:only-of-type {\n",
       "        vertical-align: middle;\n",
       "    }\n",
       "\n",
       "    .dataframe tbody tr th {\n",
       "        vertical-align: top;\n",
       "    }\n",
       "\n",
       "    .dataframe thead th {\n",
       "        text-align: right;\n",
       "    }\n",
       "</style>\n",
       "<table border=\"1\" class=\"dataframe\">\n",
       "  <thead>\n",
       "    <tr style=\"text-align: right;\">\n",
       "      <th></th>\n",
       "      <th>Solución</th>\n",
       "      <th>Base</th>\n",
       "    </tr>\n",
       "  </thead>\n",
       "  <tbody>\n",
       "    <tr>\n",
       "      <th>0</th>\n",
       "      <td>[0.0, 0.0, 4.0, 4.0]</td>\n",
       "      <td>[[[0.0, 0.0, 1.0, 0.0], [0.0, 0.0, 0.0, 1.0]],...</td>\n",
       "    </tr>\n",
       "    <tr>\n",
       "      <th>1</th>\n",
       "      <td>[0.0, 2.0, 2.0, 0.0]</td>\n",
       "      <td>[[[0.0, 0.0, 1.0, 0.0], [0.0, 0.0, 0.0, 1.0]],...</td>\n",
       "    </tr>\n",
       "    <tr>\n",
       "      <th>2</th>\n",
       "      <td>[2.0, 0.0, 0.0, 6.0]</td>\n",
       "      <td>[[[0.0, 0.0, 1.0, 0.0], [0.0, 0.0, 0.0, 1.0]],...</td>\n",
       "    </tr>\n",
       "    <tr>\n",
       "      <th>3</th>\n",
       "      <td>[0.8, 2.4, 0.0, 0.0]</td>\n",
       "      <td>[[[0.0, 0.0, 1.0, 0.0], [0.0, 0.0, 0.0, 1.0]],...</td>\n",
       "    </tr>\n",
       "  </tbody>\n",
       "</table>\n",
       "</div>"
      ],
      "text/plain": [
       "               Solución                                               Base\n",
       "0  [0.0, 0.0, 4.0, 4.0]  [[[0.0, 0.0, 1.0, 0.0], [0.0, 0.0, 0.0, 1.0]],...\n",
       "1  [0.0, 2.0, 2.0, 0.0]  [[[0.0, 0.0, 1.0, 0.0], [0.0, 0.0, 0.0, 1.0]],...\n",
       "2  [2.0, 0.0, 0.0, 6.0]  [[[0.0, 0.0, 1.0, 0.0], [0.0, 0.0, 0.0, 1.0]],...\n",
       "3  [0.8, 2.4, 0.0, 0.0]  [[[0.0, 0.0, 1.0, 0.0], [0.0, 0.0, 0.0, 1.0]],..."
      ]
     },
     "metadata": {},
     "output_type": "display_data"
    },
    {
     "data": {
      "image/png": "[encoded data removed]",
      "text/plain": [
       "<Figure size 432x288 with 1 Axes>"
      ]
     },
     "metadata": {
      "needs_background": "light"
     },
     "output_type": "display_data"
    }
   ],
   "source": [
    "halfspaces = np.array([[2, 1, -4],\n",
    "                       [-1, 2, -4]])\n",
    "\n",
    "genRegionFactible(halfspaces)"
   ]
  },
  {
   "cell_type": "markdown",
   "metadata": {},
   "source": [
    "### Ejemplo de la gráfica de una región factible en 3 dimensiones"
   ]
  },
  {
   "cell_type": "code",
   "execution_count": 185,
   "metadata": {},
   "outputs": [
    {
     "data": {
      "text/html": [
       "<div>\n",
       "<style scoped>\n",
       "    .dataframe tbody tr th:only-of-type {\n",
       "        vertical-align: middle;\n",
       "    }\n",
       "\n",
       "    .dataframe tbody tr th {\n",
       "        vertical-align: top;\n",
       "    }\n",
       "\n",
       "    .dataframe thead th {\n",
       "        text-align: right;\n",
       "    }\n",
       "</style>\n",
       "<table border=\"1\" class=\"dataframe\">\n",
       "  <thead>\n",
       "    <tr style=\"text-align: right;\">\n",
       "      <th></th>\n",
       "      <th>Solución</th>\n",
       "      <th>Base</th>\n",
       "    </tr>\n",
       "  </thead>\n",
       "  <tbody>\n",
       "    <tr>\n",
       "      <th>0</th>\n",
       "      <td>[0.0, 0.0, 0.0, 10.0, 4.0, 4.0, 4.0, 0.0, 0.0,...</td>\n",
       "      <td>[[[0.0, 0.0, 0.0, 1.0, 0.0, 0.0, 0.0, 0.0, 0.0...</td>\n",
       "    </tr>\n",
       "    <tr>\n",
       "      <th>1</th>\n",
       "      <td>[0.0, 0.0, 4.0, 6.0, 4.0, 4.0, 0.0, 0.0, 0.0, ...</td>\n",
       "      <td>[[[0.0, 0.0, 0.0, 1.0, 0.0, 0.0, 0.0, 0.0, 0.0...</td>\n",
       "    </tr>\n",
       "    <tr>\n",
       "      <th>2</th>\n",
       "      <td>[0.0, 0.0, 0.0, 10.0, 4.0, 4.0, 4.0, 0.0, 0.0,...</td>\n",
       "      <td>[[[0.0, 0.0, 0.0, 1.0, 0.0, 0.0, 0.0, 0.0, 0.0...</td>\n",
       "    </tr>\n",
       "    <tr>\n",
       "      <th>3</th>\n",
       "      <td>[0.0, 4.0, 0.0, 6.0, 4.0, 0.0, 4.0, 0.0, 8.0, ...</td>\n",
       "      <td>[[[0.0, 0.0, 0.0, 1.0, 0.0, 0.0, 0.0, 0.0, 0.0...</td>\n",
       "    </tr>\n",
       "    <tr>\n",
       "      <th>4</th>\n",
       "      <td>[0.0, 0.0, 0.0, 10.0, 4.0, 4.0, 4.0, 0.0, 0.0,...</td>\n",
       "      <td>[[[0.0, 0.0, 0.0, 1.0, 0.0, 0.0, 0.0, 0.0, 0.0...</td>\n",
       "    </tr>\n",
       "    <tr>\n",
       "      <th>5</th>\n",
       "      <td>[0.0, 4.0, 4.0, 2.0, 4.0, 0.0, 0.0, 0.0, 8.0, ...</td>\n",
       "      <td>[[[0.0, 0.0, 0.0, 1.0, 0.0, 0.0, 0.0, 0.0, 0.0...</td>\n",
       "    </tr>\n",
       "    <tr>\n",
       "      <th>6</th>\n",
       "      <td>[0.0, 4.0, 0.0, 6.0, 4.0, 0.0, 4.0, 0.0, 8.0, ...</td>\n",
       "      <td>[[[0.0, 0.0, 0.0, 1.0, 0.0, 0.0, 0.0, 0.0, 0.0...</td>\n",
       "    </tr>\n",
       "    <tr>\n",
       "      <th>7</th>\n",
       "      <td>[0.0, 0.0, 4.0, 6.0, 4.0, 4.0, 0.0, 0.0, 0.0, ...</td>\n",
       "      <td>[[[0.0, 0.0, 0.0, 1.0, 0.0, 0.0, 0.0, 0.0, 0.0...</td>\n",
       "    </tr>\n",
       "    <tr>\n",
       "      <th>8</th>\n",
       "      <td>[0.0, 0.0, 0.0, 10.0, 4.0, 4.0, 4.0, 0.0, 0.0,...</td>\n",
       "      <td>[[[0.0, 0.0, 0.0, 1.0, 0.0, 0.0, 0.0, 0.0, 0.0...</td>\n",
       "    </tr>\n",
       "    <tr>\n",
       "      <th>9</th>\n",
       "      <td>[4.0, 0.0, 0.0, 6.0, 0.0, 4.0, 4.0, 4.0, 0.0, ...</td>\n",
       "      <td>[[[0.0, 0.0, 0.0, 1.0, 0.0, 0.0, 0.0, 0.0, 0.0...</td>\n",
       "    </tr>\n",
       "    <tr>\n",
       "      <th>10</th>\n",
       "      <td>[0.0, 0.0, 0.0, 10.0, 4.0, 4.0, 4.0, 0.0, 0.0,...</td>\n",
       "      <td>[[[0.0, 0.0, 0.0, 1.0, 0.0, 0.0, 0.0, 0.0, 0.0...</td>\n",
       "    </tr>\n",
       "    <tr>\n",
       "      <th>11</th>\n",
       "      <td>[4.0, 0.0, 4.0, 2.0, 0.0, 4.0, 0.0, 4.0, 0.0, ...</td>\n",
       "      <td>[[[0.0, 0.0, 0.0, 1.0, 0.0, 0.0, 0.0, 0.0, 0.0...</td>\n",
       "    </tr>\n",
       "    <tr>\n",
       "      <th>12</th>\n",
       "      <td>[4.0, 0.0, 0.0, 6.0, 0.0, 4.0, 4.0, 4.0, 0.0, ...</td>\n",
       "      <td>[[[0.0, 0.0, 0.0, 1.0, 0.0, 0.0, 0.0, 0.0, 0.0...</td>\n",
       "    </tr>\n",
       "    <tr>\n",
       "      <th>13</th>\n",
       "      <td>[0.0, 0.0, 4.0, 6.0, 4.0, 4.0, 0.0, 0.0, 0.0, ...</td>\n",
       "      <td>[[[0.0, 0.0, 0.0, 1.0, 0.0, 0.0, 0.0, 0.0, 0.0...</td>\n",
       "    </tr>\n",
       "    <tr>\n",
       "      <th>14</th>\n",
       "      <td>[0.0, 0.0, 0.0, 10.0, 4.0, 4.0, 4.0, 0.0, 0.0,...</td>\n",
       "      <td>[[[0.0, 0.0, 0.0, 1.0, 0.0, 0.0, 0.0, 0.0, 0.0...</td>\n",
       "    </tr>\n",
       "    <tr>\n",
       "      <th>15</th>\n",
       "      <td>[4.0, 4.0, 0.0, 2.0, 0.0, 0.0, 4.0, 4.0, 8.0, ...</td>\n",
       "      <td>[[[0.0, 0.0, 0.0, 1.0, 0.0, 0.0, 0.0, 0.0, 0.0...</td>\n",
       "    </tr>\n",
       "    <tr>\n",
       "      <th>16</th>\n",
       "      <td>[4.0, 0.0, 0.0, 6.0, 0.0, 4.0, 4.0, 4.0, 0.0, ...</td>\n",
       "      <td>[[[0.0, 0.0, 0.0, 1.0, 0.0, 0.0, 0.0, 0.0, 0.0...</td>\n",
       "    </tr>\n",
       "    <tr>\n",
       "      <th>17</th>\n",
       "      <td>[0.0, 4.0, 0.0, 6.0, 4.0, 0.0, 4.0, 0.0, 8.0, ...</td>\n",
       "      <td>[[[0.0, 0.0, 0.0, 1.0, 0.0, 0.0, 0.0, 0.0, 0.0...</td>\n",
       "    </tr>\n",
       "    <tr>\n",
       "      <th>18</th>\n",
       "      <td>[0.0, 0.0, 0.0, 10.0, 4.0, 4.0, 4.0, 0.0, 0.0,...</td>\n",
       "      <td>[[[0.0, 0.0, 0.0, 1.0, 0.0, 0.0, 0.0, 0.0, 0.0...</td>\n",
       "    </tr>\n",
       "    <tr>\n",
       "      <th>19</th>\n",
       "      <td>[4.0, 4.0, 2.0, 0.0, 0.0, 0.0, 2.0, 4.0, 8.0, ...</td>\n",
       "      <td>[[[0.0, 0.0, 0.0, 1.0, 0.0, 0.0, 0.0, 0.0, 0.0...</td>\n",
       "    </tr>\n",
       "    <tr>\n",
       "      <th>20</th>\n",
       "      <td>[4.0, 2.0, 4.0, 0.0, 0.0, 2.0, 0.0, 4.0, 4.0, ...</td>\n",
       "      <td>[[[0.0, 0.0, 0.0, 1.0, 0.0, 0.0, 0.0, 0.0, 0.0...</td>\n",
       "    </tr>\n",
       "    <tr>\n",
       "      <th>21</th>\n",
       "      <td>[2.0, 4.0, 4.0, 0.0, 2.0, 0.0, 0.0, 2.0, 8.0, ...</td>\n",
       "      <td>[[[0.0, 0.0, 0.0, 1.0, 0.0, 0.0, 0.0, 0.0, 0.0...</td>\n",
       "    </tr>\n",
       "    <tr>\n",
       "      <th>22</th>\n",
       "      <td>[4.0, 4.0, 0.0, 2.0, 0.0, 0.0, 4.0, 4.0, 8.0, ...</td>\n",
       "      <td>[[[0.0, 0.0, 0.0, 1.0, 0.0, 0.0, 0.0, 0.0, 0.0...</td>\n",
       "    </tr>\n",
       "    <tr>\n",
       "      <th>23</th>\n",
       "      <td>[4.0, 0.0, 4.0, 2.0, 0.0, 4.0, 0.0, 4.0, 0.0, ...</td>\n",
       "      <td>[[[0.0, 0.0, 0.0, 1.0, 0.0, 0.0, 0.0, 0.0, 0.0...</td>\n",
       "    </tr>\n",
       "    <tr>\n",
       "      <th>24</th>\n",
       "      <td>[4.0, 0.0, 0.0, 6.0, 0.0, 4.0, 4.0, 4.0, 0.0, ...</td>\n",
       "      <td>[[[0.0, 0.0, 0.0, 1.0, 0.0, 0.0, 0.0, 0.0, 0.0...</td>\n",
       "    </tr>\n",
       "    <tr>\n",
       "      <th>25</th>\n",
       "      <td>[0.0, 4.0, 4.0, 2.0, 4.0, 0.0, 0.0, 0.0, 8.0, ...</td>\n",
       "      <td>[[[0.0, 0.0, 0.0, 1.0, 0.0, 0.0, 0.0, 0.0, 0.0...</td>\n",
       "    </tr>\n",
       "    <tr>\n",
       "      <th>26</th>\n",
       "      <td>[0.0, 4.0, 0.0, 6.0, 4.0, 0.0, 4.0, 0.0, 8.0, ...</td>\n",
       "      <td>[[[0.0, 0.0, 0.0, 1.0, 0.0, 0.0, 0.0, 0.0, 0.0...</td>\n",
       "    </tr>\n",
       "    <tr>\n",
       "      <th>27</th>\n",
       "      <td>[0.0, 0.0, 4.0, 6.0, 4.0, 4.0, 0.0, 0.0, 0.0, ...</td>\n",
       "      <td>[[[0.0, 0.0, 0.0, 1.0, 0.0, 0.0, 0.0, 0.0, 0.0...</td>\n",
       "    </tr>\n",
       "    <tr>\n",
       "      <th>28</th>\n",
       "      <td>[0.0, 0.0, 0.0, 10.0, 4.0, 4.0, 4.0, 0.0, 0.0,...</td>\n",
       "      <td>[[[0.0, 0.0, 0.0, 1.0, 0.0, 0.0, 0.0, 0.0, 0.0...</td>\n",
       "    </tr>\n",
       "  </tbody>\n",
       "</table>\n",
       "</div>"
      ],
      "text/plain": [
       "                                             Solución  \\\n",
       "0   [0.0, 0.0, 0.0, 10.0, 4.0, 4.0, 4.0, 0.0, 0.0,...   \n",
       "1   [0.0, 0.0, 4.0, 6.0, 4.0, 4.0, 0.0, 0.0, 0.0, ...   \n",
       "2   [0.0, 0.0, 0.0, 10.0, 4.0, 4.0, 4.0, 0.0, 0.0,...   \n",
       "3   [0.0, 4.0, 0.0, 6.0, 4.0, 0.0, 4.0, 0.0, 8.0, ...   \n",
       "4   [0.0, 0.0, 0.0, 10.0, 4.0, 4.0, 4.0, 0.0, 0.0,...   \n",
       "5   [0.0, 4.0, 4.0, 2.0, 4.0, 0.0, 0.0, 0.0, 8.0, ...   \n",
       "6   [0.0, 4.0, 0.0, 6.0, 4.0, 0.0, 4.0, 0.0, 8.0, ...   \n",
       "7   [0.0, 0.0, 4.0, 6.0, 4.0, 4.0, 0.0, 0.0, 0.0, ...   \n",
       "8   [0.0, 0.0, 0.0, 10.0, 4.0, 4.0, 4.0, 0.0, 0.0,...   \n",
       "9   [4.0, 0.0, 0.0, 6.0, 0.0, 4.0, 4.0, 4.0, 0.0, ...   \n",
       "10  [0.0, 0.0, 0.0, 10.0, 4.0, 4.0, 4.0, 0.0, 0.0,...   \n",
       "11  [4.0, 0.0, 4.0, 2.0, 0.0, 4.0, 0.0, 4.0, 0.0, ...   \n",
       "12  [4.0, 0.0, 0.0, 6.0, 0.0, 4.0, 4.0, 4.0, 0.0, ...   \n",
       "13  [0.0, 0.0, 4.0, 6.0, 4.0, 4.0, 0.0, 0.0, 0.0, ...   \n",
       "14  [0.0, 0.0, 0.0, 10.0, 4.0, 4.0, 4.0, 0.0, 0.0,...   \n",
       "15  [4.0, 4.0, 0.0, 2.0, 0.0, 0.0, 4.0, 4.0, 8.0, ...   \n",
       "16  [4.0, 0.0, 0.0, 6.0, 0.0, 4.0, 4.0, 4.0, 0.0, ...   \n",
       "17  [0.0, 4.0, 0.0, 6.0, 4.0, 0.0, 4.0, 0.0, 8.0, ...   \n",
       "18  [0.0, 0.0, 0.0, 10.0, 4.0, 4.0, 4.0, 0.0, 0.0,...   \n",
       "19  [4.0, 4.0, 2.0, 0.0, 0.0, 0.0, 2.0, 4.0, 8.0, ...   \n",
       "20  [4.0, 2.0, 4.0, 0.0, 0.0, 2.0, 0.0, 4.0, 4.0, ...   \n",
       "21  [2.0, 4.0, 4.0, 0.0, 2.0, 0.0, 0.0, 2.0, 8.0, ...   \n",
       "22  [4.0, 4.0, 0.0, 2.0, 0.0, 0.0, 4.0, 4.0, 8.0, ...   \n",
       "23  [4.0, 0.0, 4.0, 2.0, 0.0, 4.0, 0.0, 4.0, 0.0, ...   \n",
       "24  [4.0, 0.0, 0.0, 6.0, 0.0, 4.0, 4.0, 4.0, 0.0, ...   \n",
       "25  [0.0, 4.0, 4.0, 2.0, 4.0, 0.0, 0.0, 0.0, 8.0, ...   \n",
       "26  [0.0, 4.0, 0.0, 6.0, 4.0, 0.0, 4.0, 0.0, 8.0, ...   \n",
       "27  [0.0, 0.0, 4.0, 6.0, 4.0, 4.0, 0.0, 0.0, 0.0, ...   \n",
       "28  [0.0, 0.0, 0.0, 10.0, 4.0, 4.0, 4.0, 0.0, 0.0,...   \n",
       "\n",
       "                                                 Base  \n",
       "0   [[[0.0, 0.0, 0.0, 1.0, 0.0, 0.0, 0.0, 0.0, 0.0...  \n",
       "1   [[[0.0, 0.0, 0.0, 1.0, 0.0, 0.0, 0.0, 0.0, 0.0...  \n",
       "2   [[[0.0, 0.0, 0.0, 1.0, 0.0, 0.0, 0.0, 0.0, 0.0...  \n",
       "3   [[[0.0, 0.0, 0.0, 1.0, 0.0, 0.0, 0.0, 0.0, 0.0...  \n",
       "4   [[[0.0, 0.0, 0.0, 1.0, 0.0, 0.0, 0.0, 0.0, 0.0...  \n",
       "5   [[[0.0, 0.0, 0.0, 1.0, 0.0, 0.0, 0.0, 0.0, 0.0...  \n",
       "6   [[[0.0, 0.0, 0.0, 1.0, 0.0, 0.0, 0.0, 0.0, 0.0...  \n",
       "7   [[[0.0, 0.0, 0.0, 1.0, 0.0, 0.0, 0.0, 0.0, 0.0...  \n",
       "8   [[[0.0, 0.0, 0.0, 1.0, 0.0, 0.0, 0.0, 0.0, 0.0...  \n",
       "9   [[[0.0, 0.0, 0.0, 1.0, 0.0, 0.0, 0.0, 0.0, 0.0...  \n",
       "10  [[[0.0, 0.0, 0.0, 1.0, 0.0, 0.0, 0.0, 0.0, 0.0...  \n",
       "11  [[[0.0, 0.0, 0.0, 1.0, 0.0, 0.0, 0.0, 0.0, 0.0...  \n",
       "12  [[[0.0, 0.0, 0.0, 1.0, 0.0, 0.0, 0.0, 0.0, 0.0...  \n",
       "13  [[[0.0, 0.0, 0.0, 1.0, 0.0, 0.0, 0.0, 0.0, 0.0...  \n",
       "14  [[[0.0, 0.0, 0.0, 1.0, 0.0, 0.0, 0.0, 0.0, 0.0...  \n",
       "15  [[[0.0, 0.0, 0.0, 1.0, 0.0, 0.0, 0.0, 0.0, 0.0...  \n",
       "16  [[[0.0, 0.0, 0.0, 1.0, 0.0, 0.0, 0.0, 0.0, 0.0...  \n",
       "17  [[[0.0, 0.0, 0.0, 1.0, 0.0, 0.0, 0.0, 0.0, 0.0...  \n",
       "18  [[[0.0, 0.0, 0.0, 1.0, 0.0, 0.0, 0.0, 0.0, 0.0...  \n",
       "19  [[[0.0, 0.0, 0.0, 1.0, 0.0, 0.0, 0.0, 0.0, 0.0...  \n",
       "20  [[[0.0, 0.0, 0.0, 1.0, 0.0, 0.0, 0.0, 0.0, 0.0...  \n",
       "21  [[[0.0, 0.0, 0.0, 1.0, 0.0, 0.0, 0.0, 0.0, 0.0...  \n",
       "22  [[[0.0, 0.0, 0.0, 1.0, 0.0, 0.0, 0.0, 0.0, 0.0...  \n",
       "23  [[[0.0, 0.0, 0.0, 1.0, 0.0, 0.0, 0.0, 0.0, 0.0...  \n",
       "24  [[[0.0, 0.0, 0.0, 1.0, 0.0, 0.0, 0.0, 0.0, 0.0...  \n",
       "25  [[[0.0, 0.0, 0.0, 1.0, 0.0, 0.0, 0.0, 0.0, 0.0...  \n",
       "26  [[[0.0, 0.0, 0.0, 1.0, 0.0, 0.0, 0.0, 0.0, 0.0...  \n",
       "27  [[[0.0, 0.0, 0.0, 1.0, 0.0, 0.0, 0.0, 0.0, 0.0...  \n",
       "28  [[[0.0, 0.0, 0.0, 1.0, 0.0, 0.0, 0.0, 0.0, 0.0...  "
      ]
     },
     "metadata": {},
     "output_type": "display_data"
    },
    {
     "name": "stdout",
     "output_type": "stream",
     "text": [
      "Escriba las 3 coordenadas del punto dentro de la región factible separadas por espacios: 0.1 0.1 0.1\n"
     ]
    },
    {
     "data": {
      "image/png": "[encoded data removed]",
      "text/plain": [
       "<Figure size 432x288 with 1 Axes>"
      ]
     },
     "metadata": {
      "needs_background": "light"
     },
     "output_type": "display_data"
    }
   ],
   "source": [
    "halfspaces = np.array([\n",
    "                    [1, 1, 1, -10 ],\n",
    "                    [ 1.,  0.,  0., -4],\n",
    "                    [ 0.,  1.,  0., -4],\n",
    "                    [ 0.,  0.,  1., -4],\n",
    "                    [-1.,  0.,  0.,  0],\n",
    "                    [ 0., -2.,  0.,  0],\n",
    "                    [ 0.,  0., -1.,  0]\n",
    "                    ])\n",
    "    \n",
    "genRegionFactible(halfspaces)"
   ]
  },
  {
   "cell_type": "markdown",
   "metadata": {},
   "source": [
    "# 2) Gráficas de diferentes regiones factibles\n",
    "### a)\n",
    "\n",
    "Región factible delimitada por:\n",
    "\n",
    "$2x + y \\leq 50$ \\\n",
    "$x + 2y \\leq 70$ \\\n",
    "$x, y \\geq 0$"
   ]
  },
  {
   "cell_type": "code",
   "execution_count": 187,
   "metadata": {},
   "outputs": [
    {
     "data": {
      "text/html": [
       "<div>\n",
       "<style scoped>\n",
       "    .dataframe tbody tr th:only-of-type {\n",
       "        vertical-align: middle;\n",
       "    }\n",
       "\n",
       "    .dataframe tbody tr th {\n",
       "        vertical-align: top;\n",
       "    }\n",
       "\n",
       "    .dataframe thead th {\n",
       "        text-align: right;\n",
       "    }\n",
       "</style>\n",
       "<table border=\"1\" class=\"dataframe\">\n",
       "  <thead>\n",
       "    <tr style=\"text-align: right;\">\n",
       "      <th></th>\n",
       "      <th>Solución</th>\n",
       "      <th>Base</th>\n",
       "    </tr>\n",
       "  </thead>\n",
       "  <tbody>\n",
       "    <tr>\n",
       "      <th>0</th>\n",
       "      <td>[0.0, 0.0, 50.0, 70.0]</td>\n",
       "      <td>[[[0.0, 0.0, 1.0, 0.0], [0.0, 0.0, 0.0, 1.0]],...</td>\n",
       "    </tr>\n",
       "    <tr>\n",
       "      <th>1</th>\n",
       "      <td>[0.0, 35.0, 15.0, 0.0]</td>\n",
       "      <td>[[[0.0, 0.0, 1.0, 0.0], [0.0, 0.0, 0.0, 1.0]],...</td>\n",
       "    </tr>\n",
       "    <tr>\n",
       "      <th>2</th>\n",
       "      <td>[25.0, 0.0, 0.0, 45.0]</td>\n",
       "      <td>[[[0.0, 0.0, 1.0, 0.0], [0.0, 0.0, 0.0, 1.0]],...</td>\n",
       "    </tr>\n",
       "    <tr>\n",
       "      <th>3</th>\n",
       "      <td>[10.0, 30.0, 0.0, 0.0]</td>\n",
       "      <td>[[[0.0, 0.0, 1.0, 0.0], [0.0, 0.0, 0.0, 1.0]],...</td>\n",
       "    </tr>\n",
       "  </tbody>\n",
       "</table>\n",
       "</div>"
      ],
      "text/plain": [
       "                 Solución                                               Base\n",
       "0  [0.0, 0.0, 50.0, 70.0]  [[[0.0, 0.0, 1.0, 0.0], [0.0, 0.0, 0.0, 1.0]],...\n",
       "1  [0.0, 35.0, 15.0, 0.0]  [[[0.0, 0.0, 1.0, 0.0], [0.0, 0.0, 0.0, 1.0]],...\n",
       "2  [25.0, 0.0, 0.0, 45.0]  [[[0.0, 0.0, 1.0, 0.0], [0.0, 0.0, 0.0, 1.0]],...\n",
       "3  [10.0, 30.0, 0.0, 0.0]  [[[0.0, 0.0, 1.0, 0.0], [0.0, 0.0, 0.0, 1.0]],..."
      ]
     },
     "metadata": {},
     "output_type": "display_data"
    },
    {
     "data": {
      "image/png": "[encoded data removed]",
      "text/plain": [
       "<Figure size 432x288 with 1 Axes>"
      ]
     },
     "metadata": {
      "needs_background": "light"
     },
     "output_type": "display_data"
    }
   ],
   "source": [
    "halfspaces = np.array([[2, 1, -50],\n",
    "                       [1, 2, -70]])\n",
    "\n",
    "genRegionFactible(halfspaces)"
   ]
  },
  {
   "cell_type": "markdown",
   "metadata": {},
   "source": [
    "### b)\n",
    "Región factible delimitada por:\n",
    "\n",
    "$x + y \\geq 50$ \\\n",
    "$x \\leq 30$ \\\n",
    "$y \\leq 40$ \\\n",
    "$x, y \\geq 0$"
   ]
  },
  {
   "cell_type": "code",
   "execution_count": 188,
   "metadata": {},
   "outputs": [
    {
     "data": {
      "text/html": [
       "<div>\n",
       "<style scoped>\n",
       "    .dataframe tbody tr th:only-of-type {\n",
       "        vertical-align: middle;\n",
       "    }\n",
       "\n",
       "    .dataframe tbody tr th {\n",
       "        vertical-align: top;\n",
       "    }\n",
       "\n",
       "    .dataframe thead th {\n",
       "        text-align: right;\n",
       "    }\n",
       "</style>\n",
       "<table border=\"1\" class=\"dataframe\">\n",
       "  <thead>\n",
       "    <tr style=\"text-align: right;\">\n",
       "      <th></th>\n",
       "      <th>Solución</th>\n",
       "      <th>Base</th>\n",
       "    </tr>\n",
       "  </thead>\n",
       "  <tbody>\n",
       "    <tr>\n",
       "      <th>0</th>\n",
       "      <td>[30.0, 20.0, 0.0, 0.0, 20.0]</td>\n",
       "      <td>[[[0.0, 0.0, 1.0, 0.0, 0.0], [0.0, 0.0, 0.0, 1...</td>\n",
       "    </tr>\n",
       "    <tr>\n",
       "      <th>1</th>\n",
       "      <td>[10.0, 40.0, 0.0, 20.0, 0.0]</td>\n",
       "      <td>[[[0.0, 0.0, 1.0, 0.0, 0.0], [0.0, 0.0, 0.0, 1...</td>\n",
       "    </tr>\n",
       "    <tr>\n",
       "      <th>2</th>\n",
       "      <td>[30.0, 40.0, 20.0, 0.0, 0.0]</td>\n",
       "      <td>[[[0.0, 0.0, 1.0, 0.0, 0.0], [0.0, 0.0, 0.0, 1...</td>\n",
       "    </tr>\n",
       "  </tbody>\n",
       "</table>\n",
       "</div>"
      ],
      "text/plain": [
       "                       Solución  \\\n",
       "0  [30.0, 20.0, 0.0, 0.0, 20.0]   \n",
       "1  [10.0, 40.0, 0.0, 20.0, 0.0]   \n",
       "2  [30.0, 40.0, 20.0, 0.0, 0.0]   \n",
       "\n",
       "                                                Base  \n",
       "0  [[[0.0, 0.0, 1.0, 0.0, 0.0], [0.0, 0.0, 0.0, 1...  \n",
       "1  [[[0.0, 0.0, 1.0, 0.0, 0.0], [0.0, 0.0, 0.0, 1...  \n",
       "2  [[[0.0, 0.0, 1.0, 0.0, 0.0], [0.0, 0.0, 0.0, 1...  "
      ]
     },
     "metadata": {},
     "output_type": "display_data"
    },
    {
     "data": {
      "image/png": "[encoded data removed]",
      "text/plain": [
       "<Figure size 432x288 with 1 Axes>"
      ]
     },
     "metadata": {
      "needs_background": "light"
     },
     "output_type": "display_data"
    }
   ],
   "source": [
    "halfspaces = np.array([[-1, -1, 50],\n",
    "                       [1, 0, -30],\n",
    "                      [0,1, -40]])\n",
    "\n",
    "genRegionFactible(halfspaces)"
   ]
  },
  {
   "cell_type": "markdown",
   "metadata": {},
   "source": [
    "### c)\n",
    "Región factible delimitada por:\n",
    "\n",
    "$-3x + 2y \\leq 6$ \\\n",
    "$5x + 4y \\geq 20$ \\\n",
    "$8x + 3y \\leq 24$ \\\n",
    "$x, y \\geq 0$"
   ]
  },
  {
   "cell_type": "code",
   "execution_count": 189,
   "metadata": {},
   "outputs": [
    {
     "data": {
      "text/html": [
       "<div>\n",
       "<style scoped>\n",
       "    .dataframe tbody tr th:only-of-type {\n",
       "        vertical-align: middle;\n",
       "    }\n",
       "\n",
       "    .dataframe tbody tr th {\n",
       "        vertical-align: top;\n",
       "    }\n",
       "\n",
       "    .dataframe thead th {\n",
       "        text-align: right;\n",
       "    }\n",
       "</style>\n",
       "<table border=\"1\" class=\"dataframe\">\n",
       "  <thead>\n",
       "    <tr style=\"text-align: right;\">\n",
       "      <th></th>\n",
       "      <th>Solución</th>\n",
       "      <th>Base</th>\n",
       "    </tr>\n",
       "  </thead>\n",
       "  <tbody>\n",
       "    <tr>\n",
       "      <th>0</th>\n",
       "      <td>[0.727, 4.091, 0.0, 0.0, 5.909]</td>\n",
       "      <td>[[[0.0, 0.0, 1.0, 0.0, 0.0], [0.0, 0.0, 0.0, 1...</td>\n",
       "    </tr>\n",
       "    <tr>\n",
       "      <th>1</th>\n",
       "      <td>[1.2, 4.8, 0.0, 5.2, 0.0]</td>\n",
       "      <td>[[[0.0, 0.0, 1.0, 0.0, 0.0], [0.0, 0.0, 0.0, 1...</td>\n",
       "    </tr>\n",
       "    <tr>\n",
       "      <th>2</th>\n",
       "      <td>[2.118, 2.353, 7.647, 0.0, 0.0]</td>\n",
       "      <td>[[[0.0, 0.0, 1.0, 0.0, 0.0], [0.0, 0.0, 0.0, 1...</td>\n",
       "    </tr>\n",
       "  </tbody>\n",
       "</table>\n",
       "</div>"
      ],
      "text/plain": [
       "                          Solución  \\\n",
       "0  [0.727, 4.091, 0.0, 0.0, 5.909]   \n",
       "1        [1.2, 4.8, 0.0, 5.2, 0.0]   \n",
       "2  [2.118, 2.353, 7.647, 0.0, 0.0]   \n",
       "\n",
       "                                                Base  \n",
       "0  [[[0.0, 0.0, 1.0, 0.0, 0.0], [0.0, 0.0, 0.0, 1...  \n",
       "1  [[[0.0, 0.0, 1.0, 0.0, 0.0], [0.0, 0.0, 0.0, 1...  \n",
       "2  [[[0.0, 0.0, 1.0, 0.0, 0.0], [0.0, 0.0, 0.0, 1...  "
      ]
     },
     "metadata": {},
     "output_type": "display_data"
    },
    {
     "data": {
      "image/png": "[encoded data removed]",
      "text/plain": [
       "<Figure size 432x288 with 1 Axes>"
      ]
     },
     "metadata": {
      "needs_background": "light"
     },
     "output_type": "display_data"
    }
   ],
   "source": [
    "halfspaces = np.array([[-3, 2, -6],\n",
    "                       [-5, -4, 20],\n",
    "                      [8,3, -24]])\n",
    "\n",
    "genRegionFactible(halfspaces)"
   ]
  },
  {
   "cell_type": "markdown",
   "metadata": {},
   "source": [
    "### d)"
   ]
  },
  {
   "cell_type": "markdown",
   "metadata": {},
   "source": [
    "Región delimitada por:\n",
    "\n",
    "$2x + 3y + 2z \\leq 6$ \\\n",
    "$3x - 2z \\leq 4$ \\\n",
    "$x, y, z \\geq 0$"
   ]
  },
  {
   "cell_type": "code",
   "execution_count": 206,
   "metadata": {},
   "outputs": [
    {
     "data": {
      "text/html": [
       "<div>\n",
       "<style scoped>\n",
       "    .dataframe tbody tr th:only-of-type {\n",
       "        vertical-align: middle;\n",
       "    }\n",
       "\n",
       "    .dataframe tbody tr th {\n",
       "        vertical-align: top;\n",
       "    }\n",
       "\n",
       "    .dataframe thead th {\n",
       "        text-align: right;\n",
       "    }\n",
       "</style>\n",
       "<table border=\"1\" class=\"dataframe\">\n",
       "  <thead>\n",
       "    <tr style=\"text-align: right;\">\n",
       "      <th></th>\n",
       "      <th>Solución</th>\n",
       "      <th>Base</th>\n",
       "    </tr>\n",
       "  </thead>\n",
       "  <tbody>\n",
       "    <tr>\n",
       "      <th>0</th>\n",
       "      <td>[0.0, 0.0, 0.0, 6.0, 4.0]</td>\n",
       "      <td>[[[0.0, 0.0, 0.0, 1.0, 0.0], [0.0, 0.0, 0.0, 0...</td>\n",
       "    </tr>\n",
       "    <tr>\n",
       "      <th>1</th>\n",
       "      <td>[0.0, 0.0, 3.0, 0.0, 10.0]</td>\n",
       "      <td>[[[0.0, 0.0, 0.0, 1.0, 0.0], [0.0, 0.0, 0.0, 0...</td>\n",
       "    </tr>\n",
       "    <tr>\n",
       "      <th>2</th>\n",
       "      <td>[0.0, 2.0, 0.0, 0.0, 4.0]</td>\n",
       "      <td>[[[0.0, 0.0, 0.0, 1.0, 0.0], [0.0, 0.0, 0.0, 0...</td>\n",
       "    </tr>\n",
       "    <tr>\n",
       "      <th>3</th>\n",
       "      <td>[1.333, 0.0, 0.0, 3.333, 0.0]</td>\n",
       "      <td>[[[0.0, 0.0, 0.0, 1.0, 0.0], [0.0, 0.0, 0.0, 0...</td>\n",
       "    </tr>\n",
       "    <tr>\n",
       "      <th>4</th>\n",
       "      <td>[2.0, 0.0, 1.0, 0.0, 0.0]</td>\n",
       "      <td>[[[0.0, 0.0, 0.0, 1.0, 0.0], [0.0, 0.0, 0.0, 0...</td>\n",
       "    </tr>\n",
       "    <tr>\n",
       "      <th>5</th>\n",
       "      <td>[1.333, 1.111, 0.0, 0.0, 0.0]</td>\n",
       "      <td>[[[0.0, 0.0, 0.0, 1.0, 0.0], [0.0, 0.0, 0.0, 0...</td>\n",
       "    </tr>\n",
       "  </tbody>\n",
       "</table>\n",
       "</div>"
      ],
      "text/plain": [
       "                        Solución  \\\n",
       "0      [0.0, 0.0, 0.0, 6.0, 4.0]   \n",
       "1     [0.0, 0.0, 3.0, 0.0, 10.0]   \n",
       "2      [0.0, 2.0, 0.0, 0.0, 4.0]   \n",
       "3  [1.333, 0.0, 0.0, 3.333, 0.0]   \n",
       "4      [2.0, 0.0, 1.0, 0.0, 0.0]   \n",
       "5  [1.333, 1.111, 0.0, 0.0, 0.0]   \n",
       "\n",
       "                                                Base  \n",
       "0  [[[0.0, 0.0, 0.0, 1.0, 0.0], [0.0, 0.0, 0.0, 0...  \n",
       "1  [[[0.0, 0.0, 0.0, 1.0, 0.0], [0.0, 0.0, 0.0, 0...  \n",
       "2  [[[0.0, 0.0, 0.0, 1.0, 0.0], [0.0, 0.0, 0.0, 0...  \n",
       "3  [[[0.0, 0.0, 0.0, 1.0, 0.0], [0.0, 0.0, 0.0, 0...  \n",
       "4  [[[0.0, 0.0, 0.0, 1.0, 0.0], [0.0, 0.0, 0.0, 0...  \n",
       "5  [[[0.0, 0.0, 0.0, 1.0, 0.0], [0.0, 0.0, 0.0, 0...  "
      ]
     },
     "metadata": {},
     "output_type": "display_data"
    },
    {
     "name": "stdout",
     "output_type": "stream",
     "text": [
      "Escriba las coordenadas x, y, z (en ese orden) del punto dentro de la región factible separadas por espacios: 0.1 0.1 0.1\n"
     ]
    },
    {
     "data": {
      "image/png": "[encoded data removed]",
      "text/plain": [
       "<Figure size 432x288 with 1 Axes>"
      ]
     },
     "metadata": {
      "needs_background": "light"
     },
     "output_type": "display_data"
    }
   ],
   "source": [
    "halfspaces = np.array([[2, 3, 2, -6],\n",
    "                       [3, 0, -2, -4]])\n",
    "\n",
    "genRegionFactible(halfspaces)"
   ]
  },
  {
   "cell_type": "markdown",
   "metadata": {},
   "source": [
    "### e)"
   ]
  },
  {
   "cell_type": "markdown",
   "metadata": {},
   "source": [
    "Región delimitada por:\n",
    "\n",
    "$2x + 3y + 5z \\leq 8$ \\\n",
    "$3x - 2y + 2z \\leq 4$ \\\n",
    "$2x + y - 3z \\leq 6 $ \\\n",
    "$x, y, z \\geq 0$"
   ]
  },
  {
   "cell_type": "code",
   "execution_count": 207,
   "metadata": {},
   "outputs": [
    {
     "data": {
      "text/html": [
       "<div>\n",
       "<style scoped>\n",
       "    .dataframe tbody tr th:only-of-type {\n",
       "        vertical-align: middle;\n",
       "    }\n",
       "\n",
       "    .dataframe tbody tr th {\n",
       "        vertical-align: top;\n",
       "    }\n",
       "\n",
       "    .dataframe thead th {\n",
       "        text-align: right;\n",
       "    }\n",
       "</style>\n",
       "<table border=\"1\" class=\"dataframe\">\n",
       "  <thead>\n",
       "    <tr style=\"text-align: right;\">\n",
       "      <th></th>\n",
       "      <th>Solución</th>\n",
       "      <th>Base</th>\n",
       "    </tr>\n",
       "  </thead>\n",
       "  <tbody>\n",
       "    <tr>\n",
       "      <th>0</th>\n",
       "      <td>[0.0, 0.0, 0.0, 8.0, 4.0, 6.0]</td>\n",
       "      <td>[[[0.0, 0.0, 0.0, 1.0, 0.0, 0.0], [0.0, 0.0, 0...</td>\n",
       "    </tr>\n",
       "    <tr>\n",
       "      <th>1</th>\n",
       "      <td>[0.0, 0.0, 1.6, 0.0, 0.8, 1.2]</td>\n",
       "      <td>[[[0.0, 0.0, 0.0, 1.0, 0.0, 0.0], [0.0, 0.0, 0...</td>\n",
       "    </tr>\n",
       "    <tr>\n",
       "      <th>2</th>\n",
       "      <td>[0.0, 2.667, 0.0, 0.0, 9.333, 3.333]</td>\n",
       "      <td>[[[0.0, 0.0, 0.0, 1.0, 0.0, 0.0], [0.0, 0.0, 0...</td>\n",
       "    </tr>\n",
       "    <tr>\n",
       "      <th>3</th>\n",
       "      <td>[1.333, 0.0, 0.0, 5.333, 0.0, 3.333]</td>\n",
       "      <td>[[[0.0, 0.0, 0.0, 1.0, 0.0, 0.0], [0.0, 0.0, 0...</td>\n",
       "    </tr>\n",
       "    <tr>\n",
       "      <th>4</th>\n",
       "      <td>[0.364, 0.0, 1.455, 0.0, 0.0, 0.909]</td>\n",
       "      <td>[[[0.0, 0.0, 0.0, 1.0, 0.0, 0.0], [0.0, 0.0, 0...</td>\n",
       "    </tr>\n",
       "    <tr>\n",
       "      <th>5</th>\n",
       "      <td>[2.154, 1.231, 0.0, 0.0, 0.0, 0.462]</td>\n",
       "      <td>[[[0.0, 0.0, 0.0, 1.0, 0.0, 0.0], [0.0, 0.0, 0...</td>\n",
       "    </tr>\n",
       "  </tbody>\n",
       "</table>\n",
       "</div>"
      ],
      "text/plain": [
       "                               Solución  \\\n",
       "0        [0.0, 0.0, 0.0, 8.0, 4.0, 6.0]   \n",
       "1        [0.0, 0.0, 1.6, 0.0, 0.8, 1.2]   \n",
       "2  [0.0, 2.667, 0.0, 0.0, 9.333, 3.333]   \n",
       "3  [1.333, 0.0, 0.0, 5.333, 0.0, 3.333]   \n",
       "4  [0.364, 0.0, 1.455, 0.0, 0.0, 0.909]   \n",
       "5  [2.154, 1.231, 0.0, 0.0, 0.0, 0.462]   \n",
       "\n",
       "                                                Base  \n",
       "0  [[[0.0, 0.0, 0.0, 1.0, 0.0, 0.0], [0.0, 0.0, 0...  \n",
       "1  [[[0.0, 0.0, 0.0, 1.0, 0.0, 0.0], [0.0, 0.0, 0...  \n",
       "2  [[[0.0, 0.0, 0.0, 1.0, 0.0, 0.0], [0.0, 0.0, 0...  \n",
       "3  [[[0.0, 0.0, 0.0, 1.0, 0.0, 0.0], [0.0, 0.0, 0...  \n",
       "4  [[[0.0, 0.0, 0.0, 1.0, 0.0, 0.0], [0.0, 0.0, 0...  \n",
       "5  [[[0.0, 0.0, 0.0, 1.0, 0.0, 0.0], [0.0, 0.0, 0...  "
      ]
     },
     "metadata": {},
     "output_type": "display_data"
    },
    {
     "name": "stdout",
     "output_type": "stream",
     "text": [
      "Escriba las coordenadas x, y, z (en ese orden) del punto dentro de la región factible separadas por espacios: 0.1 0.1 0.1\n"
     ]
    },
    {
     "data": {
      "image/png": "[encoded data removed]",
      "text/plain": [
       "<Figure size 432x288 with 1 Axes>"
      ]
     },
     "metadata": {
      "needs_background": "light"
     },
     "output_type": "display_data"
    }
   ],
   "source": [
    "halfspaces = np.array([[2, 3, 5, -8],\n",
    "                       [3, -2, 2, -4],\n",
    "                       [2, 1, 3, -6]])\n",
    "\n",
    "genRegionFactible(halfspaces)"
   ]
  },
  {
   "cell_type": "markdown",
   "metadata": {},
   "source": [
    "### f)"
   ]
  },
  {
   "cell_type": "markdown",
   "metadata": {},
   "source": [
    "Región delimitada por:\n",
    "\n",
    "$2x + y + 2z \\leq 12$ \\\n",
    "$x + y - 3z \\leq 8$ \\\n",
    "$x, y, z \\geq 0$"
   ]
  },
  {
   "cell_type": "code",
   "execution_count": 208,
   "metadata": {},
   "outputs": [
    {
     "data": {
      "text/html": [
       "<div>\n",
       "<style scoped>\n",
       "    .dataframe tbody tr th:only-of-type {\n",
       "        vertical-align: middle;\n",
       "    }\n",
       "\n",
       "    .dataframe tbody tr th {\n",
       "        vertical-align: top;\n",
       "    }\n",
       "\n",
       "    .dataframe thead th {\n",
       "        text-align: right;\n",
       "    }\n",
       "</style>\n",
       "<table border=\"1\" class=\"dataframe\">\n",
       "  <thead>\n",
       "    <tr style=\"text-align: right;\">\n",
       "      <th></th>\n",
       "      <th>Solución</th>\n",
       "      <th>Base</th>\n",
       "    </tr>\n",
       "  </thead>\n",
       "  <tbody>\n",
       "    <tr>\n",
       "      <th>0</th>\n",
       "      <td>[0.0, 0.0, 0.0, 12.0, 8.0]</td>\n",
       "      <td>[[[0.0, 0.0, 0.0, 1.0, 0.0], [0.0, 0.0, 0.0, 0...</td>\n",
       "    </tr>\n",
       "    <tr>\n",
       "      <th>1</th>\n",
       "      <td>[0.0, 0.0, 6.0, 0.0, 26.0]</td>\n",
       "      <td>[[[0.0, 0.0, 0.0, 1.0, 0.0], [0.0, 0.0, 0.0, 0...</td>\n",
       "    </tr>\n",
       "    <tr>\n",
       "      <th>2</th>\n",
       "      <td>[0.0, 8.0, 0.0, 4.0, 0.0]</td>\n",
       "      <td>[[[0.0, 0.0, 0.0, 1.0, 0.0], [0.0, 0.0, 0.0, 0...</td>\n",
       "    </tr>\n",
       "    <tr>\n",
       "      <th>3</th>\n",
       "      <td>[0.0, 10.4, 0.8, 0.0, 0.0]</td>\n",
       "      <td>[[[0.0, 0.0, 0.0, 1.0, 0.0], [0.0, 0.0, 0.0, 0...</td>\n",
       "    </tr>\n",
       "    <tr>\n",
       "      <th>4</th>\n",
       "      <td>[6.0, 0.0, 0.0, 0.0, 2.0]</td>\n",
       "      <td>[[[0.0, 0.0, 0.0, 1.0, 0.0], [0.0, 0.0, 0.0, 0...</td>\n",
       "    </tr>\n",
       "    <tr>\n",
       "      <th>5</th>\n",
       "      <td>[4.0, 4.0, 0.0, 0.0, 0.0]</td>\n",
       "      <td>[[[0.0, 0.0, 0.0, 1.0, 0.0], [0.0, 0.0, 0.0, 0...</td>\n",
       "    </tr>\n",
       "  </tbody>\n",
       "</table>\n",
       "</div>"
      ],
      "text/plain": [
       "                     Solución  \\\n",
       "0  [0.0, 0.0, 0.0, 12.0, 8.0]   \n",
       "1  [0.0, 0.0, 6.0, 0.0, 26.0]   \n",
       "2   [0.0, 8.0, 0.0, 4.0, 0.0]   \n",
       "3  [0.0, 10.4, 0.8, 0.0, 0.0]   \n",
       "4   [6.0, 0.0, 0.0, 0.0, 2.0]   \n",
       "5   [4.0, 4.0, 0.0, 0.0, 0.0]   \n",
       "\n",
       "                                                Base  \n",
       "0  [[[0.0, 0.0, 0.0, 1.0, 0.0], [0.0, 0.0, 0.0, 0...  \n",
       "1  [[[0.0, 0.0, 0.0, 1.0, 0.0], [0.0, 0.0, 0.0, 0...  \n",
       "2  [[[0.0, 0.0, 0.0, 1.0, 0.0], [0.0, 0.0, 0.0, 0...  \n",
       "3  [[[0.0, 0.0, 0.0, 1.0, 0.0], [0.0, 0.0, 0.0, 0...  \n",
       "4  [[[0.0, 0.0, 0.0, 1.0, 0.0], [0.0, 0.0, 0.0, 0...  \n",
       "5  [[[0.0, 0.0, 0.0, 1.0, 0.0], [0.0, 0.0, 0.0, 0...  "
      ]
     },
     "metadata": {},
     "output_type": "display_data"
    },
    {
     "name": "stdout",
     "output_type": "stream",
     "text": [
      "Escriba las coordenadas x, y, z (en ese orden) del punto dentro de la región factible separadas por espacios: 0.1 0.1 0.1\n"
     ]
    },
    {
     "data": {
      "image/png": "[encoded data removed]",
      "text/plain": [
       "<Figure size 432x288 with 1 Axes>"
      ]
     },
     "metadata": {
      "needs_background": "light"
     },
     "output_type": "display_data"
    }
   ],
   "source": [
    "halfspaces = np.array([[2, 1, 2, -12],\n",
    "                       [1, 1, -3, -8]])\n",
    "\n",
    "genRegionFactible(halfspaces)"
   ]
  },
  {
   "cell_type": "markdown",
   "metadata": {
    "colab": {},
    "colab_type": "code",
    "id": "aFcAA7-If4Jd"
   },
   "source": [
    "# 3) Uso del script encontrado en [scipy.spatial.HalfspaceIntersection](https://docs.scipy.org/doc/scipy/reference/generated/scipy.spatial.HalfspaceIntersection.html) para encontrar el punto interior en un polígono de 2 dimensiones definido a partir de semiespacios. Se aplicó esta función a los ejemplos 2D del punto 2. "
   ]
  },
  {
   "cell_type": "markdown",
   "metadata": {},
   "source": [
    "A continuación se muestra la implementación para el ejemplo 2 a)"
   ]
  },
  {
   "cell_type": "code",
   "execution_count": 209,
   "metadata": {},
   "outputs": [
    {
     "data": {
      "text/html": [
       "<div>\n",
       "<style scoped>\n",
       "    .dataframe tbody tr th:only-of-type {\n",
       "        vertical-align: middle;\n",
       "    }\n",
       "\n",
       "    .dataframe tbody tr th {\n",
       "        vertical-align: top;\n",
       "    }\n",
       "\n",
       "    .dataframe thead th {\n",
       "        text-align: right;\n",
       "    }\n",
       "</style>\n",
       "<table border=\"1\" class=\"dataframe\">\n",
       "  <thead>\n",
       "    <tr style=\"text-align: right;\">\n",
       "      <th></th>\n",
       "      <th>Solución</th>\n",
       "      <th>Base</th>\n",
       "    </tr>\n",
       "  </thead>\n",
       "  <tbody>\n",
       "    <tr>\n",
       "      <th>0</th>\n",
       "      <td>[0.0, 0.0, 50.0, 70.0]</td>\n",
       "      <td>[[[0.0, 0.0, 1.0, 0.0], [0.0, 0.0, 0.0, 1.0]],...</td>\n",
       "    </tr>\n",
       "    <tr>\n",
       "      <th>1</th>\n",
       "      <td>[0.0, 35.0, 15.0, 0.0]</td>\n",
       "      <td>[[[0.0, 0.0, 1.0, 0.0], [0.0, 0.0, 0.0, 1.0]],...</td>\n",
       "    </tr>\n",
       "    <tr>\n",
       "      <th>2</th>\n",
       "      <td>[25.0, 0.0, 0.0, 45.0]</td>\n",
       "      <td>[[[0.0, 0.0, 1.0, 0.0], [0.0, 0.0, 0.0, 1.0]],...</td>\n",
       "    </tr>\n",
       "    <tr>\n",
       "      <th>3</th>\n",
       "      <td>[10.0, 30.0, 0.0, 0.0]</td>\n",
       "      <td>[[[0.0, 0.0, 1.0, 0.0], [0.0, 0.0, 0.0, 1.0]],...</td>\n",
       "    </tr>\n",
       "  </tbody>\n",
       "</table>\n",
       "</div>"
      ],
      "text/plain": [
       "                 Solución                                               Base\n",
       "0  [0.0, 0.0, 50.0, 70.0]  [[[0.0, 0.0, 1.0, 0.0], [0.0, 0.0, 0.0, 1.0]],...\n",
       "1  [0.0, 35.0, 15.0, 0.0]  [[[0.0, 0.0, 1.0, 0.0], [0.0, 0.0, 0.0, 1.0]],...\n",
       "2  [25.0, 0.0, 0.0, 45.0]  [[[0.0, 0.0, 1.0, 0.0], [0.0, 0.0, 0.0, 1.0]],...\n",
       "3  [10.0, 30.0, 0.0, 0.0]  [[[0.0, 0.0, 1.0, 0.0], [0.0, 0.0, 0.0, 1.0]],..."
      ]
     },
     "metadata": {},
     "output_type": "display_data"
    },
    {
     "data": {
      "text/plain": [
       "<matplotlib.collections.PathCollection at 0x24546043e20>"
      ]
     },
     "execution_count": 209,
     "metadata": {},
     "output_type": "execute_result"
    },
    {
     "data": {
      "image/png": "[encoded data removed]",
      "text/plain": [
       "<Figure size 432x288 with 1 Axes>"
      ]
     },
     "metadata": {
      "needs_background": "light"
     },
     "output_type": "display_data"
    }
   ],
   "source": [
    "# Se declaran los semiespacios\n",
    "halfspaces1 = np.array([[2, 1, -50],\n",
    "                       [1, 2, -70]])\n",
    "\n",
    "# Se lleva a cabo un proceso similar que en la función del punto 1. \n",
    "b = -1*halfspaces1[:,-1]\n",
    "A = np.concatenate((halfspaces1[:,:-1],np.identity(halfspaces1.shape[0])),axis=1)\n",
    "var2 = fun(A,b)\n",
    "vertices = []\n",
    "\n",
    "for item in list(var2['Factibles']):\n",
    "    lista = list(item)\n",
    "    vertices.append(lista[:2])\n",
    "\n",
    "# Se declaran los semiespacios teniendo en cuenta las restricciones de x,y mayores o iguales a cero. \n",
    "halfspaces = np.array([[2, 1, -50],\n",
    "                       [1, 2, -70],\n",
    "                       [-1, 0, 0],\n",
    "                       [0, -1, 0]])\n",
    "\n",
    "# Opciones para graficar.\n",
    "options = {'color': 'lightblue',\n",
    "           'xlabel': 'x' ,\n",
    "           'ylabel': 'y',\n",
    "           'title':'Punto interior en la región factible del ejemplo 2 a)'}\n",
    "\n",
    "# Se hace el dibujo en 2D.\n",
    "ax = polygon2D(vertices, options)\n",
    "for item in vertices:\n",
    "    ax.scatter(item[0], item[1], c = 'red' , marker = '.', s = 180) \n",
    "\n",
    "# Implementación del script del ejemplo.\n",
    "norm_vector = np.reshape(np.linalg.norm(halfspaces[:, :-1], axis=1),\n",
    "    (halfspaces.shape[0], 1))\n",
    "c = np.zeros((halfspaces.shape[1],))\n",
    "c[-1] = -1\n",
    "A = np.hstack((halfspaces[:, :-1], norm_vector))\n",
    "b = - halfspaces[:, -1:]\n",
    "\n",
    "#Se encuentra el punto interior de la región factible graficada anteriormente usando la función linprog\n",
    "res = linprog(c, A_ub=A, b_ub=b, bounds=(None, None))\n",
    "x = res.x[:-1]\n",
    "\n",
    "# Se crea un círculo en la solución óptima entragada por la función linprog.\n",
    "circle = Circle(x, radius=0.5, alpha=0.3, color = 'black')\n",
    "ax.add_patch(circle) \n",
    "ax.scatter(x[0], x[1], c = 'black' , marker = '.', s = 180)"
   ]
  },
  {
   "cell_type": "markdown",
   "metadata": {},
   "source": [
    "A continuación se muestra la implementación para el ejemplo 2 b)"
   ]
  },
  {
   "cell_type": "code",
   "execution_count": 211,
   "metadata": {},
   "outputs": [
    {
     "data": {
      "text/html": [
       "<div>\n",
       "<style scoped>\n",
       "    .dataframe tbody tr th:only-of-type {\n",
       "        vertical-align: middle;\n",
       "    }\n",
       "\n",
       "    .dataframe tbody tr th {\n",
       "        vertical-align: top;\n",
       "    }\n",
       "\n",
       "    .dataframe thead th {\n",
       "        text-align: right;\n",
       "    }\n",
       "</style>\n",
       "<table border=\"1\" class=\"dataframe\">\n",
       "  <thead>\n",
       "    <tr style=\"text-align: right;\">\n",
       "      <th></th>\n",
       "      <th>Solución</th>\n",
       "      <th>Base</th>\n",
       "    </tr>\n",
       "  </thead>\n",
       "  <tbody>\n",
       "    <tr>\n",
       "      <th>0</th>\n",
       "      <td>[30.0, 20.0, 0.0, 0.0, 20.0]</td>\n",
       "      <td>[[[0.0, 0.0, 1.0, 0.0, 0.0], [0.0, 0.0, 0.0, 1...</td>\n",
       "    </tr>\n",
       "    <tr>\n",
       "      <th>1</th>\n",
       "      <td>[10.0, 40.0, 0.0, 20.0, 0.0]</td>\n",
       "      <td>[[[0.0, 0.0, 1.0, 0.0, 0.0], [0.0, 0.0, 0.0, 1...</td>\n",
       "    </tr>\n",
       "    <tr>\n",
       "      <th>2</th>\n",
       "      <td>[30.0, 40.0, 20.0, 0.0, 0.0]</td>\n",
       "      <td>[[[0.0, 0.0, 1.0, 0.0, 0.0], [0.0, 0.0, 0.0, 1...</td>\n",
       "    </tr>\n",
       "  </tbody>\n",
       "</table>\n",
       "</div>"
      ],
      "text/plain": [
       "                       Solución  \\\n",
       "0  [30.0, 20.0, 0.0, 0.0, 20.0]   \n",
       "1  [10.0, 40.0, 0.0, 20.0, 0.0]   \n",
       "2  [30.0, 40.0, 20.0, 0.0, 0.0]   \n",
       "\n",
       "                                                Base  \n",
       "0  [[[0.0, 0.0, 1.0, 0.0, 0.0], [0.0, 0.0, 0.0, 1...  \n",
       "1  [[[0.0, 0.0, 1.0, 0.0, 0.0], [0.0, 0.0, 0.0, 1...  \n",
       "2  [[[0.0, 0.0, 1.0, 0.0, 0.0], [0.0, 0.0, 0.0, 1...  "
      ]
     },
     "metadata": {},
     "output_type": "display_data"
    },
    {
     "data": {
      "text/plain": [
       "<matplotlib.collections.PathCollection at 0x24545f5b880>"
      ]
     },
     "execution_count": 211,
     "metadata": {},
     "output_type": "execute_result"
    },
    {
     "data": {
      "image/png": "[encoded data removed]",
      "text/plain": [
       "<Figure size 432x288 with 1 Axes>"
      ]
     },
     "metadata": {
      "needs_background": "light"
     },
     "output_type": "display_data"
    }
   ],
   "source": [
    "# Se declaran los semiespacios\n",
    "halfspaces1 = np.array([[-1, -1, 50],\n",
    "                       [1, 0, -30],\n",
    "                      [0,1, -40]])\n",
    "\n",
    "# Se declaran los semiespacios teniendo en cuenta las restricciones de x,y mayores o iguales a cero. \n",
    "halfspaces = np.array([[-1., -1., 50],\n",
    "                       [1., 0, -30.], \n",
    "                       [0., 1, -40],\n",
    "                       [-1, 0, 0],\n",
    "                       [0, -1, 0]])\n",
    "\n",
    "# Se lleva a cabo un proceso similar que en la función del punto 1. \n",
    "b = -1*halfspaces1[:,-1]\n",
    "A = np.concatenate((halfspaces1[:,:-1],np.identity(halfspaces1.shape[0])),axis=1)\n",
    "var2 = fun(A,b)\n",
    "vertices = []\n",
    "\n",
    "for item in list(var2['Factibles']):\n",
    "    lista = list(item)\n",
    "    vertices.append(lista[:2])\n",
    "\n",
    "options = {'color': 'lightblue',\n",
    "           'xlabel': 'x' ,\n",
    "           'ylabel': 'y',\n",
    "           'title':'Punto interior en la región factible del ejemplo 2 b)'}\n",
    "\n",
    "# Dibujar forma a partir de los puntos\n",
    "ax = polygon2D(vertices, options)\n",
    "for item in vertices:\n",
    "    ax.scatter(item[0], item[1], c = 'red' , marker = '.', s = 180)\n",
    "\n",
    "# Implementación del script del ejemplo.\n",
    "norm_vector = np.reshape(np.linalg.norm(halfspaces[:, :-1], axis=1),\n",
    "    (halfspaces.shape[0], 1))\n",
    "c = np.zeros((halfspaces.shape[1],))\n",
    "c[-1] = -1\n",
    "A = np.hstack((halfspaces[:, :-1], norm_vector))\n",
    "b = - halfspaces[:, -1:]\n",
    "\n",
    "#Se encuentra el punto interior de la región factible graficada anteriormente usando la función linprog\n",
    "res = linprog(c, A_ub=A, b_ub=b, bounds=(None, None))\n",
    "x = res.x[:-1]\n",
    "\n",
    "# Se crea un círculo en la solución óptima entragada por la función linprog.\n",
    "circle = Circle(x, radius=0.5, alpha=0.3, color = 'black')\n",
    "ax.add_patch(circle) \n",
    "ax.scatter(x[0], x[1], c = 'black' , marker = '.', s = 180)"
   ]
  },
  {
   "cell_type": "markdown",
   "metadata": {},
   "source": [
    "A continuación se muestra la implementación para el ejemplo 2 c)"
   ]
  },
  {
   "cell_type": "code",
   "execution_count": 212,
   "metadata": {},
   "outputs": [
    {
     "data": {
      "text/html": [
       "<div>\n",
       "<style scoped>\n",
       "    .dataframe tbody tr th:only-of-type {\n",
       "        vertical-align: middle;\n",
       "    }\n",
       "\n",
       "    .dataframe tbody tr th {\n",
       "        vertical-align: top;\n",
       "    }\n",
       "\n",
       "    .dataframe thead th {\n",
       "        text-align: right;\n",
       "    }\n",
       "</style>\n",
       "<table border=\"1\" class=\"dataframe\">\n",
       "  <thead>\n",
       "    <tr style=\"text-align: right;\">\n",
       "      <th></th>\n",
       "      <th>Solución</th>\n",
       "      <th>Base</th>\n",
       "    </tr>\n",
       "  </thead>\n",
       "  <tbody>\n",
       "    <tr>\n",
       "      <th>0</th>\n",
       "      <td>[0.727, 4.091, 0.0, 0.0, 5.909]</td>\n",
       "      <td>[[[0.0, 0.0, 1.0, 0.0, 0.0], [0.0, 0.0, 0.0, 1...</td>\n",
       "    </tr>\n",
       "    <tr>\n",
       "      <th>1</th>\n",
       "      <td>[1.2, 4.8, 0.0, 5.2, 0.0]</td>\n",
       "      <td>[[[0.0, 0.0, 1.0, 0.0, 0.0], [0.0, 0.0, 0.0, 1...</td>\n",
       "    </tr>\n",
       "    <tr>\n",
       "      <th>2</th>\n",
       "      <td>[2.118, 2.353, 7.647, 0.0, 0.0]</td>\n",
       "      <td>[[[0.0, 0.0, 1.0, 0.0, 0.0], [0.0, 0.0, 0.0, 1...</td>\n",
       "    </tr>\n",
       "  </tbody>\n",
       "</table>\n",
       "</div>"
      ],
      "text/plain": [
       "                          Solución  \\\n",
       "0  [0.727, 4.091, 0.0, 0.0, 5.909]   \n",
       "1        [1.2, 4.8, 0.0, 5.2, 0.0]   \n",
       "2  [2.118, 2.353, 7.647, 0.0, 0.0]   \n",
       "\n",
       "                                                Base  \n",
       "0  [[[0.0, 0.0, 1.0, 0.0, 0.0], [0.0, 0.0, 0.0, 1...  \n",
       "1  [[[0.0, 0.0, 1.0, 0.0, 0.0], [0.0, 0.0, 0.0, 1...  \n",
       "2  [[[0.0, 0.0, 1.0, 0.0, 0.0], [0.0, 0.0, 0.0, 1...  "
      ]
     },
     "metadata": {},
     "output_type": "display_data"
    },
    {
     "data": {
      "text/plain": [
       "<matplotlib.collections.PathCollection at 0x24544ba3af0>"
      ]
     },
     "execution_count": 212,
     "metadata": {},
     "output_type": "execute_result"
    },
    {
     "data": {
      "image/png": "[encoded data removed]",
      "text/plain": [
       "<Figure size 432x288 with 1 Axes>"
      ]
     },
     "metadata": {
      "needs_background": "light"
     },
     "output_type": "display_data"
    }
   ],
   "source": [
    "# Se declaran los semiespacios\n",
    "halfspaces1 = np.array([[-3, 2, -6],\n",
    "                       [-5, -4, 20],\n",
    "                      [8,3, -24]])\n",
    "\n",
    "# Se declaran los semiespacios teniendo en cuenta las restricciones de x,y mayores o iguales a cero. \n",
    "halfspaces = np.array([[-3., 2., -6],\n",
    "                       [-5., -4, 20.],\n",
    "                       [8, 3, -24],\n",
    "                       [-1, 0, 0],\n",
    "                       [0, -1, 0]])\n",
    "\n",
    "# Se lleva a cabo un proceso similar que en la función del punto 1. \n",
    "b = -1*halfspaces1[:,-1]\n",
    "A = np.concatenate((halfspaces1[:,:-1],np.identity(halfspaces1.shape[0])),axis=1)\n",
    "var2 = fun(A,b)\n",
    "vertices = []\n",
    "\n",
    "for item in list(var2['Factibles']):\n",
    "    lista = list(item)\n",
    "    vertices.append(lista[:2])\n",
    "\n",
    "halfspaces = np.array([[-3., 2., -6],\n",
    "                       [-5., -4, 20.],\n",
    "                       [8, 3, -24],\n",
    "                       [-1, 0, 0],\n",
    "                       [0, -1, 0]])\n",
    "\n",
    "options = {'color': 'lightblue',\n",
    "           'xlabel': 'x' ,\n",
    "           'ylabel': 'y',\n",
    "           'title':'Punto interior en la región factible del ejemplo 2 c)'}\n",
    "\n",
    "ax = polygon2D(vertices, options)\n",
    "for item in vertices:\n",
    "    ax.scatter(item[0], item[1], c = 'red' , marker = '.', s = 180) \n",
    "\n",
    "# Implementación del script del ejemplo.\n",
    "norm_vector = np.reshape(np.linalg.norm(halfspaces[:, :-1], axis=1),\n",
    "    (halfspaces.shape[0], 1))\n",
    "c = np.zeros((halfspaces.shape[1],))\n",
    "c[-1] = -1\n",
    "A = np.hstack((halfspaces[:, :-1], norm_vector))\n",
    "b = - halfspaces[:, -1:]\n",
    "\n",
    "#Se encuentra el punto interior de la región factible graficada anteriormente usando la función linprog\n",
    "res = linprog(c, A_ub=A, b_ub=b, bounds=(None, None))\n",
    "x = res.x[:-1]\n",
    "\n",
    "# Se crea un círculo en la solución óptima entragada por la función linprog.\n",
    "circle = Circle(x, radius=0.05, alpha=0.3, color = 'black')\n",
    "ax.add_patch(circle) \n",
    "ax.scatter(x[0], x[1], c = 'black' , marker = '.', s = 180)"
   ]
  }
 ],
 "metadata": {
  "colab": {
   "collapsed_sections": [
    "g8lKbnvQ_jok"
   ],
   "name": "Optimizacion-Lab4-Estudiantes.ipynb",
   "provenance": []
  },
  "kernelspec": {
   "display_name": "Python 3",
   "language": "python",
   "name": "python3"
  },
  "language_info": {
   "codemirror_mode": {
    "name": "ipython",
    "version": 3
   },
   "file_extension": ".py",
   "mimetype": "text/x-python",
   "name": "python",
   "nbconvert_exporter": "python",
   "pygments_lexer": "ipython3",
   "version": "3.8.3"
  },
  "varInspector": {
   "cols": {
    "lenName": 16,
    "lenType": 16,
    "lenVar": 40
   },
   "kernels_config": {
    "python": {
     "delete_cmd_postfix": "",
     "delete_cmd_prefix": "del ",
     "library": "var_list.py",
     "varRefreshCmd": "print(var_dic_list())"
    },
    "r": {
     "delete_cmd_postfix": ") ",
     "delete_cmd_prefix": "rm(",
     "library": "var_list.r",
     "varRefreshCmd": "cat(var_dic_list()) "
    }
   },
   "types_to_exclude": [
    "module",
    "function",
    "builtin_function_or_method",
    "instance",
    "_Feature"
   ],
   "window_display": false
  }
 },
 "nbformat": 4,
 "nbformat_minor": 1
}
