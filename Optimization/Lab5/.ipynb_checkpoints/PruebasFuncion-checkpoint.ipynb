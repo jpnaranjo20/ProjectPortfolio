{
 "cells": [
  {
   "cell_type": "code",
   "execution_count": 66,
   "metadata": {},
   "outputs": [],
   "source": [
    "import numpy as np\n",
    "import sympy\n",
    "from sympy import *\n",
    "import itertools\n",
    "from itertools import combinations\n",
    "import scipy as sp\n",
    "from scipy.optimize import linprog\n",
    "import pandas as pd\n",
    "import warnings\n",
    "warnings.filterwarnings('ignore')"
   ]
  },
  {
   "cell_type": "code",
   "execution_count": 218,
   "metadata": {},
   "outputs": [],
   "source": [
    "def hcomp(Aprim,bprim,fprim,soldual):\n",
    "    \n",
    "    # Se descompone el parametro soldual, para determinar el valor de la solución óptima, y el valor de la función\n",
    "    # objetivo evaluada en esa solución óptima.\n",
    "    solucion = soldual[0]\n",
    "    valor_opt = soldual[1]\n",
    "    \n",
    "    fprim = -1*fprim\n",
    "    \n",
    "    # Se obtiene el sistema del dual.\n",
    "    Adual = Aprim.transpose()\n",
    "    fdual = bprim.transpose()\n",
    "    bdual = fprim.transpose()\n",
    "    \n",
    "    # Se crean listas para guardar los ínidces de las variables que se igualan a cero\n",
    "    ecuaciones = []\n",
    "    ceros = []\n",
    "    \n",
    "    # Primera condición de hc: Se reemplaza el valor solución en las restricciones del dual. El resultado queda\n",
    "    # guardado en condicion11.\n",
    "    condicion11 = Adual.dot(solucion).transpose()\n",
    "    \n",
    "    # Se determina si las restricciones de la primera condición de hc son activas o inactivas. \n",
    "    # False -> Activa, True -> Inactiva\n",
    "    restr = [condicion11[k]>bdual[k] for k in range(len(condicion11))]\n",
    "    \n",
    "    for j in range(len(restr)):\n",
    "        # Si la resitricción j es inactiva, significa que la variable xj = 0. Se agrega el índice a una lista.  \n",
    "        if (restr[j]):\n",
    "             ceros.append(j)\n",
    "    \n",
    "    # Segunda condición de hc: Si las restricciones son inactivas, se toma el índice de la ecuación que va a formar\n",
    "    # parte de la solución.\n",
    "    for i in range(len(solucion)):\n",
    "        if (solucion[i] != 0):\n",
    "            ecuaciones.append(i)\n",
    "    \n",
    "    # Se crea la matriz para solucionar el sistema de ecuaciones resultante de las restricciones activas e inactivas,\n",
    "    # así como su correspondiente vector b.\n",
    "    matriz_sol = Aprim.copy()[ecuaciones,:]\n",
    "    b_sol = bprim.copy()[ecuaciones,:] \n",
    "    \n",
    "    # Se eliminan las columnas del sistema y de la función objetivo donde la xj es nula.\n",
    "    # Se concatena el sistema resultante con el vector b (matriz aumentada). \n",
    "    matriz_sol = np.delete(matriz_sol, ceros, axis=1)\n",
    "    fprim = np.delete(fprim, ceros, axis=1)\n",
    "    aumentada = np.c_[matriz_sol, b_sol]\n",
    "    \n",
    "    # Se toman los indices de las columnas pivotes, para saber los índices de las ecuaciones que se están tomando.\n",
    "    reducida , indices = sympy.Matrix(aumentada).rref()\n",
    "    indices = np.array(indices)\n",
    "    \n",
    "    # Se vuelve a definir la matriz solo con las ecuaciones relevantes, así como el vector b. \n",
    "    matriz_sol = matriz_sol[indices]\n",
    "    b_sol = b_sol[indices]\n",
    "    \n",
    "    # Se encuentra la solución si hay la misma cantidad de ecuaciones resultantes que valores del vector b.  \n",
    "    if (len(indices) == len(b_sol)):\n",
    "        x = np.linalg.inv(matriz_sol) @ b_sol\n",
    "        print(x)\n",
    "\n",
    "    # Se determina el valor de la función del primal evaluada en la solución recientemente encontrada.\n",
    "    val_primal = np.dot(fprim,x)\n",
    "    \n",
    "    # Se insertan las variables nulas de nuevo en su posición correspondiente, para indicar cuáles tomaron un valor \n",
    "    # igual a cero. \n",
    "    x = np.insert(x, ceros, 0)\n",
    "    \n",
    "    return val_primal, x"
   ]
  },
  {
   "cell_type": "code",
   "execution_count": 217,
   "metadata": {},
   "outputs": [
    {
     "name": "stdout",
     "output_type": "stream",
     "text": [
      "[[540.]]\n",
      "La solución al problema original de optimización es x = [  0. 540.]\n",
      "El valor de la función objetivo evaluada en el valor óptimo es [[9720.]]\n"
     ]
    }
   ],
   "source": [
    "# Utilidad del primal Alternativa 2a\n",
    "# Coeficientes que acompañan a las restricciones\n",
    "An=np.array([[7/10, 1],[1/2, 5/6],[1, 2/3],[1/10,1/4]])\n",
    "\n",
    "#Cotas superiores de las restricciones\n",
    "b=np.array([[630],[600],[708],[135]])\n",
    "\n",
    "#Coeficientes que acompañan a las variables de decisión en la función objetivo\n",
    "c = np.array([[-7,-18]])\n",
    "\n",
    "f = np.array([[0, 0, 0, 72],[9720]])\n",
    "\n",
    "val = 9720\n",
    "\n",
    "[fx, x] = hcomp(An, b, c, f)\n",
    "print(f'La solución al problema original de optimización es x = {x}')\n",
    "print(f'El valor de la función objetivo evaluada en el valor óptimo es {fx}')"
   ]
  },
  {
   "cell_type": "code",
   "execution_count": 97,
   "metadata": {},
   "outputs": [
    {
     "name": "stdout",
     "output_type": "stream",
     "text": [
      "Optimization terminated successfully.\n",
      "         Current function value: 9720.000000 \n",
      "         Iterations: 3\n",
      "La solución a este problema de optimización es λ = [ 0.  0.  0. 72.]\n",
      "El valor de la función objetivo del dual evaluada en el valor óptimo es 9720.0\n"
     ]
    }
   ],
   "source": [
    "c = np.array([[630, 600, 708, 135]])\n",
    "A = np.array([[-7/10, -1/2, -1, -1/10],[-1, -5/6, -2/3, -1/4],[-1,0,0,0],[0,-1,0,0],[0,0,-1,0],[0,0,0,-1]])\n",
    "b = np.array([[-7],[-18],[0],[0],[0],[0]])\n",
    "\n",
    "x1_bounds = (0, None)\n",
    "x2_bounds = (0, None)\n",
    "x3_bounds = (0, None)\n",
    "x4_bounds = (0, None)\n",
    "\n",
    "\n",
    "res = linprog(c, A_ub=A, b_ub=b, bounds = np.array([x1_bounds, x2_bounds, x3_bounds, x4_bounds]), method='simplex', options={\"disp\": True})\n",
    "print(f'La solución a este problema de optimización es λ = {res.x}')\n",
    "print(f'El valor de la función objetivo del dual evaluada en el valor óptimo es {res.fun}')"
   ]
  },
  {
   "cell_type": "code",
   "execution_count": 111,
   "metadata": {},
   "outputs": [
    {
     "ename": "ValueError",
     "evalue": "shapes (2,6) and (4,1) not aligned: 6 (dim 1) != 4 (dim 0)",
     "output_type": "error",
     "traceback": [
      "\u001b[1;31m---------------------------------------------------------------------------\u001b[0m",
      "\u001b[1;31mValueError\u001b[0m                                Traceback (most recent call last)",
      "\u001b[1;32m<ipython-input-111-fad8e59c14ec>\u001b[0m in \u001b[0;36m<module>\u001b[1;34m\u001b[0m\n\u001b[0;32m      6\u001b[0m \u001b[0mvalor_optimo\u001b[0m \u001b[1;33m=\u001b[0m \u001b[0mres\u001b[0m\u001b[1;33m.\u001b[0m\u001b[0mfun\u001b[0m\u001b[1;33m\u001b[0m\u001b[1;33m\u001b[0m\u001b[0m\n\u001b[0;32m      7\u001b[0m \u001b[1;33m\u001b[0m\u001b[0m\n\u001b[1;32m----> 8\u001b[1;33m \u001b[0mhcomp\u001b[0m\u001b[1;33m(\u001b[0m\u001b[0mAprim\u001b[0m\u001b[1;33m,\u001b[0m\u001b[0mbprim\u001b[0m\u001b[1;33m,\u001b[0m\u001b[0mfprim\u001b[0m\u001b[1;33m,\u001b[0m \u001b[0msolucion\u001b[0m\u001b[1;33m,\u001b[0m \u001b[0mvalor_optimo\u001b[0m\u001b[1;33m)\u001b[0m\u001b[1;33m\u001b[0m\u001b[1;33m\u001b[0m\u001b[0m\n\u001b[0m",
      "\u001b[1;32m<ipython-input-109-f36182bf3aa2>\u001b[0m in \u001b[0;36mhcomp\u001b[1;34m(Aprim, bprim, fprim, soldual, val_opt)\u001b[0m\n\u001b[0;32m     19\u001b[0m     \u001b[1;31m# Primera condición de hc: Se reemplaza el valor solución en las restricciones del dual. El resultado queda\u001b[0m\u001b[1;33m\u001b[0m\u001b[1;33m\u001b[0m\u001b[1;33m\u001b[0m\u001b[0m\n\u001b[0;32m     20\u001b[0m     \u001b[1;31m# guardado en Ma_dec.\u001b[0m\u001b[1;33m\u001b[0m\u001b[1;33m\u001b[0m\u001b[1;33m\u001b[0m\u001b[0m\n\u001b[1;32m---> 21\u001b[1;33m     \u001b[0mcondicion11\u001b[0m \u001b[1;33m=\u001b[0m \u001b[0mAdual\u001b[0m\u001b[1;33m.\u001b[0m\u001b[0mdot\u001b[0m\u001b[1;33m(\u001b[0m\u001b[0msolucion\u001b[0m\u001b[1;33m)\u001b[0m\u001b[1;33m.\u001b[0m\u001b[0mtranspose\u001b[0m\u001b[1;33m(\u001b[0m\u001b[1;33m)\u001b[0m\u001b[1;33m\u001b[0m\u001b[1;33m\u001b[0m\u001b[0m\n\u001b[0m\u001b[0;32m     22\u001b[0m \u001b[1;33m\u001b[0m\u001b[0m\n\u001b[0;32m     23\u001b[0m     \u001b[0mmatriz_sol\u001b[0m \u001b[1;33m=\u001b[0m \u001b[0mAprim\u001b[0m\u001b[1;33m.\u001b[0m\u001b[0mcopy\u001b[0m\u001b[1;33m(\u001b[0m\u001b[1;33m)\u001b[0m\u001b[1;33m[\u001b[0m\u001b[0mecuaciones\u001b[0m\u001b[1;33m,\u001b[0m\u001b[1;33m:\u001b[0m\u001b[1;33m]\u001b[0m\u001b[1;33m\u001b[0m\u001b[1;33m\u001b[0m\u001b[0m\n",
      "\u001b[1;31mValueError\u001b[0m: shapes (2,6) and (4,1) not aligned: 6 (dim 1) != 4 (dim 0)"
     ]
    }
   ],
   "source": [
    "Aprim = np.array([[-7/10, -1],[-1/2,-5/6],[-1, -2/3],[-1/10,-1/4],[1,0],[0,1]])\n",
    "bprim = np.array([[-630],[-600],[-708],[-135],[0],[0]])\n",
    "fprim = np.array([-7, -18])\n",
    "solucion = res.x\n",
    "solucion=solucion.reshape(-1,1)\n",
    "valor_optimo = res.fun\n",
    "\n",
    "hcomp(Aprim,bprim,fprim, solucion, valor_optimo)"
   ]
  },
  {
   "cell_type": "code",
   "execution_count": 362,
   "metadata": {},
   "outputs": [
    {
     "name": "stdout",
     "output_type": "stream",
     "text": [
      "La solución a este problema de optimización es λ = [ 0.  0. 14.  0.]\n",
      "El valor de la función objetivo del dual evaluada en el valor óptimo es 9912.0\n"
     ]
    }
   ],
   "source": [
    "c = np.array([[630, 600, 708, 135]])\n",
    "A = np.array([[-7/10, -1/2, -1, -1/10],[-1, -5/6, -2/3, -1/4],[-1,0,0,0],[0,-1,0,0],[0,0,-1,0],[0,0,0,-1]])\n",
    "b = np.array([[-14],[-9],[0],[0],[0],[0]])\n",
    "\n",
    "x1_bounds = (0, None)\n",
    "x2_bounds = (0, None)\n",
    "x3_bounds = (0, None)\n",
    "x4_bounds = (0, None)\n",
    "\n",
    "\n",
    "res = linprog(c, A_ub=A, b_ub=b, bounds = np.array([x1_bounds, x2_bounds, x3_bounds, x4_bounds]), method='simplex')\n",
    "print(f'La solución a este problema de optimización es λ = {res.x}')\n",
    "print(f'El valor de la función objetivo del dual evaluada en el valor óptimo es {round(res.fun,3)}')"
   ]
  },
  {
   "cell_type": "code",
   "execution_count": 347,
   "metadata": {},
   "outputs": [
    {
     "name": "stdout",
     "output_type": "stream",
     "text": [
      "La solución a este problema de optimización es λ = [8.125  0.     1.3125 0.    ]\n",
      "El valor de la función objetivo del dual evaluada en el valor óptimo es 10281.6\n"
     ]
    }
   ],
   "source": [
    "c = np.array([[630*1.7, 600*1.7, 708*1.7, 135*1.7]])\n",
    "A = np.array([[-7/10, -1/2, -1, -1/10],[-1, -5/6, -2/3, -1/4],[-1,0,0,0],[0,-1,0,0],[0,0,-1,0],[0,0,0,-1]])\n",
    "b = np.array([[-7],[-9],[0],[0],[0],[0]])\n",
    "\n",
    "x1_bounds = (0, None)\n",
    "x2_bounds = (0, None)\n",
    "x3_bounds = (0, None)\n",
    "x4_bounds = (0, None)\n",
    "\n",
    "\n",
    "res = linprog(c, A_ub=A, b_ub=b, bounds = np.array([x1_bounds, x2_bounds, x3_bounds, x4_bounds]), method='simplex')\n",
    "print(f'La solución a este problema de optimización es λ = {res.x}')\n",
    "print(f'El valor de la función objetivo del dual evaluada en el valor óptimo es {round(res.fun,3)}')"
   ]
  },
  {
   "cell_type": "code",
   "execution_count": null,
   "metadata": {},
   "outputs": [],
   "source": [
    "    sizeAprim = np.shape(Aprim)\n",
    "    sizebprim = np.shape(bprim)\n",
    "    sizefprim = np.shape(fprim)\n",
    "    \n",
    "    solucion = f[0]\n",
    "    val_opt = f[1]\n",
    "\n",
    "    fprim = -1*fprim\n",
    "    \n",
    "    Adual = Aprim.transpose()\n",
    "    fdual = bprim.transpose()\n",
    "    bdual = fprim.transpose()\n",
    "    inactivas = 0\n",
    "    activas = 0\n",
    "    fila = np.zeros((1,sizeAprim[1]))\n",
    "    filas = np.zeros((sizeAprim[0],sizeAprim[1]))\n",
    "\n",
    "    for i in range(sizeAdual[0]):\n",
    "        filai = Adual[i]\n",
    "        valor = np.dot(filai,solucion)\n",
    "        if valor == bdual[i]:\n",
    "            activas = activas + 1\n",
    "            pass\n",
    "        elif valor < bdual[i]:\n",
    "            inactivas = inactivas+1\n",
    "            for j in range(np.shape(fila)[0]):\n",
    "                if j == i:\n",
    "                    fila[:,j] = 1\n",
    "                filas[i] = fila\n",
    "    \n",
    "    ecuaciones = np.zeros((sizeAprim[0],sizeAprim[1]))\n",
    "\n",
    "    for i in range(sizesolucion[0]):\n",
    "        if solucion[i] > 0:\n",
    "            inactivas = inactivas+1\n",
    "            ecuaciones[i,:] = Aprim[i,:] \n",
    "        elif solucion[i] == 0:\n",
    "            activas = activas+1\n",
    "            ecuaciones[i,:] = np.zeros(sizeAprim[1])\n",
    "    \n",
    "    matriz_sol = np.zeros((inactivas,sizeAdual[0]))\n",
    "    print(filas)\n",
    "    print(ecuaciones)\n",
    "    print(matriz_sol)\n",
    "    \n",
    "    for f in filas:\n",
    "        if all(f==0) == False:\n",
    "            indexfilas = np.where(filas != 0)\n",
    "            \n",
    "    for e in ecuaciones:\n",
    "        if all(e==0) == False:\n",
    "            indexecuaciones = np.where(ecuaciones != 0)\n",
    "    \n",
    "    indexfila = indexfilas[0][0]\n",
    "    indexecuacion = indexecuaciones[0][0]\n",
    "    \n",
    "    unificada = np.concatenate((filas, ecuaciones))\n",
    "    matriz_sol = unificada[~(unificada==0).all(1)]\n",
    "    \n",
    "    print(f'matriz_sol: \\n {matriz_sol}')\n",
    "    print(f'indexfilas: {indexfila}')\n",
    "    print(f'indexecuaciones: {indexecuacion}')\n",
    "    \n",
    "    baux2 = np.zeros(sizebprim)\n",
    "    \n",
    "    for i in range(sizebprim[0]):\n",
    "        if i == indexfila:\n",
    "            baux2[i] = 0\n",
    "        elif i == indexecuacion:\n",
    "            baux2[i] = bprim[indexecuacion]\n",
    "        else:\n",
    "            baux2[i] = 9999\n",
    "    \n",
    "    b_sol = baux2[~(baux2==9999).all(1)]\n",
    "    \n",
    "    print(f'baux2: \\n {baux2}')            \n",
    "    print(f'b_sol: \\n {b_sol}')\n",
    "\n",
    "    solx = np.linalg.solve(matriz_sol, b_sol)"
   ]
  }
 ],
 "metadata": {
  "kernelspec": {
   "display_name": "Python 3",
   "language": "python",
   "name": "python3"
  },
  "language_info": {
   "codemirror_mode": {
    "name": "ipython",
    "version": 3
   },
   "file_extension": ".py",
   "mimetype": "text/x-python",
   "name": "python",
   "nbconvert_exporter": "python",
   "pygments_lexer": "ipython3",
   "version": "3.8.3"
  },
  "varInspector": {
   "cols": {
    "lenName": 16,
    "lenType": 16,
    "lenVar": 40
   },
   "kernels_config": {
    "python": {
     "delete_cmd_postfix": "",
     "delete_cmd_prefix": "del ",
     "library": "var_list.py",
     "varRefreshCmd": "print(var_dic_list())"
    },
    "r": {
     "delete_cmd_postfix": ") ",
     "delete_cmd_prefix": "rm(",
     "library": "var_list.r",
     "varRefreshCmd": "cat(var_dic_list()) "
    }
   },
   "position": {
    "height": "538.4px",
    "left": "1166px",
    "right": "20px",
    "top": "120px",
    "width": "350px"
   },
   "types_to_exclude": [
    "module",
    "function",
    "builtin_function_or_method",
    "instance",
    "_Feature"
   ],
   "window_display": false
  }
 },
 "nbformat": 4,
 "nbformat_minor": 4
}
