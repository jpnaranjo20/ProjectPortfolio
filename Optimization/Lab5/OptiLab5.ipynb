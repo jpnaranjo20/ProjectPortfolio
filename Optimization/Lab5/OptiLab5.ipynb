{
 "cells": [
  {
   "cell_type": "markdown",
   "metadata": {
    "colab_type": "text",
    "id": "wn64JnrroqLx"
   },
   "source": [
    "# Primal, Dual and Complementary Slackness"
   ]
  },
  {
   "cell_type": "code",
   "execution_count": 13,
   "metadata": {
    "colab": {},
    "colab_type": "code",
    "id": "yGRDmlLN791i"
   },
   "outputs": [],
   "source": [
    "import numpy as np\n",
    "import sympy\n",
    "from sympy import *\n",
    "from scipy.optimize import linprog\n",
    "\n",
    "import warnings\n",
    "warnings.filterwarnings('ignore')"
   ]
  },
  {
   "cell_type": "markdown",
   "metadata": {},
   "source": [
    "# Optimization Problem"
   ]
  },
  {
   "cell_type": "markdown",
   "metadata": {},
   "source": [
    "*PAR* is a small manufacturer of golf equipment and accessories whose distributor convinced them that there is a market for both the mid-priced golf bag, known as the standard model, and for a high-priced golf bag, known as the deluxe model. The distributor is so confident in the market that if *PAR* can manufacture the bags competitively, the distributor agrees to purchase all the bags *PAR* can produce over the next three months.\n",
    "\n",
    "A careful analysis of the manufacturing requirements resulted in the following table, which shows the time and production needs for the four required manufacturing operations and the accounting department's estimate of the contribution to profit per bag:\n",
    "\n",
    "| **Product** \t| **Cutting and Dyeing (h)** \t| **Sewing (h)** \t| **Finishing (h)** \t| **Inspection and Packaging (h)** \t| **Profit per bag ($)** \t|\n",
    "|--------------\t|-----------------------------\t|-----------------\t|-------------------\t|----------------------------------\t|-------------------------\t|\n",
    "| Standard     \t| 7/10                        \t| 1/2             \t| 1                 \t| 1/10                             \t| 7                       \t|\n",
    "| Deluxe       \t| 1                           \t| 5/6             \t| 2/3               \t| 1/4                              \t| 9                       \t|\n",
    "\n",
    "The manufacturing director estimates that during the next three months, there will be 630 hours of cutting and dyeing time, 600 hours of sewing time, 708 hours of finishing time, and 135 hours of inspection and packaging time available for the production of golf bags."
   ]
  },
  {
   "cell_type": "markdown",
   "metadata": {},
   "source": [
    "# Problem 1"
   ]
  },
  {
   "cell_type": "markdown",
   "metadata": {},
   "source": [
    "#### If *PAR* wishes to maximize its profit, what amount of standard and deluxe bags should it manufacture?\n",
    "\n",
    "Solve the problem using the primal and dual form of the optimization problem."
   ]
  },
  {
   "cell_type": "markdown",
   "metadata": {},
   "source": [
    "#### Original Optimization Problem Statement\n",
    "\n",
    "Decision Variables:\n",
    "\n",
    "$x_1 \\longrightarrow $ Quantity of standard bags\n",
    "\n",
    "$x_2 \\longrightarrow $ Quantity of deluxe bags\n",
    "\n",
    "Objective Function: Profit\n",
    "\n",
    "$f(x) = 7x_1 + 9x_2$\n",
    "\n",
    "Constraints: Time in hours\n",
    "\n",
    "$\\frac{7}{10}x_1 + x_2 \\leq 630 $ \n",
    "\n",
    "$\\frac{1}{2}x_1 + \\frac{5}{6}x_2 \\leq 600$ \n",
    "\n",
    "$x_1 + \\frac{2}{3}x_2 \\leq 708$\n",
    "\n",
    "$\\frac{1}{10}x_1 + \\frac{1}{4}x_2 \\leq 135$\n",
    "\n",
    "Original Optimization Problem: \n",
    "\n",
    "max $f(x) = 7x_1 + 9x_2$ s.t.\n",
    "\n",
    "$\\frac{7}{10}x_1 + x_2 \\leq 630 $ \n",
    "\n",
    "$\\frac{1}{2}x_1 + \\frac{5}{6}x_2 \\leq 600$ \n",
    "\n",
    "$x_1 + \\frac{2}{3}x_2 \\leq 708$ \n",
    "\n",
    "$\\frac{1}{10}x_1 + \\frac{1}{4}x_2 \\leq 135$\n",
    "\n",
    "Primal Problem: \n",
    "\n",
    "min $-f(x) = -7x_1 - 9x_2$ s.t.\n",
    "\n",
    "$-\\frac{7}{10}x_1 - x_2 \\geq -630 $ \n",
    "\n",
    "$-\\frac{1}{2}x_1 - \\frac{5}{6}x_2 \\geq -600$ \n",
    "\n",
    "$-x_1 - \\frac{2}{3}x_2 \\geq -708$ \n",
    "\n",
    "$-\\frac{1}{10}x_1 - \\frac{1}{4}x_2 \\geq -135$\n",
    "\n",
    "Dual Problem:\n",
    "\n",
    "max $q(\\lambda) = -630\\lambda_1 -600\\lambda_2 - 708\\lambda_3 - 135\\lambda_4$ s.t. \n",
    "\n",
    "$-\\frac{7}{10}\\lambda_1 - \\frac{1}{2}\\lambda_2 - \\lambda_3 - \\frac{1}{10}\\lambda_4 \\leq -7$ \n",
    "\n",
    "$-\\lambda_1 - \\frac{5}{6}\\lambda_2 - \\frac{2}{3}\\lambda_3 - \\frac{1}{4}\\lambda_4 \\leq -9 $\n"
   ]
  },
  {
   "cell_type": "code",
   "execution_count": 14,
   "metadata": {
    "scrolled": false
   },
   "outputs": [
    {
     "name": "stdout",
     "output_type": "stream",
     "text": [
      "The solution to the original optimization problem is x = [540. 252.]\n",
      "The value of the objective function evaluated at the optimal value is 6048.0\n"
     ]
    }
   ],
   "source": [
    "c = np.array([[-7, -9]])\n",
    "A = np.array([[7/10, 1],[1/2, 5/6],[1, 2/3],[1/10, 1/4]])\n",
    "b = np.array([[630],[600],[708],[135]])\n",
    "\n",
    "x1_bounds = (0, None)\n",
    "x2_bounds = (0, None)\n",
    "\n",
    "\n",
    "res = linprog(c, A_ub=A, b_ub=b, bounds = np.array([x1_bounds, x2_bounds]), method='simplex', options={\"disp\": False})\n",
    "print(f'The solution to the original optimization problem is x = {res.x}')\n",
    "print(f'The value of the objective function evaluated at the optimal value is {-1*res.fun}')\n"
   ]
  },
  {
   "cell_type": "markdown",
   "metadata": {},
   "source": [
    "According to this result, it is obtained that **540 standard bags and 252 deluxe bags** should be manufactured to maximize the profit to a value of **$6,048**.\n",
    "\n",
    "The profit obtained by manufacturing **only standard bags** corresponds to **$4,956**.\n",
    "\n",
    "The profit obtained by manufacturing **only deluxe bags** corresponds to **$4,860**."
   ]
  },
  {
   "cell_type": "markdown",
   "metadata": {},
   "source": [
    "# Problem 2"
   ]
  },
  {
   "cell_type": "markdown",
   "metadata": {},
   "source": [
    "### a)\n",
    "#### Planteamiento de la primera estrategia\n",
    "\n",
    "Variables de decisión:\n",
    "\n",
    "$x_1 \\longrightarrow $ Cantidad de bolsas estándar \\\n",
    "$x_2 \\longrightarrow $ Cantidad de bolsas deluxe\n",
    "\n",
    "Función objetivo: Utilidad\n",
    "\n",
    "$f(x) = 7x_1 + 18x_2$\n",
    "\n",
    "Restricciones: Tiempo en horas\n",
    "\n",
    "$\\frac{7}{10}x_1 + x_2 \\leq 630 $ \\\n",
    "$\\frac{1}{2}x_1 + \\frac{5}{6}x_2 \\leq 600$ \\\n",
    "$x_1 + \\frac{2}{3}x_2 \\leq 708$ \\\n",
    "$\\frac{1}{10}x_1 + \\frac{1}{4}x_2 \\leq 135$\n",
    "\n",
    "Problema de optimización: \\\n",
    "max $f(x) = 7x_1 + 18x_2$ s.a.\n",
    "\n",
    "$\\frac{7}{10}x_1 + x_2 \\leq 630 $ \\\n",
    "$\\frac{1}{2}x_1 + \\frac{5}{6}x_2 \\leq 600$ \\\n",
    "$x_1 + \\frac{2}{3}x_2 \\leq 708$ \\\n",
    "$\\frac{1}{10}x_1 + \\frac{1}{4}x_2 \\leq 135$\n",
    "\n",
    "Problema primal: \\\n",
    "min $-f(x) = -7x_1 - 18x_2$ s.a.\n",
    "\n",
    "$-\\frac{7}{10}x_1 - x_2 \\geq -630 $ \\\n",
    "$-\\frac{1}{2}x_1 - \\frac{5}{6}x_2 \\geq -600$ \\\n",
    "$-x_1 - \\frac{2}{3}x_2 \\geq -708$ \\\n",
    "$-\\frac{1}{10}x_1 - \\frac{1}{4}x_2 \\geq -135$"
   ]
  },
  {
   "cell_type": "markdown",
   "metadata": {},
   "source": [
    "#### Planteamiento del problema dual de la primera estrategia\n",
    "\n",
    "max $q(\\lambda) = 630\\lambda_1 + 600\\lambda_2 + 708\\lambda_3 + 135\\lambda_4$ s.a. \\\n",
    "$\\frac{7}{10}\\lambda_1 + \\frac{1}{2}\\lambda_2 + \\lambda_3 + \\frac{1}{10}\\lambda_4 \\geq -7$ \\\n",
    "$\\lambda_1 + \\frac{5}{6}\\lambda_2 + \\frac{2}{3}\\lambda_3 + \\frac{1}{4}\\lambda_4 \\geq -18 $"
   ]
  },
  {
   "cell_type": "markdown",
   "metadata": {},
   "source": [
    "#### Solución del problema dual de la primera estrategia"
   ]
  },
  {
   "cell_type": "code",
   "execution_count": 15,
   "metadata": {},
   "outputs": [
    {
     "name": "stdout",
     "output_type": "stream",
     "text": [
      "Optimization terminated successfully.\n",
      "         Current function value: 9720.000000 \n",
      "         Iterations: 3\n",
      "La solución a este problema de optimización es λ = [ 0.  0.  0. 72.]\n",
      "El valor de la función objetivo del dual evaluada en el valor óptimo es 9720.0\n"
     ]
    }
   ],
   "source": [
    "c = np.array([[630, 600, 708, 135]])\n",
    "A = np.array([[-7/10, -1/2, -1, -1/10],[-1, -5/6, -2/3, -1/4],[-1,0,0,0],[0,-1,0,0],[0,0,-1,0],[0,0,0,-1]])\n",
    "b = np.array([[-7],[-18],[0],[0],[0],[0]])\n",
    "\n",
    "x1_bounds = (0, None)\n",
    "x2_bounds = (0, None)\n",
    "x3_bounds = (0, None)\n",
    "x4_bounds = (0, None)\n",
    "\n",
    "\n",
    "res = linprog(c, A_ub=A, b_ub=b, bounds = np.array([x1_bounds, x2_bounds, x3_bounds, x4_bounds]), method='simplex', options={\"disp\": True})\n",
    "print(f'La solución a este problema de optimización es λ = {res.x}')\n",
    "print(f'El valor de la función objetivo del dual evaluada en el valor óptimo es {res.fun}')"
   ]
  },
  {
   "cell_type": "markdown",
   "metadata": {},
   "source": [
    "#### Solución del primal a través de holgura complementaria"
   ]
  },
  {
   "cell_type": "markdown",
   "metadata": {},
   "source": [
    "A partir de la solución anterior, se evaluán las condiciones de holgura complementaria que permiten encontrar la solución en el problema primal, es decir, las cantidades de bolsas a fabricar de modelo estándar y modelo deluxe. Se obtienen las siguientes restricciones: \n",
    "\n",
    "$-\\frac{7}{10}(0) - \\frac{1}{2}(0) - 1(0) -\\frac{1}{10}(72) < -7$\\\n",
    "$-7.2 < -7 \\longrightarrow$ Restricción inactiva \n",
    "\n",
    "$-1(0) - \\frac{5}{6}(0) - \\frac{2}{3}(0) -\\frac{1}{4}(72) < -18$\n",
    "$-18 = -18 \\longrightarrow$ Restricción activa \n",
    "\n",
    "$\\lambda_1^*=0\\longrightarrow$ Restricción activa \n",
    "\n",
    "$\\lambda_2^*=0\\longrightarrow$ Restricción activa \n",
    "\n",
    "$\\lambda_3^*=0\\longrightarrow$ Restricción activa \n",
    "\n",
    "$\\lambda_4^*>0\\longrightarrow$ Restricción inactiva \n",
    "\n",
    "De la primera y sexta restricción, se obtiene respectivamente que:\n",
    "\n",
    "$x_1^*=0$ \\\n",
    "$-\\frac{1}{10}x_1^*-\\frac{1}{4}x_2^*=-135$\n",
    "\n",
    "Finalmente, se resuelve el sistema y se obtiene que se deben fabricar 0 bolsas modelo estándar y 540 bolsas modelo deluxe.\n"
   ]
  },
  {
   "cell_type": "markdown",
   "metadata": {},
   "source": [
    "### b) \n",
    "#### Planteamiento de la segunda estrategia\n",
    "\n",
    "Variables de decisión:\n",
    "\n",
    "$x_1 \\longrightarrow $ Cantidad de bolsas estándar \\\n",
    "$x_2 \\longrightarrow $ Cantidad de bolsas deluxe\n",
    "\n",
    "Función objetivo: Utilidad\n",
    "\n",
    "$f(x) = 14x_1 + 9x_2$\n",
    "\n",
    "Restricciones: Tiempo en horas\n",
    "\n",
    "$\\frac{7}{10}x_1 + x_2 \\leq 630 $ \\\n",
    "$\\frac{1}{2}x_1 + \\frac{5}{6}x_2 \\leq 600$ \\\n",
    "$x_1 + \\frac{2}{3}x_2 \\leq 708$ \\\n",
    "$\\frac{1}{10}x_1 + \\frac{1}{4}x_2 \\leq 135$\n",
    "\n",
    "Problema de optimización: \\\n",
    "max $f(x) = 14x_1 + 9x_2$ s.a.\n",
    "\n",
    "$\\frac{7}{10}x_1 + x_2 \\leq 630 $ \\\n",
    "$\\frac{1}{2}x_1 + \\frac{5}{6}x_2 \\leq 600$ \\\n",
    "$x_1 + \\frac{2}{3}x_2 \\leq 708$ \\\n",
    "$\\frac{1}{10}x_1 + \\frac{1}{4}x_2 \\leq 135$\n",
    "\n",
    "#### Planteamiento del problema dual de la segunda estrategia\n",
    "\n",
    "max $g(\\lambda) = 630\\lambda_1 + 600\\lambda_2 + 708\\lambda_3 + 135\\lambda_4$ s.a. \\\n",
    "$\\frac{7}{10}\\lambda_1 + \\frac{1}{2}\\lambda_2 + \\lambda_3 + \\frac{1}{10}\\lambda_4 \\geq -14$ \\\n",
    "$\\lambda_1 + \\frac{5}{6}\\lambda_2 + \\frac{2}{3}\\lambda_3 + \\frac{1}{4}\\lambda_4 \\geq -9 $"
   ]
  },
  {
   "cell_type": "markdown",
   "metadata": {},
   "source": [
    "#### Solución del problema dual de la segunda estrategia"
   ]
  },
  {
   "cell_type": "code",
   "execution_count": 16,
   "metadata": {
    "scrolled": false
   },
   "outputs": [
    {
     "name": "stdout",
     "output_type": "stream",
     "text": [
      "La solución a este problema de optimización es λ = [ 0.  0. 14.  0.]\n",
      "El valor de la función objetivo del dual evaluada en el valor óptimo es 9912.0\n"
     ]
    }
   ],
   "source": [
    "c = np.array([[630, 600, 708, 135]])\n",
    "A = np.array([[-7/10, -1/2, -1, -1/10],[-1, -5/6, -2/3, -1/4],[-1,0,0,0],[0,-1,0,0],[0,0,-1,0],[0,0,0,-1]])\n",
    "b = np.array([[-14],[-9],[0],[0],[0],[0]])\n",
    "\n",
    "x1_bounds = (0, None)\n",
    "x2_bounds = (0, None)\n",
    "x3_bounds = (0, None)\n",
    "x4_bounds = (0, None)\n",
    "\n",
    "\n",
    "res = linprog(c, A_ub=A, b_ub=b, bounds = np.array([x1_bounds, x2_bounds, x3_bounds, x4_bounds]), method='simplex')\n",
    "print(f'La solución a este problema de optimización es λ = {res.x}')\n",
    "print(f'El valor de la función objetivo del dual evaluada en el valor óptimo es {round(res.fun,3)}')"
   ]
  },
  {
   "cell_type": "markdown",
   "metadata": {},
   "source": [
    "#### Solución del primal a través de holgura complementaria"
   ]
  },
  {
   "cell_type": "markdown",
   "metadata": {},
   "source": [
    "A partir de la solución anterior, se evaluán las condiciones de holgura complementaria que permiten encontrar la solución en el problema primal, es decir, las cantidades de bolsas a fabricar de modelo estándar y modelo deluxe. Se obtienen las siguientes restricciones: \n",
    "\n",
    "$-\\frac{7}{10}(0) - \\frac{1}{2}(0) - 1(14) -\\frac{1}{10}(0) < -14$\\\n",
    "$-14 < -14 \\longrightarrow$ Restricción activa \n",
    "\n",
    "$-1(0) - \\frac{5}{6}(0) - \\frac{2}{3}(14) -\\frac{1}{4}(0) < -9$\n",
    "$-9.33 = -9 \\longrightarrow$ Restricción inactiva \n",
    "\n",
    "$\\lambda_1^*=0\\longrightarrow$ Restricción activa \n",
    "\n",
    "$\\lambda_2^*=0\\longrightarrow$ Restricción activa \n",
    "\n",
    "$\\lambda_3^*>0\\longrightarrow$ Restricción inactiva \n",
    "\n",
    "$\\lambda_4^*=0\\longrightarrow$ Restricción activa \n",
    "\n",
    "De la segunda y quinta restricción, se obtiene respectivamente que:\n",
    "\n",
    "$x_2^*=0$ \\\n",
    "$-x_1^*-\\frac{2}{3}x_2^*=-708$\n",
    "\n",
    "Finalmente, se resuelve el sistema y se obtiene que se deben fabricar 708 bolsas modelo estándar y 0 bolsas modelo deluxe."
   ]
  },
  {
   "cell_type": "markdown",
   "metadata": {},
   "source": [
    "### c) \n",
    "#### Planteamiento de la tercera estrategia\n",
    "\n",
    "Variables de decisión:\n",
    "\n",
    "$x_1 \\longrightarrow $ Cantidad de bolsas estándar \\\n",
    "$x_2 \\longrightarrow $ Cantidad de bolsas deluxe\n",
    "\n",
    "Función objetivo: Utilidad\n",
    "\n",
    "$f(x) = 7x_1 + 9x_2$\n",
    "\n",
    "Restricciones: Tiempo en horas\n",
    "\n",
    "$\\frac{7}{10}x_1 + x_2 \\leq 1071 $ \\\n",
    "$\\frac{1}{2}x_1 + \\frac{5}{6}x_2 \\leq 1020$ \\\n",
    "$x_1 + \\frac{2}{3}x_2 \\leq 1203.6$ \\\n",
    "$\\frac{1}{10}x_1 + \\frac{1}{4}x_2 \\leq 229.5$\n",
    "\n",
    "Problema de optimización: \\\n",
    "max $f(x) = 7x_1 + 9x_2$ s.a.\n",
    "\n",
    "$\\frac{7}{10}x_1 + x_2 \\leq 1071 $ \\\n",
    "$\\frac{1}{2}x_1 + \\frac{5}{6}x_2 \\leq 1020$ \\\n",
    "$x_1 + \\frac{2}{3}x_2 \\leq 1203.6$ \\\n",
    "$\\frac{1}{10}x_1 + \\frac{1}{4}x_2 \\leq 229.5$\n",
    "\n",
    "#### Planteamiento del problema dual de la tercera estrategia\n",
    "\n",
    "max $g(\\lambda) = 1071\\lambda_1 + 1020\\lambda_2 + 1203.6\\lambda_3 + 229.5\\lambda_4$ s.a. \\\n",
    "$\\frac{7}{10}\\lambda_1 + \\frac{1}{2}\\lambda_2 + \\lambda_3 + \\frac{1}{10}\\lambda_4 \\geq -14$ \\\n",
    "$\\lambda_1 + \\frac{5}{6}\\lambda_2 + \\frac{2}{3}\\lambda_3 + \\frac{1}{4}\\lambda_4 \\geq -9 $"
   ]
  },
  {
   "cell_type": "code",
   "execution_count": 17,
   "metadata": {},
   "outputs": [
    {
     "name": "stdout",
     "output_type": "stream",
     "text": [
      "La solución a este problema de optimización es λ = [8.125  0.     1.3125 0.    ]\n",
      "El valor de la función objetivo del dual evaluada en el valor óptimo es 10281.6\n"
     ]
    }
   ],
   "source": [
    "c = np.array([[630*1.7, 600*1.7, 708*1.7, 135*1.7]])\n",
    "A = np.array([[-7/10, -1/2, -1, -1/10],[-1, -5/6, -2/3, -1/4],[-1,0,0,0],[0,-1,0,0],[0,0,-1,0],[0,0,0,-1]])\n",
    "b = np.array([[-7],[-9],[0],[0],[0],[0]])\n",
    "\n",
    "x1_bounds = (0, None)\n",
    "x2_bounds = (0, None)\n",
    "x3_bounds = (0, None)\n",
    "x4_bounds = (0, None)\n",
    "\n",
    "\n",
    "res = linprog(c, A_ub=A, b_ub=b, bounds = np.array([x1_bounds, x2_bounds, x3_bounds, x4_bounds]), method='simplex')\n",
    "print(f'La solución a este problema de optimización es λ = {res.x}')\n",
    "print(f'El valor de la función objetivo del dual evaluada en el valor óptimo es {round(res.fun,3)}')"
   ]
  },
  {
   "cell_type": "markdown",
   "metadata": {},
   "source": [
    "#### Solución del primal a través de holgura complementaria"
   ]
  },
  {
   "cell_type": "markdown",
   "metadata": {},
   "source": [
    "A partir de la solución anterior, se evaluán las condiciones de holgura complementaria que permiten encontrar la solución en el problema primal, es decir, las cantidades de bolsas a fabricar de modelo estándar y modelo deluxe. Se obtienen las siguientes restricciones: \n",
    "\n",
    "$-\\frac{7}{10}(8.125) - \\frac{1}{2}(0) - 1(1.3125) -\\frac{1}{10}(0) < -7$\\\n",
    "$-7 = -7 \\longrightarrow$ Restricción activa \n",
    "\n",
    "$-1(8.125) - \\frac{5}{6}(0) - \\frac{2}{3}(1.3125) -\\frac{1}{4}(0) < -9$\n",
    "$-9 = -9 \\longrightarrow$ Restricción activa \n",
    "\n",
    "$\\lambda_1^*>0\\longrightarrow$ Restricción inactiva \n",
    "\n",
    "$\\lambda_2^*=0\\longrightarrow$ Restricción activa \n",
    "\n",
    "$\\lambda_3^*>0\\longrightarrow$ Restricción inactiva \n",
    "\n",
    "$\\lambda_4^*=0\\longrightarrow$ Restricción activa \n",
    "\n",
    "De la tercera y quinta restricción, se obtiene respectivamente que:\n",
    "\n",
    "$-\\frac{7}{10}x_1^* - x_2^*=-1071$ \\\n",
    "$-x_1^*-\\frac{2}{3}x_2^*=-1203.6$\n",
    "\n",
    "Finalmente, se resuelve el sistema y se obtiene que se deben fabricar 918 bolsas modelo estándar y 428.4 bolsas modelo deluxe."
   ]
  },
  {
   "cell_type": "markdown",
   "metadata": {},
   "source": [
    "## Selección de estrategia\n",
    "\n",
    "Es más conveniente escoger la tercera estrategia porque de esta forma se obtiene un valor de utilidad total más alto en comparación a las otras dos estrategias. A continuación se encuentra la información resumida:\n",
    "\n",
    "Utilidad con **primera estrategia**: $9,720\n",
    "\n",
    "Utilidad con **segunda estrategia**: $9,912\n",
    "\n",
    "Utilidad con **tercera estrategia**: $10,281.6"
   ]
  },
  {
   "cell_type": "markdown",
   "metadata": {
    "colab": {},
    "colab_type": "code",
    "id": "aFcAA7-If4Jd"
   },
   "source": [
    "# Problem 3"
   ]
  },
  {
   "cell_type": "markdown",
   "metadata": {},
   "source": [
    "### a) Capacitación de todos los empleados, mejorando todos los tiempos de producción en 10%\n"
   ]
  },
  {
   "cell_type": "code",
   "execution_count": 18,
   "metadata": {
    "scrolled": false
   },
   "outputs": [
    {
     "name": "stdout",
     "output_type": "stream",
     "text": [
      "Optimization terminated successfully.\n",
      "         Current function value: 6720.000000 \n",
      "         Iterations: 3\n",
      "La solución a este problema de optimización es λ = [9.02777778 0.         1.45833333 0.        ]\n",
      "El valor de la función objetivo del dual evaluada en el valor óptimo es 6720.0\n"
     ]
    }
   ],
   "source": [
    "c = np.array([[630, 600, 708, 135]])\n",
    "A = np.array([[(-7/10)*0.9, (-1/2)*0.9, -1*0.9, (-1/10)*0.9],[-1*0.9, (-5/6)*0.9, (-2/3)*0.9, (-1/4)*0.9],[-1,0,0,0],[0,-1,0,0],[0,0,-1,0],[0,0,0,-1]])\n",
    "b = np.array([[-7],[-9],[0],[0],[0],[0]])\n",
    "\n",
    "x1_bounds = (0, None)\n",
    "x2_bounds = (0, None)\n",
    "x3_bounds = (0, None)\n",
    "x4_bounds = (0, None)\n",
    "\n",
    "\n",
    "res = linprog(c, A_ub=A, b_ub=b, bounds = np.array([x1_bounds, x2_bounds, x3_bounds, x4_bounds]), method='simplex', options={\"disp\": True})\n",
    "print(f'La solución a este problema de optimización es λ = {res.x}')\n",
    "print(f'El valor de la función objetivo del dual evaluada en el valor óptimo es {round(res.fun,3)}')"
   ]
  },
  {
   "cell_type": "markdown",
   "metadata": {},
   "source": [
    "#### Solución del primal a través de holgura complementaria"
   ]
  },
  {
   "cell_type": "markdown",
   "metadata": {},
   "source": [
    "A partir de la solución anterior, se evaluán las condiciones de holgura complementaria que permiten encontrar la solución en el problema primal, es decir, las cantidades de bolsas a fabricar de modelo estándar y modelo deluxe. Se obtienen las siguientes restricciones: \n",
    "\n",
    "$-0.63(9.028) - 0.45(0) - 0.9(1.458) -0.09(0) < -7$\n",
    "$-7 = -7 \\longrightarrow$ Restricción activa \n",
    "\n",
    "$-0.9(9.028) - 0.75(0) - 0.6(1.458) - 0.225(0) < -9$\\\n",
    "$-9 = -9 \\longrightarrow$ Restricción activa \n",
    "\n",
    "$\\lambda_1^*>0\\longrightarrow$ Restricción inactiva \n",
    "\n",
    "$\\lambda_2^*=0\\longrightarrow$ Restricción activa \n",
    "\n",
    "$\\lambda_3^*>0\\longrightarrow$ Restricción inactiva \n",
    "\n",
    "$\\lambda_4^*=0\\longrightarrow$ Restricción activa \n",
    "\n",
    "De la tercera y quinta restricción, se obtiene respectivamente que:\n",
    "\n",
    "$-0.63x_1^* - 0.9x_2^*=-630$ \\\n",
    "$-0.9x_1^*- 0.6x_2^*=-708$\n",
    "\n",
    "Finalmente, se resuelve el sistema y se obtiene que se deben fabricar 600 bolsas modelo estándar y 280 bolsas modelo deluxe."
   ]
  },
  {
   "cell_type": "code",
   "execution_count": 19,
   "metadata": {
    "scrolled": false
   },
   "outputs": [
    {
     "name": "stdout",
     "output_type": "stream",
     "text": [
      "A del primal: \n",
      " [[-0.63  -0.9  ]\n",
      " [-0.45  -0.75 ]\n",
      " [-0.9   -0.6  ]\n",
      " [-0.09  -0.225]\n",
      " [ 1.     0.   ]\n",
      " [ 0.     1.   ]]\n",
      "b del primal: \n",
      " [[-630]\n",
      " [-600]\n",
      " [-708]\n",
      " [-135]\n",
      " [   0]\n",
      " [   0]]\n",
      "f del primal: \n",
      " [-7 -9]\n",
      "A del dual: \n",
      " [[-0.63  -0.45  -0.9   -0.09 ]\n",
      " [-0.9   -0.75  -0.6   -0.225]]\n",
      "b del dual: \n",
      " [[-7.]\n",
      " [-9.]]\n",
      "f del dual: \n",
      " [-630 -600 -708 -135]\n",
      "Matriz para solucionar el primal: \n",
      " [[-0.63 -0.9 ]\n",
      " [-0.9  -0.6 ]]\n",
      "Vector b para solucionar el primal: \n",
      " [[-630.]\n",
      " [-708.]]\n",
      "Valores de x: \n",
      " [[600.]\n",
      " [280.]]\n",
      "Función objetivo del primal: \n",
      " [6720.]\n"
     ]
    }
   ],
   "source": [
    "Aprim = np.array([[(-7/10)*0.9, -1*0.9],[(-1/2)*0.9,(-5/6)*0.9],[-1*0.9, (-2/3)*0.9],[(-1/10)*0.9,(-1/4)*0.9],[1,0],[0,1]])\n",
    "bprim = np.array([[-630],[-600],[-708],[-135],[0],[0]])\n",
    "fprim = np.array([-7, -9])\n",
    "solucion = res.x\n",
    "solucion=solucion.reshape(-1,1)\n",
    "valor_optimo = res.fun\n",
    "\n",
    "sizeAprim = np.shape(Aprim)\n",
    "sizebprim = np.shape(bprim)\n",
    "sizefprim = np.shape(fprim)\n",
    "sizesolucion = np.shape(solucion)\n",
    "\n",
    "fdual = bprim[bprim != 0]\n",
    "sizefdual = np.shape(fdual)\n",
    "\n",
    "Adual = np.zeros((sizeAprim[1],np.shape(fdual)[0]))\n",
    "bdual = np.zeros((sizeAprim[1],1))\n",
    "\n",
    "for i in range(sizeAprim[1]):\n",
    "    bdual[i] = fprim[i]\n",
    "    for j in range(sizefdual[0]):\n",
    "        Aprim_copy = Aprim.copy()\n",
    "        Aprim_copy = Aprim[:-sizeAprim[1], :]\n",
    "        Adual[i,j] = Aprim_copy[j][i]\n",
    "        \n",
    "sizeAdual = np.shape(Adual)\n",
    "sizebdual = np.shape(bdual)\n",
    "sizefdual = np.shape(fdual)\n",
    "\n",
    "print(f'A del primal: \\n {Aprim}')\n",
    "print(f'b del primal: \\n {bprim}')\n",
    "print(f'f del primal: \\n {fprim}')  \n",
    "\n",
    "print(f'A del dual: \\n {Adual}')\n",
    "print(f'b del dual: \\n {bdual}')\n",
    "print(f'f del dual: \\n {fdual}')\n",
    "\n",
    "sol_primal = np.zeros((sizeAdual[1],sizeAdual[0]))\n",
    "\n",
    "for i in range(sizeAdual[0]):\n",
    "    filai = Adual[i]\n",
    "    valor = np.dot(filai,solucion)\n",
    "    if valor == bdual[i]:\n",
    "        pass\n",
    "    elif valor < bdual[i]:\n",
    "        fila = sol_primal[i,:]\n",
    "        for j in range(np.shape(fila)[0]):\n",
    "            if j == i:\n",
    "                sol_primal[j+1,i] = 1\n",
    "\n",
    "bprim_aux = np.zeros((sizesolucion[0],1))\n",
    "\n",
    "for i in range(sizesolucion[0]):\n",
    "    if solucion[i] > 0:\n",
    "        sol_primal[i,:] = Aprim[i,:] \n",
    "        bprim_aux[i] = bprim[i]   \n",
    "    elif solucion[i] == 0:\n",
    "        sol_primal[i,:] = np.zeros(sizeAprim[1])\n",
    "        bprim_aux[i] = 0\n",
    "\n",
    "sol_primal = sol_primal[np.all(sol_primal != 0, axis=1)]\n",
    "bprim_aux = bprim_aux[np.all(bprim_aux != 0, axis=1)]\n",
    "        \n",
    "solx = np.linalg.solve(sol_primal, bprim_aux)\n",
    "        \n",
    "print(f'Matriz para solucionar el primal: \\n {sol_primal}')\n",
    "print(f'Vector b para solucionar el primal: \\n {bprim_aux}')\n",
    "print(f'Valores de x: \\n {solx}')\n",
    "print(f'Función objetivo del primal: \\n {-1*np.dot(fprim,solx)}')"
   ]
  },
  {
   "cell_type": "markdown",
   "metadata": {},
   "source": [
    "De acuerdo a este resultado, se obtiene que **se deben fabricar 600 bolsas estándar y 280 bolsas deluxe** para maximizar la utilidad en un valor de **$6,720**. "
   ]
  },
  {
   "cell_type": "markdown",
   "metadata": {},
   "source": [
    "### b) Una nueva imágen que le permitiría aumentar la utilidad por bolsa en un 10%"
   ]
  },
  {
   "cell_type": "code",
   "execution_count": 20,
   "metadata": {},
   "outputs": [
    {
     "name": "stdout",
     "output_type": "stream",
     "text": [
      "Optimization terminated successfully.\n",
      "         Current function value: 6652.800000 \n",
      "         Iterations: 3\n",
      "La solución a este problema de optimización es λ = [8.9375  0.      1.44375 0.     ]\n",
      "El valor de la función objetivo del dual evaluada en el valor óptimo es 6652.8\n"
     ]
    }
   ],
   "source": [
    "c = np.array([[630, 600, 708, 135]])\n",
    "A = np.array([[(-7/10), (-1/2), -1, (-1/10)],[-1, (-5/6), (-2/3), (-1/4)],[-1,0,0,0],[0,-1,0,0],[0,0,-1,0],[0,0,0,-1]])\n",
    "b = np.array([[-7*1.1],[-9*1.1],[0],[0],[0],[0]])\n",
    "\n",
    "x1_bounds = (0, None)\n",
    "x2_bounds = (0, None)\n",
    "x3_bounds = (0, None)\n",
    "x4_bounds = (0, None)\n",
    "\n",
    "\n",
    "res = linprog(c, A_ub=A, b_ub=b, bounds = np.array([x1_bounds, x2_bounds, x3_bounds, x4_bounds]), method='simplex', options={\"disp\": True})\n",
    "print(f'La solución a este problema de optimización es λ = {res.x}')\n",
    "print(f'El valor de la función objetivo del dual evaluada en el valor óptimo es {round(res.fun,3)}')"
   ]
  },
  {
   "cell_type": "markdown",
   "metadata": {},
   "source": [
    "#### Solución del primal a través de holgura complementaria"
   ]
  },
  {
   "cell_type": "markdown",
   "metadata": {},
   "source": [
    "A partir de la solución anterior, se evaluán las condiciones de holgura complementaria que permiten encontrar la solución en el problema primal, es decir, las cantidades de bolsas a fabricar de modelo estándar y modelo deluxe. Se obtienen las siguientes restricciones: \n",
    "\n",
    "$-\\frac{7}{10}(8.9375) - \\frac{1}{2}(0) - 1(1.44375) -\\frac{1}{10}(0) < -7.7$\\\n",
    "$-7.7 = -7.7 \\longrightarrow$ Restricción activa \n",
    "\n",
    "$-1(8.9375) - \\frac{5}{6}(0) - \\frac{2}{3}(1.44375) -\\frac{1}{4}(0) < -9.9$\n",
    "$-9.9 = -9.9 \\longrightarrow$ Restricción activa \n",
    "\n",
    "$\\lambda_1^*>0\\longrightarrow$ Restricción inactiva \n",
    "\n",
    "$\\lambda_2^*=0\\longrightarrow$ Restricción activa \n",
    "\n",
    "$\\lambda_3^*>0\\longrightarrow$ Restricción inactiva \n",
    "\n",
    "$\\lambda_4^*=0\\longrightarrow$ Restricción activa \n",
    "\n",
    "De la tercera y quinta restricción, se obtiene respectivamente que:\n",
    "\n",
    "$-\\frac{7}{10}x_1^* - x_2^*=-630$ \\\n",
    "$-x_1^*-\\frac{2}{3}x_2^*=-708$\n",
    "\n",
    "Finalmente, se resuelve el sistema y se obtiene que se deben fabricar 540 bolsas modelo estándar y 252 bolsas modelo deluxe."
   ]
  },
  {
   "cell_type": "code",
   "execution_count": 21,
   "metadata": {},
   "outputs": [
    {
     "name": "stdout",
     "output_type": "stream",
     "text": [
      "A del primal: \n",
      " [[-0.7        -1.        ]\n",
      " [-0.5        -0.83333333]\n",
      " [-1.         -0.66666667]\n",
      " [-0.1        -0.25      ]\n",
      " [ 1.          0.        ]\n",
      " [ 0.          1.        ]]\n",
      "b del primal: \n",
      " [[-630]\n",
      " [-600]\n",
      " [-708]\n",
      " [-135]\n",
      " [   0]\n",
      " [   0]]\n",
      "f del primal: \n",
      " [-7.7 -9.9]\n",
      "A del dual: \n",
      " [[-0.7        -0.5        -1.         -0.1       ]\n",
      " [-1.         -0.83333333 -0.66666667 -0.25      ]]\n",
      "b del dual: \n",
      " [[-7.7]\n",
      " [-9.9]]\n",
      "f del dual: \n",
      " [-630 -600 -708 -135]\n",
      "Matriz para solucionar el primal: \n",
      " [[-0.7        -1.        ]\n",
      " [-1.         -0.66666667]]\n",
      "Vector b para solucionar el primal: \n",
      " [[-630.]\n",
      " [-708.]]\n",
      "Valores de x: \n",
      " [[540.]\n",
      " [252.]]\n",
      "Función objetivo del primal: \n",
      " [6652.8]\n"
     ]
    }
   ],
   "source": [
    "Aprim = np.array([[(-7/10), -1],[(-1/2),(-5/6)],[-1, (-2/3)],[(-1/10),(-1/4)],[1,0],[0,1]])\n",
    "bprim = np.array([[-630],[-600],[-708],[-135],[0],[0]])\n",
    "fprim = np.array([-7*1.1, -9*1.1])\n",
    "\n",
    "solucion = res.x\n",
    "\n",
    "sizeAprim = np.shape(Aprim)\n",
    "sizebprim = np.shape(bprim)\n",
    "sizefprim = np.shape(fprim)\n",
    "sizesolucion = np.shape(solucion)\n",
    "\n",
    "fdual = bprim[bprim != 0]\n",
    "sizefdual = np.shape(fdual)\n",
    "\n",
    "Adual = np.zeros((sizeAprim[1],np.shape(fdual)[0]))\n",
    "bdual = np.zeros((sizeAprim[1],1))\n",
    "\n",
    "for i in range(sizeAprim[1]):\n",
    "    bdual[i] = fprim[i]\n",
    "    for j in range(sizefdual[0]):\n",
    "        Aprim_copy = Aprim.copy()\n",
    "        Aprim_copy = Aprim[:-sizeAprim[1], :]\n",
    "        Adual[i,j] = Aprim_copy[j][i]\n",
    "        \n",
    "sizeAdual = np.shape(Adual)\n",
    "sizebdual = np.shape(bdual)\n",
    "sizefdual = np.shape(fdual)\n",
    "\n",
    "print(f'A del primal: \\n {Aprim}')\n",
    "print(f'b del primal: \\n {bprim}')\n",
    "print(f'f del primal: \\n {fprim}')  \n",
    "\n",
    "print(f'A del dual: \\n {Adual}')\n",
    "print(f'b del dual: \\n {bdual}')\n",
    "print(f'f del dual: \\n {fdual}')\n",
    "\n",
    "sol_primal = np.zeros((sizeAdual[1],sizeAdual[0]))\n",
    "\n",
    "for i in range(sizeAdual[0]):\n",
    "    filai = Adual[i]\n",
    "    valor = np.dot(filai,solucion)\n",
    "    if valor == bdual[i]:\n",
    "        pass\n",
    "    elif valor < bdual[i]:\n",
    "        fila = sol_primal[i,:]\n",
    "        for j in range(np.shape(fila)[0]):\n",
    "            if j == i:\n",
    "                sol_primal[j+1,i] = 1\n",
    "\n",
    "bprim_aux = np.zeros((sizesolucion[0],1))\n",
    "\n",
    "for i in range(sizesolucion[0]):\n",
    "    if solucion[i] > 0:\n",
    "        sol_primal[i,:] = Aprim[i,:] \n",
    "        bprim_aux[i] = bprim[i]   \n",
    "    elif solucion[i] == 0:\n",
    "        sol_primal[i,:] = np.zeros(sizeAprim[1])\n",
    "        bprim_aux[i] = 0\n",
    "\n",
    "sol_primal = sol_primal[np.all(sol_primal != 0, axis=1)]\n",
    "bprim_aux = bprim_aux[np.all(bprim_aux != 0, axis=1)]\n",
    "        \n",
    "solx = np.linalg.solve(sol_primal, bprim_aux)\n",
    "        \n",
    "print(f'Matriz para solucionar el primal: \\n {sol_primal}')\n",
    "print(f'Vector b para solucionar el primal: \\n {bprim_aux}')\n",
    "print(f'Valores de x: \\n {solx}')\n",
    "print(f'Función objetivo del primal: \\n {-1*np.dot(fprim,solx)}')"
   ]
  },
  {
   "cell_type": "markdown",
   "metadata": {},
   "source": [
    "De acuerdo a este resultado, se obtiene que **se deben fabricar 540 bolsas estándar y 252 bolsas deluxe** para maximizar la utilidad en un valor de **$6,652.8**. "
   ]
  },
  {
   "cell_type": "markdown",
   "metadata": {},
   "source": [
    "## Selección de propuestas"
   ]
  },
  {
   "cell_type": "markdown",
   "metadata": {},
   "source": [
    "De estas dos últimas propuestas, es más conveniente implementar la ***primera*** propuesta, porque de este modo se obtiene un valor de utilidad mayor.\n",
    "\n",
    "Utilidad con primera propuesta: **$6,720**\n",
    "\n",
    "Utilidad con segunda propuesta: **$6,652.8**"
   ]
  },
  {
   "cell_type": "markdown",
   "metadata": {},
   "source": [
    "# Problem 4\n",
    "\n",
    "Se define una función que retorna la solución del primal a partir de la información del dual, usando las condiciones de holgura complementaria."
   ]
  },
  {
   "cell_type": "code",
   "execution_count": 22,
   "metadata": {},
   "outputs": [],
   "source": [
    "def hcomp(Aprim,bprim,fprim,soldual):\n",
    "    \n",
    "    # Se descompone el parametro soldual, para determinar el valor de la solución óptima, y el valor de la función\n",
    "    # objetivo evaluada en esa solución óptima.\n",
    "    solucion = soldual[0]\n",
    "    valor_opt = soldual[1]\n",
    "    \n",
    "    fprim = -1*fprim\n",
    "    \n",
    "    # Se obtiene el sistema del dual.\n",
    "    Adual = Aprim.transpose()\n",
    "    fdual = bprim.transpose()\n",
    "    bdual = fprim.transpose()\n",
    "    \n",
    "    # Se crean listas para guardar los ínidces de las variables que se igualan a cero\n",
    "    ecuaciones = []\n",
    "    ceros = []\n",
    "    \n",
    "    # Primera condición de hc: Se reemplaza el valor solución en las restricciones del dual. El resultado queda\n",
    "    # guardado en condicion11.\n",
    "    condicion11 = Adual.dot(solucion).transpose()\n",
    "    \n",
    "    # Se determina si las restricciones de la primera condición de hc son activas o inactivas. \n",
    "    # False -> Activa, True -> Inactiva\n",
    "    restr = [condicion11[k]>bdual[k] for k in range(len(condicion11))]\n",
    "    \n",
    "    for j in range(len(restr)):\n",
    "        # Si la resitricción j es inactiva, significa que la variable xj = 0. Se agrega el índice a una lista.  \n",
    "        if (restr[j]):\n",
    "             ceros.append(j)\n",
    "    \n",
    "    # Segunda condición de hc: Si las restricciones son inactivas, se toma el índice de la ecuación que va a formar\n",
    "    # parte de la solución.\n",
    "    for i in range(len(solucion)):\n",
    "        if (solucion[i] != 0):\n",
    "            ecuaciones.append(i)\n",
    "    \n",
    "    # Se crea la matriz para solucionar el sistema de ecuaciones resultante de las restricciones activas e inactivas,\n",
    "    # así como su correspondiente vector b.\n",
    "    matriz_sol = Aprim.copy()[ecuaciones,:]\n",
    "    b_sol = bprim.copy()[ecuaciones,:] \n",
    "    \n",
    "    # Se eliminan las columnas del sistema y de la función objetivo donde la xj es nula.\n",
    "    # Se concatena el sistema resultante con el vector b (matriz aumentada). \n",
    "    matriz_sol = np.delete(matriz_sol, ceros, axis=1)\n",
    "    fprim = np.delete(fprim, ceros, axis=1)\n",
    "    aumentada = np.c_[matriz_sol, b_sol]\n",
    "    \n",
    "    # Se toman los indices de las columnas pivotes, para saber los índices de las ecuaciones que se están tomando.\n",
    "    reducida , indices = sympy.Matrix(aumentada).rref()\n",
    "    indices = np.array(indices)\n",
    "    \n",
    "    # Se vuelve a definir la matriz solo con las ecuaciones relevantes, así como el vector b. \n",
    "    matriz_sol = matriz_sol[indices]\n",
    "    b_sol = b_sol[indices]\n",
    "    \n",
    "    # Se encuentra la solución si hay la misma cantidad de ecuaciones resultantes que valores del vector b.  \n",
    "    if (len(indices) == len(b_sol)):\n",
    "        x = np.linalg.inv(matriz_sol) @ b_sol\n",
    "\n",
    "    # Se determina el valor de la función del primal evaluada en la solución recientemente encontrada.\n",
    "    val_primal = np.dot(fprim,x)\n",
    "    \n",
    "    # Se insertan las variables nulas de nuevo en su posición correspondiente, para indicar cuáles tomaron un valor \n",
    "    # igual a cero. \n",
    "    x = np.insert(x, ceros, 0)\n",
    "    \n",
    "    return val_primal, x"
   ]
  },
  {
   "cell_type": "markdown",
   "metadata": {},
   "source": [
    "### Función implementada con el problema 2 a):"
   ]
  },
  {
   "cell_type": "code",
   "execution_count": 23,
   "metadata": {},
   "outputs": [
    {
     "ename": "ValueError",
     "evalue": "setting an array element with a sequence. The requested array has an inhomogeneous shape after 1 dimensions. The detected shape was (2,) + inhomogeneous part.",
     "output_type": "error",
     "traceback": [
      "\u001b[0;31m---------------------------------------------------------------------------\u001b[0m",
      "\u001b[0;31mValueError\u001b[0m                                Traceback (most recent call last)",
      "Cell \u001b[0;32mIn[23], line 12\u001b[0m\n\u001b[1;32m      8\u001b[0m f \u001b[38;5;241m=\u001b[39m np\u001b[38;5;241m.\u001b[39marray([[\u001b[38;5;241m-\u001b[39m\u001b[38;5;241m7\u001b[39m,\u001b[38;5;241m-\u001b[39m\u001b[38;5;241m18\u001b[39m]])\n\u001b[1;32m     10\u001b[0m \u001b[38;5;66;03m# Solución del dual. La primera fila corresponde a la solución del problema dual. La segunda fila corresponde al valor\u001b[39;00m\n\u001b[1;32m     11\u001b[0m \u001b[38;5;66;03m# de la solución evaluada en la función objetivo.\u001b[39;00m\n\u001b[0;32m---> 12\u001b[0m sol \u001b[38;5;241m=\u001b[39m np\u001b[38;5;241m.\u001b[39marray([[\u001b[38;5;241m0\u001b[39m, \u001b[38;5;241m0\u001b[39m, \u001b[38;5;241m0\u001b[39m, \u001b[38;5;241m72\u001b[39m],[\u001b[38;5;241m9720\u001b[39m]])\n\u001b[1;32m     14\u001b[0m \u001b[38;5;66;03m# Se aplica la función\u001b[39;00m\n\u001b[1;32m     15\u001b[0m [fprim, x] \u001b[38;5;241m=\u001b[39m hcomp(An, b, f, sol)\n",
      "\u001b[0;31mValueError\u001b[0m: setting an array element with a sequence. The requested array has an inhomogeneous shape after 1 dimensions. The detected shape was (2,) + inhomogeneous part."
     ]
    }
   ],
   "source": [
    "# Matriz de restricciones\n",
    "An = np.array([[7/10, 1],[1/2, 5/6],[1, 2/3],[1/10,1/4]])\n",
    "\n",
    "# Límites superiores de las restricciones\n",
    "b = np.array([[630],[600],[708],[135]])\n",
    "\n",
    "# Función objetivo\n",
    "f = np.array([[-7,-18]])\n",
    "\n",
    "# Solución del dual. La primera fila corresponde a la solución del problema dual. La segunda fila corresponde al valor\n",
    "# de la solución evaluada en la función objetivo.\n",
    "sol = np.array([[0, 0, 0, 72],[9720]])\n",
    "\n",
    "# Se aplica la función\n",
    "[fprim, x] = hcomp(An, b, f, sol)\n",
    "\n",
    "print(f'La solución al problema original de optimización es x = {x}')\n",
    "print(f'El valor de la función objetivo evaluada en el valor óptimo es {fprim}')"
   ]
  },
  {
   "cell_type": "markdown",
   "metadata": {},
   "source": [
    "### Función implementada con el problema 2 b):"
   ]
  },
  {
   "cell_type": "code",
   "execution_count": null,
   "metadata": {},
   "outputs": [],
   "source": [
    "# Matriz de restricciones\n",
    "A = np.array([[7/10, 1],[1/2, 5/6],[1, 2/3],[1/10,1/4]])\n",
    "\n",
    "# Límites superiores de las restricciones\n",
    "b = np.array([[630],[600],[708],[135]])\n",
    "\n",
    "# Función objetivo\n",
    "f = np.array([[-14,-7]])\n",
    "\n",
    "# Solución del dual. La primera fila corresponde a la solución del problema dual. La segunda fila corresponde al valor\n",
    "# de la solución evaluada en la función objetivo.\n",
    "sol = np.array([[0, 0, 14, 0],[9912]])\n",
    "\n",
    "# Se aplica la función\n",
    "[fprim, x] = hcomp(A, b, f, sol)\n",
    "\n",
    "print(f'La solución al problema original de optimización es x = {x}')\n",
    "print(f'El valor de la función objetivo evaluada en el valor óptimo es {fprim}')"
   ]
  },
  {
   "cell_type": "markdown",
   "metadata": {},
   "source": [
    "### Función implementada con el problema 2 c):"
   ]
  },
  {
   "cell_type": "code",
   "execution_count": null,
   "metadata": {},
   "outputs": [],
   "source": [
    "# Matriz de restricciones\n",
    "A = np.array([[7/10, 1],[1/2, 5/6],[1, 2/3],[1/10,1/4]])\n",
    "\n",
    "# Límites superiores de las restricciones\n",
    "b = np.array([[1071],[1020],[1203.6],[229.5]])\n",
    "\n",
    "# Función objetivo\n",
    "f = np.array([[-7,-9]])\n",
    "\n",
    "# Solución del dual. La primera fila corresponde a la solución del problema dual. La segunda fila corresponde al valor\n",
    "# de la solución evaluada en la función objetivo.\n",
    "sol = np.array([[8.125, 0, 1.3125, 0],[10281.6]])\n",
    "\n",
    "# Se aplica la función\n",
    "[fprim, x] = hcomp(A, b, f, sol)\n",
    "\n",
    "print(f'La solución al problema original de optimización es x = {x}')\n",
    "print(f'El valor de la función objetivo evaluada en el valor óptimo es {fprim}')"
   ]
  }
 ],
 "metadata": {
  "colab": {
   "collapsed_sections": [
    "g8lKbnvQ_jok"
   ],
   "name": "Optimizacion-Lab4-Estudiantes.ipynb",
   "provenance": []
  },
  "kernelspec": {
   "display_name": "Python 3",
   "language": "python",
   "name": "python3"
  },
  "language_info": {
   "codemirror_mode": {
    "name": "ipython",
    "version": 3
   },
   "file_extension": ".py",
   "mimetype": "text/x-python",
   "name": "python",
   "nbconvert_exporter": "python",
   "pygments_lexer": "ipython3",
   "version": "3.11.5"
  },
  "varInspector": {
   "cols": {
    "lenName": 16,
    "lenType": 16,
    "lenVar": 40
   },
   "kernels_config": {
    "python": {
     "delete_cmd_postfix": "",
     "delete_cmd_prefix": "del ",
     "library": "var_list.py",
     "varRefreshCmd": "print(var_dic_list())"
    },
    "r": {
     "delete_cmd_postfix": ") ",
     "delete_cmd_prefix": "rm(",
     "library": "var_list.r",
     "varRefreshCmd": "cat(var_dic_list()) "
    }
   },
   "oldHeight": 534.4,
   "position": {
    "height": "556.4px",
    "left": "1178px",
    "right": "20px",
    "top": "134px",
    "width": "350px"
   },
   "types_to_exclude": [
    "module",
    "function",
    "builtin_function_or_method",
    "instance",
    "_Feature"
   ],
   "varInspector_section_display": "block",
   "window_display": false
  }
 },
 "nbformat": 4,
 "nbformat_minor": 1
}
