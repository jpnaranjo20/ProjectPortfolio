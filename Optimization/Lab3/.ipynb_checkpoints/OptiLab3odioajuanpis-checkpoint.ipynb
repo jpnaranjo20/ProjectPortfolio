{
 "cells": [
  {
   "cell_type": "markdown",
   "metadata": {
    "colab_type": "text",
    "id": "kcnTsOwLuGdz"
   },
   "source": [
    "# Laboratorio 3 - Optimización\n",
    "\n",
    "### Isabella Salgado 201730418\n",
    "### Juan Pablo Naranjo 201730006"
   ]
  },
  {
   "cell_type": "markdown",
   "metadata": {
    "colab_type": "text",
    "id": "TlYBaKqGuGd0"
   },
   "source": [
    "Se importan las librerías relevantes para el laboratorio."
   ]
  },
  {
   "cell_type": "code",
   "execution_count": 13,
   "metadata": {
    "colab": {},
    "colab_type": "code",
    "id": "sxFOyN5fuGd1"
   },
   "outputs": [],
   "source": [
    "import numpy as np \n",
    "import matplotlib.pyplot as mat\n",
    "import math\n",
    "import time\n",
    "import sympy as sym\n",
    "import pandas as pd\n",
    "import warnings\n",
    "warnings.filterwarnings('ignore')\n",
    "\n",
    "from mpl_toolkits import mplot3d\n",
    "from mpl_toolkits.mplot3d import Axes3D\n",
    "from scipy.optimize import linprog\n",
    "from scipy.optimize import minimize\n",
    "from itertools import combinations\n",
    "from IPython.display import display"
   ]
  },
  {
   "cell_type": "markdown",
   "metadata": {
    "colab_type": "text",
    "id": "2ifzIN0DuGd5"
   },
   "source": [
    "## Punto 1"
   ]
  },
  {
   "cell_type": "markdown",
   "metadata": {},
   "source": [
    "### a) \n",
    "Se crea una función que toma como parámetros una matriz $A$ y un vector $b$, que representan las restricciones de un problema de programación lineal en la forma estándar. La función retorna un diccionario cuyas llaves corresponden a vectores de soluciones básicas al problema y cuyos valores corresponden a la base correspondiente a dichos vectores."
   ]
  },
  {
   "cell_type": "code",
   "execution_count": 14,
   "metadata": {
    "colab": {},
    "colab_type": "code",
    "id": "6wQNn7s0eFLe"
   },
   "outputs": [],
   "source": [
    "# def func(A,b):\n",
    "#     # Se crea un diccionario cuyas llaves y valores ambas son listas vacías.\n",
    "#     dir = {'Solución':[], 'Base':[]}\n",
    "    \n",
    "#     # Se determina la dimensión de la matriz y vector de entrada.\n",
    "#     sizeA = np.shape(A) # m ecuaciones\n",
    "#     sizeb = np.shape(b) # n incógnitas\n",
    "    \n",
    "#     # Se usa la función combinations para encontrar todas las combinaciones posibles que se pueden hacer\n",
    "#     # con las m ecuaciones y n incógnitas. Las componentes de cada tupla que retorna la función indica qué\n",
    "#     # columnas de la matriz se eliminan, es decir, qué variables se están mandando a cero para resolver el \n",
    "#     # sistema de ecuaciones resultante. La cantidad de combinaciones que resultan es la cantidad de soluciones\n",
    "#     # básicas que tiene el problema de optimización. \n",
    "#     combs = combinations(list(range(0,sizeA[1])),(sizeA[1]-sizeA[0]))\n",
    "    \n",
    "#     print(f'Matriz original: \\n {A}')\n",
    "#    # print(f'Posibles combinaciones: \\n {list(combs)}')\n",
    "    \n",
    "#     for item in list(combs):\n",
    "#         print(f'Iteración {item}')\n",
    "#         # Se una copia de la matriz, llamada A_1\n",
    "#         A_1 = A.copy()\n",
    "#         # Se eliminan las item-ésimas (números de la tupla) columnas (indicadas por axis=1) de A_1, es decir, se mandan\n",
    "#         # a cero las variables correspondientes a esas columnas. \n",
    "#         A_1 = np.delete(A_1,item,axis=1)\n",
    "#         print(f'Matriz sin item-ésimas columnas: \\n {A_1}')\n",
    "        \n",
    "#         # Se crea otra copia de la matriz, llamada A_2\n",
    "#         A_2 = A.copy()\n",
    "        \n",
    "#         # Se ponen las item-ésimas (números de la tupla) columnas de A_2 en cero para indicar cómo queda el sistema cuando \n",
    "#         # se mandan esas variables a cero. Estas son las bases correspondientes a cada solución básica.\n",
    "#         A_2[:,item] = 0\n",
    "        \n",
    "#         # La solución básica está dada por la solución del sistema resultante al mandar las m-n variables a cero.\n",
    "#         # Si la matriz del sistema de ecuaciones resultante es singular, se agrega la palabra 'Singular' a las llaves, y su\n",
    "#         # respectiva base a los valores.\n",
    "#         if (np.linalg.det(A_1)==0):\n",
    "#             dir['Solución'].append('Singular')\n",
    "#             dir['Base'].append(A_2)\n",
    "#         # Si la matriz sí se puede invertir, se encuentra la solución básica sin problema. Después de encontrar estos valores,\n",
    "#         # se vuelven a agregar las columnas que se eliminaron previamente, y se agregan como columnas de ceros. \n",
    "#         else:\n",
    "#             ans = np.dot(np.linalg.inv(A_1),b)\n",
    "#             ans = np.round(ans,3)\n",
    "#             print(f'Solución básica: \\n {ans}')\n",
    "#             # Se usa este ciclo para recorrer cada columna de la matriz de las soluciones básicas. En cada columna se agrega un cero\n",
    "#             for i in item:\n",
    "#                 print(f'Volviendo a ponerle los ceros a la solución básica: \\n {ans}')\n",
    "#                 ans = np.insert(ans, i, 0, axis=0)\n",
    "#             # Se agregan las soluciones básicas a la llave 'Solución' del diccionario, y las matrices resultantes al valor 'Base'.\n",
    "#             dir['Solución'].append(ans)\n",
    "#             dir['Base'].append(A_2)\n",
    "                               \n",
    "#     return dir"
   ]
  },
  {
   "cell_type": "code",
   "execution_count": 16,
   "metadata": {},
   "outputs": [],
   "source": [
    "def func(A,b):\n",
    "    # Se crea un diccionario cuyas llaves y valores ambas son listas vacías.\n",
    "    dir = {'Solución':[], 'Base':[]}\n",
    "    \n",
    "    # Se determina la dimensión de la matriz y vector de entrada.\n",
    "    sizeA = np.shape(A) # m ecuaciones\n",
    "    sizeb = np.shape(b) # n incógnitas\n",
    "    \n",
    "    # Se usa la función combinations para encontrar todas las combinaciones posibles que se pueden hacer\n",
    "    # con las m ecuaciones y n incógnitas. Las componentes de cada tupla que retorna la función indica qué\n",
    "    # columnas de la matriz se eliminan, es decir, qué variables se están mandando a cero para resolver el \n",
    "    # sistema de ecuaciones resultante. La cantidad de combinaciones que resultan es la cantidad de soluciones\n",
    "    # básicas que tiene el problema de optimización. \n",
    "    combs = combinations(list(range(0,sizeA[1])),(sizeA[1]-sizeA[0]))\n",
    "    \n",
    "    for item in list(combs):\n",
    "       \n",
    "        # Se una copia de la matriz, llamada A_1\n",
    "        A_1 = A.copy()\n",
    "        # Se eliminan las item-ésimas (números de la tupla) columnas (indicadas por axis=1) de A_1, es decir, se mandan\n",
    "        # a cero las variables correspondientes a esas columnas. \n",
    "        A_1 = np.delete(A_1,item,axis=1)\n",
    "        \n",
    "        \n",
    "        # Se crea otra copia de la matriz, llamada A_2\n",
    "        A_2 = A.copy()\n",
    "        \n",
    "        # Se ponen las item-ésimas (números de la tupla) columnas de A_2 en cero para indicar cómo queda el sistema cuando \n",
    "        # se mandan esas variables a cero. Estas son las bases correspondientes a cada solución básica.\n",
    "        A_2[:,item] = 0\n",
    "        \n",
    "        # La solución básica está dada por la solución del sistema resultante al mandar las m-n variables a cero.\n",
    "        # Si la matriz del sistema de ecuaciones resultante es singular, se agrega la palabra 'Singular' a las llaves, y su\n",
    "        # respectiva base a los valores.\n",
    "        if (np.linalg.det(A_1)==0):\n",
    "            dir['Solución'].append('Singular')\n",
    "            dir['Base'].append(A_2)\n",
    "        # Si la matriz sí se puede invertir, se encuentra la solución básica sin problema. Después de encontrar estos valores,\n",
    "        # se vuelven a agregar las columnas que se eliminaron previamente, y se agregan como columnas de ceros. \n",
    "        else:\n",
    "            ans = np.dot(np.linalg.inv(A_1),b)\n",
    "            ans = np.round(ans,3)\n",
    "          \n",
    "            # Se usa este ciclo para recorrer cada columna de la matriz de las soluciones básicas. En cada columna se agrega un cero\n",
    "            for i in item:\n",
    "              \n",
    "                ans = np.insert(ans, i, 0, axis=0)\n",
    "            # Se agregan las soluciones básicas a la llave 'Solución' del diccionario, y las matrices resultantes al valor 'Base'.\n",
    "            dir['Solución'].append(ans)\n",
    "            dir['Base'].append(A_2)\n",
    "                               \n",
    "    return dir"
   ]
  },
  {
   "cell_type": "markdown",
   "metadata": {},
   "source": [
    "Información de cómo usar la función *insert* se encontró [acá](https://numpy.org/doc/stable/reference/generated/numpy.insert.html)"
   ]
  },
  {
   "cell_type": "markdown",
   "metadata": {},
   "source": [
    "### b)"
   ]
  },
  {
   "cell_type": "code",
   "execution_count": 17,
   "metadata": {
    "colab": {},
    "colab_type": "code",
    "id": "QZ5FduC8sSfQ",
    "scrolled": false
   },
   "outputs": [
    {
     "ename": "TypeError",
     "evalue": "'list' object is not callable",
     "output_type": "error",
     "traceback": [
      "\u001b[1;31m---------------------------------------------------------------------------\u001b[0m",
      "\u001b[1;31mTypeError\u001b[0m                                 Traceback (most recent call last)",
      "\u001b[1;32m<ipython-input-17-4c68e9fbc1e5>\u001b[0m in \u001b[0;36m<module>\u001b[1;34m\u001b[0m\n\u001b[0;32m      4\u001b[0m \u001b[0mb\u001b[0m \u001b[1;33m=\u001b[0m \u001b[0mnp\u001b[0m\u001b[1;33m.\u001b[0m\u001b[0marray\u001b[0m\u001b[1;33m(\u001b[0m\u001b[1;33m[\u001b[0m\u001b[1;33m[\u001b[0m\u001b[1;36m1\u001b[0m\u001b[1;33m]\u001b[0m\u001b[1;33m,\u001b[0m\u001b[1;33m[\u001b[0m\u001b[1;36m4\u001b[0m\u001b[1;33m]\u001b[0m\u001b[1;33m,\u001b[0m\u001b[1;33m[\u001b[0m\u001b[1;33m-\u001b[0m\u001b[1;36m7\u001b[0m\u001b[1;33m]\u001b[0m\u001b[1;33m]\u001b[0m\u001b[1;33m)\u001b[0m\u001b[1;33m\u001b[0m\u001b[1;33m\u001b[0m\u001b[0m\n\u001b[0;32m      5\u001b[0m \u001b[1;33m\u001b[0m\u001b[0m\n\u001b[1;32m----> 6\u001b[1;33m \u001b[0msol1\u001b[0m \u001b[1;33m=\u001b[0m \u001b[0mfunc\u001b[0m\u001b[1;33m(\u001b[0m\u001b[0mA\u001b[0m\u001b[1;33m,\u001b[0m\u001b[0mb\u001b[0m\u001b[1;33m)\u001b[0m\u001b[1;33m\u001b[0m\u001b[1;33m\u001b[0m\u001b[0m\n\u001b[0m\u001b[0;32m      7\u001b[0m \u001b[0msol2\u001b[0m \u001b[1;33m=\u001b[0m \u001b[0mfunc\u001b[0m\u001b[1;33m(\u001b[0m\u001b[0mB\u001b[0m\u001b[1;33m,\u001b[0m\u001b[0mb\u001b[0m\u001b[1;33m)\u001b[0m\u001b[1;33m\u001b[0m\u001b[1;33m\u001b[0m\u001b[0m\n\u001b[0;32m      8\u001b[0m \u001b[1;33m\u001b[0m\u001b[0m\n",
      "\u001b[1;32m<ipython-input-16-b4569ac13daf>\u001b[0m in \u001b[0;36mfunc\u001b[1;34m(A, b)\u001b[0m\n\u001b[0;32m     12\u001b[0m     \u001b[1;31m# sistema de ecuaciones resultante. La cantidad de combinaciones que resultan es la cantidad de soluciones\u001b[0m\u001b[1;33m\u001b[0m\u001b[1;33m\u001b[0m\u001b[1;33m\u001b[0m\u001b[0m\n\u001b[0;32m     13\u001b[0m     \u001b[1;31m# básicas que tiene el problema de optimización.\u001b[0m\u001b[1;33m\u001b[0m\u001b[1;33m\u001b[0m\u001b[1;33m\u001b[0m\u001b[0m\n\u001b[1;32m---> 14\u001b[1;33m     \u001b[0mcombs\u001b[0m \u001b[1;33m=\u001b[0m \u001b[0mcombinations\u001b[0m\u001b[1;33m(\u001b[0m\u001b[0mlist\u001b[0m\u001b[1;33m(\u001b[0m\u001b[0mrange\u001b[0m\u001b[1;33m(\u001b[0m\u001b[1;36m0\u001b[0m\u001b[1;33m,\u001b[0m\u001b[0msizeA\u001b[0m\u001b[1;33m[\u001b[0m\u001b[1;36m1\u001b[0m\u001b[1;33m]\u001b[0m\u001b[1;33m)\u001b[0m\u001b[1;33m)\u001b[0m\u001b[1;33m,\u001b[0m\u001b[1;33m(\u001b[0m\u001b[0msizeA\u001b[0m\u001b[1;33m[\u001b[0m\u001b[1;36m1\u001b[0m\u001b[1;33m]\u001b[0m\u001b[1;33m-\u001b[0m\u001b[0msizeA\u001b[0m\u001b[1;33m[\u001b[0m\u001b[1;36m0\u001b[0m\u001b[1;33m]\u001b[0m\u001b[1;33m)\u001b[0m\u001b[1;33m)\u001b[0m\u001b[1;33m\u001b[0m\u001b[1;33m\u001b[0m\u001b[0m\n\u001b[0m\u001b[0;32m     15\u001b[0m \u001b[1;33m\u001b[0m\u001b[0m\n\u001b[0;32m     16\u001b[0m     \u001b[1;32mfor\u001b[0m \u001b[0mitem\u001b[0m \u001b[1;32min\u001b[0m \u001b[0mlist\u001b[0m\u001b[1;33m(\u001b[0m\u001b[0mcombs\u001b[0m\u001b[1;33m)\u001b[0m\u001b[1;33m:\u001b[0m\u001b[1;33m\u001b[0m\u001b[1;33m\u001b[0m\u001b[0m\n",
      "\u001b[1;31mTypeError\u001b[0m: 'list' object is not callable"
     ]
    }
   ],
   "source": [
    "A = np.array([[3,4,7,10,11],[0,7,12,21,8],[1,15,5,18,-9]]) # Rango completo\n",
    "B = np.array([[3,4,7,10,11],[6,8,14,20,22],[1,15,5,18,-9]]) # Rango deficiente\n",
    "\n",
    "b = np.array([[1],[4],[-7]])\n",
    "\n",
    "sol1 = func(A,b)\n",
    "sol2 = func(B,b)\n",
    "\n",
    "out1 = pd.DataFrame(sol1)\n",
    "display(out1)\n",
    " \n",
    "out2 = pd.DataFrame(sol2)\n",
    "display(out2)"
   ]
  },
  {
   "cell_type": "markdown",
   "metadata": {},
   "source": [
    "La diferencia entre estos dos casos es que para la matriz de rango completo, siempre se pueden encontrar soluciones básicas que satisfacen las restricciones del problema de optimización. \n",
    "\n",
    "Por otro lado, para la matriz de rango deficiente, las matrices resultantes de igualar las $m-n$ variables a 0 son singulares. Esto quiere decir que para este caso, no se satisfacen las restricciones del problema de optimización."
   ]
  },
  {
   "cell_type": "markdown",
   "metadata": {
    "colab_type": "text",
    "id": "Ek1KfKn8evrc"
   },
   "source": [
    "## Punto 2\n",
    "\n",
    "\n"
   ]
  },
  {
   "cell_type": "markdown",
   "metadata": {
    "colab_type": "text",
    "id": "rwHmhguD-Rwd"
   },
   "source": [
    "### a) Se define el problema de forma teórica\n",
    "\n",
    "Las variables del problema son $x_1$, $x_2$ y $x_3$, las cuales representan carbón, petróleo y gas, respectivamente, en toneladas. \n",
    "\n",
    "La función de costo está dada por:\n",
    "\n",
    "$$f(x_1,x_2,x_3)=600x_1+550x_2+500x_3$$\n",
    "\n",
    "Esta representa la cantidad de energía generada diariamente en un planta utilizando como combustible el carbón, petróleo y gas.\n",
    "\n",
    "El problema tiene como restricciones:\n",
    "\n",
    "$$20x_1+18x_2+15x_3 \\leq 60$$\n",
    "$$15x_1+12x_2+10x_3 \\leq 75$$\n",
    "$$200x_1+220x_2+250x_3 \\leq 200$$\n",
    "$$x_1,x_2,x_3 \\geq 0$$\n",
    "\n",
    "La primera desigualdad indica la cantidad máxima de unidades de bióxido de azufre, emitido por los combustibles, que es permitido emitir cada día. De igual forma, la segunda desigualdad representa las emisiones de unidades máximas permitidas de partículas suspendidas, generadas por los combustibles. Por último, la tercera desigualdad muestra la restricción en el costo para adquirir los combustibles, siendo este el dinero máximo a gastar para comprar los tres tipos de combustible.\n",
    "\n",
    "Se define el problema sin variables de holgura:\n",
    "\n",
    "$$ \\left[ \\begin{array}{ccc}\n",
    "20 & 18 & 15 \\\\\n",
    "15 & 12 & 10 \\\\\n",
    "200 & 220 & 250\n",
    "\\end{array} \\right]\n",
    "\\left[ \\begin{array}{ccc}\n",
    "x_1\\\\\n",
    "x_2\\\\\n",
    "x_3\n",
    "\\end{array} \\right] \\leq\n",
    "\\left[ \\begin{array}{ccc}\n",
    "60\\\\\n",
    "75\\\\\n",
    "200\n",
    "\\end{array} \\right]\n",
    "$$\n",
    "\n",
    "Para definir el problema con variables de holgura:...\n"
   ]
  },
  {
   "cell_type": "code",
   "execution_count": null,
   "metadata": {
    "colab": {},
    "colab_type": "code",
    "id": "zJFsvogaN4y_"
   },
   "outputs": [],
   "source": [
    "def fun(A,b):\n",
    "    \n",
    "    factibles = {'Factibles': [], 'Base': []}\n",
    "    res1 = func(A,b)\n",
    "    sols = res1['Solución']\n",
    "    bases = res1['Base'] \n",
    "    \n",
    "    for solucion in sols:\n",
    "        if all(x>=0 for x in solucion) == True:\n",
    "            factibles['Factibles'].append(solucion)\n",
    "            factibles['Base'].append(res1.get('Base', solucion))\n",
    "        else:\n",
    "            pass\n",
    "    \n",
    "    return factibles"
   ]
  },
  {
   "cell_type": "markdown",
   "metadata": {},
   "source": [
    "La implementación del método *inList* se encontró en [StackOverflow](https://stackoverflow.com/questions/23979146/check-if-numpy-array-is-in-list-of-numpy-arrays)"
   ]
  },
  {
   "cell_type": "code",
   "execution_count": null,
   "metadata": {
    "colab": {
     "base_uri": "https://localhost:8080/",
     "height": 50
    },
    "colab_type": "code",
    "id": "sjK_fiAkRbhu",
    "outputId": "adc169fb-404d-42cc-daaa-c7918bf3af51",
    "scrolled": false
   },
   "outputs": [],
   "source": [
    "A = np.array([[20,18,15,1,0,0],[15,12,10,0,1,0],[200,220,250,0,0,1]])\n",
    "b = np.array([[60],[75],[2000]])\n",
    "\n",
    "# A = np.array([[1,1,4,2,1,0],[4,2,2,1,0,1]])\n",
    "# b = np.array([[8],[4]])\n",
    "\n",
    "def fobjetivo(x):\n",
    "    return -600*x[0]-550*x[1]-500*x[2]\n",
    "\n",
    "\n",
    "dic_basicas = func(A,b)\n",
    "\n",
    "start_factibles = time.time()\n",
    "dic_factibles = fun(A,b)\n",
    "end_factibles = time.time()\n",
    "tiempototal = end_factibles-start_factibles\n",
    "\n",
    "print(f'Tiempo para obtener las soluciones factibles: {tiempototal} segundos')\n",
    "\n",
    "\n",
    "sols_basicas = dic_basicas['Solución']\n",
    "bases_basicas = dic_basicas['Base']\n",
    "\n",
    "sols_factibles = dic_factibles['Factibles']\n",
    "bases_factibles = dic_factibles['Base']\n",
    "\n",
    "feval = []\n",
    "feval_f = []\n",
    "tipos = []\n",
    "\n",
    "for sol_basica in sols_basicas:\n",
    "    valor = fobjetivo(sol_basica)\n",
    "    feval.append(valor)\n",
    "    \n",
    "for sol_factible in sols_factibles:\n",
    "    valor_factible = fobjetivo(sol_factible)\n",
    "    feval_f.append(valor_factible)\n",
    "\n",
    "maximo = max(feval_f)\n",
    "minimo = min(feval_f)\n",
    "\n",
    "def inList(array, lista):\n",
    "    for element in lista:\n",
    "        if np.array_equal(element, array):\n",
    "            return True\n",
    "    return False\n",
    "\n",
    "for sol_basica in sols_basicas:\n",
    "    if inList(sol_basica, sols_factibles):\n",
    "        if fobjetivo(sol_basica) == maximo:\n",
    "            tipos.append(\"Peor\")\n",
    "        elif fobjetivo(sol_basica) == minimo:\n",
    "            tipos.append(\"Mejor\")\n",
    "        else:\n",
    "            tipos.append(\"Básica factible\")\n",
    "    else:\n",
    "        tipos.append(\"Solución básica\")\n",
    "        \n",
    "vals_reales = [x * -1 for x in feval]      "
   ]
  },
  {
   "cell_type": "code",
   "execution_count": null,
   "metadata": {
    "scrolled": false
   },
   "outputs": [],
   "source": [
    "tabla = pd.DataFrame({\n",
    "    'Solución': sols_basicas,\n",
    "    'Base': bases_basicas,\n",
    "    'Tipo de solución': tipos,\n",
    "    'Valor': feval\n",
    "})\n",
    "\n",
    "display(tabla)\n",
    "\n",
    "tabla1 = pd.DataFrame({\n",
    "    'Solución': sols_basicas,\n",
    "    'Base': bases_basicas,\n",
    "    'Tipo de solución': tipos,\n",
    "    'Valor': vals_reales\n",
    "})\n",
    "\n",
    "display(tabla1)\n",
    "\n",
    "print(bases_basicas)"
   ]
  },
  {
   "cell_type": "code",
   "execution_count": null,
   "metadata": {
    "scrolled": false
   },
   "outputs": [],
   "source": [
    "c = np.array([-600, -550, -500])\n",
    "A = np.array([[20,18,15],[15,12,10],[200,220,25]])\n",
    "b = np.array([[60],[75],[2000]])\n",
    "x1_bounds = (0, None)\n",
    "x2_bounds = (0, None)\n",
    "x3_bounds = (0, None)\n",
    "\n",
    "start_revised = time.time()\n",
    "res = linprog(c, A_ub=A, b_ub=b, bounds = np.array([x1_bounds, x2_bounds, x3_bounds]), method='revised simplex', options={\"disp\": True})\n",
    "end_revised = time.time()\n",
    "total_revised = end_revised-start_revised\n",
    "\n",
    "print(res)\n",
    "print(f'Tiempo total con el método revised-simplex: {total_revised} segundos')\n",
    "\n",
    "start_simplex = time.time()\n",
    "res = linprog(c, A_ub=A, b_ub=b, bounds = np.array([x1_bounds, x2_bounds, x3_bounds]), method='simplex', options={\"disp\": True})\n",
    "end_simplex = time.time()\n",
    "total_simplex = end_simplex-start_simplex\n",
    "\n",
    "print(res)\n",
    "print(f'Tiempo total con el método simplex: {total_simplex} segundos')\n",
    "\n",
    "start_interior = time.time()\n",
    "res = linprog(c, A_ub=A, b_ub=b, bounds = np.array([x1_bounds, x2_bounds, x3_bounds]), method='interior-point', options={\"disp\": True})\n",
    "end_interior = time.time()\n",
    "total_interior = end_interior-start_interior\n",
    "\n",
    "print(res)\n",
    "print(f'Tiempo total con el método interior-point: {total_interior} segundos')"
   ]
  }
 ],
 "metadata": {
  "colab": {
   "collapsed_sections": [],
   "name": "OptiLab3odioajuanpis.ipynb",
   "provenance": []
  },
  "kernelspec": {
   "display_name": "Python 3",
   "language": "python",
   "name": "python3"
  },
  "language_info": {
   "codemirror_mode": {
    "name": "ipython",
    "version": 3
   },
   "file_extension": ".py",
   "mimetype": "text/x-python",
   "name": "python",
   "nbconvert_exporter": "python",
   "pygments_lexer": "ipython3",
   "version": "3.8.3"
  },
  "varInspector": {
   "cols": {
    "lenName": 16,
    "lenType": 16,
    "lenVar": 40
   },
   "kernels_config": {
    "python": {
     "delete_cmd_postfix": "",
     "delete_cmd_prefix": "del ",
     "library": "var_list.py",
     "varRefreshCmd": "print(var_dic_list())"
    },
    "r": {
     "delete_cmd_postfix": ") ",
     "delete_cmd_prefix": "rm(",
     "library": "var_list.r",
     "varRefreshCmd": "cat(var_dic_list()) "
    }
   },
   "types_to_exclude": [
    "module",
    "function",
    "builtin_function_or_method",
    "instance",
    "_Feature"
   ],
   "window_display": false
  }
 },
 "nbformat": 4,
 "nbformat_minor": 1
}
