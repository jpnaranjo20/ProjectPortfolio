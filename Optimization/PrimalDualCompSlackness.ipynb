{
 "cells": [
  {
   "cell_type": "markdown",
   "metadata": {
    "colab_type": "text",
    "id": "wn64JnrroqLx"
   },
   "source": [
    "# Primal, Dual and Complementary Slackness"
   ]
  },
  {
   "cell_type": "code",
   "execution_count": 19,
   "metadata": {
    "colab": {},
    "colab_type": "code",
    "id": "yGRDmlLN791i"
   },
   "outputs": [],
   "source": [
    "import numpy as np\n",
    "import sympy\n",
    "from sympy import *\n",
    "from scipy.optimize import linprog\n",
    "\n",
    "import warnings\n",
    "warnings.filterwarnings('ignore')"
   ]
  },
  {
   "cell_type": "markdown",
   "metadata": {},
   "source": [
    "# Optimization Problem"
   ]
  },
  {
   "cell_type": "markdown",
   "metadata": {},
   "source": [
    "*PAR* is a small manufacturer of golf equipment and accessories whose distributor convinced them that there is a market for both the mid-priced golf bag, known as the standard model, and for a high-priced golf bag, known as the deluxe model. The distributor is so confident in the market that if *PAR* can manufacture the bags competitively, the distributor agrees to purchase all the bags *PAR* can produce over the next three months.\n",
    "\n",
    "A careful analysis of the manufacturing requirements resulted in the following table, which shows the time and production needs for the four required manufacturing operations and the accounting department's estimate of the contribution to profit per bag:\n",
    "\n",
    "| **Product** \t| **Cutting and Dyeing (h)** \t| **Sewing (h)** \t| **Finishing (h)** \t| **Inspection and Packaging (h)** \t| **Profit per bag ($)** \t|\n",
    "|--------------\t|-----------------------------\t|-----------------\t|-------------------\t|----------------------------------\t|-------------------------\t|\n",
    "| Standard     \t| 7/10                        \t| 1/2             \t| 1                 \t| 1/10                             \t| 7                       \t|\n",
    "| Deluxe       \t| 1                           \t| 5/6             \t| 2/3               \t| 1/4                              \t| 9                       \t|\n",
    "\n",
    "The manufacturing director estimates that during the next three months, there will be 630 hours of cutting and dyeing time, 600 hours of sewing time, 708 hours of finishing time, and 135 hours of inspection and packaging time available for the production of golf bags.\n",
    "\n",
    "#### If *PAR* wishes to maximize its profit, what amount of standard and deluxe bags should it manufacture?\n"
   ]
  },
  {
   "cell_type": "markdown",
   "metadata": {},
   "source": [
    "# Problem 1"
   ]
  },
  {
   "cell_type": "markdown",
   "metadata": {},
   "source": [
    "#### Solve the problem using the primal and dual form of the optimization problem."
   ]
  },
  {
   "cell_type": "markdown",
   "metadata": {},
   "source": [
    "#### Original Optimization Problem Statement\n",
    "\n",
    "Decision Variables:\n",
    "\n",
    "$x_1 \\longrightarrow $ Quantity of standard bags\n",
    "\n",
    "$x_2 \\longrightarrow $ Quantity of deluxe bags\n",
    "\n",
    "Objective Function: Profit\n",
    "\n",
    "$f(x) = 7x_1 + 9x_2$\n",
    "\n",
    "Constraints: Time in hours\n",
    "\n",
    "$\\frac{7}{10}x_1 + x_2 \\leq 630 $ \n",
    "\n",
    "$\\frac{1}{2}x_1 + \\frac{5}{6}x_2 \\leq 600$ \n",
    "\n",
    "$x_1 + \\frac{2}{3}x_2 \\leq 708$\n",
    "\n",
    "$\\frac{1}{10}x_1 + \\frac{1}{4}x_2 \\leq 135$\n",
    "\n",
    "Original Optimization Problem: \n",
    "\n",
    "max $f(x) = 7x_1 + 9x_2$ s.t.\n",
    "\n",
    "$\\frac{7}{10}x_1 + x_2 \\leq 630 $ \n",
    "\n",
    "$\\frac{1}{2}x_1 + \\frac{5}{6}x_2 \\leq 600$ \n",
    "\n",
    "$x_1 + \\frac{2}{3}x_2 \\leq 708$ \n",
    "\n",
    "$\\frac{1}{10}x_1 + \\frac{1}{4}x_2 \\leq 135$\n",
    "\n",
    "Primal Problem: \n",
    "\n",
    "min $-f(x) = -7x_1 - 9x_2$ s.t.\n",
    "\n",
    "$-\\frac{7}{10}x_1 - x_2 \\geq -630 $ \n",
    "\n",
    "$-\\frac{1}{2}x_1 - \\frac{5}{6}x_2 \\geq -600$ \n",
    "\n",
    "$-x_1 - \\frac{2}{3}x_2 \\geq -708$ \n",
    "\n",
    "$-\\frac{1}{10}x_1 - \\frac{1}{4}x_2 \\geq -135$\n",
    "\n",
    "Dual Problem:\n",
    "\n",
    "max $q(\\lambda) = -630\\lambda_1 -600\\lambda_2 - 708\\lambda_3 - 135\\lambda_4$ s.t. \n",
    "\n",
    "$-\\frac{7}{10}\\lambda_1 - \\frac{1}{2}\\lambda_2 - \\lambda_3 - \\frac{1}{10}\\lambda_4 \\leq -7$ \n",
    "\n",
    "$-\\lambda_1 - \\frac{5}{6}\\lambda_2 - \\frac{2}{3}\\lambda_3 - \\frac{1}{4}\\lambda_4 \\leq -9 $\n"
   ]
  },
  {
   "cell_type": "code",
   "execution_count": 20,
   "metadata": {
    "scrolled": false
   },
   "outputs": [
    {
     "name": "stdout",
     "output_type": "stream",
     "text": [
      "The solution to the original optimization problem is x = [540. 252.]\n",
      "The value of the objective function evaluated at the optimal value is 6048.0\n"
     ]
    }
   ],
   "source": [
    "c = np.array([[-7, -9]])\n",
    "A = np.array([[7/10, 1],[1/2, 5/6],[1, 2/3],[1/10, 1/4]])\n",
    "b = np.array([[630],[600],[708],[135]])\n",
    "\n",
    "x1_bounds = (0, None)\n",
    "x2_bounds = (0, None)\n",
    "\n",
    "\n",
    "res = linprog(c, A_ub=A, b_ub=b, bounds = np.array([x1_bounds, x2_bounds]), method='simplex', options={\"disp\": False})\n",
    "print(f'The solution to the original optimization problem is x = {res.x}')\n",
    "print(f'The value of the objective function evaluated at the optimal value is {-1*res.fun}')\n"
   ]
  },
  {
   "cell_type": "markdown",
   "metadata": {},
   "source": [
    "According to this result, it is obtained that **540 standard bags and 252 deluxe bags** should be manufactured to maximize the profit to a value of **$6,048**.\n",
    "\n",
    "The profit obtained by manufacturing **only standard bags** corresponds to **$4,956**.\n",
    "\n",
    "The profit obtained by manufacturing **only deluxe bags** corresponds to **$4,860**."
   ]
  },
  {
   "cell_type": "markdown",
   "metadata": {},
   "source": [
    "# Problem 2"
   ]
  },
  {
   "cell_type": "markdown",
   "metadata": {},
   "source": [
    "### Different strategies\n",
    "\n",
    "*PAR*'s store manager has proposed three different strategies to try and maximize profits. \n",
    "\n",
    "**Strategy 1:** Increase the price of deluxe bags such that its profit per bag is now $18\n",
    "\n",
    "**Strategy 2:** Increase the price of standard bags such that the its per bag is now $14\n",
    "\n",
    "**Strategy 3:** Increase the maximum amount of hours spent on cutting and dyeing to 1071, the maximum amount of hours spent on sewing to 1020, the maximum amount of hours of finishing time to 1203.6, and the maximum amount of hours spent on inspection and packaging  to 229.5.\n",
    "\n",
    "Formulate an optimization problem for each strategy and decide which one is the best alternative to maximize profits for the company."
   ]
  },
  {
   "cell_type": "markdown",
   "metadata": {},
   "source": [
    "### a)\n",
    "#### Formulation of the first strategy\n",
    "\n",
    "Decision variables:\n",
    "\n",
    "$x_1 \\longrightarrow $ Quantity of standard bags \\\n",
    "$x_2 \\longrightarrow $ Quantity of deluxe bags\n",
    "\n",
    "Objective function: Profit\n",
    "\n",
    "$f(x) = 7x_1 + 18x_2$\n",
    "\n",
    "Constraints: Time in hours\n",
    "\n",
    "$\\frac{7}{10}x_1 + x_2 \\leq 630 $ \\\n",
    "$\\frac{1}{2}x_1 + \\frac{5}{6}x_2 \\leq 600$ \\\n",
    "$x_1 + \\frac{2}{3}x_2 \\leq 708$ \\\n",
    "$\\frac{1}{10}x_1 + \\frac{1}{4}x_2 \\leq 135$\n",
    "\n",
    "Optimization problem: \\\n",
    "max $f(x) = 7x_1 + 18x_2$ s.t.\n",
    "\n",
    "$\\frac{7}{10}x_1 + x_2 \\leq 630 $ \\\n",
    "$\\frac{1}{2}x_1 + \\frac{5}{6}x_2 \\leq 600$ \\\n",
    "$x_1 + \\frac{2}{3}x_2 \\leq 708$ \\\n",
    "$\\frac{1}{10}x_1 + \\frac{1}{4}x_2 \\leq 135$\n",
    "\n",
    "Primal problem: \\\n",
    "min $-f(x) = -7x_1 - 18x_2$ s.t.\n",
    "\n",
    "$-\\frac{7}{10}x_1 - x_2 \\geq -630 $ \\\n",
    "$-\\frac{1}{2}x_1 - \\frac{5}{6}x_2 \\geq -600$ \\\n",
    "$-x_1 - \\frac{2}{3}x_2 \\geq -708$ \\\n",
    "$-\\frac{1}{10}x_1 - \\frac{1}{4}x_2 \\geq -135$\n"
   ]
  },
  {
   "cell_type": "markdown",
   "metadata": {},
   "source": [
    "#### Formulation of the dual problem for the first strategy\n",
    "\n",
    "max $q(\\lambda) = 630\\lambda_1 + 600\\lambda_2 + 708\\lambda_3 + 135\\lambda_4$ s.t. \\\n",
    "$\\frac{7}{10}\\lambda_1 + \\frac{1}{2}\\lambda_2 + \\lambda_3 + \\frac{1}{10}\\lambda_4 \\geq -7$ \\\n",
    "$\\lambda_1 + \\frac{5}{6}\\lambda_2 + \\frac{2}{3}\\lambda_3 + \\frac{1}{4}\\lambda_4 \\geq -18 $\n"
   ]
  },
  {
   "cell_type": "markdown",
   "metadata": {},
   "source": [
    "#### Solution of the dual problem for the first strategy"
   ]
  },
  {
   "cell_type": "code",
   "execution_count": 21,
   "metadata": {},
   "outputs": [
    {
     "name": "stdout",
     "output_type": "stream",
     "text": [
      "Optimization terminated successfully.\n",
      "         Current function value: 9720.000000 \n",
      "         Iterations: 3\n",
      "The solution to this optimization problem is λ = [ 0.  0.  0. 72.]\n",
      "The value of the objective function of the dual evaluated at the optimal value is 9720.0\n"
     ]
    }
   ],
   "source": [
    "c = np.array([[630, 600, 708, 135]])\n",
    "A = np.array([[-7/10, -1/2, -1, -1/10],[-1, -5/6, -2/3, -1/4],[-1,0,0,0],[0,-1,0,0],[0,0,-1,0],[0,0,0,-1]])\n",
    "b = np.array([[-7],[-18],[0],[0],[0],[0]])\n",
    "\n",
    "x1_bounds = (0, None)\n",
    "x2_bounds = (0, None)\n",
    "x3_bounds = (0, None)\n",
    "x4_bounds = (0, None)\n",
    "\n",
    "\n",
    "res = linprog(c, A_ub=A, b_ub=b, bounds = np.array([x1_bounds, x2_bounds, x3_bounds, x4_bounds]), method='simplex', options={\"disp\": True})\n",
    "print(f'The solution to this optimization problem is λ = {res.x}')\n",
    "print(f'The value of the objective function of the dual evaluated at the optimal value is {res.fun}')"
   ]
  },
  {
   "cell_type": "markdown",
   "metadata": {},
   "source": [
    "#### Solution of the primal via complementary slackness"
   ]
  },
  {
   "cell_type": "markdown",
   "metadata": {},
   "source": [
    "From the previous solution, the complementary slackness conditions are evaluated to find the solution in the primal problem, i.e., the quantities of standard and deluxe bags to manufacture. The following constraints are obtained:\n",
    "\n",
    "$-\\frac{7}{10}(0) - \\frac{1}{2}(0) - 1(0) -\\frac{1}{10}(72) < -7$\\\n",
    "$-7.2 < -7 \\longrightarrow$ Inactive constraint \n",
    "\n",
    "$-1(0) - \\frac{5}{6}(0) - \\frac{2}{3}(0) -\\frac{1}{4}(72) < -18$\n",
    "$-18 = -18 \\longrightarrow$ Active constraint \n",
    "\n",
    "$\\lambda_1^*=0\\longrightarrow$ Active constraint \n",
    "\n",
    "$\\lambda_2^*=0\\longrightarrow$ Active constraint \n",
    "\n",
    "$\\lambda_3^*=0\\longrightarrow$ Active constraint \n",
    "\n",
    "$\\lambda_4^*>0\\longrightarrow$ Inactive constraint \n",
    "\n",
    "From the first and sixth constraints, it is obtained respectively that:\n",
    "\n",
    "$x_1^*=0$ \\\n",
    "$-\\frac{1}{10}x_1^*-\\frac{1}{4}x_2^*=-135$\n",
    "\n",
    "Finally, the system is solved and it is obtained that 0 standard bags and 540 deluxe bags should be manufactured.\n"
   ]
  },
  {
   "cell_type": "markdown",
   "metadata": {},
   "source": [
    "### b) \n",
    "#### Formulation of the second strategy\n",
    "\n",
    "Decision variables:\n",
    "\n",
    "$x_1 \\longrightarrow $ Quantity of standard bags \\\n",
    "$x_2 \\longrightarrow $ Quantity of deluxe bags\n",
    "\n",
    "Objective function: Profit\n",
    "\n",
    "$f(x) = 14x_1 + 9x_2$\n",
    "\n",
    "Constraints: Time in hours\n",
    "\n",
    "$\\frac{7}{10}x_1 + x_2 \\leq 630 $ \\\n",
    "$\\frac{1}{2}x_1 + \\frac{5}{6}x_2 \\leq 600$ \\\n",
    "$x_1 + \\frac{2}{3}x_2 \\leq 708$ \\\n",
    "$\\frac{1}{10}x_1 + \\frac{1}{4}x_2 \\leq 135$\n",
    "\n",
    "Optimization problem: \\\n",
    "max $f(x) = 14x_1 + 9x_2$ s.t.\n",
    "\n",
    "$\\frac{7}{10}x_1 + x_2 \\leq 630 $ \\\n",
    "$\\frac{1}{2}x_1 + \\frac{5}{6}x_2 \\leq 600$ \\\n",
    "$x_1 + \\frac{2}{3}x_2 \\leq 708$ \\\n",
    "$\\frac{1}{10}x_1 + \\frac{1}{4}x_2 \\leq 135$\n",
    "\n",
    "#### Formulation of the dual problem for the second strategy\n",
    "\n",
    "max $g(\\lambda) = 630\\lambda_1 + 600\\lambda_2 + 708\\lambda_3 + 135\\lambda_4$ s.t. \\\n",
    "$\\frac{7}{10}\\lambda_1 + \\frac{1}{2}\\lambda_2 + \\lambda_3 + \\frac{1}{10}\\lambda_4 \\geq -14$ \\\n",
    "$\\lambda_1 + \\frac{5}{6}\\lambda_2 + \\frac{2}{3}\\lambda_3 + \\frac{1}{4}\\lambda_4 \\geq -9 $\n"
   ]
  },
  {
   "cell_type": "markdown",
   "metadata": {},
   "source": [
    "#### Solution of the dual problem for the second strategy"
   ]
  },
  {
   "cell_type": "code",
   "execution_count": 22,
   "metadata": {
    "scrolled": false
   },
   "outputs": [
    {
     "name": "stdout",
     "output_type": "stream",
     "text": [
      "The solution to this optimization problem is λ = [ 0.  0. 14.  0.]\n",
      "The value of the objective function of the dual evaluated at the optimal value is 9912.0\n"
     ]
    }
   ],
   "source": [
    "c = np.array([[630, 600, 708, 135]])\n",
    "A = np.array([[-7/10, -1/2, -1, -1/10],[-1, -5/6, -2/3, -1/4],[-1,0,0,0],[0,-1,0,0],[0,0,-1,0],[0,0,0,-1]])\n",
    "b = np.array([[-14],[-9],[0],[0],[0],[0]])\n",
    "\n",
    "x1_bounds = (0, None)\n",
    "x2_bounds = (0, None)\n",
    "x3_bounds = (0, None)\n",
    "x4_bounds = (0, None)\n",
    "\n",
    "\n",
    "res = linprog(c, A_ub=A, b_ub=b, bounds = np.array([x1_bounds, x2_bounds, x3_bounds, x4_bounds]), method='simplex')\n",
    "print(f'The solution to this optimization problem is λ = {res.x}')\n",
    "print(f'The value of the objective function of the dual evaluated at the optimal value is {round(res.fun,3)}')"
   ]
  },
  {
   "cell_type": "markdown",
   "metadata": {},
   "source": [
    "#### Solution of the primal via complementary slackness"
   ]
  },
  {
   "cell_type": "markdown",
   "metadata": {},
   "source": [
    "From the previous solution, the complementary slackness conditions are evaluated to find the solution in the primal problem, i.e., the quantities of standard and deluxe bags to manufacture. The following constraints are obtained:\n",
    "\n",
    "$-\\frac{7}{10}(0) - \\frac{1}{2}(0) - 1(14) -\\frac{1}{10}(0) < -14$\\\n",
    "$-14 < -14 \\longrightarrow$ Active constraint \n",
    "\n",
    "$-1(0) - \\frac{5}{6}(0) - \\frac{2}{3}(14) -\\frac{1}{4}(0) < -9$\n",
    "$-9.33 = -9 \\longrightarrow$ Inactive constraint \n",
    "\n",
    "$\\lambda_1^*=0\\longrightarrow$ Active constraint \n",
    "\n",
    "$\\lambda_2^*=0\\longrightarrow$ Active constraint \n",
    "\n",
    "$\\lambda_3^*>0\\longrightarrow$ Inactive constraint \n",
    "\n",
    "$\\lambda_4^*=0\\longrightarrow$ Active constraint \n",
    "\n",
    "From the second and fifth constraints, it is obtained respectively that:\n",
    "\n",
    "$x_2^*=0$ \\\n",
    "$-x_1^*-\\frac{2}{3}x_2^*=-708$\n",
    "\n",
    "Finally, the system is solved and it is obtained that 708 standard bags and 0 deluxe bags should be manufactured."
   ]
  },
  {
   "cell_type": "markdown",
   "metadata": {},
   "source": [
    "### c) \n",
    "#### Formulation of the third strategy\n",
    "\n",
    "Decision variables:\n",
    "\n",
    "$x_1 \\longrightarrow $ Quantity of standard bags \\\n",
    "$x_2 \\longrightarrow $ Quantity of deluxe bags\n",
    "\n",
    "Objective function: Profit\n",
    "\n",
    "$f(x) = 7x_1 + 9x_2$\n",
    "\n",
    "Constraints: Time in hours\n",
    "\n",
    "$\\frac{7}{10}x_1 + x_2 \\leq 1071 $ \\\n",
    "$\\frac{1}{2}x_1 + \\frac{5}{6}x_2 \\leq 1020$ \\\n",
    "$x_1 + \\frac{2}{3}x_2 \\leq 1203.6$ \\\n",
    "$\\frac{1}{10}x_1 + \\frac{1}{4}x_2 \\leq 229.5$\n",
    "\n",
    "Optimization problem: \\\n",
    "max $f(x) = 7x_1 + 9x_2$ s.t.\n",
    "\n",
    "$\\frac{7}{10}x_1 + x_2 \\leq 1071 $ \\\n",
    "$\\frac{1}{2}x_1 + \\frac{5}{6}x_2 \\leq 1020$ \\\n",
    "$x_1 + \\frac{2}{3}x_2 \\leq 1203.6$ \\\n",
    "$\\frac{1}{10}x_1 + \\frac{1}{4}x_2 \\leq 229.5$\n",
    "\n",
    "#### Formulation of the dual problem for the third strategy\n",
    "\n",
    "max $g(\\lambda) = 1071\\lambda_1 + 1020\\lambda_2 + 1203.6\\lambda_3 + 229.5\\lambda_4$ s.t. \\\n",
    "$\\frac{7}{10}\\lambda_1 + \\frac{1}{2}\\lambda_2 + \\lambda_3 + \\frac{1}{10}\\lambda_4 \\geq -14$ \\\n",
    "$\\lambda_1 + \\frac{5}{6}\\lambda_2 + \\frac{2}{3}\\lambda_3 + \\frac{1}{4}\\lambda_4 \\geq -9 $\n"
   ]
  },
  {
   "cell_type": "code",
   "execution_count": 23,
   "metadata": {},
   "outputs": [
    {
     "name": "stdout",
     "output_type": "stream",
     "text": [
      "The solution to this optimization problem is λ = [8.125  0.     1.3125 0.    ]\n",
      "The value of the objective function of the dual evaluated at the optimal value is 10281.6\n"
     ]
    }
   ],
   "source": [
    "c = np.array([[630*1.7, 600*1.7, 708*1.7, 135*1.7]])\n",
    "A = np.array([[-7/10, -1/2, -1, -1/10],[-1, -5/6, -2/3, -1/4],[-1,0,0,0],[0,-1,0,0],[0,0,-1,0],[0,0,0,-1]])\n",
    "b = np.array([[-7],[-9],[0],[0],[0],[0]])\n",
    "\n",
    "x1_bounds = (0, None)\n",
    "x2_bounds = (0, None)\n",
    "x3_bounds = (0, None)\n",
    "x4_bounds = (0, None)\n",
    "\n",
    "\n",
    "res = linprog(c, A_ub=A, b_ub=b, bounds = np.array([x1_bounds, x2_bounds, x3_bounds, x4_bounds]), method='simplex')\n",
    "print(f'The solution to this optimization problem is λ = {res.x}')\n",
    "print(f'The value of the objective function of the dual evaluated at the optimal value is {round(res.fun,3)}')"
   ]
  },
  {
   "cell_type": "markdown",
   "metadata": {},
   "source": [
    "#### Solution of the primal via complementary slackness\n"
   ]
  },
  {
   "cell_type": "markdown",
   "metadata": {},
   "source": [
    "From the previous solution, the complementary slackness conditions are evaluated to find the solution in the primal problem, i.e., the quantities of standard and deluxe bags to manufacture. The following constraints are obtained:\n",
    "\n",
    "$-\\frac{7}{10}(8.125) - \\frac{1}{2}(0) - 1(1.3125) -\\frac{1}{10}(0) < -7$\\\n",
    "$-7 = -7 \\longrightarrow$ Active constraint \n",
    "\n",
    "$-1(8.125) - \\frac{5}{6}(0) - \\frac{2}{3}(1.3125) -\\frac{1}{4}(0) < -9$\n",
    "$-9 = -9 \\longrightarrow$ Active constraint \n",
    "\n",
    "$\\lambda_1^*>0\\longrightarrow$ Inactive constraint \n",
    "\n",
    "$\\lambda_2^*=0\\longrightarrow$ Active constraint \n",
    "\n",
    "$\\lambda_3^*>0\\longrightarrow$ Inactive constraint \n",
    "\n",
    "$\\lambda_4^*=0\\longrightarrow$ Active constraint \n",
    "\n",
    "From the third and fifth constraints, it is obtained respectively that:\n",
    "\n",
    "$-\\frac{7}{10}x_1^* - x_2^*=-1071$ \\\n",
    "$-x_1^*-\\frac{2}{3}x_2^*=-1203.6$\n",
    "\n",
    "Finally, the system is solved and it is obtained that 918 standard bags and 428.4 deluxe bags should be manufactured.\n"
   ]
  },
  {
   "cell_type": "markdown",
   "metadata": {},
   "source": [
    "## Strategy Selection\n",
    "\n",
    "It is more convenient to choose the third strategy because this way a higher total profit value is obtained compared to the other two strategies. Below is the summarized information:\n",
    "\n",
    "Profit with **first strategy**: $9,720\n",
    "\n",
    "Profit with **second strategy**: $9,912\n",
    "\n",
    "Profit with **third strategy**: $10,281.6\n"
   ]
  },
  {
   "cell_type": "markdown",
   "metadata": {
    "colab": {},
    "colab_type": "code",
    "id": "aFcAA7-If4Jd"
   },
   "source": [
    "# Problem 3"
   ]
  },
  {
   "cell_type": "markdown",
   "metadata": {},
   "source": [
    "### Different strategies\n",
    "\n",
    "*PAR*'s store manager has proposed two new strategies to try and maximize profits. \n",
    "\n",
    "**Strategy 1:** Training all employees, improving all production times by 10%\n",
    "\n",
    "**Strategy 2:** A new image that would allow increasing the profit per bag by 10%\n",
    "\n",
    "Formulate an optimization problem for each strategy and decide which one is the best alternative to maximize profits for the company."
   ]
  },
  {
   "cell_type": "markdown",
   "metadata": {},
   "source": [
    "### a) Training all employees, improving all production times by 10%\n"
   ]
  },
  {
   "cell_type": "code",
   "execution_count": 24,
   "metadata": {
    "scrolled": false
   },
   "outputs": [
    {
     "name": "stdout",
     "output_type": "stream",
     "text": [
      "Optimization terminated successfully.\n",
      "         Current function value: 6720.000000 \n",
      "         Iterations: 3\n",
      "The solution to this optimization problem is λ = [9.02777778 0.         1.45833333 0.        ]\n",
      "The value of the objective function of the dual evaluated at the optimal value is 6720.0\n"
     ]
    }
   ],
   "source": [
    "c = np.array([[630, 600, 708, 135]])\n",
    "A = np.array([[(-7/10)*0.9, (-1/2)*0.9, -1*0.9, (-1/10)*0.9],[-1*0.9, (-5/6)*0.9, (-2/3)*0.9, (-1/4)*0.9],[-1,0,0,0],[0,-1,0,0],[0,0,-1,0],[0,0,0,-1]])\n",
    "b = np.array([[-7],[-9],[0],[0],[0],[0]])\n",
    "\n",
    "x1_bounds = (0, None)\n",
    "x2_bounds = (0, None)\n",
    "x3_bounds = (0, None)\n",
    "x4_bounds = (0, None)\n",
    "\n",
    "\n",
    "res = linprog(c, A_ub=A, b_ub=b, bounds = np.array([x1_bounds, x2_bounds, x3_bounds, x4_bounds]), method='simplex', options={\"disp\": True})\n",
    "print(f'The solution to this optimization problem is λ = {res.x}')\n",
    "print(f'The value of the objective function of the dual evaluated at the optimal value is {round(res.fun,3)}')"
   ]
  },
  {
   "cell_type": "markdown",
   "metadata": {},
   "source": [
    "#### Solution of the primal via complementary slackness"
   ]
  },
  {
   "cell_type": "markdown",
   "metadata": {},
   "source": [
    "From the previous solution, the complementary slackness conditions are evaluated to find the solution in the primal problem, i.e., the quantities of standard and deluxe bags to manufacture. The following constraints are obtained:\n",
    "\n",
    "$-0.63(9.028) - 0.45(0) - 0.9(1.458) -0.09(0) < -7$\n",
    "$-7 = -7 \\longrightarrow$ Active constraint \n",
    "\n",
    "$-0.9(9.028) - 0.75(0) - 0.6(1.458) - 0.225(0) < -9$\\\n",
    "$-9 = -9 \\longrightarrow$ Active constraint \n",
    "\n",
    "$\\lambda_1^*>0\\longrightarrow$ Inactive constraint \n",
    "\n",
    "$\\lambda_2^*=0\\longrightarrow$ Active constraint \n",
    "\n",
    "$\\lambda_3^*>0\\longrightarrow$ Inactive constraint \n",
    "\n",
    "$\\lambda_4^*=0\\longrightarrow$ Active constraint \n",
    "\n",
    "From the third and fifth constraints, it is obtained respectively that:\n",
    "\n",
    "$-0.63x_1^* - 0.9x_2^*=-630$ \\\n",
    "$-0.9x_1^*- 0.6x_2^*=-708$\n",
    "\n",
    "Finally, the system is solved and it is obtained that 600 standard bags and 280 deluxe bags should be manufactured.\n"
   ]
  },
  {
   "cell_type": "code",
   "execution_count": 25,
   "metadata": {
    "scrolled": false
   },
   "outputs": [
    {
     "name": "stdout",
     "output_type": "stream",
     "text": [
      "A from primal: \n",
      " [[-0.63  -0.9  ]\n",
      " [-0.45  -0.75 ]\n",
      " [-0.9   -0.6  ]\n",
      " [-0.09  -0.225]\n",
      " [ 1.     0.   ]\n",
      " [ 0.     1.   ]]\n",
      "b from primal: \n",
      " [[-630]\n",
      " [-600]\n",
      " [-708]\n",
      " [-135]\n",
      " [   0]\n",
      " [   0]]\n",
      "f from primal: \n",
      " [-7 -9]\n",
      "A from dual: \n",
      " [[-0.63  -0.45  -0.9   -0.09 ]\n",
      " [-0.9   -0.75  -0.6   -0.225]]\n",
      "b from dual: \n",
      " [[-7.]\n",
      " [-9.]]\n",
      "f from dual: \n",
      " [-630 -600 -708 -135]\n",
      "Matrix to solve the primal: \n",
      " [[-0.63 -0.9 ]\n",
      " [-0.9  -0.6 ]]\n",
      "Vector b to solve the primal: \n",
      " [[-630.]\n",
      " [-708.]]\n",
      "Values of x: \n",
      " [[600.]\n",
      " [280.]]\n",
      "Objective function of the primal: \n",
      " [6720.]\n"
     ]
    }
   ],
   "source": [
    "Aprim = np.array([[(-7/10)*0.9, -1*0.9],[(-1/2)*0.9,(-5/6)*0.9],[-1*0.9, (-2/3)*0.9],[(-1/10)*0.9,(-1/4)*0.9],[1,0],[0,1]])\n",
    "bprim = np.array([[-630],[-600],[-708],[-135],[0],[0]])\n",
    "fprim = np.array([-7, -9])\n",
    "solution = res.x\n",
    "solution=solution.reshape(-1,1)\n",
    "optimal_value = res.fun\n",
    "\n",
    "sizeAprim = np.shape(Aprim)\n",
    "sizebprim = np.shape(bprim)\n",
    "sizefprim = np.shape(fprim)\n",
    "sizesolution = np.shape(solution)\n",
    "\n",
    "fdual = bprim[bprim != 0]\n",
    "sizefdual = np.shape(fdual)\n",
    "\n",
    "Adual = np.zeros((sizeAprim[1],np.shape(fdual)[0]))\n",
    "bdual = np.zeros((sizeAprim[1],1))\n",
    "\n",
    "for i in range(sizeAprim[1]):\n",
    "    bdual[i] = fprim[i]\n",
    "    for j in range(sizefdual[0]):\n",
    "        Aprim_copy = Aprim.copy()\n",
    "        Aprim_copy = Aprim[:-sizeAprim[1], :]\n",
    "        Adual[i,j] = Aprim_copy[j][i]\n",
    "        \n",
    "sizeAdual = np.shape(Adual)\n",
    "sizebdual = np.shape(bdual)\n",
    "sizefdual = np.shape(fdual)\n",
    "\n",
    "print(f'A from primal: \\n {Aprim}')\n",
    "print(f'b from primal: \\n {bprim}')\n",
    "print(f'f from primal: \\n {fprim}')  \n",
    "\n",
    "print(f'A from dual: \\n {Adual}')\n",
    "print(f'b from dual: \\n {bdual}')\n",
    "print(f'f from dual: \\n {fdual}')\n",
    "\n",
    "sol_primal = np.zeros((sizeAdual[1],sizeAdual[0]))\n",
    "\n",
    "for i in range(sizeAdual[0]):\n",
    "    filai = Adual[i]\n",
    "    value = np.dot(filai,solution)\n",
    "    if value == bdual[i]:\n",
    "        pass\n",
    "    elif value < bdual[i]:\n",
    "        row = sol_primal[i,:]\n",
    "        for j in range(np.shape(row)[0]):\n",
    "            if j == i:\n",
    "                sol_primal[j+1,i] = 1\n",
    "\n",
    "bprim_aux = np.zeros((sizesolution[0],1))\n",
    "\n",
    "for i in range(sizesolution[0]):\n",
    "    if solution[i] > 0:\n",
    "        sol_primal[i,:] = Aprim[i,:] \n",
    "        bprim_aux[i] = bprim[i]   \n",
    "    elif solution[i] == 0:\n",
    "        sol_primal[i,:] = np.zeros(sizeAprim[1])\n",
    "        bprim_aux[i] = 0\n",
    "\n",
    "sol_primal = sol_primal[np.all(sol_primal != 0, axis=1)]\n",
    "bprim_aux = bprim_aux[np.all(bprim_aux != 0, axis=1)]\n",
    "        \n",
    "solx = np.linalg.solve(sol_primal, bprim_aux)\n",
    "        \n",
    "print(f'Matrix to solve the primal: \\n {sol_primal}')\n",
    "print(f'Vector b to solve the primal: \\n {bprim_aux}')\n",
    "print(f'Values of x: \\n {solx}')\n",
    "print(f'Objective function of the primal: \\n {-1*np.dot(fprim,solx)}')\n"
   ]
  },
  {
   "cell_type": "markdown",
   "metadata": {},
   "source": [
    "Based on this result, it is obtained that **600 standard bags and 280 deluxe bags should be manufactured** to maximize the profit to a value of **$6,720**."
   ]
  },
  {
   "cell_type": "markdown",
   "metadata": {},
   "source": [
    "### b) A new image that would allow increasing the profit per bag by 10%"
   ]
  },
  {
   "cell_type": "code",
   "execution_count": 26,
   "metadata": {},
   "outputs": [
    {
     "name": "stdout",
     "output_type": "stream",
     "text": [
      "Optimization terminated successfully.\n",
      "         Current function value: 6652.800000 \n",
      "         Iterations: 3\n",
      "The solution to this optimization problem is λ = [8.9375  0.      1.44375 0.     ]\n",
      "The value of the objective function of the dual evaluated at the optimal value is 6652.8\n"
     ]
    }
   ],
   "source": [
    "c = np.array([[630, 600, 708, 135]])\n",
    "A = np.array([[(-7/10), (-1/2), -1, (-1/10)],[-1, (-5/6), (-2/3), (-1/4)],[-1,0,0,0],[0,-1,0,0],[0,0,-1,0],[0,0,0,-1]])\n",
    "b = np.array([[-7*1.1],[-9*1.1],[0],[0],[0],[0]])\n",
    "\n",
    "x1_bounds = (0, None)\n",
    "x2_bounds = (0, None)\n",
    "x3_bounds = (0, None)\n",
    "x4_bounds = (0, None)\n",
    "\n",
    "\n",
    "res = linprog(c, A_ub=A, b_ub=b, bounds = np.array([x1_bounds, x2_bounds, x3_bounds, x4_bounds]), method='simplex', options={\"disp\": True})\n",
    "print(f'The solution to this optimization problem is λ = {res.x}')\n",
    "print(f'The value of the objective function of the dual evaluated at the optimal value is {round(res.fun,3)}')"
   ]
  },
  {
   "cell_type": "markdown",
   "metadata": {},
   "source": [
    "#### Solution of the primal through complementary slackness"
   ]
  },
  {
   "cell_type": "markdown",
   "metadata": {},
   "source": [
    "From the previous solution, the complementary slackness conditions are evaluated to find the solution in the primal problem, i.e., the quantities of standard and deluxe bags to manufacture. The following constraints are obtained: \n",
    "\n",
    "$-\\frac{7}{10}(8.9375) - \\frac{1}{2}(0) - 1(1.44375) -\\frac{1}{10}(0) < -7.7$\n",
    "$-7.7 = -7.7 \\longrightarrow$ Active constraint \n",
    "\n",
    "$-1(8.9375) - \\frac{5}{6}(0) - \\frac{2}{3}(1.44375) -\\frac{1}{4}(0) < -9.9$\n",
    "$-9.9 = -9.9 \\longrightarrow$ Active constraint \n",
    "\n",
    "$\\lambda_1^*>0\\longrightarrow$ Inactive constraint \n",
    "\n",
    "$\\lambda_2^*=0\\longrightarrow$ Active constraint \n",
    "\n",
    "$\\lambda_3^*>0\\longrightarrow$ Inactive constraint \n",
    "\n",
    "$\\lambda_4^*=0\\longrightarrow$ Active constraint \n",
    "\n",
    "From the third and fifth constraints, it is obtained respectively that:\n",
    "\n",
    "$-\\frac{7}{10}x_1^* - x_2^*=-630$ \\\n",
    "$-x_1^*-\\frac{2}{3}x_2^*=-708$\n",
    "\n",
    "Finally, the system is solved and it is obtained that 540 standard bags and 252 deluxe bags should be manufactured.\n"
   ]
  },
  {
   "cell_type": "code",
   "execution_count": 27,
   "metadata": {},
   "outputs": [
    {
     "name": "stdout",
     "output_type": "stream",
     "text": [
      "A from primal: \n",
      " [[-0.7        -1.        ]\n",
      " [-0.5        -0.83333333]\n",
      " [-1.         -0.66666667]\n",
      " [-0.1        -0.25      ]\n",
      " [ 1.          0.        ]\n",
      " [ 0.          1.        ]]\n",
      "b from primal: \n",
      " [[-630]\n",
      " [-600]\n",
      " [-708]\n",
      " [-135]\n",
      " [   0]\n",
      " [   0]]\n",
      "f from primal: \n",
      " [-7.7 -9.9]\n",
      "A from dual: \n",
      " [[-0.7        -0.5        -1.         -0.1       ]\n",
      " [-1.         -0.83333333 -0.66666667 -0.25      ]]\n",
      "b from dual: \n",
      " [[-7.7]\n",
      " [-9.9]]\n",
      "f from dual: \n",
      " [-630 -600 -708 -135]\n",
      "Matrix to solve the primal: \n",
      " [[-0.7        -1.        ]\n",
      " [-1.         -0.66666667]]\n",
      "Vector b to solve the primal: \n",
      " [[-630.]\n",
      " [-708.]]\n",
      "Values of x: \n",
      " [[540.]\n",
      " [252.]]\n",
      "Objective function of the primal: \n",
      " [6652.8]\n"
     ]
    }
   ],
   "source": [
    "Aprim = np.array([[(-7/10), -1],[(-1/2),(-5/6)],[-1, (-2/3)],[(-1/10),(-1/4)],[1,0],[0,1]])\n",
    "bprim = np.array([[-630],[-600],[-708],[-135],[0],[0]])\n",
    "fprim = np.array([-7*1.1, -9*1.1])\n",
    "\n",
    "solucion = res.x\n",
    "\n",
    "sizeAprim = np.shape(Aprim)\n",
    "sizebprim = np.shape(bprim)\n",
    "sizefprim = np.shape(fprim)\n",
    "sizesolucion = np.shape(solucion)\n",
    "\n",
    "fdual = bprim[bprim != 0]\n",
    "sizefdual = np.shape(fdual)\n",
    "\n",
    "Adual = np.zeros((sizeAprim[1],np.shape(fdual)[0]))\n",
    "bdual = np.zeros((sizeAprim[1],1))\n",
    "\n",
    "for i in range(sizeAprim[1]):\n",
    "    bdual[i] = fprim[i]\n",
    "    for j in range(sizefdual[0]):\n",
    "        Aprim_copy = Aprim.copy()\n",
    "        Aprim_copy = Aprim[:-sizeAprim[1], :]\n",
    "        Adual[i,j] = Aprim_copy[j][i]\n",
    "        \n",
    "sizeAdual = np.shape(Adual)\n",
    "sizebdual = np.shape(bdual)\n",
    "sizefdual = np.shape(fdual)\n",
    "\n",
    "print(f'A from primal: \\n {Aprim}')\n",
    "print(f'b from primal: \\n {bprim}')\n",
    "print(f'f from primal: \\n {fprim}')  \n",
    "\n",
    "print(f'A from dual: \\n {Adual}')\n",
    "print(f'b from dual: \\n {bdual}')\n",
    "print(f'f from dual: \\n {fdual}')\n",
    "\n",
    "sol_primal = np.zeros((sizeAdual[1],sizeAdual[0]))\n",
    "\n",
    "for i in range(sizeAdual[0]):\n",
    "    filai = Adual[i]\n",
    "    valor = np.dot(filai,solucion)\n",
    "    if valor == bdual[i]:\n",
    "        pass\n",
    "    elif valor < bdual[i]:\n",
    "        fila = sol_primal[i,:]\n",
    "        for j in range(np.shape(fila)[0]):\n",
    "            if j == i:\n",
    "                sol_primal[j+1,i] = 1\n",
    "\n",
    "bprim_aux = np.zeros((sizesolucion[0],1))\n",
    "\n",
    "for i in range(sizesolucion[0]):\n",
    "    if solucion[i] > 0:\n",
    "        sol_primal[i,:] = Aprim[i,:] \n",
    "        bprim_aux[i] = bprim[i]   \n",
    "    elif solucion[i] == 0:\n",
    "        sol_primal[i,:] = np.zeros(sizeAprim[1])\n",
    "        bprim_aux[i] = 0\n",
    "\n",
    "sol_primal = sol_primal[np.all(sol_primal != 0, axis=1)]\n",
    "bprim_aux = bprim_aux[np.all(bprim_aux != 0, axis=1)]\n",
    "        \n",
    "solx = np.linalg.solve(sol_primal, bprim_aux)\n",
    "        \n",
    "print(f'Matrix to solve the primal: \\n {sol_primal}')\n",
    "print(f'Vector b to solve the primal: \\n {bprim_aux}')\n",
    "print(f'Values of x: \\n {solx}')\n",
    "print(f'Objective function of the primal: \\n {-1*np.dot(fprim,solx)}')\n"
   ]
  },
  {
   "cell_type": "markdown",
   "metadata": {},
   "source": [
    "According to this result, it is obtained that **540 standard bags and 252 deluxe bags** should be manufactured to maximize the profit at a value of **$6,652.8**.\n"
   ]
  },
  {
   "cell_type": "markdown",
   "metadata": {},
   "source": [
    "## Strategy selection"
   ]
  },
  {
   "cell_type": "markdown",
   "metadata": {},
   "source": [
    "Of these last two strategies, it is more convenient to implement the **first** strategy because this way a higher profit value is obtained.\n",
    "\n",
    "Profit with first strategy: **$6,720**\n",
    "\n",
    "Profit with second strategy: **$6,652.8**\n"
   ]
  },
  {
   "cell_type": "markdown",
   "metadata": {},
   "source": [
    "# Problem 4\n",
    "\n",
    "A function is defined that returns the primal solution from the dual information, using complementary slackness conditions."
   ]
  },
  {
   "cell_type": "code",
   "execution_count": 28,
   "metadata": {},
   "outputs": [],
   "source": [
    "def hcomp(Aprim, bprim, fprim, dual_solution):\n",
    "    \n",
    "    # Decompose the dual solution parameter to determine the optimal solution value and the value of the objective function evaluated at that optimal solution.\n",
    "    solution = dual_solution[0]\n",
    "    optimal_value = dual_solution[1]\n",
    "    \n",
    "    fprim = -1 * fprim\n",
    "    \n",
    "    # Obtain the dual system.\n",
    "    Adual = Aprim.transpose()\n",
    "    fdual = bprim.transpose()\n",
    "    bdual = fprim.transpose()\n",
    "    \n",
    "    # Create lists to save the indices of variables that are set to zero.\n",
    "    equations = []\n",
    "    zeros = []\n",
    "    \n",
    "    # First condition of hc: Replace the solution value in the dual constraints. The result is saved in condition11.\n",
    "    condition11 = Adual.dot(solution).transpose()\n",
    "    \n",
    "    # Determine if the constraints of the first hc condition are active or inactive. \n",
    "    # False -> Active, True -> Inactive\n",
    "    constraints = [condition11[k] > bdual[k] for k in range(len(condition11))]\n",
    "    \n",
    "    for j in range(len(constraints)):\n",
    "        # If constraint j is inactive, it means that variable xj = 0. Add the index to a list.\n",
    "        if constraints[j]:\n",
    "            zeros.append(j)\n",
    "    \n",
    "    # Second condition of hc: If the constraints are inactive, take the index of the equation that will be part of the solution.\n",
    "    for i in range(len(solution)):\n",
    "        if solution[i] != 0:\n",
    "            equations.append(i)\n",
    "    \n",
    "    # Create the matrix to solve the system of equations resulting from active and inactive constraints,\n",
    "    # as well as its corresponding vector b.\n",
    "    solution_matrix = Aprim.copy()[equations, :]\n",
    "    b_solution = bprim.copy()[equations, :] \n",
    "    \n",
    "    # Delete the columns from the system and the objective function where xj is zero.\n",
    "    # Concatenate the resulting system with the b vector (augmented matrix).\n",
    "    solution_matrix = np.delete(solution_matrix, zeros, axis=1)\n",
    "    fprim = np.delete(fprim, zeros, axis=1)\n",
    "    augmented_matrix = np.c_[solution_matrix, b_solution]\n",
    "    \n",
    "    # Take the indices of the pivot columns to know the indices of the equations being taken.\n",
    "    reduced_matrix, indices = sympy.Matrix(augmented_matrix).rref()\n",
    "    indices = np.array(indices)\n",
    "    \n",
    "    # Redefine the matrix only with the relevant equations, as well as the vector b.\n",
    "    solution_matrix = solution_matrix[indices]\n",
    "    b_solution = b_solution[indices]\n",
    "    \n",
    "    # Find the solution if there are the same number of resulting equations as values in the b vector.\n",
    "    if len(indices) == len(b_solution):\n",
    "        x = np.linalg.inv(solution_matrix) @ b_solution\n",
    "\n",
    "    # Determine the value of the primal function evaluated at the recently found solution.\n",
    "    primal_value = np.dot(fprim, x)\n",
    "    \n",
    "    # Insert the null variables back into their corresponding position to indicate which ones took a value equal to zero.\n",
    "    x = np.insert(x, zeros, 0)\n",
    "    \n",
    "    return primal_value, x\n"
   ]
  },
  {
   "cell_type": "markdown",
   "metadata": {},
   "source": [
    "### Function implemented with problem 2 a):"
   ]
  },
  {
   "cell_type": "code",
   "execution_count": 30,
   "metadata": {},
   "outputs": [
    {
     "name": "stdout",
     "output_type": "stream",
     "text": [
      "The solution to the original optimization problem is x = [  0. 540.]\n",
      "The value of the objective function evaluated at the optimal value is [[9720.]]\n"
     ]
    }
   ],
   "source": [
    "# Constraint matrix\n",
    "An = np.array([[7/10, 1], [1/2, 5/6], [1, 2/3], [1/10, 1/4]])\n",
    "\n",
    "# Upper bounds of constraints\n",
    "b = np.array([[630], [600], [708], [135]])\n",
    "\n",
    "# Objective function\n",
    "f = np.array([[-7, -18]])\n",
    "\n",
    "# Dual solution. The first row corresponds to the solution of the dual problem. The second row corresponds to the value\n",
    "# of the solution evaluated in the objective function.\n",
    "sol = [[0, 0, 0, 72], [9720]]\n",
    "\n",
    "# Apply the function\n",
    "[f_prim, x] = hcomp(An, b, f, sol)\n",
    "\n",
    "print(f'The solution to the original optimization problem is x = {x}')\n",
    "print(f'The value of the objective function evaluated at the optimal value is {f_prim}')"
   ]
  },
  {
   "cell_type": "markdown",
   "metadata": {},
   "source": [
    "### Function implemented with problem 2 b):\n"
   ]
  },
  {
   "cell_type": "code",
   "execution_count": 31,
   "metadata": {},
   "outputs": [
    {
     "name": "stdout",
     "output_type": "stream",
     "text": [
      "The solution to the original optimization problem is x = [708.   0.]\n",
      "The value of the objective function evaluated at the optimal value is [[9912.]]\n"
     ]
    }
   ],
   "source": [
    "# Constraint matrix\n",
    "A = np.array([[7/10, 1], [1/2, 5/6], [1, 2/3], [1/10, 1/4]])\n",
    "\n",
    "# Upper bounds of constraints\n",
    "b = np.array([[630], [600], [708], [135]])\n",
    "\n",
    "# Objective function\n",
    "f = np.array([[-14, -7]])\n",
    "\n",
    "# Dual solution. The first row corresponds to the solution of the dual problem. The second row corresponds to the value\n",
    "# of the solution evaluated in the objective function.\n",
    "sol = [[0, 0, 14, 0], [9912]]\n",
    "\n",
    "# Apply the function\n",
    "[f_prim, x] = hcomp(A, b, f, sol)\n",
    "\n",
    "print(f'The solution to the original optimization problem is x = {x}')\n",
    "print(f'The value of the objective function evaluated at the optimal value is {f_prim}')\n"
   ]
  },
  {
   "cell_type": "markdown",
   "metadata": {},
   "source": [
    "### Function implemented with problem 2 c):\n"
   ]
  },
  {
   "cell_type": "code",
   "execution_count": 32,
   "metadata": {},
   "outputs": [
    {
     "name": "stdout",
     "output_type": "stream",
     "text": [
      "The solution to the original optimization problem is x = [918.  428.4]\n",
      "The value of the objective function evaluated at the optimal value is [[10281.6]]\n"
     ]
    }
   ],
   "source": [
    "# Constraint matrix\n",
    "A = np.array([[7/10, 1], [1/2, 5/6], [1, 2/3], [1/10, 1/4]])\n",
    "\n",
    "# Upper bounds of constraints\n",
    "b = np.array([[1071], [1020], [1203.6], [229.5]])\n",
    "\n",
    "# Objective function\n",
    "f = np.array([[-7, -9]])\n",
    "\n",
    "# Dual solution. The first row corresponds to the solution of the dual problem. The second row corresponds to the value\n",
    "# of the solution evaluated in the objective function.\n",
    "sol = [[8.125, 0, 1.3125, 0], [10281.6]]\n",
    "\n",
    "# Apply the function\n",
    "[f_prim, x] = hcomp(A, b, f, sol)\n",
    "\n",
    "print(f'The solution to the original optimization problem is x = {x}')\n",
    "print(f'The value of the objective function evaluated at the optimal value is {f_prim}')"
   ]
  }
 ],
 "metadata": {
  "colab": {
   "collapsed_sections": [
    "g8lKbnvQ_jok"
   ],
   "name": "Optimizacion-Lab4-Estudiantes.ipynb",
   "provenance": []
  },
  "kernelspec": {
   "display_name": "Python 3",
   "language": "python",
   "name": "python3"
  },
  "language_info": {
   "codemirror_mode": {
    "name": "ipython",
    "version": 3
   },
   "file_extension": ".py",
   "mimetype": "text/x-python",
   "name": "python",
   "nbconvert_exporter": "python",
   "pygments_lexer": "ipython3",
   "version": "3.11.5"
  },
  "varInspector": {
   "cols": {
    "lenName": 16,
    "lenType": 16,
    "lenVar": 40
   },
   "kernels_config": {
    "python": {
     "delete_cmd_postfix": "",
     "delete_cmd_prefix": "del ",
     "library": "var_list.py",
     "varRefreshCmd": "print(var_dic_list())"
    },
    "r": {
     "delete_cmd_postfix": ") ",
     "delete_cmd_prefix": "rm(",
     "library": "var_list.r",
     "varRefreshCmd": "cat(var_dic_list()) "
    }
   },
   "oldHeight": 534.4,
   "position": {
    "height": "556.4px",
    "left": "1178px",
    "right": "20px",
    "top": "134px",
    "width": "350px"
   },
   "types_to_exclude": [
    "module",
    "function",
    "builtin_function_or_method",
    "instance",
    "_Feature"
   ],
   "varInspector_section_display": "block",
   "window_display": false
  }
 },
 "nbformat": 4,
 "nbformat_minor": 1
}
