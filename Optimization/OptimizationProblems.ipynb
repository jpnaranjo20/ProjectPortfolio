{
 "cells": [
  {
   "cell_type": "markdown",
   "metadata": {},
   "source": [
    "# Optimization Problems"
   ]
  },
  {
   "cell_type": "code",
   "execution_count": 4,
   "metadata": {},
   "outputs": [],
   "source": [
    "import numpy as np \n",
    "import sympy as sym\n",
    "from scipy.optimize import linprog\n",
    "from scipy.optimize import minimize"
   ]
  },
  {
   "cell_type": "markdown",
   "metadata": {},
   "source": [
    "# Problem 1"
   ]
  },
  {
   "cell_type": "markdown",
   "metadata": {},
   "source": [
    "### Problem statement\n",
    "\n",
    "A certain corporation has three branch plants with excess production capacity. The three plants have the necessary elements to produce a certain product, and the manager has decided to use part of the excess production capacity for this purpose. This product can be made in three sizes: large, medium, and small, which result in a net profit of $140, $120, and $100, respectively.\n",
    "\n",
    "Plants 1, 2, and 3 have excess labor and equipment capacity to produce 750, 800, and 450 units per day of this product, respectively, regardless of size or combination of sizes applied. However, the available storage space for these products also imposes a limitation on production rates. Plants 1, 2, and 3 have 13,000, 12,000, and 5,000 square feet of possible storage space for in-process products, for one day of production of this item. Each unit of the large, medium, and small sizes produced per day requires 20, 15, and 12 square feet, respectively.\n",
    "\n",
    "Sales forecasts indicate that at most 900, 1,200, and 750 units of the large, medium, and small sizes, respectively, can be sold. The manager hires you to determine how much should be produced of each size at each plant to maximize profit.\n"
   ]
  },
  {
   "cell_type": "markdown",
   "metadata": {},
   "source": [
    "## a) \n",
    "The decision variables are the size of the products: large, medium, and small. These are represented through the variables $x_1$ (large), $x_2$ (medium), and $x_3$ (small).\n",
    "\n",
    "The notation $x_{ij}$ is defined to express the products belonging to plant $i$, of size $j$.\n",
    "\n",
    "Additionally, the quantity of products ($x_j$) is defined by the following equations:\n",
    "\n",
    "1) $x_1 = x_{11} + x_{21} + x_{31}$ (Large)\n",
    "\n",
    "2) $x_2 = x_{12} + x_{22} + x_{32}$ (Medium)\n",
    "\n",
    "3) $x_3 = x_{13} + x_{23} + x_{33}$ (Small)\n"
   ]
  },
  {
   "cell_type": "markdown",
   "metadata": {},
   "source": [
    "## b) \n",
    "The objective function is given by $f(x)$.\n",
    "\n",
    "$f(x) = 140x_1 + 120x_2 + 100x_3$ \\\n",
    "$f(x) = 140(x_{11} + x_{21} + x_{31}) + 120(x_{12} + x_{22} + x_{32}) + 100(x_{13} + x_{23} + x_{33})$ \\\n",
    "$f(x) = 140x_{11} + 140x_{21} + 140x_{31} +  120x_{12} + 120x_{22} + 120x_{32} + 100x_{13} + 100x_{23} + 100x_{33}$\n"
   ]
  },
  {
   "cell_type": "markdown",
   "metadata": {},
   "source": [
    "### Here are the space constraints in the plants:\n",
    "\n",
    "Plant 1:\n",
    "\n",
    "$20x_{11} + 15x_{12} + 12x_{13} \\leq 13000$\n",
    "\n",
    "Plant 2:\n",
    "\n",
    "$20x_{21} + 15x_{22} + 12x_{23} \\leq 12000$\n",
    "\n",
    "Plant 3:\n",
    "\n",
    "$20x_{31} + 15x_{32} + 12x_{33} \\leq 5000$\n",
    "\n",
    "### Here are the production capacity constraints of the plants:\n",
    "\n",
    "Plant 1:\n",
    "\n",
    "$x_{11} + x_{12} + x_{13} \\leq 750$\n",
    "\n",
    "Plant 2:\n",
    "\n",
    "$x_{21} + x_{22} + x_{23} \\leq 900$\n",
    "\n",
    "Plant 3:\n",
    "\n",
    "$x_{31} + x_{32} + x_{33} \\leq 450$\n",
    "\n",
    "### Here are the sales forecast constraints:\n",
    "\n",
    "Large:\n",
    "\n",
    "$x_1 = x_{11} + x_{21} + x_{31} \\leq 900$\n",
    "\n",
    "Medium:\n",
    "\n",
    "$x_2 = x_{12} + x_{22} + x_{32} \\leq 1200$\n",
    "\n",
    "Small:\n",
    "\n",
    "$x_3 = x_{13} + x_{23} + x_{33} \\leq 750$\n"
   ]
  },
  {
   "cell_type": "markdown",
   "metadata": {},
   "source": [
    "## c) Optimization problem solution\n"
   ]
  },
  {
   "cell_type": "markdown",
   "metadata": {},
   "source": [
    "Negative values ​​of the vector are placed because the negative of the objective function is being minimized."
   ]
  },
  {
   "cell_type": "code",
   "execution_count": 5,
   "metadata": {},
   "outputs": [
    {
     "name": "stdout",
     "output_type": "stream",
     "text": [
      "Phase Iteration Minimum Slack       Constraint Residual Objective          \n",
      "1     0         450.0               0.0                 0.0                 \n",
      "Phase Iteration Minimum Slack       Constraint Residual Objective          \n",
      "2     0         450.0               0.0                 0.0                 \n",
      "2     1         0.0                 0.0                 -91000.0            \n",
      "2     2         0.0                 0.0                 -126000.0           \n",
      "2     3         0.0                 0.0                 -174000.0           \n",
      "2     4         0.0                 0.0                 -182000.0           \n",
      "2     5         0.0                 0.0                 -222000.0           \n",
      "2     6         0.0                 0.0                 -228000.0           \n",
      "2     7         0.0                 0.0                 -234666.6666667     \n",
      "2     8         0.0                 0.0                 -236000.0           \n",
      "Optimization terminated successfully.\n",
      "         Current function value: -236000.000000\n",
      "         Iterations: 8\n",
      " message: Optimization terminated successfully.\n",
      " success: True\n",
      "  status: 0\n",
      "     fun: -235999.99999999997\n",
      "       x: [ 3.500e+02  4.000e+02  0.000e+00  0.000e+00  5.333e+02\n",
      "            3.333e+02  0.000e+00  0.000e+00  4.167e+02]\n",
      "     nit: 8\n"
     ]
    },
    {
     "name": "stderr",
     "output_type": "stream",
     "text": [
      "/var/folders/m8/d4hdb3fs173cl7w2mxqmt8lc0000gn/T/ipykernel_50808/2821817496.py:14: DeprecationWarning: `method='revised simplex'` is deprecated and will be removed in SciPy 1.11.0. Please use one of the HiGHS solvers (e.g. `method='highs'`) in new code.\n",
      "  res = linprog(c, A_ub=A, b_ub=b, bounds = np.array([x11_bounds, x12_bounds, x13_bounds, x21_bounds, x22_bounds, x23_bounds, x31_bounds, x32_bounds, x33_bounds]), method='revised simplex', options={\"disp\": True})\n"
     ]
    }
   ],
   "source": [
    "c = np.array([-140, -120, -100, -140, -120, -100, -140, -120, -100])\n",
    "A = np.array([[20,15,12,0,0,0,0,0,0], [0,0,0,20,15,12,0,0,0], [0,0,0,0,0,0,20,15,12], [1,1,1,0,0,0,0,0,0], [0,0,0,1,1,1,0,0,0], [0,0,0,0,0,0,1,1,1], [1,0,0,1,0,0,1,0,0], [0,1,0,0,1,0,0,1,0], [0,0,1,0,0,1,0,0,1]])\n",
    "b = np.array([13000, 12000, 5000, 750, 900, 450, 900, 1200, 750])\n",
    "x11_bounds = (0, None)\n",
    "x12_bounds = (0, None)\n",
    "x13_bounds = (0, None)\n",
    "x21_bounds = (0, None)\n",
    "x22_bounds = (0, None)\n",
    "x23_bounds = (0, None)\n",
    "x31_bounds = (0, None)\n",
    "x32_bounds = (0, None)\n",
    "x33_bounds = (0, None)\n",
    "\n",
    "res = linprog(c, A_ub=A, b_ub=b, bounds = np.array([x11_bounds, x12_bounds, x13_bounds, x21_bounds, x22_bounds, x23_bounds, x31_bounds, x32_bounds, x33_bounds]), method='revised simplex', options={\"disp\": True})\n",
    "print(res)"
   ]
  },
  {
   "cell_type": "markdown",
   "metadata": {},
   "source": [
    "### Objective function value"
   ]
  },
  {
   "cell_type": "code",
   "execution_count": 6,
   "metadata": {},
   "outputs": [
    {
     "name": "stdout",
     "output_type": "stream",
     "text": [
      "235999.99999999997\n"
     ]
    }
   ],
   "source": [
    "print(-1*res.fun)"
   ]
  },
  {
   "cell_type": "markdown",
   "metadata": {},
   "source": [
    "### Value of each variable"
   ]
  },
  {
   "cell_type": "code",
   "execution_count": 7,
   "metadata": {},
   "outputs": [
    {
     "name": "stdout",
     "output_type": "stream",
     "text": [
      "[350.         400.           0.           0.         533.33333333\n",
      " 333.33333333   0.           0.         416.66666667]\n"
     ]
    }
   ],
   "source": [
    "print(res.x)"
   ]
  },
  {
   "cell_type": "markdown",
   "metadata": {},
   "source": [
    "### The production should be:\n",
    "\n",
    "**350** products of **large** size in plant 1 ($x_{11} = 350$)\n",
    "\n",
    "**400** products of **medium** size in plant 1 ($x_{12} = 400$)\n",
    "\n",
    "**0** products of **small** size in plant 1 ($x_{13} = 0$)\n",
    "\n",
    "### Giving a total production in plant 1 of\n",
    "\n",
    "$x_1 = x_{11} + x_{12} + x_{13} = 750$ products\n",
    "\n",
    "---"
   ]
  },
  {
   "cell_type": "markdown",
   "metadata": {},
   "source": [
    "### The production should be:\n",
    "\n",
    "**0** products of **large** size in plant 2 ($x_{21} = 0$)\n",
    "\n",
    "**533.33** products of **medium** size in plant 2 ($x_{22} = 533.33$)\n",
    "\n",
    "**333.33** products of **small** size in plant 2 ($x_{23} = 333.33$)\n",
    "\n",
    "### Giving a total production in plant 2 of\n",
    "\n",
    "$x_2 = x_{21} + x_{22} + x_{23} = 866.66$ products\n",
    "\n",
    "*Note: Since in reality an irrational number of products cannot be produced, this value would be rounded to the nearest integer, which in this case would be 867.*\n",
    "\n",
    "---"
   ]
  },
  {
   "cell_type": "markdown",
   "metadata": {},
   "source": [
    "### The production should be:\n",
    "\n",
    "**0** products of **large** size in plant 3 ($x_{31} = 0$)\n",
    "\n",
    "**0** products of **medium** size in plant 3 ($x_{32} = 0$)\n",
    "\n",
    "**416.66** products of **small** size in plant 3 ($x_{33} = 416.66$)\n",
    "\n",
    "### Giving a total production in plant 3 of\n",
    "\n",
    "$x_3 = x_{31} + x_{32} + x_{33} = 416.66$ products\n",
    "\n",
    "*Note: Since in reality an irrational number of products cannot be produced, this value would be rounded to the nearest integer, which in this case would be 417.*\n",
    "\n",
    "---\n"
   ]
  },
  {
   "cell_type": "markdown",
   "metadata": {},
   "source": [
    "**These results guarantee that the profit is maximized at a value of $f(x) = \\$236,000$**"
   ]
  },
  {
   "cell_type": "markdown",
   "metadata": {},
   "source": [
    "# Problem 2"
   ]
  },
  {
   "cell_type": "markdown",
   "metadata": {},
   "source": [
    "### Problem Statement\n",
    "\n",
    "A store manager wishes to minimize the distance traveled by his transport trucks from the three stores he has across town, to the warehouse where he keeps his inventory. It is known that the warehouse and store **A** lie at the origin of the cartesian plane $(0,0)$, that store **B** lies in the point $(40, 50)$ of the plane, and that store **C** lies in the point $(90, 30)$ of the plane. \n",
    "\n",
    "He wants to know what the optimal location for the warehouse is, which minimizes the mean distance from the warehouse, to each store, and hires you to solve this problem for him."
   ]
  },
  {
   "cell_type": "markdown",
   "metadata": {},
   "source": [
    "### a) Decision variables\n",
    "\n",
    "$x$ position (horizontal) \\\n",
    "$y$ position (vertical) \\\n",
    "of the warehouse on a 2D plane"
   ]
  },
  {
   "cell_type": "markdown",
   "metadata": {},
   "source": [
    "### b) Objective function\n",
    "Distance between store A and the warehouse: $d_{a} = \\sqrt{x^{2}+y^{2}}$\n",
    "\n",
    "Distance between store B and the warehouse: $d_{b} = \\sqrt{(x-40)^{2}+(y-50)^{2}}$\n",
    "\n",
    "Distance between store C and the warehouse: $d_{c} = \\sqrt{(x-90)^{2}+(y-30)^{2}}$\n",
    "\n",
    "Function to optimize: $f(x,y) = d_a + d_b + d_c$\n"
   ]
  },
  {
   "cell_type": "code",
   "execution_count": 8,
   "metadata": {},
   "outputs": [],
   "source": [
    "def f(x):\n",
    "    return sym.sqrt(x[0]**2+x[1]**2) + sym.sqrt((x[0]-40)**2 + (x[1]-50)**2) + sym.sqrt((x[0]-90)**2+(x[1]-30)**2)"
   ]
  },
  {
   "cell_type": "markdown",
   "metadata": {},
   "source": [
    "### c) Can this problem be reformulated linearly without changing the decision variables?"
   ]
  },
  {
   "cell_type": "markdown",
   "metadata": {},
   "source": [
    "This problem cannot be reformulated linearly without changing the decision variables because achieving this would require a variable change involving a complex mathematical transformation to eliminate the square roots, which still does not guarantee the linearity of the problem. Additionally, doing so implies a change in the decision variables."
   ]
  },
  {
   "cell_type": "markdown",
   "metadata": {},
   "source": [
    "### d) Optimization using the Broyden-Fletcher-Goldfarb-Shanno method"
   ]
  },
  {
   "cell_type": "code",
   "execution_count": 9,
   "metadata": {
    "scrolled": false
   },
   "outputs": [
    {
     "name": "stdout",
     "output_type": "stream",
     "text": [
      "Optimization terminated successfully.\n",
      "         Current function value: 117.114336\n",
      "         Iterations: 11\n",
      "         Function evaluations: 48\n",
      "         Gradient evaluations: 16\n",
      "  message: Optimization terminated successfully.\n",
      "  success: True\n",
      "   status: 0\n",
      "      fun: 117.11433586454925\n",
      "        x: [ 4.204e+01  4.255e+01]\n",
      "      nit: 11\n",
      "      jac: [ 3.815e-06  0.000e+00]\n",
      " hess_inv: [[ 9.291e+00 -7.635e+00]\n",
      "            [-7.635e+00  3.389e+01]]\n",
      "     nfev: 48\n",
      "     njev: 16\n",
      "[42.045 42.546]\n"
     ]
    }
   ],
   "source": [
    "# We define a vector of initial values for the decision variables.\n",
    "x0 = [0,0]\n",
    "\n",
    "res = minimize(f, x0, method='bfgs', options={'disp': True})\n",
    "print(res)\n",
    "print(np.round(res.x,3))"
   ]
  },
  {
   "cell_type": "markdown",
   "metadata": {},
   "source": [
    "### e)\n",
    "\n",
    "According to the result obtained in section $d)$, it can be stated that the optimal location for the warehouse (closest possible to stores A, B, and C) corresponds to the coordinates ($x$, $y$) = (42.045, 42.546)."
   ]
  },
  {
   "cell_type": "markdown",
   "metadata": {},
   "source": [
    "# Problem 3"
   ]
  },
  {
   "cell_type": "markdown",
   "metadata": {},
   "source": [
    "### Problem Statement\n",
    "\n",
    "The store manager now asks you what the optimal location of the warehouses should be if he now introduces a second warehouse. That is, there would now be one warehouse to supply store **A** and **B**, and a second warehouse to supply stores **B** and **C**."
   ]
  },
  {
   "cell_type": "markdown",
   "metadata": {},
   "source": [
    "### a) Expresión matemática"
   ]
  },
  {
   "cell_type": "markdown",
   "metadata": {},
   "source": [
    "Distance between store A and its respective warehouse: $d_{a} = \\sqrt{x^{2}+y^{2}}$ \n",
    "\n",
    "Distance between store B and its respective warehouse: $d_{b} = \\sqrt{(x-40)^{2}+(y-50)^{2}}$ \n",
    "\n",
    "Distance between store C and its respective warehouse: $d_{c} = \\sqrt{(x-90)^{2}+(y-30)^{2}}$\n",
    "\n",
    "Variables $x_1$ and $y_1$ are defined to represent the coordinates of the warehouse corresponding to store A.\n",
    "\n",
    "Variables $x_2$ and $y_2$ are defined to represent the coordinates of the warehouse corresponding to store C.\n",
    "\n",
    "Objective function:\n",
    "\n",
    "$f(x_1,x_2,y_1,y_2) = \\sqrt{x_{1}^{2}+y_{1}^{2}} + \\frac{1}{2} \\left(\\sqrt{(x_{1}-40)^{2}+(y_{1}-50)^{2}} + \\sqrt{(x_{2}-40)^{2}+(y_{2}-50)^{2}}\\right) + \\sqrt{(x_{2}-90)^{2} + (y_{2}-30)^{2}} $"
   ]
  },
  {
   "cell_type": "code",
   "execution_count": 10,
   "metadata": {},
   "outputs": [],
   "source": [
    "# x is a vector of 4 components. Each component represents one of the variables of the objective function.\n",
    "def f1(x):\n",
    "    return np.sqrt(x[0]**2+x[1]**2) + (1/2)*(np.sqrt((x[0]-40)**2 + (x[1]-50)**2) + np.sqrt((x[2]-40)**2 + (x[3]-50)**2)) + np.sqrt((x[2]-90)**2+(x[3]-30)**2)\n",
    "    "
   ]
  },
  {
   "cell_type": "markdown",
   "metadata": {},
   "source": [
    "### b) Minimization of the Objective Function\n",
    "\n",
    "Information on how to use the *minimize* function was found [here](https://docs.scipy.org/doc/scipy/reference/generated/scipy.optimize.minimize.html)."
   ]
  },
  {
   "cell_type": "code",
   "execution_count": 11,
   "metadata": {},
   "outputs": [
    {
     "name": "stdout",
     "output_type": "stream",
     "text": [
      "         Current function value: 58.941445\n",
      "         Iterations: 66\n",
      "         Function evaluations: 912\n",
      "         Gradient evaluations: 180\n",
      "  message: Desired error not necessarily achieved due to precision loss.\n",
      "  success: False\n",
      "   status: 2\n",
      "      fun: 58.94144524135208\n",
      "        x: [-1.246e-09 -4.023e-09  9.000e+01  3.000e+01]\n",
      "      nit: 66\n",
      "      jac: [ 3.603e-01  6.173e-02  3.490e-01 -5.023e-01]\n",
      " hess_inv: [[ 6.262e-08  4.248e-09  8.255e-09 -1.307e-08]\n",
      "            [ 4.248e-09  1.490e-08  2.939e-09 -9.667e-09]\n",
      "            [ 8.255e-09  2.939e-09  1.153e-08 -6.322e-09]\n",
      "            [-1.307e-08 -9.667e-09 -6.322e-09  2.366e-08]]\n",
      "     nfev: 912\n",
      "     njev: 180\n"
     ]
    },
    {
     "name": "stderr",
     "output_type": "stream",
     "text": [
      "/Users/juanpablonaranjo/anaconda3/lib/python3.11/site-packages/scipy/optimize/_minimize.py:705: OptimizeWarning: Desired error not necessarily achieved due to precision loss.\n",
      "  res = _minimize_bfgs(fun, x0, args, jac, callback, **options)\n"
     ]
    }
   ],
   "source": [
    "x1 = [0,0,0,0]\n",
    "\n",
    "res2 = minimize(f1, x1, method='BFGS', options={'disp': True})\n",
    "print(res2)"
   ]
  },
  {
   "cell_type": "markdown",
   "metadata": {},
   "source": [
    "The result obtained for the first two coordinates (x1, y1) are numbers in the order of $10^{-9}$ and $10^{-10}$, which means that those numbers are basically 0.\n",
    "\n",
    "As can be noted, the obtained response for the location of the warehouses are respectively in the locations of the stores A and C, that is, at coordinates (0, 0) for store A, and at coordinates (90, 30) for store C."
   ]
  },
  {
   "cell_type": "code",
   "execution_count": 12,
   "metadata": {},
   "outputs": [
    {
     "name": "stdout",
     "output_type": "stream",
     "text": [
      "Optimization terminated successfully.\n",
      "         Current function value: 82.696593\n",
      "         Iterations: 216\n",
      "         Function evaluations: 360\n",
      "       message: Optimization terminated successfully.\n",
      "       success: True\n",
      "        status: 0\n",
      "           fun: 82.6965929183624\n",
      "             x: [-1.423e+01 -7.694e+00  9.000e+01  3.000e+01]\n",
      "           nit: 216\n",
      "          nfev: 360\n",
      " final_simplex: (array([[-1.423e+01, -7.694e+00,  9.000e+01,  3.000e+01],\n",
      "                       [-1.423e+01, -7.694e+00,  9.000e+01,  3.000e+01],\n",
      "                       ...,\n",
      "                       [-1.423e+01, -7.694e+00,  9.000e+01,  3.000e+01],\n",
      "                       [-1.423e+01, -7.694e+00,  9.000e+01,  3.000e+01]]), array([ 8.270e+01,  8.270e+01,  8.270e+01,  8.270e+01,\n",
      "                        8.270e+01]))\n"
     ]
    }
   ],
   "source": [
    "res21 = minimize(f1, x1, method='Nelder-Mead', options={'disp': True})\n",
    "print(res21)"
   ]
  },
  {
   "cell_type": "markdown",
   "metadata": {},
   "source": [
    "In this case, the Nelder-Mead method was used instead of the BFGS method to carry out the minimization. As can be noted, the result obtained for the coordinates of the first warehouse (x1, y1) are very different from those obtained by the BFGS method. Meanwhile, the coordinates of the second warehouse (x2, y2) are similar to those obtained by the BFGS method, being around the point (90, 30) again.\n",
    "\n",
    "This may be due to the fact that the [Nelder-Mead algorithm](http://www.scholarpedia.org/article/Nelder-Mead_algorithm) only uses values of the objective function at some points in $\\mathbb{R}^n$ and does not calculate the gradient of the objective function at these points to move towards the optimal solution, as the [BFGS method](https://en.wikipedia.org/wiki/Broyden%E2%80%93Fletcher%E2%80%93Goldfarb%E2%80%93Shanno_algorithm) does. This could be causing the discrepancy between the values obtained for the coordinates (x1, y1) between the two analyzed methods."
   ]
  },
  {
   "cell_type": "markdown",
   "metadata": {},
   "source": [
    "### c) According to the previous results, which of the two options (between 1 and 2 warehouses) would you recommend to the store manager?"
   ]
  },
  {
   "cell_type": "markdown",
   "metadata": {},
   "source": [
    "Based on the results obtained in problem 2 and in section *b)* of this problem, it can be stated that it is more advisable to have two separate warehouses (one for location A and one for C, distributing the production of location B) because in this way, the optimal location for both warehouses is right next to their respective location, as it is the shortest distance possible between each one and its respective location.\n",
    "\n",
    "With a single warehouse for all three locations, an optimal warehouse location is obtained just at a relatively central point for the three locations, although it is clear that the distance to location A is farther than the distance to the other two locations respectively."
   ]
  }
 ],
 "metadata": {
  "kernelspec": {
   "display_name": "Python 3",
   "language": "python",
   "name": "python3"
  },
  "language_info": {
   "codemirror_mode": {
    "name": "ipython",
    "version": 3
   },
   "file_extension": ".py",
   "mimetype": "text/x-python",
   "name": "python",
   "nbconvert_exporter": "python",
   "pygments_lexer": "ipython3",
   "version": "3.11.5"
  },
  "varInspector": {
   "cols": {
    "lenName": 16,
    "lenType": 16,
    "lenVar": 40
   },
   "kernels_config": {
    "python": {
     "delete_cmd_postfix": "",
     "delete_cmd_prefix": "del ",
     "library": "var_list.py",
     "varRefreshCmd": "print(var_dic_list())"
    },
    "r": {
     "delete_cmd_postfix": ") ",
     "delete_cmd_prefix": "rm(",
     "library": "var_list.r",
     "varRefreshCmd": "cat(var_dic_list()) "
    }
   },
   "types_to_exclude": [
    "module",
    "function",
    "builtin_function_or_method",
    "instance",
    "_Feature"
   ],
   "window_display": false
  }
 },
 "nbformat": 4,
 "nbformat_minor": 4
}
