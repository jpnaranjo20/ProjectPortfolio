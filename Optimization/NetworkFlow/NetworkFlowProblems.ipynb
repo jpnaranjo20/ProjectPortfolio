{
 "cells": [
  {
   "cell_type": "markdown",
   "metadata": {
    "colab_type": "text",
    "id": "wn64JnrroqLx"
   },
   "source": [
    "# Network Flow Problems"
   ]
  },
  {
   "cell_type": "code",
   "execution_count": 1,
   "metadata": {
    "colab": {},
    "colab_type": "code",
    "id": "yGRDmlLN791i"
   },
   "outputs": [],
   "source": [
    "import numpy as np\n",
    "from sympy import *\n",
    "from scipy.optimize import linprog\n",
    "import warnings\n",
    "warnings.filterwarnings('ignore')"
   ]
  },
  {
   "cell_type": "markdown",
   "metadata": {},
   "source": [
    "# Problem 1"
   ]
  },
  {
   "cell_type": "markdown",
   "metadata": {},
   "source": [
    "### Problem Statement\n",
    "\n",
    "Your company will produce three new products. At this moment, 5 of your plants have excess production capacity. The respective unit manufacturing costs for the first product will be $30, $29, $32, $28, and $29 in plants 1, 2, 3, 4, and 5. The unit manufacturing cost of the second product will be $45, $41, $46, $42, and $43 in plants 1, 2, 3, 4, and 5, respectively, and for the third product, it will be $38, $35, and $40 in plants 1, 2, and 3, but plants 4 and 5 cannot manufacture this third product.\n",
    "\n",
    "The sales department indicates to you that the daily production should be 1400, 1000, and 600 units of products 1, 2, and 3, respectively. Plants 1, 2, 3, 4, and 5 have capacity to produce 400, 600, 400, 600, and 1000 units daily, regardless of the product or combination of products.\n",
    "\n",
    "You want to assign the new products to the plants in such a way that you obtain the minimum total manufacturing cost.\n"
   ]
  },
  {
   "cell_type": "markdown",
   "metadata": {},
   "source": [
    "## a) Summary"
   ]
  },
  {
   "cell_type": "markdown",
   "metadata": {},
   "source": [
    "| Plant  |  |  Cost/Product |   | \n",
    "|:-:|:-----------:|:-----:|:-----:|\n",
    "|   |      1      |   2   |   3   |\n",
    "| 1 |    \\$30     | \\$45  | \\$38  | \n",
    "| 2 |    \\$29     | \\$41  | \\$35  | \n",
    "| 3 |    \\$32     | \\$46  | \\$40  | \n",
    "| 4 |    \\$28     | \\$42  | N/A   | \n",
    "| 5 |    \\$29     | \\$43  | N/A   | \n",
    "\n",
    "Total plant capacities = 3000 \n",
    "\n",
    "Total product productions = 3000\n"
   ]
  },
  {
   "cell_type": "markdown",
   "metadata": {},
   "source": [
    "## b) Problem Formulation"
   ]
  },
  {
   "cell_type": "markdown",
   "metadata": {},
   "source": [
    "The mathematical problem to be solved is a minimum-cost flow problem. Specifically, it is a transportation problem. The decision variables of this problem are the quantities of new products to be produced. \n",
    "\n",
    "In this regard, we will use the notation $x_{ij}$ to represent product $j$, produced in plant $i$. The products $x_{ij}$ are the decision variables of the optimization problem.\n",
    "\n",
    "Being a minimum-cost flow problem, the objective function of the optimization problem is a function that relates the costs of transporting the products $x_{ij}$ through each arc of the network. The costs associated with each arc are related in the table from section a). Thus, the objective function is given by the following expression:\n",
    "\n",
    "$$f(x) = 30x_{16} + 29x_{26} + 32x_{36} + 28x_{43} + 29x_{56} + 45x_{17} + 41x_{27} + 46x_{37} + 42x_{47} + 43x_{57} + 38x_{18} + 35x_{28} + 40x_{38}$$\n",
    "\n",
    "It is important to mention that products 1, 2, and 3 were represented in the problem with numbers 6, 7, and 8, respectively, as shown in the graphical representation attached to this notebook (see the file titled \"graphP1.png\").\n",
    "\n",
    "The constraints associated with this problem indicate that the difference between the amount of flow leaving node $i$ and the amount of flow entering node $i$ must be equal to a quantity $b_i$. This quantity is a supply if $b_i > 0$ or a requirement if $b_i < 0 $. In the case of this problem, these $b_i$ represent the production capacities of each plant (supplies) and the daily production of the products (requirements). Additionally, there is a constraint that the problem is balanced. That is, the sum of the requirements and supplies must be equal to zero. This condition holds for this problem, as $\\sum_{i=1}^{8}b_i = 0$.\n",
    "\n",
    "Taking into account the above and the graphical representation of the problem, the following constraints are formulated:\n",
    "\n",
    "Plants \\\n",
    "$x_{16} + x_{17} + x_{18} = 400$ \\\n",
    "$x_{26} + x_{27} + x_{28} = 600$ \\\n",
    "$x_{36} + x_{37} + x_{38} = 400$ \\\n",
    "$x_{46} + x_{47} + x_{48} = 600$ \\\n",
    "$x_{56} + x_{57} + x_{58} = 1000$ \n",
    "\n",
    "Products \\\n",
    "$- (x_{16} + x_{26} + x_{36} + x_{46} + x_{56}) = -1400$ \\\n",
    "$- (x_{17} + x_{27} + x_{37} + x_{47} + x_{57}) = -1000$ \\\n",
    "$- (x_{18} + x_{28} + x_{38} + x_{48} + x_{58}) = -600$ \n",
    "\n",
    "Balanced problem \\\n",
    "$b_1 = 400$ \\\n",
    "$b_2 = 600$ \\\n",
    "$b_3 = 400$ \\\n",
    "$b_4 = 600$ \\\n",
    "$b_5 = 1000$ \\\n",
    "$b_6 = -1400$ \\\n",
    "$b_7 = -1000$ \\\n",
    "$b_8 = -600$\n",
    "\n",
    "$\\sum_{i=1}^{8}b_i = 0$\n",
    "\n",
    "Finally, the optimization problem is formulated as follows: \n",
    "\n",
    "max $f(x) = 30x_{16} + 29x_{26} + 32x_{36} + 28x_{43} + 29x_{56} + 45x_{17} + 41x_{27} + 46x_{37} + 42x_{47} + 43x_{57} + 38x_{18} + 35x_{28} + 40x_{38}$ \\\n",
    "s.t.\n",
    "\n",
    "$x_{16} + x_{17} + x_{18} = 400$ \\\n",
    "$x_{26} + x_{27} + x_{28} = 600$ \\\n",
    "$x_{36} + x_{37} + x_{38} = 400$ \\\n",
    "$x_{46} + x_{47} + x_{48} = 600$ \\\n",
    "$x_{56} + x_{57} + x_{58} = 1000$ \\\n",
    "$- (x_{16} + x_{26} + x_{36} + x_{46} + x_{56}) = -1400$ \\\n",
    "$- (x_{17} + x_{27} + x_{37} + x_{47} + x_{57}) = -1000$ \\\n",
    "$- (x_{18} + x_{28} + x_{38} + x_{48} + x_{58}) = -600$\n"
   ]
  },
  {
   "cell_type": "markdown",
   "metadata": {},
   "source": [
    "## d) Problem solution"
   ]
  },
  {
   "cell_type": "code",
   "execution_count": 2,
   "metadata": {},
   "outputs": [
    {
     "name": "stdout",
     "output_type": "stream",
     "text": [
      "Optimization terminated successfully.\n",
      "         Current function value: 105600.000000\n",
      "         Iterations: 12\n",
      " message: Optimization terminated successfully.\n",
      " success: True\n",
      "  status: 0\n",
      "     fun: 105600.0\n",
      "       x: [ 0.000e+00  0.000e+00 ...  0.000e+00  0.000e+00]\n",
      "     nit: 12\n"
     ]
    }
   ],
   "source": [
    "f = np.array([30,29,32,28,29,45,41,46,42,43,38,35,40,0,0])\n",
    "A = np.array([[1,0,0,0,0,1,0,0,0,0,1,0,0,0,0],\n",
    "             [0,1,0,0,0,0,1,0,0,0,0,1,0,0,0],\n",
    "             [0,0,1,0,0,0,0,1,0,0,0,0,1,0,0],\n",
    "             [0,0,0,1,0,0,0,0,1,0,0,0,0,0,0],\n",
    "             [0,0,0,0,1,0,0,0,0,1,0,0,0,0,0],\n",
    "             [-1,-1,-1,-1,-1,0,0,0,0,0,0,0,0,0,0],\n",
    "             [0,0,0,0,0,-1,-1,-1,-1,-1,0,0,0,0,0],\n",
    "             [0,0,0,0,0,0,0,0,0,0,-1,-1,-1,-1,-1]])\n",
    "b = np.array([[400],[600],[400],[600],[1000],[-1400],[-1000],[-600]])\n",
    "\n",
    "bounds = []\n",
    "\n",
    "for i in range(15):\n",
    "    bounds.insert(i,tuple((0,None)))\n",
    "\n",
    "res = linprog(f, A_ub=None, b_ub=None, A_eq = A, b_eq = b, bounds = bounds, method='simplex', options={\"disp\": True})\n",
    "print(res)"
   ]
  },
  {
   "cell_type": "markdown",
   "metadata": {},
   "source": [
    "The manufacturing cost is $105,600. The production by plants is as follows:\n",
    "- Plant 1: Does not produce any products\n",
    "- Plant 2: Produces 400 units of product 1 and 1000 units of product 2\n",
    "- Plant 3: Produces 400 units of product 1, 400 units of product 2, and 200 units of product 3\n",
    "- Plant 4: Produces 400 units of product 2 and 200 units of product 3\n",
    "- Plant 5: Does not produce any products"
   ]
  },
  {
   "cell_type": "markdown",
   "metadata": {},
   "source": [
    "# Problem 2"
   ]
  },
  {
   "cell_type": "markdown",
   "metadata": {},
   "source": [
    "## Problem Statement\n",
    "\n",
    "Consider the problem of evacuating people from a public building (such as a school or a university). For example, consider the floor plan with five classrooms (A, B, C, D, E) and a hallway (F) depicted in the \"building.png\" file attached to this notebook. Each room will be connected to other room(s) via corridors, and each corridor has a limited flow of people per minute. There are three different types of corridors in the building. The building has three exits (located in the Hall and in classrooms C and E).\n",
    "\n",
    "A graphical representation of the network is found in the \"graphP2b.png\" file, considering that the problem to be solved involves finding the maximum number of people that can be evacuated from the building in a given time. Note: a source node *s* (a node that feeds people into each classroom and the hall) and a sink node *t* (a node where all people converge - meeting point) are added.\n"
   ]
  },
  {
   "cell_type": "markdown",
   "metadata": {},
   "source": [
    "## b) Problem Formulation to evacuate the max number of people in 1 minute"
   ]
  },
  {
   "cell_type": "markdown",
   "metadata": {},
   "source": [
    "Below is the problem statement to maximize the maximum number of people that can be evacuated from the building in 1 minute. The maximum capacities of people in each classroom (node) of the building are detailed below:\n",
    "\n",
    "1. Classroom A: 20 people \n",
    "\n",
    "2. Classroom B: 25 people\n",
    "\n",
    "3. Classroom C: 50 people\n",
    "\n",
    "4. Classroom D: 30 people\n",
    "\n",
    "5. Classroom E: 20 people\n",
    "\n",
    "6. Hall F: 80 people\n",
    "\n",
    "Additionally, a source node named s was created that inserts people into the classrooms, and a sink node that serves as the evacuation meeting point where all people arrive after leaving the building. This node was named t. For a better organization of the problem, a number was assigned to each node, and it was defined that the flow between two nodes $i$ and $j$ is $x_{ij}$. These flows are the decision variables of the optimization problem.\n",
    "\n",
    "The maximum flow problem aims to maximize the flow of the network. This means that it intends to maximize either the amount of flow leaving the source node or the amount of flow entering the sink node. Following the nomenclature described above and that can be seen in the image \"graphP2b.png\", the problem is posed as follows:\n",
    "\n",
    "Next to each constraint, the number of the node to which the constraint belongs is noted in parentheses.\n",
    "\n",
    "max $f(x) = x_{14} + x_{13} + x_{17} + x_{12} + x_{15} + x_{16} $ s.a.\n",
    "\n",
    "$x_{14} + x_{13} + x_{17} + x_{12} + x_{15} + x_{16} - (x_{48} + x_{78} + x_{17} + x_{68}) = 0$ (What leaves the source node minus what enters the sink node = 0) \\\n",
    "$x_{27} - x_{12} = 0$ (2)\\\n",
    "$x_{37} - x_{13} = 0$ (3)\\\n",
    "$x_{48} + x_{47} - (x_{14} + x_{74}) = 0$ (4)\\\n",
    "$x_{57} - x_{15} = 0$ (5)\\\n",
    "$x_{68} + x_{67} - (x_{16} + x_{76}) = 0$ (6) \\\n",
    "$(x_{78} + x_{74} + x_{76}) - (x_{47} + x_{67} + x_{37} + x_{17} + x_{27} + x_{57} + x_{67}) = 0$ (7)\\\n",
    "$x_{47} + x_{74} \\leq 50$\\\n",
    "$x_{67} + x_{76} \\leq 15$\n",
    "\n",
    "$0 \\leq x_{14} \\leq 50$ \\\n",
    "$0 \\leq x_{13} \\leq 25$ \\\n",
    "$0 \\leq x_{17} \\leq 80$ \\\n",
    "$0 \\leq x_{12} \\leq 20$ \\\n",
    "$0 \\leq x_{15} \\leq 30$ \\\n",
    "$0 \\leq x_{16} \\leq 20$ \\\n",
    "$0 \\leq x_{48} \\leq 15$ \\\n",
    "$0 \\leq x_{78} \\leq 75$ \\\n",
    "$0 \\leq x_{68} \\leq 15$ \\\n",
    "$0 \\leq x_{37} \\leq 50$ \\\n",
    "$0 \\leq x_{27} \\leq 50$ \\\n",
    "$0 \\leq x_{57} \\leq 50$ \\\n",
    "$0 \\leq x_{47} \\leq 50$ \\\n",
    "$0 \\leq x_{67} \\leq 15$"
   ]
  },
  {
   "cell_type": "code",
   "execution_count": 3,
   "metadata": {},
   "outputs": [
    {
     "name": "stdout",
     "output_type": "stream",
     "text": [
      "Optimization terminated successfully.\n",
      "         Current function value: -105.000000 \n",
      "         Iterations: 26\n",
      " message: Optimization terminated successfully.\n",
      " success: True\n",
      "  status: 0\n",
      "     fun: -105.0\n",
      "       x: [ 2.000e+01  2.500e+01 ...  1.500e+01  7.500e+01]\n",
      "     nit: 26\n"
     ]
    }
   ],
   "source": [
    "f = np.array([[-1,-1,-1,-1,-1,-1,0,0,0,0,0,0,0,0,0,0]])\n",
    "A = np.array([[-1,0,0,0,0,0,1,0,0,0,0,0,0,0,0,0],\n",
    "             [0,-1,0,0,0,0,0,1,0,0,0,0,0,0,0,0],\n",
    "             [0,0,-1,0,0,0,0,0,1,1,0,0,0,-1,0,0],\n",
    "             [0,0,0,-1,0,0,0,0,0,0,1,0,0,0,0,0],\n",
    "             [0,0,0,0,-1,0,0,0,0,0,0,1,1,0,-1,0],\n",
    "             [0,0,0,0,0,-1,-1,-1,-1,0,-1,-1,0,1,1,1],\n",
    "             [1,1,1,1,1,1,0,0,0,-1,0,0,-1,0,0,-1]])\n",
    "b = np.zeros((7,1))\n",
    "\n",
    "A_ub = np.array([[0,0,0,0,0,0,0,0,1,0,0,0,0,1,0,0],\n",
    "                 [0,0,0,0,0,0,0,0,0,0,0,1,0,0,1,0]])\n",
    "\n",
    "b_ub = np.array([[50], [15]])\n",
    "\n",
    "bounds12 = (0,20)\n",
    "bounds13 = (0,25)\n",
    "bounds14 = (0,50)\n",
    "bounds15 = (0,30)\n",
    "bounds16 = (0,20)\n",
    "bounds17 = (0,80)\n",
    "bounds27 = (0,50)\n",
    "bounds37 = (0,50)\n",
    "bounds47 = (0,50)\n",
    "bounds48 = (0,15)\n",
    "bounds57 = (0,50)\n",
    "bounds67 = (0,50)\n",
    "bounds68 = (0,15)\n",
    "bounds74 = (0,50)\n",
    "bounds76 = (0,15)\n",
    "bounds78 = (0,75)\n",
    "\n",
    "bounds = [bounds12,bounds13,bounds14,bounds15,bounds16,bounds17,bounds27,bounds37,bounds47,bounds48,bounds57,bounds67,bounds68,bounds74,bounds76,bounds78]\n",
    "\n",
    "res = linprog(f, A_ub=A_ub, b_ub=b_ub, A_eq = A, b_eq = b, bounds = bounds, method='simplex', options={\"disp\": True})\n",
    "print(res)"
   ]
  },
  {
   "cell_type": "markdown",
   "metadata": {},
   "source": [
    "It is not possible to evacuate all the people in 1 minute.\n"
   ]
  },
  {
   "cell_type": "markdown",
   "metadata": {},
   "source": [
    "## c) Problem Formulation to evacuate the max number of people in 2 minutes."
   ]
  },
  {
   "cell_type": "markdown",
   "metadata": {},
   "source": [
    "Here is the problem formulation to maximize the maximum number of people that can be evacuated from the building in 2 minutes. The maximum capacities of people in each room (node) of the building are as follows:\n",
    "\n",
    "1. Room A: 20 people\n",
    "2. Room B: 25 people\n",
    "3. Room C: 50 people\n",
    "4. Room D: 30 people\n",
    "5. Room E: 20 people\n",
    "6. Hall F: 80 people\n",
    "\n",
    "The graph for this problem can be found in the image \"graphP2c.png\". The formulation is presented below:\n",
    "\n",
    "Next to each constraint, the number of the node to which the constraint belongs is noted in parentheses.\n",
    "\n",
    "max $f(x) = x_{14} + x_{13} + x_{17} + x_{12} + x_{15} + x_{16} $ s.t.\n",
    "\n",
    "$x_{14} + x_{13} + x_{17} + x_{12} + x_{15} + x_{16} - (x_{48} + x_{78} + x_{17} + x_{68}) = 0$ (What leaves the source node minus what enters the sink node = 0) \\\n",
    "$x_{27} - x_{12} = 0$ (2)\\\n",
    "$x_{37} - x_{13} = 0$ (3)\\\n",
    "$x_{48} + x_{47} - (x_{14} + x_{74}) = 0$ (4)\\\n",
    "$x_{57} - x_{15} = 0$ (5)\\\n",
    "$x_{68} + x_{67} - (x_{16} + x_{76}) = 0$ (6) \\\n",
    "$(x_{78} + x_{74} + x_{76}) - (x_{47} + x_{67} + x_{37} + x_{17} + x_{27} + x_{57} + x_{67}) = 0$ (7)\\\n",
    "$x_{47} + x_{74} \\leq 100$ \\\n",
    "$x_{67} + x_{76} \\leq 30$\n",
    "\n",
    "$0 \\leq x_{14} \\leq 50$ \\\n",
    "$0 \\leq x_{13} \\leq 25$ \\\n",
    "$0 \\leq x_{17} \\leq 80$ \\\n",
    "$0 \\leq x_{12} \\leq 20$ \\\n",
    "$0 \\leq x_{15} \\leq 30$ \\\n",
    "$0 \\leq x_{16} \\leq 20$ \\\n",
    "$0 \\leq x_{48} \\leq 30$ \\\n",
    "$0 \\leq x_{78} \\leq 150$ \\\n",
    "$0 \\leq x_{68} \\leq 30$ \\\n",
    "$0 \\leq x_{37} \\leq 100$ \\\n",
    "$0 \\leq x_{27} \\leq 100$ \\\n",
    "$0 \\leq x_{57} \\leq 100$ \\\n",
    "$0 \\leq x_{47} \\leq 100$ \\\n",
    "$0 \\leq x_{67} \\leq 30$\n"
   ]
  },
  {
   "cell_type": "code",
   "execution_count": 4,
   "metadata": {},
   "outputs": [
    {
     "name": "stdout",
     "output_type": "stream",
     "text": [
      "Optimization terminated successfully.\n",
      "         Current function value: -210.000000 \n",
      "         Iterations: 24\n",
      " message: Optimization terminated successfully.\n",
      " success: True\n",
      "  status: 0\n",
      "     fun: -210.0\n",
      "       x: [ 2.000e+01  2.500e+01 ...  2.000e+01  1.500e+02]\n",
      "     nit: 24\n"
     ]
    }
   ],
   "source": [
    "f = np.array([[-1,-1,-1,-1,-1,-1,0,0,0,0,0,0,0,0,0,0]])\n",
    "A = np.array([[-1,0,0,0,0,0,1,0,0,0,0,0,0,0,0,0],\n",
    "             [0,-1,0,0,0,0,0,1,0,0,0,0,0,0,0,0],\n",
    "             [0,0,-1,0,0,0,0,0,1,1,0,0,0,-1,0,0],\n",
    "             [0,0,0,-1,0,0,0,0,0,0,1,0,0,0,0,0],\n",
    "             [0,0,0,0,-1,0,0,0,0,0,0,1,1,0,-1,0],\n",
    "             [0,0,0,0,0,-1,-1,-1,-1,0,-1,-1,0,1,1,1],\n",
    "             [1,1,1,1,1,1,0,0,0,-1,0,0,-1,0,0,-1]])\n",
    "b = np.zeros((7,1))\n",
    "\n",
    "A_ub = np.array([[0,0,0,0,0,0,0,0,1,0,0,0,0,1,0,0],\n",
    "                 [0,0,0,0,0,0,0,0,0,0,0,1,0,0,1,0]])\n",
    "\n",
    "b_ub = np.array([[100], [30]])\n",
    "\n",
    "bounds12 = (0,20)\n",
    "bounds13 = (0,25)\n",
    "bounds14 = (0,50)\n",
    "bounds15 = (0,30)\n",
    "bounds16 = (0,20)\n",
    "bounds17 = (0,80)\n",
    "bounds27 = (0,100)\n",
    "bounds37 = (0,100)\n",
    "bounds47 = (0,100)\n",
    "bounds48 = (0,30)\n",
    "bounds57 = (0,100)\n",
    "bounds67 = (0,100)\n",
    "bounds68 = (0,30)\n",
    "bounds74 = (0,100)\n",
    "bounds76 = (0,30)\n",
    "bounds78 = (0,150)\n",
    "\n",
    "bounds = [bounds12,bounds13,bounds14,bounds15,bounds16,bounds17,bounds27,bounds37,bounds47,bounds48,bounds57,bounds67,bounds68,bounds74,bounds76,bounds78]\n",
    "\n",
    "res = linprog(f, A_ub=A_ub, b_ub=b_ub, A_eq = A, b_eq = b, bounds = bounds, method='simplex', options={\"disp\": True})\n",
    "print(res)"
   ]
  },
  {
   "cell_type": "markdown",
   "metadata": {},
   "source": [
    "It's not possible to evacuate the building in 2 minutes, as there are 205 people exiting."
   ]
  },
  {
   "cell_type": "markdown",
   "metadata": {
    "colab": {},
    "colab_type": "code",
    "id": "aFcAA7-If4Jd"
   },
   "source": [
    "# Problem 3"
   ]
  },
  {
   "cell_type": "markdown",
   "metadata": {},
   "source": [
    "## a)\n",
    "\n",
    "Suppose the same scenario as in problem 2. But now, let's change the objective of the optimization problem. What is the minimum required time to evacuate the whole building?"
   ]
  },
  {
   "cell_type": "markdown",
   "metadata": {},
   "source": [
    "From the previous problems, it is observed that there is a linear relationship between the minutes and the number of people evacuating the building. Every minute, 105 people leave the building. With this relationship, we can establish how many minutes $x$ it would take to evacuate the entire building, i.e., for 225 people to leave.\n",
    "\n",
    "$x = 225 \\text{ people} \\times \\frac{1 \\text{ minute(s)}}{105 \\text{ people}} \\longrightarrow x = 2.143 \\text{ minutes}$\n",
    "\n",
    "Evacuating the entire building takes 2.143 minutes.\n"
   ]
  },
  {
   "cell_type": "markdown",
   "metadata": {},
   "source": [
    "## b)\n",
    "\n",
    "Suppose you can intervene in the public building by expanding two of the doors so that their flow capacities increase by 10 people per minute each. Which doors would you expand? Why?"
   ]
  },
  {
   "cell_type": "markdown",
   "metadata": {},
   "source": [
    "The linear programming problem is solved by increasing doors C and F's max flow by 10 each."
   ]
  },
  {
   "cell_type": "code",
   "execution_count": 5,
   "metadata": {},
   "outputs": [
    {
     "name": "stdout",
     "output_type": "stream",
     "text": [
      "Optimization terminated successfully.\n",
      "         Current function value: -125.000000 \n",
      "         Iterations: 26\n",
      " message: Optimization terminated successfully.\n",
      " success: True\n",
      "  status: 0\n",
      "     fun: -125.0\n",
      "       x: [ 2.000e+01  2.500e+01 ...  1.500e+01  8.500e+01]\n",
      "     nit: 26\n"
     ]
    }
   ],
   "source": [
    "f = np.array([[-1,-1,-1,-1,-1,-1,0,0,0,0,0,0,0,0,0,0]])\n",
    "A = np.array([[-1,0,0,0,0,0,1,0,0,0,0,0,0,0,0,0],\n",
    "             [0,-1,0,0,0,0,0,1,0,0,0,0,0,0,0,0],\n",
    "             [0,0,-1,0,0,0,0,0,1,1,0,0,0,-1,0,0],\n",
    "             [0,0,0,-1,0,0,0,0,0,0,1,0,0,0,0,0],\n",
    "             [0,0,0,0,-1,0,0,0,0,0,0,1,1,0,-1,0],\n",
    "             [0,0,0,0,0,-1,-1,-1,-1,0,-1,-1,0,1,1,1],\n",
    "             [1,1,1,1,1,1,0,0,0,-1,0,0,-1,0,0,-1]])\n",
    "b = np.zeros((7,1))\n",
    "\n",
    "A_ub = np.array([[0,0,0,0,0,0,0,0,1,0,0,0,0,1,0,0],\n",
    "                 [0,0,0,0,0,0,0,0,0,0,0,1,0,0,1,0]])\n",
    "\n",
    "b_ub = np.array([[50], [15]])\n",
    "\n",
    "bounds12 = (0,20)\n",
    "bounds13 = (0,25)\n",
    "bounds14 = (0,50)\n",
    "bounds15 = (0,30)\n",
    "bounds16 = (0,20)\n",
    "bounds17 = (0,80)\n",
    "bounds27 = (0,50)\n",
    "bounds37 = (0,50)\n",
    "bounds47 = (0,50)\n",
    "bounds57 = (0,50)\n",
    "bounds67 = (0,50)\n",
    "bounds74 = (0,50)\n",
    "bounds76 = (0,15)\n",
    "\n",
    "bounds48 = (0,25)\n",
    "bounds68 = (0,15)\n",
    "bounds78 = (0,85)\n",
    "\n",
    "bounds1 = [bounds12,bounds13,bounds14,bounds15,bounds16,bounds17,bounds27,bounds37,bounds47,bounds48,bounds57,bounds67,bounds68,bounds74,bounds76,bounds78]\n",
    "\n",
    "res1 = linprog(f, A_ub=A_ub, b_ub=b_ub, A_eq = A, b_eq = b, bounds = bounds1, method='simplex', options={\"disp\": True})\n",
    "print(res1)"
   ]
  },
  {
   "cell_type": "code",
   "execution_count": 6,
   "metadata": {
    "scrolled": false
   },
   "outputs": [
    {
     "name": "stdout",
     "output_type": "stream",
     "text": [
      "Optimization terminated successfully.\n",
      "         Current function value: -125.000000 \n",
      "         Iterations: 26\n",
      " message: Optimization terminated successfully.\n",
      " success: True\n",
      "  status: 0\n",
      "     fun: -125.0\n",
      "       x: [ 2.000e+01  2.500e+01 ...  1.500e+01  8.500e+01]\n",
      "     nit: 26\n"
     ]
    }
   ],
   "source": [
    "bounds48 = (0,25)\n",
    "bounds68 = (0,15)\n",
    "bounds78 = (0,85)\n",
    "\n",
    "bounds1 = [bounds12,bounds13,bounds14,bounds15,bounds16,bounds17,bounds27,bounds37,bounds47,bounds48,bounds57,bounds67,bounds68,bounds74,bounds76,bounds78]\n",
    "\n",
    "res1 = linprog(f, A_ub=A_ub, b_ub=b_ub, A_eq = A, b_eq = b, bounds = bounds1, method='simplex', options={\"disp\": True})\n",
    "print(res1)"
   ]
  },
  {
   "cell_type": "markdown",
   "metadata": {},
   "source": [
    "It is decided to expand doors C and F since they provide the highest number of evacuees in one minute, with 125 people."
   ]
  },
  {
   "cell_type": "markdown",
   "metadata": {},
   "source": [
    "## c)\n",
    "\n",
    "With this expansion, what is the minimum required time to evacuate the building?"
   ]
  },
  {
   "cell_type": "markdown",
   "metadata": {},
   "source": [
    "With the new linear relationship between minutes and the number of people evacuating the building—125 people per minute—we can determine how many minutes it would take to evacuate the entire building, i.e., for 225 people to leave.\n",
    "\n",
    "$x = 225 \\text{ people} * \\frac{1 \\text{ minute(s)}}{125 \\text{ people}} \\longrightarrow x = 1.8 \\text{ minutes}$ \n",
    "\n",
    "Evacuating the entire building takes 1.8 minutes after expanding 2 doors.\n"
   ]
  }
 ],
 "metadata": {
  "colab": {
   "collapsed_sections": [
    "g8lKbnvQ_jok"
   ],
   "name": "Optimizacion-Lab4-Estudiantes.ipynb",
   "provenance": []
  },
  "kernelspec": {
   "display_name": "Python 3",
   "language": "python",
   "name": "python3"
  },
  "language_info": {
   "codemirror_mode": {
    "name": "ipython",
    "version": 3
   },
   "file_extension": ".py",
   "mimetype": "text/x-python",
   "name": "python",
   "nbconvert_exporter": "python",
   "pygments_lexer": "ipython3",
   "version": "3.11.5"
  },
  "varInspector": {
   "cols": {
    "lenName": 16,
    "lenType": 16,
    "lenVar": 40
   },
   "kernels_config": {
    "python": {
     "delete_cmd_postfix": "",
     "delete_cmd_prefix": "del ",
     "library": "var_list.py",
     "varRefreshCmd": "print(var_dic_list())"
    },
    "r": {
     "delete_cmd_postfix": ") ",
     "delete_cmd_prefix": "rm(",
     "library": "var_list.r",
     "varRefreshCmd": "cat(var_dic_list()) "
    }
   },
   "oldHeight": 534.4,
   "position": {
    "height": "556.4px",
    "left": "1178px",
    "right": "20px",
    "top": "134px",
    "width": "350px"
   },
   "types_to_exclude": [
    "module",
    "function",
    "builtin_function_or_method",
    "instance",
    "_Feature"
   ],
   "varInspector_section_display": "block",
   "window_display": false
  }
 },
 "nbformat": 4,
 "nbformat_minor": 1
}
